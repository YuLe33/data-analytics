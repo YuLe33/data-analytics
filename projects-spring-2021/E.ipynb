{
 "cells": [
  {
   "cell_type": "markdown",
   "metadata": {},
   "source": [
    "## Final project\n",
    "### Ocular Disease Intelligent Recognition (ODIR)\n",
    "\n"
   ]
  },
  {
   "cell_type": "code",
   "execution_count": 891,
   "metadata": {},
   "outputs": [],
   "source": [
    "import numpy as np\n",
    "import pandas as pd\n",
    "import sklearn as sk\n",
    "import matplotlib.pyplot as plt\n",
    "from sklearn import tree\n",
    "from sklearn.tree import DecisionTreeClassifier\n",
    "import seaborn as sns\n",
    "from sklearn.metrics import mean_squared_error as mse\n",
    "from sklearn.tree import DecisionTreeRegressor\n",
    "\n",
    "url = 'https://raw.githubusercontent.com/BarMizrahi96/Ocular-Disease-Recognition/main/full_df.csv'"
   ]
  },
  {
   "cell_type": "code",
   "execution_count": 892,
   "metadata": {},
   "outputs": [],
   "source": [
    "data = pd.read_csv(url)"
   ]
  },
  {
   "cell_type": "code",
   "execution_count": 893,
   "metadata": {},
   "outputs": [
    {
     "data": {
      "text/html": [
       "<div>\n",
       "<style scoped>\n",
       "    .dataframe tbody tr th:only-of-type {\n",
       "        vertical-align: middle;\n",
       "    }\n",
       "\n",
       "    .dataframe tbody tr th {\n",
       "        vertical-align: top;\n",
       "    }\n",
       "\n",
       "    .dataframe thead th {\n",
       "        text-align: right;\n",
       "    }\n",
       "</style>\n",
       "<table border=\"1\" class=\"dataframe\">\n",
       "  <thead>\n",
       "    <tr style=\"text-align: right;\">\n",
       "      <th></th>\n",
       "      <th>ID</th>\n",
       "      <th>Patient Age</th>\n",
       "      <th>Patient Sex</th>\n",
       "      <th>Left-Fundus</th>\n",
       "      <th>Right-Fundus</th>\n",
       "      <th>Left-Diagnostic Keywords</th>\n",
       "      <th>Right-Diagnostic Keywords</th>\n",
       "      <th>N</th>\n",
       "      <th>D</th>\n",
       "      <th>G</th>\n",
       "      <th>C</th>\n",
       "      <th>A</th>\n",
       "      <th>H</th>\n",
       "      <th>M</th>\n",
       "      <th>O</th>\n",
       "      <th>filepath</th>\n",
       "      <th>labels</th>\n",
       "      <th>target</th>\n",
       "      <th>filename</th>\n",
       "    </tr>\n",
       "  </thead>\n",
       "  <tbody>\n",
       "    <tr>\n",
       "      <th>0</th>\n",
       "      <td>0</td>\n",
       "      <td>69</td>\n",
       "      <td>Female</td>\n",
       "      <td>0_left.jpg</td>\n",
       "      <td>0_right.jpg</td>\n",
       "      <td>cataract</td>\n",
       "      <td>normal fundus</td>\n",
       "      <td>0</td>\n",
       "      <td>0</td>\n",
       "      <td>0</td>\n",
       "      <td>1</td>\n",
       "      <td>0</td>\n",
       "      <td>0</td>\n",
       "      <td>0</td>\n",
       "      <td>0</td>\n",
       "      <td>../input/ocular-disease-recognition-odir5k/ODI...</td>\n",
       "      <td>['N']</td>\n",
       "      <td>[1, 0, 0, 0, 0, 0, 0, 0]</td>\n",
       "      <td>0_right.jpg</td>\n",
       "    </tr>\n",
       "    <tr>\n",
       "      <th>1</th>\n",
       "      <td>1</td>\n",
       "      <td>57</td>\n",
       "      <td>Male</td>\n",
       "      <td>1_left.jpg</td>\n",
       "      <td>1_right.jpg</td>\n",
       "      <td>normal fundus</td>\n",
       "      <td>normal fundus</td>\n",
       "      <td>1</td>\n",
       "      <td>0</td>\n",
       "      <td>0</td>\n",
       "      <td>0</td>\n",
       "      <td>0</td>\n",
       "      <td>0</td>\n",
       "      <td>0</td>\n",
       "      <td>0</td>\n",
       "      <td>../input/ocular-disease-recognition-odir5k/ODI...</td>\n",
       "      <td>['N']</td>\n",
       "      <td>[1, 0, 0, 0, 0, 0, 0, 0]</td>\n",
       "      <td>1_right.jpg</td>\n",
       "    </tr>\n",
       "    <tr>\n",
       "      <th>2</th>\n",
       "      <td>2</td>\n",
       "      <td>42</td>\n",
       "      <td>Male</td>\n",
       "      <td>2_left.jpg</td>\n",
       "      <td>2_right.jpg</td>\n",
       "      <td>laser spot，moderate non proliferative retinopathy</td>\n",
       "      <td>moderate non proliferative retinopathy</td>\n",
       "      <td>0</td>\n",
       "      <td>1</td>\n",
       "      <td>0</td>\n",
       "      <td>0</td>\n",
       "      <td>0</td>\n",
       "      <td>0</td>\n",
       "      <td>0</td>\n",
       "      <td>1</td>\n",
       "      <td>../input/ocular-disease-recognition-odir5k/ODI...</td>\n",
       "      <td>['D']</td>\n",
       "      <td>[0, 1, 0, 0, 0, 0, 0, 0]</td>\n",
       "      <td>2_right.jpg</td>\n",
       "    </tr>\n",
       "    <tr>\n",
       "      <th>3</th>\n",
       "      <td>4</td>\n",
       "      <td>53</td>\n",
       "      <td>Male</td>\n",
       "      <td>4_left.jpg</td>\n",
       "      <td>4_right.jpg</td>\n",
       "      <td>macular epiretinal membrane</td>\n",
       "      <td>mild nonproliferative retinopathy</td>\n",
       "      <td>0</td>\n",
       "      <td>1</td>\n",
       "      <td>0</td>\n",
       "      <td>0</td>\n",
       "      <td>0</td>\n",
       "      <td>0</td>\n",
       "      <td>0</td>\n",
       "      <td>1</td>\n",
       "      <td>../input/ocular-disease-recognition-odir5k/ODI...</td>\n",
       "      <td>['D']</td>\n",
       "      <td>[0, 1, 0, 0, 0, 0, 0, 0]</td>\n",
       "      <td>4_right.jpg</td>\n",
       "    </tr>\n",
       "    <tr>\n",
       "      <th>4</th>\n",
       "      <td>5</td>\n",
       "      <td>50</td>\n",
       "      <td>Female</td>\n",
       "      <td>5_left.jpg</td>\n",
       "      <td>5_right.jpg</td>\n",
       "      <td>moderate non proliferative retinopathy</td>\n",
       "      <td>moderate non proliferative retinopathy</td>\n",
       "      <td>0</td>\n",
       "      <td>1</td>\n",
       "      <td>0</td>\n",
       "      <td>0</td>\n",
       "      <td>0</td>\n",
       "      <td>0</td>\n",
       "      <td>0</td>\n",
       "      <td>0</td>\n",
       "      <td>../input/ocular-disease-recognition-odir5k/ODI...</td>\n",
       "      <td>['D']</td>\n",
       "      <td>[0, 1, 0, 0, 0, 0, 0, 0]</td>\n",
       "      <td>5_right.jpg</td>\n",
       "    </tr>\n",
       "  </tbody>\n",
       "</table>\n",
       "</div>"
      ],
      "text/plain": [
       "   ID  Patient Age Patient Sex Left-Fundus Right-Fundus  \\\n",
       "0   0           69      Female  0_left.jpg  0_right.jpg   \n",
       "1   1           57        Male  1_left.jpg  1_right.jpg   \n",
       "2   2           42        Male  2_left.jpg  2_right.jpg   \n",
       "3   4           53        Male  4_left.jpg  4_right.jpg   \n",
       "4   5           50      Female  5_left.jpg  5_right.jpg   \n",
       "\n",
       "                            Left-Diagnostic Keywords  \\\n",
       "0                                           cataract   \n",
       "1                                      normal fundus   \n",
       "2  laser spot，moderate non proliferative retinopathy   \n",
       "3                        macular epiretinal membrane   \n",
       "4             moderate non proliferative retinopathy   \n",
       "\n",
       "                Right-Diagnostic Keywords  N  D  G  C  A  H  M  O  \\\n",
       "0                           normal fundus  0  0  0  1  0  0  0  0   \n",
       "1                           normal fundus  1  0  0  0  0  0  0  0   \n",
       "2  moderate non proliferative retinopathy  0  1  0  0  0  0  0  1   \n",
       "3       mild nonproliferative retinopathy  0  1  0  0  0  0  0  1   \n",
       "4  moderate non proliferative retinopathy  0  1  0  0  0  0  0  0   \n",
       "\n",
       "                                            filepath labels  \\\n",
       "0  ../input/ocular-disease-recognition-odir5k/ODI...  ['N']   \n",
       "1  ../input/ocular-disease-recognition-odir5k/ODI...  ['N']   \n",
       "2  ../input/ocular-disease-recognition-odir5k/ODI...  ['D']   \n",
       "3  ../input/ocular-disease-recognition-odir5k/ODI...  ['D']   \n",
       "4  ../input/ocular-disease-recognition-odir5k/ODI...  ['D']   \n",
       "\n",
       "                     target     filename  \n",
       "0  [1, 0, 0, 0, 0, 0, 0, 0]  0_right.jpg  \n",
       "1  [1, 0, 0, 0, 0, 0, 0, 0]  1_right.jpg  \n",
       "2  [0, 1, 0, 0, 0, 0, 0, 0]  2_right.jpg  \n",
       "3  [0, 1, 0, 0, 0, 0, 0, 0]  4_right.jpg  \n",
       "4  [0, 1, 0, 0, 0, 0, 0, 0]  5_right.jpg  "
      ]
     },
     "execution_count": 893,
     "metadata": {},
     "output_type": "execute_result"
    }
   ],
   "source": [
    "data.head(5)"
   ]
  },
  {
   "cell_type": "markdown",
   "metadata": {},
   "source": [
    "## Data explanation\n",
    "Our data presents a data set of patients of different ages on eye diseases according to the following columns: Sex, Age, Right Eye Diagnostic, Left Eye Diagnostic, Normal (N),\n",
    "Diabetes (D),Glaucoma (G),Cataract (C),Age related Macular Degeneration(A),\n",
    "Hypertension (H),Pathological Myopia (M),Other diseases/abnormalities (O).\n",
    "The \"Left-Diagnostic Keywords\" & \"Right-Diagnostic Keywords\" columns are diagnoses by doctors, columns by letter represent the prediction of the disease each patient has, the predictions were made by trained human readers with quality control management.\n",
    "\n",
    "There are 5 columns we chose to remove -\n",
    "\"labels\",\"target\" - columns that were added to the original data, to showcase the data in a different format, however the values inside these columes were wrriten with mistakes (human factor). * We knew that due to the comments we saw on the discussion catagory in the website we took the data from. \n",
    "The columns \"filename\",\"filepath\",\"Left-Fundus\",\"Right-Fundus\" are columns that describe the file location of the image and are therefore are irrelevant to us.\n",
    "\n",
    "We created a new filename for oue data only with the relevant data."
   ]
  },
  {
   "cell_type": "code",
   "execution_count": 894,
   "metadata": {},
   "outputs": [
    {
     "data": {
      "text/html": [
       "<div>\n",
       "<style scoped>\n",
       "    .dataframe tbody tr th:only-of-type {\n",
       "        vertical-align: middle;\n",
       "    }\n",
       "\n",
       "    .dataframe tbody tr th {\n",
       "        vertical-align: top;\n",
       "    }\n",
       "\n",
       "    .dataframe thead th {\n",
       "        text-align: right;\n",
       "    }\n",
       "</style>\n",
       "<table border=\"1\" class=\"dataframe\">\n",
       "  <thead>\n",
       "    <tr style=\"text-align: right;\">\n",
       "      <th></th>\n",
       "      <th>ID</th>\n",
       "      <th>Patient Age</th>\n",
       "      <th>Patient Sex</th>\n",
       "      <th>Left-Diagnostic Keywords</th>\n",
       "      <th>Right-Diagnostic Keywords</th>\n",
       "      <th>N</th>\n",
       "      <th>D</th>\n",
       "      <th>G</th>\n",
       "      <th>C</th>\n",
       "      <th>A</th>\n",
       "      <th>H</th>\n",
       "      <th>M</th>\n",
       "      <th>O</th>\n",
       "    </tr>\n",
       "  </thead>\n",
       "  <tbody>\n",
       "    <tr>\n",
       "      <th>0</th>\n",
       "      <td>0</td>\n",
       "      <td>69</td>\n",
       "      <td>Female</td>\n",
       "      <td>cataract</td>\n",
       "      <td>normal fundus</td>\n",
       "      <td>0</td>\n",
       "      <td>0</td>\n",
       "      <td>0</td>\n",
       "      <td>1</td>\n",
       "      <td>0</td>\n",
       "      <td>0</td>\n",
       "      <td>0</td>\n",
       "      <td>0</td>\n",
       "    </tr>\n",
       "    <tr>\n",
       "      <th>1</th>\n",
       "      <td>1</td>\n",
       "      <td>57</td>\n",
       "      <td>Male</td>\n",
       "      <td>normal fundus</td>\n",
       "      <td>normal fundus</td>\n",
       "      <td>1</td>\n",
       "      <td>0</td>\n",
       "      <td>0</td>\n",
       "      <td>0</td>\n",
       "      <td>0</td>\n",
       "      <td>0</td>\n",
       "      <td>0</td>\n",
       "      <td>0</td>\n",
       "    </tr>\n",
       "    <tr>\n",
       "      <th>2</th>\n",
       "      <td>2</td>\n",
       "      <td>42</td>\n",
       "      <td>Male</td>\n",
       "      <td>laser spot，moderate non proliferative retinopathy</td>\n",
       "      <td>moderate non proliferative retinopathy</td>\n",
       "      <td>0</td>\n",
       "      <td>1</td>\n",
       "      <td>0</td>\n",
       "      <td>0</td>\n",
       "      <td>0</td>\n",
       "      <td>0</td>\n",
       "      <td>0</td>\n",
       "      <td>1</td>\n",
       "    </tr>\n",
       "    <tr>\n",
       "      <th>3</th>\n",
       "      <td>4</td>\n",
       "      <td>53</td>\n",
       "      <td>Male</td>\n",
       "      <td>macular epiretinal membrane</td>\n",
       "      <td>mild nonproliferative retinopathy</td>\n",
       "      <td>0</td>\n",
       "      <td>1</td>\n",
       "      <td>0</td>\n",
       "      <td>0</td>\n",
       "      <td>0</td>\n",
       "      <td>0</td>\n",
       "      <td>0</td>\n",
       "      <td>1</td>\n",
       "    </tr>\n",
       "    <tr>\n",
       "      <th>4</th>\n",
       "      <td>5</td>\n",
       "      <td>50</td>\n",
       "      <td>Female</td>\n",
       "      <td>moderate non proliferative retinopathy</td>\n",
       "      <td>moderate non proliferative retinopathy</td>\n",
       "      <td>0</td>\n",
       "      <td>1</td>\n",
       "      <td>0</td>\n",
       "      <td>0</td>\n",
       "      <td>0</td>\n",
       "      <td>0</td>\n",
       "      <td>0</td>\n",
       "      <td>0</td>\n",
       "    </tr>\n",
       "  </tbody>\n",
       "</table>\n",
       "</div>"
      ],
      "text/plain": [
       "   ID  Patient Age Patient Sex  \\\n",
       "0   0           69      Female   \n",
       "1   1           57        Male   \n",
       "2   2           42        Male   \n",
       "3   4           53        Male   \n",
       "4   5           50      Female   \n",
       "\n",
       "                            Left-Diagnostic Keywords  \\\n",
       "0                                           cataract   \n",
       "1                                      normal fundus   \n",
       "2  laser spot，moderate non proliferative retinopathy   \n",
       "3                        macular epiretinal membrane   \n",
       "4             moderate non proliferative retinopathy   \n",
       "\n",
       "                Right-Diagnostic Keywords  N  D  G  C  A  H  M  O  \n",
       "0                           normal fundus  0  0  0  1  0  0  0  0  \n",
       "1                           normal fundus  1  0  0  0  0  0  0  0  \n",
       "2  moderate non proliferative retinopathy  0  1  0  0  0  0  0  1  \n",
       "3       mild nonproliferative retinopathy  0  1  0  0  0  0  0  1  \n",
       "4  moderate non proliferative retinopathy  0  1  0  0  0  0  0  0  "
      ]
     },
     "execution_count": 894,
     "metadata": {},
     "output_type": "execute_result"
    }
   ],
   "source": [
    "data_rel = data[['ID', 'Patient Age','Patient Sex','Left-Diagnostic Keywords','Right-Diagnostic Keywords','N','D','G','C','A','H','M','O']].copy()\n",
    "data_rel.head()"
   ]
  },
  {
   "cell_type": "markdown",
   "metadata": {},
   "source": [
    "We checked for null values in our data."
   ]
  },
  {
   "cell_type": "code",
   "execution_count": 895,
   "metadata": {},
   "outputs": [
    {
     "data": {
      "text/plain": [
       "O                            0\n",
       "M                            0\n",
       "H                            0\n",
       "A                            0\n",
       "C                            0\n",
       "G                            0\n",
       "D                            0\n",
       "N                            0\n",
       "Right-Diagnostic Keywords    0\n",
       "Left-Diagnostic Keywords     0\n",
       "Patient Sex                  0\n",
       "Patient Age                  0\n",
       "ID                           0\n",
       "dtype: int64"
      ]
     },
     "execution_count": 895,
     "metadata": {},
     "output_type": "execute_result"
    }
   ],
   "source": [
    "data_rel.isnull().sum().sort_values(ascending=False)"
   ]
  },
  {
   "cell_type": "markdown",
   "metadata": {},
   "source": [
    "## Percentage of male vs female patient"
   ]
  },
  {
   "cell_type": "code",
   "execution_count": 896,
   "metadata": {},
   "outputs": [
    {
     "data": {
      "text/plain": [
       "<matplotlib.axes._subplots.AxesSubplot at 0x1f91008ef10>"
      ]
     },
     "execution_count": 896,
     "metadata": {},
     "output_type": "execute_result"
    },
    {
     "data": {
      "image/png": "[encoded data removed]",
      "text/plain": [
       "<Figure size 432x288 with 1 Axes>"
      ]
     },
     "metadata": {},
     "output_type": "display_data"
    }
   ],
   "source": [
    "data['Patient Sex'].value_counts().plot.pie(autopct='%1.1f%%')"
   ]
  },
  {
   "cell_type": "markdown",
   "metadata": {},
   "source": [
    "## Number_of_diseases column\n",
    "We created a new column named \"Number_of_diseases\". The value inside this column is per patient, and it showcase the prediction of number of diseases, from column \"D\" - \"O\". it does not inculude column \"N\", because \"N\" means normal (no disease). "
   ]
  },
  {
   "cell_type": "code",
   "execution_count": 897,
   "metadata": {},
   "outputs": [
    {
     "name": "stdout",
     "output_type": "stream",
     "text": [
      "[[0 0 1 ... 0 0 0]\n",
      " [0 0 0 ... 0 0 0]\n",
      " [1 0 0 ... 0 0 1]\n",
      " ...\n",
      " [1 0 0 ... 0 0 0]\n",
      " [1 0 0 ... 0 0 0]\n",
      " [0 0 0 ... 1 0 0]]\n"
     ]
    }
   ],
   "source": [
    "arr = data_rel.loc[:, 'D':'O'].to_numpy()\n",
    "print(arr)\n",
    "data_rel[\"Number_of_diseases\"] = np.sum(arr, axis=1)"
   ]
  },
  {
   "cell_type": "code",
   "execution_count": 898,
   "metadata": {},
   "outputs": [
    {
     "data": {
      "text/html": [
       "<div>\n",
       "<style scoped>\n",
       "    .dataframe tbody tr th:only-of-type {\n",
       "        vertical-align: middle;\n",
       "    }\n",
       "\n",
       "    .dataframe tbody tr th {\n",
       "        vertical-align: top;\n",
       "    }\n",
       "\n",
       "    .dataframe thead th {\n",
       "        text-align: right;\n",
       "    }\n",
       "</style>\n",
       "<table border=\"1\" class=\"dataframe\">\n",
       "  <thead>\n",
       "    <tr style=\"text-align: right;\">\n",
       "      <th></th>\n",
       "      <th>ID</th>\n",
       "      <th>Patient Age</th>\n",
       "      <th>Patient Sex</th>\n",
       "      <th>Left-Diagnostic Keywords</th>\n",
       "      <th>Right-Diagnostic Keywords</th>\n",
       "      <th>N</th>\n",
       "      <th>D</th>\n",
       "      <th>G</th>\n",
       "      <th>C</th>\n",
       "      <th>A</th>\n",
       "      <th>H</th>\n",
       "      <th>M</th>\n",
       "      <th>O</th>\n",
       "      <th>Number_of_diseases</th>\n",
       "    </tr>\n",
       "  </thead>\n",
       "  <tbody>\n",
       "    <tr>\n",
       "      <th>0</th>\n",
       "      <td>0</td>\n",
       "      <td>69</td>\n",
       "      <td>Female</td>\n",
       "      <td>cataract</td>\n",
       "      <td>normal fundus</td>\n",
       "      <td>0</td>\n",
       "      <td>0</td>\n",
       "      <td>0</td>\n",
       "      <td>1</td>\n",
       "      <td>0</td>\n",
       "      <td>0</td>\n",
       "      <td>0</td>\n",
       "      <td>0</td>\n",
       "      <td>1</td>\n",
       "    </tr>\n",
       "    <tr>\n",
       "      <th>1</th>\n",
       "      <td>1</td>\n",
       "      <td>57</td>\n",
       "      <td>Male</td>\n",
       "      <td>normal fundus</td>\n",
       "      <td>normal fundus</td>\n",
       "      <td>1</td>\n",
       "      <td>0</td>\n",
       "      <td>0</td>\n",
       "      <td>0</td>\n",
       "      <td>0</td>\n",
       "      <td>0</td>\n",
       "      <td>0</td>\n",
       "      <td>0</td>\n",
       "      <td>0</td>\n",
       "    </tr>\n",
       "    <tr>\n",
       "      <th>2</th>\n",
       "      <td>2</td>\n",
       "      <td>42</td>\n",
       "      <td>Male</td>\n",
       "      <td>laser spot，moderate non proliferative retinopathy</td>\n",
       "      <td>moderate non proliferative retinopathy</td>\n",
       "      <td>0</td>\n",
       "      <td>1</td>\n",
       "      <td>0</td>\n",
       "      <td>0</td>\n",
       "      <td>0</td>\n",
       "      <td>0</td>\n",
       "      <td>0</td>\n",
       "      <td>1</td>\n",
       "      <td>2</td>\n",
       "    </tr>\n",
       "    <tr>\n",
       "      <th>3</th>\n",
       "      <td>4</td>\n",
       "      <td>53</td>\n",
       "      <td>Male</td>\n",
       "      <td>macular epiretinal membrane</td>\n",
       "      <td>mild nonproliferative retinopathy</td>\n",
       "      <td>0</td>\n",
       "      <td>1</td>\n",
       "      <td>0</td>\n",
       "      <td>0</td>\n",
       "      <td>0</td>\n",
       "      <td>0</td>\n",
       "      <td>0</td>\n",
       "      <td>1</td>\n",
       "      <td>2</td>\n",
       "    </tr>\n",
       "    <tr>\n",
       "      <th>4</th>\n",
       "      <td>5</td>\n",
       "      <td>50</td>\n",
       "      <td>Female</td>\n",
       "      <td>moderate non proliferative retinopathy</td>\n",
       "      <td>moderate non proliferative retinopathy</td>\n",
       "      <td>0</td>\n",
       "      <td>1</td>\n",
       "      <td>0</td>\n",
       "      <td>0</td>\n",
       "      <td>0</td>\n",
       "      <td>0</td>\n",
       "      <td>0</td>\n",
       "      <td>0</td>\n",
       "      <td>1</td>\n",
       "    </tr>\n",
       "  </tbody>\n",
       "</table>\n",
       "</div>"
      ],
      "text/plain": [
       "   ID  Patient Age Patient Sex  \\\n",
       "0   0           69      Female   \n",
       "1   1           57        Male   \n",
       "2   2           42        Male   \n",
       "3   4           53        Male   \n",
       "4   5           50      Female   \n",
       "\n",
       "                            Left-Diagnostic Keywords  \\\n",
       "0                                           cataract   \n",
       "1                                      normal fundus   \n",
       "2  laser spot，moderate non proliferative retinopathy   \n",
       "3                        macular epiretinal membrane   \n",
       "4             moderate non proliferative retinopathy   \n",
       "\n",
       "                Right-Diagnostic Keywords  N  D  G  C  A  H  M  O  \\\n",
       "0                           normal fundus  0  0  0  1  0  0  0  0   \n",
       "1                           normal fundus  1  0  0  0  0  0  0  0   \n",
       "2  moderate non proliferative retinopathy  0  1  0  0  0  0  0  1   \n",
       "3       mild nonproliferative retinopathy  0  1  0  0  0  0  0  1   \n",
       "4  moderate non proliferative retinopathy  0  1  0  0  0  0  0  0   \n",
       "\n",
       "   Number_of_diseases  \n",
       "0                   1  \n",
       "1                   0  \n",
       "2                   2  \n",
       "3                   2  \n",
       "4                   1  "
      ]
     },
     "execution_count": 898,
     "metadata": {},
     "output_type": "execute_result"
    }
   ],
   "source": [
    "data_rel.head()"
   ]
  },
  {
   "cell_type": "markdown",
   "metadata": {},
   "source": [
    "## Patients age distribution\n",
    "As we can see the majority of the patients are between the ages of 40-80 years old. <br />\n",
    "The median for patient age is a bit bellow 60. "
   ]
  },
  {
   "cell_type": "code",
   "execution_count": 899,
   "metadata": {},
   "outputs": [
    {
     "data": {
      "text/plain": [
       "(array([  28.,    8.,   29.,  223.,  589., 1378., 2057., 1511.,  486.,\n",
       "          83.]),\n",
       " array([ 1., 10., 19., 28., 37., 46., 55., 64., 73., 82., 91.]),\n",
       " <a list of 10 Patch objects>)"
      ]
     },
     "execution_count": 899,
     "metadata": {},
     "output_type": "execute_result"
    },
    {
     "data": {
      "image/png": "[encoded data removed]",
      "text/plain": [
       "<Figure size 432x288 with 1 Axes>"
      ]
     },
     "metadata": {},
     "output_type": "display_data"
    }
   ],
   "source": [
    "plt.hist(data_rel[\"Patient Age\"])"
   ]
  },
  {
   "cell_type": "code",
   "execution_count": 900,
   "metadata": {},
   "outputs": [
    {
     "data": {
      "text/plain": [
       "{'whiskers': [<matplotlib.lines.Line2D at 0x1f90dda3a90>,\n",
       "  <matplotlib.lines.Line2D at 0x1f90dda3df0>],\n",
       " 'caps': [<matplotlib.lines.Line2D at 0x1f90dd99190>,\n",
       "  <matplotlib.lines.Line2D at 0x1f90dd994f0>],\n",
       " 'boxes': [<matplotlib.lines.Line2D at 0x1f90dda3730>],\n",
       " 'medians': [<matplotlib.lines.Line2D at 0x1f90dd99850>],\n",
       " 'fliers': [<matplotlib.lines.Line2D at 0x1f90dd99b50>],\n",
       " 'means': []}"
      ]
     },
     "execution_count": 900,
     "metadata": {},
     "output_type": "execute_result"
    },
    {
     "data": {
      "image/png": "[encoded data removed]",
      "text/plain": [
       "<Figure size 432x288 with 1 Axes>"
      ]
     },
     "metadata": {},
     "output_type": "display_data"
    }
   ],
   "source": [
    "plt.boxplot(data_rel['Patient Age'])"
   ]
  },
  {
   "cell_type": "markdown",
   "metadata": {},
   "source": [
    "## First conclusion\n",
    "The majority of the patients regardless of sex have only 1 disease.<br />\n",
    "Forthermore we can see that there is no major diffrence in the number of diseases regarding to sex."
   ]
  },
  {
   "cell_type": "code",
   "execution_count": 901,
   "metadata": {},
   "outputs": [
    {
     "data": {
      "text/plain": [
       "<matplotlib.axes._subplots.AxesSubplot at 0x1f90dd84970>"
      ]
     },
     "execution_count": 901,
     "metadata": {},
     "output_type": "execute_result"
    },
    {
     "data": {
      "image/png": "[encoded data removed]",
      "text/plain": [
       "<Figure size 432x288 with 1 Axes>"
      ]
     },
     "metadata": {},
     "output_type": "display_data"
    }
   ],
   "source": [
    "sns.countplot(x='Patient Sex', hue='Number_of_diseases', data=data_rel)"
   ]
  },
  {
   "cell_type": "code",
   "execution_count": 902,
   "metadata": {},
   "outputs": [],
   "source": [
    "data_only_with_d = data_rel[data_rel.Number_of_diseases > 0].copy()"
   ]
  },
  {
   "cell_type": "markdown",
   "metadata": {},
   "source": [
    "### Group Age column\n",
    "We created a new column named \"Group Age\" that will classifie the patient to proper age group. \n",
    "We devided the patients into three age groups."
   ]
  },
  {
   "cell_type": "code",
   "execution_count": 903,
   "metadata": {},
   "outputs": [],
   "source": [
    "data_rel[\"Group Age\"] = pd.cut(data_rel['Patient Age'], 3, labels=['0-31','31-61','>61'])"
   ]
  },
  {
   "cell_type": "code",
   "execution_count": 904,
   "metadata": {},
   "outputs": [
    {
     "name": "stdout",
     "output_type": "stream",
     "text": [
      "31-61    3719\n",
      ">61      2552\n",
      "0-31      121\n",
      "Name: Group Age, dtype: int64\n"
     ]
    },
    {
     "data": {
      "text/plain": [
       "31-61    0.581821\n",
       ">61      0.399249\n",
       "0-31     0.018930\n",
       "Name: Group Age, dtype: float64"
      ]
     },
     "execution_count": 904,
     "metadata": {},
     "output_type": "execute_result"
    }
   ],
   "source": [
    "print(pd.value_counts(data_rel['Group Age']))\n",
    "pd.value_counts(data_rel['Group Age']) / data_rel.shape[0]"
   ]
  },
  {
   "cell_type": "markdown",
   "metadata": {},
   "source": [
    "## Second conclusion\n",
    "For males as they age the number of diseases will rise.<br />\n",
    "The difference in the number of disease between male & female is only significant in the 0-31 age group (females have more eye diseases than males)"
   ]
  },
  {
   "cell_type": "code",
   "execution_count": 905,
   "metadata": {},
   "outputs": [
    {
     "data": {
      "text/html": [
       "<div>\n",
       "<style scoped>\n",
       "    .dataframe tbody tr th:only-of-type {\n",
       "        vertical-align: middle;\n",
       "    }\n",
       "\n",
       "    .dataframe tbody tr th {\n",
       "        vertical-align: top;\n",
       "    }\n",
       "\n",
       "    .dataframe thead th {\n",
       "        text-align: right;\n",
       "    }\n",
       "</style>\n",
       "<table border=\"1\" class=\"dataframe\">\n",
       "  <thead>\n",
       "    <tr style=\"text-align: right;\">\n",
       "      <th></th>\n",
       "      <th>Group Age</th>\n",
       "      <th>Patient Sex</th>\n",
       "      <th>Number_of_diseases</th>\n",
       "    </tr>\n",
       "  </thead>\n",
       "  <tbody>\n",
       "    <tr>\n",
       "      <th>0</th>\n",
       "      <td>0-31</td>\n",
       "      <td>Female</td>\n",
       "      <td>0.909091</td>\n",
       "    </tr>\n",
       "    <tr>\n",
       "      <th>1</th>\n",
       "      <td>0-31</td>\n",
       "      <td>Male</td>\n",
       "      <td>0.709091</td>\n",
       "    </tr>\n",
       "    <tr>\n",
       "      <th>2</th>\n",
       "      <td>31-61</td>\n",
       "      <td>Female</td>\n",
       "      <td>0.807717</td>\n",
       "    </tr>\n",
       "    <tr>\n",
       "      <th>3</th>\n",
       "      <td>31-61</td>\n",
       "      <td>Male</td>\n",
       "      <td>0.774030</td>\n",
       "    </tr>\n",
       "    <tr>\n",
       "      <th>4</th>\n",
       "      <td>&gt;61</td>\n",
       "      <td>Female</td>\n",
       "      <td>0.916110</td>\n",
       "    </tr>\n",
       "    <tr>\n",
       "      <th>5</th>\n",
       "      <td>&gt;61</td>\n",
       "      <td>Male</td>\n",
       "      <td>0.891286</td>\n",
       "    </tr>\n",
       "  </tbody>\n",
       "</table>\n",
       "</div>"
      ],
      "text/plain": [
       "  Group Age Patient Sex  Number_of_diseases\n",
       "0      0-31      Female            0.909091\n",
       "1      0-31        Male            0.709091\n",
       "2     31-61      Female            0.807717\n",
       "3     31-61        Male            0.774030\n",
       "4       >61      Female            0.916110\n",
       "5       >61        Male            0.891286"
      ]
     },
     "execution_count": 905,
     "metadata": {},
     "output_type": "execute_result"
    }
   ],
   "source": [
    "b = data_rel.groupby(['Group Age', 'Patient Sex'])['Number_of_diseases'].mean().reset_index()\n",
    "b"
   ]
  },
  {
   "cell_type": "code",
   "execution_count": 906,
   "metadata": {},
   "outputs": [
    {
     "data": {
      "text/plain": [
       "<matplotlib.axes._subplots.AxesSubplot at 0x1f90d725ee0>"
      ]
     },
     "execution_count": 906,
     "metadata": {},
     "output_type": "execute_result"
    },
    {
     "data": {
      "image/png": "[encoded data removed]",
      "text/plain": [
       "<Figure size 432x288 with 1 Axes>"
      ]
     },
     "metadata": {},
     "output_type": "display_data"
    }
   ],
   "source": [
    "sns.barplot(x='Group Age', y='Number_of_diseases', hue='Patient Sex', data=data_rel)"
   ]
  },
  {
   "cell_type": "markdown",
   "metadata": {},
   "source": [
    "## Third conclusion\n",
    "##### Remark: we used the average due to the fact that the number of male and female patient is not equale, and the same goes for the group age clasification. Mean normalized the data.<br /> \n",
    "Glaucoma - we can see that there is an increase with the average of the male patient as they get older.<br />\n",
    "\n",
    "Diabetes - in all the group ages the male average for Diabetes ishigher than the female.<br />\n",
    "\n",
    "Cataract - for females: in the age group of 0 - 31 there is no presence of cataract. For 31-61 there is a rise in precentege of female with cataract and in the >61 group age there is a sharp rise in the precentage of females with cataract.<br /> \n",
    "\n",
    "Other diseases/abnormalities - we can see that there is an  slite increase with the average of the female patients as they get older.<br />  \n",
    "\n",
    "Age related Macular Degeneration - for females: we can see that there is an  slite increase with the average of the female patients as they get older.\n",
    "For males: in the age group of 0 - 31 there is no presence of Age related Macular Degeneration. For 31-61 there is a rise in precentege of male with Age related Macular Degeneration and in the >61 group age there is a sharp rise in the precentage of males with Age related Macular Degeneration.<br />  \n",
    "\n",
    "Hypertension - in the group age of 0-31 there is no presence of Hypertension in both male & female. In the gropu age of 31-61 the male average is twice as high than the female avarege.<br />        \n",
    "\n",
    "Pathological Myopia - in the group age of 0-31 the female avarage is at his highest peak at 0.4. the rest of the averages both for male and female in all of the other group ages goes from 0.1 to 0.0.\n"
   ]
  },
  {
   "cell_type": "code",
   "execution_count": 907,
   "metadata": {},
   "outputs": [
    {
     "data": {
      "text/plain": [
       "<matplotlib.axes._subplots.AxesSubplot at 0x1f912105280>"
      ]
     },
     "execution_count": 907,
     "metadata": {},
     "output_type": "execute_result"
    },
    {
     "data": {
      "image/png": "[encoded data removed]",
      "text/plain": [
       "<Figure size 1080x1080 with 7 Axes>"
      ]
     },
     "metadata": {},
     "output_type": "display_data"
    }
   ],
   "source": [
    "plt.figure(figsize = (15,15))\n",
    "plt.subplot(4, 2, 1,)\n",
    "b = data_rel.groupby(['Group Age', 'Patient Sex'])['G'].mean().reset_index()\n",
    "sns.barplot(x='Group Age', y='G', hue='Patient Sex', data=b)\n",
    "plt.subplot(4, 2, 2,)\n",
    "b = data_rel.groupby(['Group Age', 'Patient Sex'])['D'].mean().reset_index()\n",
    "sns.barplot(x='Group Age', y='D', hue='Patient Sex', data=b)\n",
    "plt.subplot(4, 2, 3,)\n",
    "b = data_rel.groupby(['Group Age', 'Patient Sex'])['C'].mean().reset_index()\n",
    "sns.barplot(x='Group Age', y='C', hue='Patient Sex', data=b)\n",
    "plt.subplot(4, 2, 4,)\n",
    "b = data_rel.groupby(['Group Age', 'Patient Sex'])['O'].mean().reset_index()\n",
    "sns.barplot(x='Group Age', y='O', hue='Patient Sex', data=b)\n",
    "plt.subplot(4, 2, 5,)\n",
    "b = data_rel.groupby(['Group Age', 'Patient Sex'])['A'].mean().reset_index()\n",
    "sns.barplot(x='Group Age', y='A', hue='Patient Sex', data=b)\n",
    "plt.subplot(4, 2, 6,)\n",
    "b = data_rel.groupby(['Group Age', 'Patient Sex'])['H'].mean().reset_index()\n",
    "sns.barplot(x='Group Age', y='H', hue='Patient Sex', data=b)\n",
    "plt.subplot(4, 2, 7,)\n",
    "b = data_rel.groupby(['Group Age', 'Patient Sex'])['M'].mean().reset_index()\n",
    "sns.barplot(x='Group Age', y='M', hue='Patient Sex', data=b)"
   ]
  },
  {
   "cell_type": "markdown",
   "metadata": {},
   "source": [
    "## 11 most common diagnosis per eye \n",
    "We axtracted the 11 most common diagnosis from the columns \"Left-Diagnostic Keywords\" & \"Right-Diagnostic Keywords\".<br /> \n",
    "We chose the 11 highest value count because we wanted a value count above 100 in both columns. <br /> \n",
    "Our boxplot is bulit with the diagnsis (values) for axis X forthermore in this axis each diagnosis is divided to male and female. For axis Y the data is the patient age. \n"
   ]
  },
  {
   "cell_type": "code",
   "execution_count": 908,
   "metadata": {},
   "outputs": [
    {
     "data": {
      "text/plain": [
       "normal fundus                                                      2796\n",
       "moderate non proliferative retinopathy                              717\n",
       "mild nonproliferative retinopathy                                   428\n",
       "cataract                                                            268\n",
       "pathological myopia                                                 208\n",
       "glaucoma                                                            207\n",
       "dry age-related macular degeneration                                184\n",
       "severe nonproliferative retinopathy                                 139\n",
       "drusen                                                              130\n",
       "hypertensive retinopathy                                            106\n",
       "epiretinal membrane                                                 106\n",
       "macular epiretinal membrane                                          97\n",
       "myelinated nerve fibers                                              60\n",
       "normal fundus，lens dust                                              56\n",
       "refractive media opacity                                             54\n",
       "vitreous degeneration                                                50\n",
       "wet age-related macular degeneration                                 44\n",
       "lens dust，normal fundus                                              41\n",
       "moderate non proliferative retinopathy，hypertensive retinopathy      32\n",
       "moderate non proliferative retinopathy，epiretinal membrane           26\n",
       "Name: Left-Diagnostic Keywords, dtype: int64"
      ]
     },
     "execution_count": 908,
     "metadata": {},
     "output_type": "execute_result"
    }
   ],
   "source": [
    "data_rel['Left-Diagnostic Keywords'].value_counts().head(20)"
   ]
  },
  {
   "cell_type": "code",
   "execution_count": 909,
   "metadata": {},
   "outputs": [
    {
     "data": {
      "text/plain": [
       "normal fundus                                                      2705\n",
       "moderate non proliferative retinopathy                              745\n",
       "mild nonproliferative retinopathy                                   472\n",
       "cataract                                                            250\n",
       "pathological myopia                                                 216\n",
       "dry age-related macular degeneration                                204\n",
       "glaucoma                                                            190\n",
       "severe nonproliferative retinopathy                                 147\n",
       "macular epiretinal membrane                                         141\n",
       "drusen                                                              140\n",
       "epiretinal membrane                                                 109\n",
       "hypertensive retinopathy                                            101\n",
       "myelinated nerve fibers                                              67\n",
       "refractive media opacity                                             52\n",
       "vitreous degeneration                                                52\n",
       "lens dust，normal fundus                                              42\n",
       "wet age-related macular degeneration                                 38\n",
       "maculopathy                                                          30\n",
       "moderate non proliferative retinopathy，hypertensive retinopathy      30\n",
       "normal fundus，lens dust                                              30\n",
       "Name: Right-Diagnostic Keywords, dtype: int64"
      ]
     },
     "execution_count": 909,
     "metadata": {},
     "output_type": "execute_result"
    }
   ],
   "source": [
    "data_rel['Right-Diagnostic Keywords'].value_counts().head(20)"
   ]
  },
  {
   "cell_type": "code",
   "execution_count": 910,
   "metadata": {},
   "outputs": [
    {
     "data": {
      "text/plain": [
       "['normal fundus',\n",
       " 'moderate non proliferative retinopathy',\n",
       " 'mild nonproliferative retinopathy',\n",
       " 'cataract',\n",
       " 'pathological myopia',\n",
       " 'glaucoma',\n",
       " 'dry age-related macular degeneration',\n",
       " 'severe nonproliferative retinopathy',\n",
       " 'drusen',\n",
       " 'hypertensive retinopathy',\n",
       " 'epiretinal membrane']"
      ]
     },
     "execution_count": 910,
     "metadata": {},
     "output_type": "execute_result"
    }
   ],
   "source": [
    "data_rel['Left-Diagnostic Keywords'].value_counts().head(11).index.tolist()"
   ]
  },
  {
   "cell_type": "code",
   "execution_count": 911,
   "metadata": {},
   "outputs": [
    {
     "data": {
      "image/png": "[encoded data removed]",
      "text/plain": [
       "<Figure size 2160x720 with 1 Axes>"
      ]
     },
     "metadata": {},
     "output_type": "display_data"
    }
   ],
   "source": [
    "fig = plt.subplots(figsize=(30,10))\n",
    "plt.title(\"Left-Diagnostic Keywords\")\n",
    "sns.boxplot(x='Left-Diagnostic Keywords', y=\"Patient Age\", hue=\"Patient Sex\",\n",
    "                data=data_rel, order=['normal fundus',\n",
    " 'moderate non proliferative retinopathy',\n",
    " 'mild nonproliferative retinopathy',\n",
    " 'cataract',\n",
    " 'pathological myopia',\n",
    " 'glaucoma',\n",
    " 'dry age-related macular degeneration',\n",
    " 'severe nonproliferative retinopathy',\n",
    " 'drusen',\n",
    " 'hypertensive retinopathy',\n",
    " 'epiretinal membrane'])\n",
    "plt.show()\n"
   ]
  },
  {
   "cell_type": "code",
   "execution_count": 912,
   "metadata": {},
   "outputs": [
    {
     "data": {
      "text/plain": [
       "['normal fundus',\n",
       " 'moderate non proliferative retinopathy',\n",
       " 'mild nonproliferative retinopathy',\n",
       " 'cataract',\n",
       " 'pathological myopia',\n",
       " 'dry age-related macular degeneration',\n",
       " 'glaucoma',\n",
       " 'severe nonproliferative retinopathy',\n",
       " 'macular epiretinal membrane',\n",
       " 'drusen',\n",
       " 'epiretinal membrane']"
      ]
     },
     "execution_count": 912,
     "metadata": {},
     "output_type": "execute_result"
    }
   ],
   "source": [
    "data_rel['Right-Diagnostic Keywords'].value_counts().head(11).index.tolist()"
   ]
  },
  {
   "cell_type": "code",
   "execution_count": 913,
   "metadata": {},
   "outputs": [
    {
     "data": {
      "image/png": "[encoded data removed]",
      "text/plain": [
       "<Figure size 2160x720 with 1 Axes>"
      ]
     },
     "metadata": {},
     "output_type": "display_data"
    }
   ],
   "source": [
    "fig = plt.subplots(figsize=(30,10))\n",
    "plt.title(\"Right-Diagnostic Keywords\")\n",
    "sns.boxplot(x='Right-Diagnostic Keywords', y=\"Patient Age\", hue=\"Patient Sex\",\n",
    "                data=data_rel, order=['normal fundus',\n",
    " 'moderate non proliferative retinopathy',\n",
    " 'mild nonproliferative retinopathy',\n",
    " 'cataract',\n",
    " 'pathological myopia',\n",
    " 'dry age-related macular degeneration',\n",
    " 'glaucoma',\n",
    " 'severe nonproliferative retinopathy',\n",
    " 'macular epiretinal membrane',\n",
    " 'drusen',\n",
    " 'epiretinal membrane'])\n",
    "plt.show()\n"
   ]
  },
  {
   "cell_type": "markdown",
   "metadata": {},
   "source": [
    "## Categorizing the diagnostic columns:\n",
    "The columns \"Left-Diagnostic Keywords\" & \"Right-Diagnostic Keywords\" have many identical values. these values are obj str. We wanted to catagorized them so that a value such as \"normal fundus\" in the \"Left-Diagnostic Keywords\" will have the same catagory number in the \"Right-Diagnostic Keywords\". If we would have uset the cat.code function it will give tha value \"normal fundus\" a different number catagory in each column. There is no such function existing, therefore we created one to do so.<br /> \n",
    "##### When using the classifier tree, it will clasifie by arrows when for example 5> or <5 when the numbers represent the diagnostic, and they are not continuous therefor, the tree model will be incorrect. "
   ]
  },
  {
   "cell_type": "code",
   "execution_count": 914,
   "metadata": {},
   "outputs": [],
   "source": [
    "# def categorized(first_column_name, second_column_name):\n",
    "#     diagnose = {}\n",
    "#     a = 0\n",
    "#     for i in data_rel[first_column_name]:\n",
    "#         if i  not in diagnose:\n",
    "#             a += 1\n",
    "#             diagnose[i] = a\n",
    "#    for i in data_rel[second_column_name]:\n",
    "#          if i  not in diagnose:\n",
    "#             a += 1\n",
    "#             diagnose[i] = a\n",
    "            \n",
    "#     # Change the values\n",
    "#     data_rel[first_column_name] = data_rel[first_column_name].replace(diagnose) \n",
    "#     data_rel[second_column_name] = data_rel[second_column_name].replace(diagnose)\n",
    "#     data_rel[first_column_name].astype(\"category\")\n",
    "#     data_rel[second_column_name].astype(\"category\")\n",
    "#     return diagnose\n",
    "\n",
    "# diagnose = categorized(\"Left-Diagnostic Keywords\", \"Right-Diagnostic Keywords\")"
   ]
  },
  {
   "cell_type": "code",
   "execution_count": 915,
   "metadata": {},
   "outputs": [],
   "source": [
    "data_rel['Patient Sex']= data_rel['Patient Sex'].astype('category').cat.codes"
   ]
  },
  {
   "cell_type": "markdown",
   "metadata": {},
   "source": [
    "#### We used get_dummies and concated the \"new data\" to a new user name, with that new data we created our tree.DecisionTreeClassifier"
   ]
  },
  {
   "cell_type": "code",
   "execution_count": 916,
   "metadata": {},
   "outputs": [
    {
     "data": {
      "text/html": [
       "<div>\n",
       "<style scoped>\n",
       "    .dataframe tbody tr th:only-of-type {\n",
       "        vertical-align: middle;\n",
       "    }\n",
       "\n",
       "    .dataframe tbody tr th {\n",
       "        vertical-align: top;\n",
       "    }\n",
       "\n",
       "    .dataframe thead th {\n",
       "        text-align: right;\n",
       "    }\n",
       "</style>\n",
       "<table border=\"1\" class=\"dataframe\">\n",
       "  <thead>\n",
       "    <tr style=\"text-align: right;\">\n",
       "      <th></th>\n",
       "      <th>ID</th>\n",
       "      <th>Patient Age</th>\n",
       "      <th>Patient Sex</th>\n",
       "      <th>Left-Diagnostic Keywords</th>\n",
       "      <th>Right-Diagnostic Keywords</th>\n",
       "      <th>N</th>\n",
       "      <th>D</th>\n",
       "      <th>G</th>\n",
       "      <th>C</th>\n",
       "      <th>A</th>\n",
       "      <th>...</th>\n",
       "      <th>Right-Diagnostic Keywords_vitreous degeneration</th>\n",
       "      <th>Right-Diagnostic Keywords_vitreous degeneration，lens dust</th>\n",
       "      <th>Right-Diagnostic Keywords_vitreous degeneration，mild nonproliferative retinopathy</th>\n",
       "      <th>Right-Diagnostic Keywords_wet age-related macular degeneration</th>\n",
       "      <th>Right-Diagnostic Keywords_wet age-related macular degeneration，diabetic retinopathy</th>\n",
       "      <th>Right-Diagnostic Keywords_wet age-related macular degeneration，glaucoma</th>\n",
       "      <th>Right-Diagnostic Keywords_wet age-related macular degeneration，hypertensive retinopathy</th>\n",
       "      <th>Right-Diagnostic Keywords_white vessel，mild nonproliferative retinopathy</th>\n",
       "      <th>Right-Diagnostic Keywords_white vessel，moderate non proliferative retinopathy</th>\n",
       "      <th>Right-Diagnostic Keywords_white vessel，proliferative diabetic retinopathy，suspected microvascular anomalies</th>\n",
       "    </tr>\n",
       "  </thead>\n",
       "  <tbody>\n",
       "    <tr>\n",
       "      <th>0</th>\n",
       "      <td>0</td>\n",
       "      <td>69</td>\n",
       "      <td>0</td>\n",
       "      <td>cataract</td>\n",
       "      <td>normal fundus</td>\n",
       "      <td>0</td>\n",
       "      <td>0</td>\n",
       "      <td>0</td>\n",
       "      <td>1</td>\n",
       "      <td>0</td>\n",
       "      <td>...</td>\n",
       "      <td>0</td>\n",
       "      <td>0</td>\n",
       "      <td>0</td>\n",
       "      <td>0</td>\n",
       "      <td>0</td>\n",
       "      <td>0</td>\n",
       "      <td>0</td>\n",
       "      <td>0</td>\n",
       "      <td>0</td>\n",
       "      <td>0</td>\n",
       "    </tr>\n",
       "    <tr>\n",
       "      <th>1</th>\n",
       "      <td>1</td>\n",
       "      <td>57</td>\n",
       "      <td>1</td>\n",
       "      <td>normal fundus</td>\n",
       "      <td>normal fundus</td>\n",
       "      <td>1</td>\n",
       "      <td>0</td>\n",
       "      <td>0</td>\n",
       "      <td>0</td>\n",
       "      <td>0</td>\n",
       "      <td>...</td>\n",
       "      <td>0</td>\n",
       "      <td>0</td>\n",
       "      <td>0</td>\n",
       "      <td>0</td>\n",
       "      <td>0</td>\n",
       "      <td>0</td>\n",
       "      <td>0</td>\n",
       "      <td>0</td>\n",
       "      <td>0</td>\n",
       "      <td>0</td>\n",
       "    </tr>\n",
       "    <tr>\n",
       "      <th>2</th>\n",
       "      <td>2</td>\n",
       "      <td>42</td>\n",
       "      <td>1</td>\n",
       "      <td>laser spot，moderate non proliferative retinopathy</td>\n",
       "      <td>moderate non proliferative retinopathy</td>\n",
       "      <td>0</td>\n",
       "      <td>1</td>\n",
       "      <td>0</td>\n",
       "      <td>0</td>\n",
       "      <td>0</td>\n",
       "      <td>...</td>\n",
       "      <td>0</td>\n",
       "      <td>0</td>\n",
       "      <td>0</td>\n",
       "      <td>0</td>\n",
       "      <td>0</td>\n",
       "      <td>0</td>\n",
       "      <td>0</td>\n",
       "      <td>0</td>\n",
       "      <td>0</td>\n",
       "      <td>0</td>\n",
       "    </tr>\n",
       "    <tr>\n",
       "      <th>3</th>\n",
       "      <td>4</td>\n",
       "      <td>53</td>\n",
       "      <td>1</td>\n",
       "      <td>macular epiretinal membrane</td>\n",
       "      <td>mild nonproliferative retinopathy</td>\n",
       "      <td>0</td>\n",
       "      <td>1</td>\n",
       "      <td>0</td>\n",
       "      <td>0</td>\n",
       "      <td>0</td>\n",
       "      <td>...</td>\n",
       "      <td>0</td>\n",
       "      <td>0</td>\n",
       "      <td>0</td>\n",
       "      <td>0</td>\n",
       "      <td>0</td>\n",
       "      <td>0</td>\n",
       "      <td>0</td>\n",
       "      <td>0</td>\n",
       "      <td>0</td>\n",
       "      <td>0</td>\n",
       "    </tr>\n",
       "    <tr>\n",
       "      <th>4</th>\n",
       "      <td>5</td>\n",
       "      <td>50</td>\n",
       "      <td>0</td>\n",
       "      <td>moderate non proliferative retinopathy</td>\n",
       "      <td>moderate non proliferative retinopathy</td>\n",
       "      <td>0</td>\n",
       "      <td>1</td>\n",
       "      <td>0</td>\n",
       "      <td>0</td>\n",
       "      <td>0</td>\n",
       "      <td>...</td>\n",
       "      <td>0</td>\n",
       "      <td>0</td>\n",
       "      <td>0</td>\n",
       "      <td>0</td>\n",
       "      <td>0</td>\n",
       "      <td>0</td>\n",
       "      <td>0</td>\n",
       "      <td>0</td>\n",
       "      <td>0</td>\n",
       "      <td>0</td>\n",
       "    </tr>\n",
       "    <tr>\n",
       "      <th>...</th>\n",
       "      <td>...</td>\n",
       "      <td>...</td>\n",
       "      <td>...</td>\n",
       "      <td>...</td>\n",
       "      <td>...</td>\n",
       "      <td>...</td>\n",
       "      <td>...</td>\n",
       "      <td>...</td>\n",
       "      <td>...</td>\n",
       "      <td>...</td>\n",
       "      <td>...</td>\n",
       "      <td>...</td>\n",
       "      <td>...</td>\n",
       "      <td>...</td>\n",
       "      <td>...</td>\n",
       "      <td>...</td>\n",
       "      <td>...</td>\n",
       "      <td>...</td>\n",
       "      <td>...</td>\n",
       "      <td>...</td>\n",
       "      <td>...</td>\n",
       "    </tr>\n",
       "    <tr>\n",
       "      <th>6387</th>\n",
       "      <td>4686</td>\n",
       "      <td>63</td>\n",
       "      <td>1</td>\n",
       "      <td>severe nonproliferative retinopathy</td>\n",
       "      <td>proliferative diabetic retinopathy</td>\n",
       "      <td>0</td>\n",
       "      <td>1</td>\n",
       "      <td>0</td>\n",
       "      <td>0</td>\n",
       "      <td>0</td>\n",
       "      <td>...</td>\n",
       "      <td>0</td>\n",
       "      <td>0</td>\n",
       "      <td>0</td>\n",
       "      <td>0</td>\n",
       "      <td>0</td>\n",
       "      <td>0</td>\n",
       "      <td>0</td>\n",
       "      <td>0</td>\n",
       "      <td>0</td>\n",
       "      <td>0</td>\n",
       "    </tr>\n",
       "    <tr>\n",
       "      <th>6388</th>\n",
       "      <td>4688</td>\n",
       "      <td>42</td>\n",
       "      <td>1</td>\n",
       "      <td>moderate non proliferative retinopathy</td>\n",
       "      <td>moderate non proliferative retinopathy</td>\n",
       "      <td>0</td>\n",
       "      <td>1</td>\n",
       "      <td>0</td>\n",
       "      <td>0</td>\n",
       "      <td>0</td>\n",
       "      <td>...</td>\n",
       "      <td>0</td>\n",
       "      <td>0</td>\n",
       "      <td>0</td>\n",
       "      <td>0</td>\n",
       "      <td>0</td>\n",
       "      <td>0</td>\n",
       "      <td>0</td>\n",
       "      <td>0</td>\n",
       "      <td>0</td>\n",
       "      <td>0</td>\n",
       "    </tr>\n",
       "    <tr>\n",
       "      <th>6389</th>\n",
       "      <td>4689</td>\n",
       "      <td>54</td>\n",
       "      <td>1</td>\n",
       "      <td>mild nonproliferative retinopathy</td>\n",
       "      <td>normal fundus</td>\n",
       "      <td>0</td>\n",
       "      <td>1</td>\n",
       "      <td>0</td>\n",
       "      <td>0</td>\n",
       "      <td>0</td>\n",
       "      <td>...</td>\n",
       "      <td>0</td>\n",
       "      <td>0</td>\n",
       "      <td>0</td>\n",
       "      <td>0</td>\n",
       "      <td>0</td>\n",
       "      <td>0</td>\n",
       "      <td>0</td>\n",
       "      <td>0</td>\n",
       "      <td>0</td>\n",
       "      <td>0</td>\n",
       "    </tr>\n",
       "    <tr>\n",
       "      <th>6390</th>\n",
       "      <td>4690</td>\n",
       "      <td>57</td>\n",
       "      <td>1</td>\n",
       "      <td>mild nonproliferative retinopathy</td>\n",
       "      <td>mild nonproliferative retinopathy</td>\n",
       "      <td>0</td>\n",
       "      <td>1</td>\n",
       "      <td>0</td>\n",
       "      <td>0</td>\n",
       "      <td>0</td>\n",
       "      <td>...</td>\n",
       "      <td>0</td>\n",
       "      <td>0</td>\n",
       "      <td>0</td>\n",
       "      <td>0</td>\n",
       "      <td>0</td>\n",
       "      <td>0</td>\n",
       "      <td>0</td>\n",
       "      <td>0</td>\n",
       "      <td>0</td>\n",
       "      <td>0</td>\n",
       "    </tr>\n",
       "    <tr>\n",
       "      <th>6391</th>\n",
       "      <td>4784</td>\n",
       "      <td>58</td>\n",
       "      <td>1</td>\n",
       "      <td>hypertensive retinopathy，age-related macular d...</td>\n",
       "      <td>hypertensive retinopathy，age-related macular d...</td>\n",
       "      <td>0</td>\n",
       "      <td>0</td>\n",
       "      <td>0</td>\n",
       "      <td>0</td>\n",
       "      <td>1</td>\n",
       "      <td>...</td>\n",
       "      <td>0</td>\n",
       "      <td>0</td>\n",
       "      <td>0</td>\n",
       "      <td>0</td>\n",
       "      <td>0</td>\n",
       "      <td>0</td>\n",
       "      <td>0</td>\n",
       "      <td>0</td>\n",
       "      <td>0</td>\n",
       "      <td>0</td>\n",
       "    </tr>\n",
       "  </tbody>\n",
       "</table>\n",
       "<p>6392 rows × 416 columns</p>\n",
       "</div>"
      ],
      "text/plain": [
       "        ID  Patient Age  Patient Sex  \\\n",
       "0        0           69            0   \n",
       "1        1           57            1   \n",
       "2        2           42            1   \n",
       "3        4           53            1   \n",
       "4        5           50            0   \n",
       "...    ...          ...          ...   \n",
       "6387  4686           63            1   \n",
       "6388  4688           42            1   \n",
       "6389  4689           54            1   \n",
       "6390  4690           57            1   \n",
       "6391  4784           58            1   \n",
       "\n",
       "                               Left-Diagnostic Keywords  \\\n",
       "0                                              cataract   \n",
       "1                                         normal fundus   \n",
       "2     laser spot，moderate non proliferative retinopathy   \n",
       "3                           macular epiretinal membrane   \n",
       "4                moderate non proliferative retinopathy   \n",
       "...                                                 ...   \n",
       "6387                severe nonproliferative retinopathy   \n",
       "6388             moderate non proliferative retinopathy   \n",
       "6389                  mild nonproliferative retinopathy   \n",
       "6390                  mild nonproliferative retinopathy   \n",
       "6391  hypertensive retinopathy，age-related macular d...   \n",
       "\n",
       "                              Right-Diagnostic Keywords  N  D  G  C  A  ...  \\\n",
       "0                                         normal fundus  0  0  0  1  0  ...   \n",
       "1                                         normal fundus  1  0  0  0  0  ...   \n",
       "2                moderate non proliferative retinopathy  0  1  0  0  0  ...   \n",
       "3                     mild nonproliferative retinopathy  0  1  0  0  0  ...   \n",
       "4                moderate non proliferative retinopathy  0  1  0  0  0  ...   \n",
       "...                                                 ... .. .. .. .. ..  ...   \n",
       "6387                 proliferative diabetic retinopathy  0  1  0  0  0  ...   \n",
       "6388             moderate non proliferative retinopathy  0  1  0  0  0  ...   \n",
       "6389                                      normal fundus  0  1  0  0  0  ...   \n",
       "6390                  mild nonproliferative retinopathy  0  1  0  0  0  ...   \n",
       "6391  hypertensive retinopathy，age-related macular d...  0  0  0  0  1  ...   \n",
       "\n",
       "      Right-Diagnostic Keywords_vitreous degeneration  \\\n",
       "0                                                   0   \n",
       "1                                                   0   \n",
       "2                                                   0   \n",
       "3                                                   0   \n",
       "4                                                   0   \n",
       "...                                               ...   \n",
       "6387                                                0   \n",
       "6388                                                0   \n",
       "6389                                                0   \n",
       "6390                                                0   \n",
       "6391                                                0   \n",
       "\n",
       "      Right-Diagnostic Keywords_vitreous degeneration，lens dust  \\\n",
       "0                                                     0           \n",
       "1                                                     0           \n",
       "2                                                     0           \n",
       "3                                                     0           \n",
       "4                                                     0           \n",
       "...                                                 ...           \n",
       "6387                                                  0           \n",
       "6388                                                  0           \n",
       "6389                                                  0           \n",
       "6390                                                  0           \n",
       "6391                                                  0           \n",
       "\n",
       "      Right-Diagnostic Keywords_vitreous degeneration，mild nonproliferative retinopathy  \\\n",
       "0                                                     0                                   \n",
       "1                                                     0                                   \n",
       "2                                                     0                                   \n",
       "3                                                     0                                   \n",
       "4                                                     0                                   \n",
       "...                                                 ...                                   \n",
       "6387                                                  0                                   \n",
       "6388                                                  0                                   \n",
       "6389                                                  0                                   \n",
       "6390                                                  0                                   \n",
       "6391                                                  0                                   \n",
       "\n",
       "      Right-Diagnostic Keywords_wet age-related macular degeneration  \\\n",
       "0                                                     0                \n",
       "1                                                     0                \n",
       "2                                                     0                \n",
       "3                                                     0                \n",
       "4                                                     0                \n",
       "...                                                 ...                \n",
       "6387                                                  0                \n",
       "6388                                                  0                \n",
       "6389                                                  0                \n",
       "6390                                                  0                \n",
       "6391                                                  0                \n",
       "\n",
       "     Right-Diagnostic Keywords_wet age-related macular degeneration，diabetic retinopathy  \\\n",
       "0                                                     0                                    \n",
       "1                                                     0                                    \n",
       "2                                                     0                                    \n",
       "3                                                     0                                    \n",
       "4                                                     0                                    \n",
       "...                                                 ...                                    \n",
       "6387                                                  0                                    \n",
       "6388                                                  0                                    \n",
       "6389                                                  0                                    \n",
       "6390                                                  0                                    \n",
       "6391                                                  0                                    \n",
       "\n",
       "      Right-Diagnostic Keywords_wet age-related macular degeneration，glaucoma  \\\n",
       "0                                                     0                         \n",
       "1                                                     0                         \n",
       "2                                                     0                         \n",
       "3                                                     0                         \n",
       "4                                                     0                         \n",
       "...                                                 ...                         \n",
       "6387                                                  0                         \n",
       "6388                                                  0                         \n",
       "6389                                                  0                         \n",
       "6390                                                  0                         \n",
       "6391                                                  0                         \n",
       "\n",
       "      Right-Diagnostic Keywords_wet age-related macular degeneration，hypertensive retinopathy  \\\n",
       "0                                                     0                                         \n",
       "1                                                     0                                         \n",
       "2                                                     0                                         \n",
       "3                                                     0                                         \n",
       "4                                                     0                                         \n",
       "...                                                 ...                                         \n",
       "6387                                                  0                                         \n",
       "6388                                                  0                                         \n",
       "6389                                                  0                                         \n",
       "6390                                                  0                                         \n",
       "6391                                                  0                                         \n",
       "\n",
       "      Right-Diagnostic Keywords_white vessel，mild nonproliferative retinopathy  \\\n",
       "0                                                     0                          \n",
       "1                                                     0                          \n",
       "2                                                     0                          \n",
       "3                                                     0                          \n",
       "4                                                     0                          \n",
       "...                                                 ...                          \n",
       "6387                                                  0                          \n",
       "6388                                                  0                          \n",
       "6389                                                  0                          \n",
       "6390                                                  0                          \n",
       "6391                                                  0                          \n",
       "\n",
       "      Right-Diagnostic Keywords_white vessel，moderate non proliferative retinopathy  \\\n",
       "0                                                     0                               \n",
       "1                                                     0                               \n",
       "2                                                     0                               \n",
       "3                                                     0                               \n",
       "4                                                     0                               \n",
       "...                                                 ...                               \n",
       "6387                                                  0                               \n",
       "6388                                                  0                               \n",
       "6389                                                  0                               \n",
       "6390                                                  0                               \n",
       "6391                                                  0                               \n",
       "\n",
       "      Right-Diagnostic Keywords_white vessel，proliferative diabetic retinopathy，suspected microvascular anomalies  \n",
       "0                                                     0                                                            \n",
       "1                                                     0                                                            \n",
       "2                                                     0                                                            \n",
       "3                                                     0                                                            \n",
       "4                                                     0                                                            \n",
       "...                                                 ...                                                            \n",
       "6387                                                  0                                                            \n",
       "6388                                                  0                                                            \n",
       "6389                                                  0                                                            \n",
       "6390                                                  0                                                            \n",
       "6391                                                  0                                                            \n",
       "\n",
       "[6392 rows x 416 columns]"
      ]
     },
     "execution_count": 916,
     "metadata": {},
     "output_type": "execute_result"
    }
   ],
   "source": [
    "diag_dum = pd.get_dummies(data_rel[['Left-Diagnostic Keywords','Right-Diagnostic Keywords']])\n",
    "data_rel_2 = pd.concat([data_rel.copy(),diag_dum], axis = 1)\n",
    "data_rel_2"
   ]
  },
  {
   "cell_type": "markdown",
   "metadata": {},
   "source": [
    "## Tree model and accuracy - fourth conclusion\n",
    "We created a function that will create a classifier tree for any \"label\" that we will select. We chose as features the 'Patient Age','Patient Sex','Left-Diagnostic Keywords', 'Right-Diagnostic Keywords' columns and the target will be one of the lettered columns.\n",
    "We did so in order to see the accuracy that we got for the prediction that the trained human readers with quality control management did. We saw we got a very high accuracy compatible to the classification that the trained humans did.\n",
    "from that we can assume, that there pradiction the they made from the diagnosis was reliable."
   ]
  },
  {
   "cell_type": "code",
   "execution_count": 917,
   "metadata": {},
   "outputs": [
    {
     "name": "stderr",
     "output_type": "stream",
     "text": [
      "C:\\Users\\barmi\\anaconda\\lib\\site-packages\\matplotlib\\backends\\backend_agg.py:214: RuntimeWarning: Glyph 65292 missing from current font.\n",
      "  font.set_text(s, 0.0, flags=flags)\n",
      "C:\\Users\\barmi\\anaconda\\lib\\site-packages\\matplotlib\\backends\\backend_agg.py:183: RuntimeWarning: Glyph 65292 missing from current font.\n",
      "  font.set_text(s, 0, flags=flags)\n"
     ]
    },
    {
     "data": {
      "image/png": "[encoded data removed]",
      "text/plain": [
       "<Figure size 1080x720 with 1 Axes>"
      ]
     },
     "metadata": {},
     "output_type": "display_data"
    },
    {
     "data": {
      "text/plain": [
       "('Acc for the ', ['N'], 'column is:', 0.9989572471324296)"
      ]
     },
     "execution_count": 917,
     "metadata": {},
     "output_type": "execute_result"
    }
   ],
   "source": [
    "def train_model(label):\n",
    "    features = ['Patient Age','Patient Sex']\n",
    "    features += [x for x in data_rel_2.columns if \"Diagnostic Keywords_\" in x]\n",
    "    X = data_rel_2[features]\n",
    "    y = data_rel_2[label]\n",
    "    X_train, X_test, y_train, y_test = sk.model_selection.train_test_split(X, y, test_size=0.3, random_state=1)\n",
    "    model = sk.tree.DecisionTreeClassifier(criterion=\"gini\", max_depth=12, random_state=1)\n",
    "    model.fit(X_train,y_train)\n",
    "    prediction = model.predict(X_test)\n",
    "    fig = plt.figure(figsize=(15,10))\n",
    "    tree.plot_tree(model, \n",
    "                   feature_names = features, \n",
    "                   filled=True, \n",
    "                   rounded = True)  \n",
    "    plt.show()\n",
    "    return  \"Acc for the \", label, \"column is:\" ,sk.metrics.accuracy_score(prediction, y_test)\n",
    "\n",
    "def accuracy_1(label):\n",
    "    features = ['Patient Age','Patient Sex']\n",
    "    features += [x for x in data_rel_2.columns if \"Diagnostic Keywords_\" in x]\n",
    "    X = data_rel_2[features]\n",
    "    y = data_rel_2[label]\n",
    "    X_train, X_test, y_train, y_test = sk.model_selection.train_test_split(X, y, test_size=0.3, random_state=1)\n",
    "    model = sk.tree.DecisionTreeClassifier(criterion=\"gini\", max_depth=12, random_state=1)\n",
    "    model.fit(X_train,y_train)\n",
    "    prediction = model.predict(X_test)   \n",
    "    return  \"Acc for the \", label, \"column is:\" ,sk.metrics.accuracy_score(prediction, y_test) \n",
    "\n",
    "train_model([\"N\"])\n"
   ]
  },
  {
   "cell_type": "code",
   "execution_count": 918,
   "metadata": {},
   "outputs": [
    {
     "name": "stdout",
     "output_type": "stream",
     "text": [
      "('Acc for the ', ['H'], 'column is:', 0.9989572471324296)\n",
      "('Acc for the ', ['G'], 'column is:', 0.9895724713242962)\n",
      "('Acc for the ', ['C'], 'column is:', 0.9968717413972888)\n",
      "('Acc for the ', ['A'], 'column is:', 0.9968717413972888)\n",
      "('Acc for the ', ['M'], 'column is:', 0.9994786235662148)\n",
      "('Acc for the ', ['O'], 'column is:', 0.8967674661105318)\n",
      "('Acc for the ', ['D'], 'column is:', 0.9530761209593326)\n"
     ]
    }
   ],
   "source": [
    "print(accuracy_1([\"H\"]))\n",
    "print(accuracy_1([\"G\"]))\n",
    "print(accuracy_1([\"C\"]))\n",
    "print(accuracy_1([\"A\"]))\n",
    "print(accuracy_1([\"M\"]))\n",
    "print(accuracy_1([\"O\"]))\n",
    "print(accuracy_1([\"D\"]))"
   ]
  }
 ],
 "metadata": {
  "kernelspec": {
   "display_name": "Python 3",
   "language": "python",
   "name": "python3"
  },
  "language_info": {
   "codemirror_mode": {
    "name": "ipython",
    "version": 3
   },
   "file_extension": ".py",
   "mimetype": "text/x-python",
   "name": "python",
   "nbconvert_exporter": "python",
   "pygments_lexer": "ipython3",
   "version": "3.8.5"
  }
 },
 "nbformat": 4,
 "nbformat_minor": 4
}
