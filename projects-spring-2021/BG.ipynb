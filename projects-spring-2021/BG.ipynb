{
 "cells": [
  {
   "cell_type": "code",
   "execution_count": 192,
   "metadata": {},
   "outputs": [
    {
     "data": {
      "text/html": [
       "<div>\n",
       "<style scoped>\n",
       "    .dataframe tbody tr th:only-of-type {\n",
       "        vertical-align: middle;\n",
       "    }\n",
       "\n",
       "    .dataframe tbody tr th {\n",
       "        vertical-align: top;\n",
       "    }\n",
       "\n",
       "    .dataframe thead th {\n",
       "        text-align: right;\n",
       "    }\n",
       "</style>\n",
       "<table border=\"1\" class=\"dataframe\">\n",
       "  <thead>\n",
       "    <tr style=\"text-align: right;\">\n",
       "      <th></th>\n",
       "      <th>ID</th>\n",
       "      <th>YEAR</th>\n",
       "      <th>MONTH</th>\n",
       "      <th>DAY</th>\n",
       "      <th>DAY_OF_WEEK</th>\n",
       "      <th>AIRLINE</th>\n",
       "      <th>FLIGHT_NUMBER</th>\n",
       "      <th>TAIL_NUMBER</th>\n",
       "      <th>ORIGIN_AIRPORT</th>\n",
       "      <th>DESTINATION_AIRPORT</th>\n",
       "      <th>SCHEDULED_DEPARTURE</th>\n",
       "      <th>DEPARTURE_TIME</th>\n",
       "      <th>DEPARTURE_DELAY</th>\n",
       "      <th>TAXI_OUT</th>\n",
       "      <th>WHEELS_OFF</th>\n",
       "      <th>SCHEDULED_TIME</th>\n",
       "      <th>AIR_TIME</th>\n",
       "      <th>DISTANCE</th>\n",
       "      <th>SCHEDULED_ARRIVAL</th>\n",
       "    </tr>\n",
       "  </thead>\n",
       "  <tbody>\n",
       "    <tr>\n",
       "      <th>0</th>\n",
       "      <td>538600</td>\n",
       "      <td>2021</td>\n",
       "      <td>5</td>\n",
       "      <td>18</td>\n",
       "      <td>1</td>\n",
       "      <td>OO</td>\n",
       "      <td>2898</td>\n",
       "      <td>N866AS</td>\n",
       "      <td>LAX</td>\n",
       "      <td>SMF</td>\n",
       "      <td>1030</td>\n",
       "      <td>1027</td>\n",
       "      <td>-3.0</td>\n",
       "      <td>18</td>\n",
       "      <td>1045</td>\n",
       "      <td>86.0</td>\n",
       "      <td>63.0</td>\n",
       "      <td>373</td>\n",
       "      <td>1156</td>\n",
       "    </tr>\n",
       "    <tr>\n",
       "      <th>1</th>\n",
       "      <td>4490363</td>\n",
       "      <td>2021</td>\n",
       "      <td>3</td>\n",
       "      <td>31</td>\n",
       "      <td>2</td>\n",
       "      <td>DL</td>\n",
       "      <td>228</td>\n",
       "      <td>N945DL</td>\n",
       "      <td>MCO</td>\n",
       "      <td>CVG</td>\n",
       "      <td>1321</td>\n",
       "      <td>1315</td>\n",
       "      <td>-6.0</td>\n",
       "      <td>10</td>\n",
       "      <td>1325</td>\n",
       "      <td>129.0</td>\n",
       "      <td>119.0</td>\n",
       "      <td>757</td>\n",
       "      <td>1530</td>\n",
       "    </tr>\n",
       "    <tr>\n",
       "      <th>2</th>\n",
       "      <td>1735082</td>\n",
       "      <td>2021</td>\n",
       "      <td>6</td>\n",
       "      <td>23</td>\n",
       "      <td>2</td>\n",
       "      <td>DL</td>\n",
       "      <td>1812</td>\n",
       "      <td>N955DN</td>\n",
       "      <td>ATL</td>\n",
       "      <td>ORD</td>\n",
       "      <td>2205</td>\n",
       "      <td>2210</td>\n",
       "      <td>5.0</td>\n",
       "      <td>19</td>\n",
       "      <td>2229</td>\n",
       "      <td>123.0</td>\n",
       "      <td>89.0</td>\n",
       "      <td>606</td>\n",
       "      <td>2308</td>\n",
       "    </tr>\n",
       "    <tr>\n",
       "      <th>3</th>\n",
       "      <td>3038666</td>\n",
       "      <td>2021</td>\n",
       "      <td>11</td>\n",
       "      <td>20</td>\n",
       "      <td>5</td>\n",
       "      <td>EV</td>\n",
       "      <td>4869</td>\n",
       "      <td>N738EV</td>\n",
       "      <td>DTW</td>\n",
       "      <td>TVC</td>\n",
       "      <td>1200</td>\n",
       "      <td>1156</td>\n",
       "      <td>-4.0</td>\n",
       "      <td>12</td>\n",
       "      <td>1208</td>\n",
       "      <td>67.0</td>\n",
       "      <td>43.0</td>\n",
       "      <td>207</td>\n",
       "      <td>1307</td>\n",
       "    </tr>\n",
       "    <tr>\n",
       "      <th>4</th>\n",
       "      <td>636474</td>\n",
       "      <td>2021</td>\n",
       "      <td>3</td>\n",
       "      <td>4</td>\n",
       "      <td>3</td>\n",
       "      <td>UA</td>\n",
       "      <td>283</td>\n",
       "      <td>N549UA</td>\n",
       "      <td>SFO</td>\n",
       "      <td>IAH</td>\n",
       "      <td>601</td>\n",
       "      <td>557</td>\n",
       "      <td>-4.0</td>\n",
       "      <td>15</td>\n",
       "      <td>612</td>\n",
       "      <td>223.0</td>\n",
       "      <td>196.0</td>\n",
       "      <td>1635</td>\n",
       "      <td>1144</td>\n",
       "    </tr>\n",
       "  </tbody>\n",
       "</table>\n",
       "</div>"
      ],
      "text/plain": [
       "        ID  YEAR  MONTH  DAY  DAY_OF_WEEK AIRLINE  FLIGHT_NUMBER TAIL_NUMBER  \\\n",
       "0   538600  2021      5   18            1      OO           2898      N866AS   \n",
       "1  4490363  2021      3   31            2      DL            228      N945DL   \n",
       "2  1735082  2021      6   23            2      DL           1812      N955DN   \n",
       "3  3038666  2021     11   20            5      EV           4869      N738EV   \n",
       "4   636474  2021      3    4            3      UA            283      N549UA   \n",
       "\n",
       "  ORIGIN_AIRPORT DESTINATION_AIRPORT  SCHEDULED_DEPARTURE  DEPARTURE_TIME  \\\n",
       "0            LAX                 SMF                 1030            1027   \n",
       "1            MCO                 CVG                 1321            1315   \n",
       "2            ATL                 ORD                 2205            2210   \n",
       "3            DTW                 TVC                 1200            1156   \n",
       "4            SFO                 IAH                  601             557   \n",
       "\n",
       "   DEPARTURE_DELAY  TAXI_OUT  WHEELS_OFF  SCHEDULED_TIME  AIR_TIME  DISTANCE  \\\n",
       "0             -3.0        18        1045            86.0      63.0       373   \n",
       "1             -6.0        10        1325           129.0     119.0       757   \n",
       "2              5.0        19        2229           123.0      89.0       606   \n",
       "3             -4.0        12        1208            67.0      43.0       207   \n",
       "4             -4.0        15         612           223.0     196.0      1635   \n",
       "\n",
       "   SCHEDULED_ARRIVAL  \n",
       "0               1156  \n",
       "1               1530  \n",
       "2               2308  \n",
       "3               1307  \n",
       "4               1144  "
      ]
     },
     "execution_count": 192,
     "metadata": {},
     "output_type": "execute_result"
    }
   ],
   "source": [
    "import pandas as pd\n",
    "import numpy as np\n",
    "import matplotlib.pyplot as plt\n",
    "import sklearn as sk\n",
    "from sklearn import tree\n",
    "from sklearn.tree import DecisionTreeRegressor\n",
    "from sklearn.model_selection import train_test_split\n",
    "from sklearn.metrics import mean_squared_error\n",
    "\n",
    "url = 'https://raw.githubusercontent.com/kabhamajd/Course_assignment/main/Book1.csv'\n",
    "Adata= pd.read_csv(url)\n",
    "Adata.drop(['CANCELLATION_REASON', 'CANCELLED' , 'DIVERTED'], axis=1, inplace=True)\n",
    "Adata.head(5)\n"
   ]
  },
  {
   "cell_type": "markdown",
   "metadata": {},
   "source": [
    "# הבאנו את הספריות שנצטרך וגם מחקנו שלוש עמודות מכיוון שהן אינן מכילות ערכים כלשהם בנתונים המקוריים, כך שלא היה צורך בהן מכיוון שאין להן השפעה על התוצאות. בנוסף, הצגנו חמש שורות הנתונים הראשונות.\n",
    "* FLIGHT_NUMBER=מספר טיסה\n",
    "* TAIL_NUMBER=מספר רישום המטוס\n",
    "* ORIGIN_AIRPORT=שדה תעופה תחיל תטיסה\n",
    "* DESTINATION_AIRPORT=שדה תעופה של הגעה\n",
    "* SCHEDULED_DEPARTURE=זמן היציאה המדויק\n",
    "* DEPARTURE_TIME=זמן היציאה בפועל\n",
    "* DEPARTURE_DELAY=זמן האיחור\n",
    "* TAXI_OUT=הזמן בו המטוס נע על הקרקע\n",
    "* WHEELS_OFF=זמן התחלת הרחִיפה\n",
    "* SCHEDULED_TIME=זמן הטיסה המדויק\n",
    "* AIR_TIME=זמן טיסה \n",
    "* SCHEDULED_ARRIVAL=זמו גישה המדויק"
   ]
  },
  {
   "cell_type": "code",
   "execution_count": 14,
   "metadata": {},
   "outputs": [
    {
     "data": {
      "text/plain": [
       "ID                       int64\n",
       "YEAR                     int64\n",
       "MONTH                    int64\n",
       "DAY                      int64\n",
       "DAY_OF_WEEK              int64\n",
       "AIRLINE                 object\n",
       "FLIGHT_NUMBER            int64\n",
       "TAIL_NUMBER             object\n",
       "ORIGIN_AIRPORT          object\n",
       "DESTINATION_AIRPORT     object\n",
       "SCHEDULED_DEPARTURE      int64\n",
       "DEPARTURE_TIME           int64\n",
       "DEPARTURE_DELAY        float64\n",
       "TAXI_OUT                 int64\n",
       "WHEELS_OFF               int64\n",
       "SCHEDULED_TIME         float64\n",
       "AIR_TIME               float64\n",
       "DISTANCE                 int64\n",
       "SCHEDULED_ARRIVAL        int64\n",
       "dtype: object"
      ]
     },
     "execution_count": 14,
     "metadata": {},
     "output_type": "execute_result"
    }
   ],
   "source": [
    "Adata.dtypes"
   ]
  },
  {
   "cell_type": "markdown",
   "metadata": {},
   "source": [
    "# סוג הנתונים בכל העמודות"
   ]
  },
  {
   "cell_type": "code",
   "execution_count": 15,
   "metadata": {},
   "outputs": [],
   "source": [
    "data=Adata.dropna()"
   ]
  },
  {
   "cell_type": "markdown",
   "metadata": {},
   "source": [
    "# מחיקת את השורות עם נתונים חסרים כך שהתוצאות יהיו מדויקות"
   ]
  },
  {
   "cell_type": "code",
   "execution_count": 16,
   "metadata": {},
   "outputs": [
    {
     "data": {
      "text/plain": [
       "ID                     0\n",
       "YEAR                   0\n",
       "MONTH                  0\n",
       "DAY                    0\n",
       "DAY_OF_WEEK            0\n",
       "AIRLINE                0\n",
       "FLIGHT_NUMBER          0\n",
       "TAIL_NUMBER            0\n",
       "ORIGIN_AIRPORT         0\n",
       "DESTINATION_AIRPORT    0\n",
       "SCHEDULED_DEPARTURE    0\n",
       "DEPARTURE_TIME         0\n",
       "DEPARTURE_DELAY        0\n",
       "TAXI_OUT               0\n",
       "WHEELS_OFF             0\n",
       "SCHEDULED_TIME         0\n",
       "AIR_TIME               0\n",
       "DISTANCE               0\n",
       "SCHEDULED_ARRIVAL      0\n",
       "dtype: int64"
      ]
     },
     "execution_count": 16,
     "metadata": {},
     "output_type": "execute_result"
    }
   ],
   "source": [
    "data_missing_values = pd.isnull(data)\n",
    "data.isnull().sum()\n",
    "pd.isnull(data).sum()"
   ]
  },
  {
   "cell_type": "markdown",
   "metadata": {},
   "source": [
    "# מספר השורות המכילות נתונים חסרים בכל עמודה"
   ]
  },
  {
   "cell_type": "code",
   "execution_count": 17,
   "metadata": {},
   "outputs": [
    {
     "name": "stdout",
     "output_type": "stream",
     "text": [
      "Number of Rows: 19999\n",
      "Number of Columns: 19\n"
     ]
    }
   ],
   "source": [
    "rows_number = len(data.axes[0])\n",
    "columsn_number = len(data.axes[1])\n",
    "print(\"Number of Rows: \" + str(rows_number))\n",
    "print(\"Number of Columns: \" + str(columsn_number))"
   ]
  },
  {
   "cell_type": "markdown",
   "metadata": {},
   "source": [
    "מספר השורות והעמודות"
   ]
  },
  {
   "cell_type": "code",
   "execution_count": 18,
   "metadata": {},
   "outputs": [
    {
     "name": "stdout",
     "output_type": "stream",
     "text": [
      "Max Distance (in kilometer) :  4983\n"
     ]
    }
   ],
   "source": [
    "print(\"Max Distance (in kilometer) : \" , data['DISTANCE'].max())"
   ]
  },
  {
   "cell_type": "code",
   "execution_count": 66,
   "metadata": {},
   "outputs": [
    {
     "name": "stdout",
     "output_type": "stream",
     "text": [
      "Min Distance (in kilometer) :  41\n"
     ]
    }
   ],
   "source": [
    "print(\"Min Distance (in kilometer) : \" , data['DISTANCE'].min())"
   ]
  },
  {
   "cell_type": "code",
   "execution_count": 20,
   "metadata": {},
   "outputs": [
    {
     "name": "stdout",
     "output_type": "stream",
     "text": [
      "Mean Distance (in kilometer) :  823.5823791189559\n"
     ]
    }
   ],
   "source": [
    "print(\"Mean Distance (in kilometer) : \" , data['DISTANCE'].mean())"
   ]
  },
  {
   "cell_type": "code",
   "execution_count": 21,
   "metadata": {},
   "outputs": [
    {
     "name": "stdout",
     "output_type": "stream",
     "text": [
      "Max Air Time ( in houers):  10.6\n"
     ]
    }
   ],
   "source": [
    "data1=(data['AIR_TIME'].max())/60\n",
    "print(\"Max Air Time ( in houers): \" , data1)"
   ]
  },
  {
   "cell_type": "code",
   "execution_count": 247,
   "metadata": {},
   "outputs": [
    {
     "data": {
      "text/plain": [
       "MONTH                12.0\n",
       "DEPARTURE_DELAY    1106.0\n",
       "TAXI_OUT            129.0\n",
       "AIR_TIME            636.0\n",
       "DISTANCE           4983.0\n",
       "SCHEDULED_TIME      640.0\n",
       "dtype: float64"
      ]
     },
     "execution_count": 247,
     "metadata": {},
     "output_type": "execute_result"
    }
   ],
   "source": [
    "data2=data[['MONTH','DEPARTURE_DELAY', 'TAXI_OUT' , 'AIR_TIME' , 'DISTANCE' , 'SCHEDULED_TIME']] \n",
    "\n",
    "data2.max()\n"
   ]
  },
  {
   "cell_type": "markdown",
   "metadata": {},
   "source": [
    "# הצגת הערך הגדול ביותר בכל עמודה"
   ]
  },
  {
   "cell_type": "code",
   "execution_count": 253,
   "metadata": {},
   "outputs": [
    {
     "data": {
      "text/html": [
       "<div>\n",
       "<style scoped>\n",
       "    .dataframe tbody tr th:only-of-type {\n",
       "        vertical-align: middle;\n",
       "    }\n",
       "\n",
       "    .dataframe tbody tr th {\n",
       "        vertical-align: top;\n",
       "    }\n",
       "\n",
       "    .dataframe thead th {\n",
       "        text-align: right;\n",
       "    }\n",
       "</style>\n",
       "<table border=\"1\" class=\"dataframe\">\n",
       "  <thead>\n",
       "    <tr style=\"text-align: right;\">\n",
       "      <th></th>\n",
       "      <th>AIRPLANE_SPEED</th>\n",
       "    </tr>\n",
       "    <tr>\n",
       "      <th>AIRLINE</th>\n",
       "      <th></th>\n",
       "    </tr>\n",
       "  </thead>\n",
       "  <tbody>\n",
       "    <tr>\n",
       "      <th>F9</th>\n",
       "      <td>447.236217</td>\n",
       "    </tr>\n",
       "    <tr>\n",
       "      <th>UA</th>\n",
       "      <td>447.038310</td>\n",
       "    </tr>\n",
       "    <tr>\n",
       "      <th>VX</th>\n",
       "      <td>439.782221</td>\n",
       "    </tr>\n",
       "    <tr>\n",
       "      <th>NK</th>\n",
       "      <td>436.097514</td>\n",
       "    </tr>\n",
       "    <tr>\n",
       "      <th>AS</th>\n",
       "      <td>435.503246</td>\n",
       "    </tr>\n",
       "    <tr>\n",
       "      <th>AA</th>\n",
       "      <td>427.989664</td>\n",
       "    </tr>\n",
       "    <tr>\n",
       "      <th>B6</th>\n",
       "      <td>421.862989</td>\n",
       "    </tr>\n",
       "    <tr>\n",
       "      <th>DL</th>\n",
       "      <td>419.241008</td>\n",
       "    </tr>\n",
       "    <tr>\n",
       "      <th>WN</th>\n",
       "      <td>414.513563</td>\n",
       "    </tr>\n",
       "    <tr>\n",
       "      <th>US</th>\n",
       "      <td>410.140604</td>\n",
       "    </tr>\n",
       "    <tr>\n",
       "      <th>OO</th>\n",
       "      <td>367.938138</td>\n",
       "    </tr>\n",
       "    <tr>\n",
       "      <th>EV</th>\n",
       "      <td>362.332684</td>\n",
       "    </tr>\n",
       "    <tr>\n",
       "      <th>MQ</th>\n",
       "      <td>360.414054</td>\n",
       "    </tr>\n",
       "    <tr>\n",
       "      <th>HA</th>\n",
       "      <td>336.097365</td>\n",
       "    </tr>\n",
       "  </tbody>\n",
       "</table>\n",
       "</div>"
      ],
      "text/plain": [
       "         AIRPLANE_SPEED\n",
       "AIRLINE                \n",
       "F9           447.236217\n",
       "UA           447.038310\n",
       "VX           439.782221\n",
       "NK           436.097514\n",
       "AS           435.503246\n",
       "AA           427.989664\n",
       "B6           421.862989\n",
       "DL           419.241008\n",
       "WN           414.513563\n",
       "US           410.140604\n",
       "OO           367.938138\n",
       "EV           362.332684\n",
       "MQ           360.414054\n",
       "HA           336.097365"
      ]
     },
     "execution_count": 253,
     "metadata": {},
     "output_type": "execute_result"
    }
   ],
   "source": [
    "import matplotlib.pyplot as plt\n",
    "\n",
    "speed=(data['DISTANCE']/data['AIR_TIME'])*60\n",
    "data['AIRPLANE_SPEED'] =speed\n",
    "\n",
    "AIRLIN_MEAN_SPEED= data.groupby('AIRLINE')[['AIRPLANE_SPEED' ]].mean().sort_values(by='AIRPLANE_SPEED', ascending=False)\n",
    "\n",
    "AIRLIN_MEAN_SPEED\n"
   ]
  },
  {
   "cell_type": "markdown",
   "metadata": {},
   "source": [
    " # חישבנו את המהירות על ידי חלוקת המרחק לפי זמן ומכיוון שהזמן היה בדקות, הכפלנו את התוצאה בשישים \n",
    " # חישבנו את המהירות הממוצעת עבור כל חברת תעופה\n",
    "# Frontier Airlines מכאן נראה שחברה\n",
    "# יש להם המטוסים המהירות ביותר, ואנחנו יכולים להסיק מכך שהיא בעלת המטוסים החדשים ביותר"
   ]
  },
  {
   "cell_type": "code",
   "execution_count": 288,
   "metadata": {},
   "outputs": [
    {
     "data": {
      "text/plain": [
       "<AxesSubplot:xlabel='AIRLINE'>"
      ]
     },
     "execution_count": 288,
     "metadata": {},
     "output_type": "execute_result"
    },
    {
     "data": {
      "image/png": "[encoded data removed]",
      "text/plain": [
       "<Figure size 432x288 with 1 Axes>"
      ]
     },
     "metadata": {
      "needs_background": "light"
     },
     "output_type": "display_data"
    }
   ],
   "source": [
    "AIRLIN_MEAN_SPEED.plot(kind=\"bar\", ylim=(300,500) , fontsize=13 , color = \"aqua\")\n"
   ]
  },
  {
   "cell_type": "code",
   "execution_count": 274,
   "metadata": {},
   "outputs": [
    {
     "data": {
      "text/plain": [
       "<AxesSubplot:ylabel='AIRLINE'>"
      ]
     },
     "execution_count": 274,
     "metadata": {},
     "output_type": "execute_result"
    },
    {
     "data": {
      "image/png": "[encoded data removed]",
      "text/plain": [
       "<Figure size 432x288 with 1 Axes>"
      ]
     },
     "metadata": {
      "needs_background": "light"
     },
     "output_type": "display_data"
    }
   ],
   "source": [
    "FLYING_TIME=(data['AIR_TIME']/60)\n",
    "data['FLYING_TIME'] =FLYING_TIME\n",
    "data.head(5)\n",
    "FLIYUNG_TIME_A = data.groupby('AIRLINE')[['FLYING_TIME']].sum()\n",
    "FLIYUNG_TIME_A.plot(kind=\"barh\", fontsize=13 , color = \"teal\")"
   ]
  },
  {
   "cell_type": "markdown",
   "metadata": {},
   "source": [
    "# חישבנו את מספר שעות הטיסה עבור כל חברה וחילקנו אותה ב 60 מכיוון ש ב הנתונים זמן הטיסה נרשם בדקות וזה לא רלוונטי לנו\n",
    "# Southwest Airlines\n",
    "# The biggest flight time"
   ]
  },
  {
   "cell_type": "code",
   "execution_count": 282,
   "metadata": {},
   "outputs": [
    {
     "data": {
      "text/plain": [
       "Text(0.5, 1.0, 'Number of flights')"
      ]
     },
     "execution_count": 282,
     "metadata": {},
     "output_type": "execute_result"
    },
    {
     "data": {
      "image/png": "[encoded data removed]",
      "text/plain": [
       "<Figure size 432x288 with 1 Axes>"
      ]
     },
     "metadata": {
      "needs_background": "light"
     },
     "output_type": "display_data"
    }
   ],
   "source": [
    "fm_df = pd.get_dummies(data['AIRLINE'])\n",
    "a=fm_df.sum().sort_index()\n",
    "a.plot(kind=\"barh\", fontsize=13 , color = \"crimson\")\n",
    "plt.title('Number of flights')"
   ]
  },
  {
   "cell_type": "markdown",
   "metadata": {},
   "source": [
    "# התרשים מציג את מספר הטיסות לכל חברה\n",
    "# אנו רואים שיש עקביות בתוצאות, מכיוון שזו חברת התעופה שיש לה הכי הרבה שעות טיסה והיא זו עם מספר הטיסות הגדול ביותר"
   ]
  },
  {
   "cell_type": "code",
   "execution_count": 174,
   "metadata": {},
   "outputs": [
    {
     "data": {
      "text/html": [
       "<div>\n",
       "<style scoped>\n",
       "    .dataframe tbody tr th:only-of-type {\n",
       "        vertical-align: middle;\n",
       "    }\n",
       "\n",
       "    .dataframe tbody tr th {\n",
       "        vertical-align: top;\n",
       "    }\n",
       "\n",
       "    .dataframe thead th {\n",
       "        text-align: right;\n",
       "    }\n",
       "</style>\n",
       "<table border=\"1\" class=\"dataframe\">\n",
       "  <thead>\n",
       "    <tr style=\"text-align: right;\">\n",
       "      <th></th>\n",
       "      <th>DEPARTURE_DELAY_H</th>\n",
       "    </tr>\n",
       "    <tr>\n",
       "      <th>AIRLINE</th>\n",
       "      <th></th>\n",
       "    </tr>\n",
       "  </thead>\n",
       "  <tbody>\n",
       "    <tr>\n",
       "      <th>WN</th>\n",
       "      <td>748.150000</td>\n",
       "    </tr>\n",
       "    <tr>\n",
       "      <th>UA</th>\n",
       "      <td>426.933333</td>\n",
       "    </tr>\n",
       "    <tr>\n",
       "      <th>AA</th>\n",
       "      <td>422.850000</td>\n",
       "    </tr>\n",
       "    <tr>\n",
       "      <th>DL</th>\n",
       "      <td>328.750000</td>\n",
       "    </tr>\n",
       "    <tr>\n",
       "      <th>OO</th>\n",
       "      <td>269.383333</td>\n",
       "    </tr>\n",
       "    <tr>\n",
       "      <th>EV</th>\n",
       "      <td>264.233333</td>\n",
       "    </tr>\n",
       "    <tr>\n",
       "      <th>MQ</th>\n",
       "      <td>203.916667</td>\n",
       "    </tr>\n",
       "    <tr>\n",
       "      <th>B6</th>\n",
       "      <td>158.350000</td>\n",
       "    </tr>\n",
       "    <tr>\n",
       "      <th>NK</th>\n",
       "      <td>109.483333</td>\n",
       "    </tr>\n",
       "    <tr>\n",
       "      <th>F9</th>\n",
       "      <td>74.500000</td>\n",
       "    </tr>\n",
       "    <tr>\n",
       "      <th>US</th>\n",
       "      <td>65.100000</td>\n",
       "    </tr>\n",
       "    <tr>\n",
       "      <th>VX</th>\n",
       "      <td>44.250000</td>\n",
       "    </tr>\n",
       "    <tr>\n",
       "      <th>HA</th>\n",
       "      <td>3.000000</td>\n",
       "    </tr>\n",
       "    <tr>\n",
       "      <th>AS</th>\n",
       "      <td>-2.366667</td>\n",
       "    </tr>\n",
       "  </tbody>\n",
       "</table>\n",
       "</div>"
      ],
      "text/plain": [
       "         DEPARTURE_DELAY_H\n",
       "AIRLINE                   \n",
       "WN              748.150000\n",
       "UA              426.933333\n",
       "AA              422.850000\n",
       "DL              328.750000\n",
       "OO              269.383333\n",
       "EV              264.233333\n",
       "MQ              203.916667\n",
       "B6              158.350000\n",
       "NK              109.483333\n",
       "F9               74.500000\n",
       "US               65.100000\n",
       "VX               44.250000\n",
       "HA                3.000000\n",
       "AS               -2.366667"
      ]
     },
     "execution_count": 174,
     "metadata": {},
     "output_type": "execute_result"
    }
   ],
   "source": [
    "DELAY=(data['DEPARTURE_DELAY']/60)\n",
    "data['DEPARTURE_DELAY_H'] =DELAY\n",
    "\n",
    "b=data.groupby('AIRLINE')[['DEPARTURE_DELAY_H']].sum()\n",
    "b.sort_values( by=\"DEPARTURE_DELAY_H\", ascending=False)\n",
    "b.plot(kind=\"barh\", fontsize=13 , color = \"lime\")"
   ]
  },
  {
   "cell_type": "markdown",
   "metadata": {},
   "source": [
    "# חישבנו את משך העיכוב הכולל עבור כל טיסה של חברת התעופה\n",
    "# ראוי לציין שזמן העיכוב הגדול של החברה לא הופך אותה לגרועה ביותר, מכיוון שהיא עשתה יותר טיסות ."
   ]
  },
  {
   "cell_type": "code",
   "execution_count": 275,
   "metadata": {},
   "outputs": [
    {
     "data": {
      "text/plain": [
       "<AxesSubplot:ylabel='AIRLINE'>"
      ]
     },
     "execution_count": 275,
     "metadata": {},
     "output_type": "execute_result"
    },
    {
     "data": {
      "image/png": "[encoded data removed]",
      "text/plain": [
       "<Figure size 432x288 with 1 Axes>"
      ]
     },
     "metadata": {
      "needs_background": "light"
     },
     "output_type": "display_data"
    }
   ],
   "source": [
    "b.plot(kind=\"barh\", fontsize=13 , color = \"salmon\")"
   ]
  },
  {
   "cell_type": "markdown",
   "metadata": {},
   "source": [
    "# גרף זמן עיכוב"
   ]
  },
  {
   "cell_type": "code",
   "execution_count": 177,
   "metadata": {},
   "outputs": [
    {
     "data": {
      "text/html": [
       "<div>\n",
       "<style scoped>\n",
       "    .dataframe tbody tr th:only-of-type {\n",
       "        vertical-align: middle;\n",
       "    }\n",
       "\n",
       "    .dataframe tbody tr th {\n",
       "        vertical-align: top;\n",
       "    }\n",
       "\n",
       "    .dataframe thead th {\n",
       "        text-align: right;\n",
       "    }\n",
       "</style>\n",
       "<table border=\"1\" class=\"dataframe\">\n",
       "  <thead>\n",
       "    <tr style=\"text-align: right;\">\n",
       "      <th></th>\n",
       "      <th>TAXI_OUT_H</th>\n",
       "    </tr>\n",
       "    <tr>\n",
       "      <th>ORIGIN_AIRPORT</th>\n",
       "      <th></th>\n",
       "    </tr>\n",
       "  </thead>\n",
       "  <tbody>\n",
       "    <tr>\n",
       "      <th>ATL</th>\n",
       "      <td>344.050000</td>\n",
       "    </tr>\n",
       "    <tr>\n",
       "      <th>ORD</th>\n",
       "      <td>307.416667</td>\n",
       "    </tr>\n",
       "    <tr>\n",
       "      <th>DFW</th>\n",
       "      <td>231.750000</td>\n",
       "    </tr>\n",
       "    <tr>\n",
       "      <th>LAX</th>\n",
       "      <td>193.050000</td>\n",
       "    </tr>\n",
       "    <tr>\n",
       "      <th>DEN</th>\n",
       "      <td>172.583333</td>\n",
       "    </tr>\n",
       "    <tr>\n",
       "      <th>...</th>\n",
       "      <td>...</td>\n",
       "    </tr>\n",
       "    <tr>\n",
       "      <th>WRG</th>\n",
       "      <td>0.100000</td>\n",
       "    </tr>\n",
       "    <tr>\n",
       "      <th>11980</th>\n",
       "      <td>0.100000</td>\n",
       "    </tr>\n",
       "    <tr>\n",
       "      <th>10739</th>\n",
       "      <td>0.083333</td>\n",
       "    </tr>\n",
       "    <tr>\n",
       "      <th>CNY</th>\n",
       "      <td>0.050000</td>\n",
       "    </tr>\n",
       "    <tr>\n",
       "      <th>15024</th>\n",
       "      <td>0.050000</td>\n",
       "    </tr>\n",
       "  </tbody>\n",
       "</table>\n",
       "<p>483 rows × 1 columns</p>\n",
       "</div>"
      ],
      "text/plain": [
       "                TAXI_OUT_H\n",
       "ORIGIN_AIRPORT            \n",
       "ATL             344.050000\n",
       "ORD             307.416667\n",
       "DFW             231.750000\n",
       "LAX             193.050000\n",
       "DEN             172.583333\n",
       "...                    ...\n",
       "WRG               0.100000\n",
       "11980             0.100000\n",
       "10739             0.083333\n",
       "CNY               0.050000\n",
       "15024             0.050000\n",
       "\n",
       "[483 rows x 1 columns]"
      ]
     },
     "execution_count": 177,
     "metadata": {},
     "output_type": "execute_result"
    }
   ],
   "source": [
    "TAXI_OUT=(data['TAXI_OUT']/60)\n",
    "data['TAXI_OUT_H'] =TAXI_OUT\n",
    "\n",
    "c=data.groupby('ORIGIN_AIRPORT')[['TAXI_OUT_H']].sum()\n",
    "c.sort_values( by=\"TAXI_OUT_H\", ascending=False)\n"
   ]
  },
  {
   "cell_type": "markdown",
   "metadata": {},
   "source": [
    "# כפי שהוסבר בעבר, זה הזמן שלוקח מתחילת הטיסה ועד להמראה. ניתן להסביר את הזמן הארוך בכך ששדה התעופה צפוף מאוד או שהמסלול ארוך\n",
    "# ATL=Atlanta Airport\n",
    "# ואכן, כפי שהסקנו, שדה התעופה זה הוא אחד העמוסים בעולם"
   ]
  },
  {
   "cell_type": "code",
   "execution_count": 301,
   "metadata": {},
   "outputs": [
    {
     "data": {
      "text/plain": [
       "1     1664\n",
       "2     1438\n",
       "3     1705\n",
       "4     1631\n",
       "5     1744\n",
       "6     1693\n",
       "7     1794\n",
       "8     1764\n",
       "9     1644\n",
       "10    1709\n",
       "11    1631\n",
       "12    1582\n",
       "dtype: int64"
      ]
     },
     "execution_count": 301,
     "metadata": {},
     "output_type": "execute_result"
    }
   ],
   "source": [
    "fm_df = pd.get_dummies(data['MONTH'])\n",
    "FLIGHT_MONTH=fm_df.sum().sort_index()\n",
    "FLIGHT_MONTH"
   ]
  },
  {
   "cell_type": "markdown",
   "metadata": {},
   "source": [
    "# מספר הטיסות בחודש"
   ]
  },
  {
   "cell_type": "code",
   "execution_count": 300,
   "metadata": {},
   "outputs": [
    {
     "data": {
      "text/plain": [
       "<AxesSubplot:>"
      ]
     },
     "execution_count": 300,
     "metadata": {},
     "output_type": "execute_result"
    },
    {
     "data": {
      "image/png": "[encoded data removed]",
      "text/plain": [
       "<Figure size 432x288 with 1 Axes>"
      ]
     },
     "metadata": {
      "needs_background": "light"
     },
     "output_type": "display_data"
    }
   ],
   "source": [
    "FLIGHT_MONTH.plot(kind=\"barh\", fontsize=13, xlim=(1250,1800) , color = \"gold\")"
   ]
  },
  {
   "cell_type": "markdown",
   "metadata": {},
   "source": [
    "# אנו רואים שמספר הנסיעות הוא הגבוה ביותר בחודש יולי, וזה מוצדק מכיוון שזו תקופת חופשות לאוניברסיטאות ובתי ספר."
   ]
  },
  {
   "cell_type": "code",
   "execution_count": 235,
   "metadata": {},
   "outputs": [],
   "source": [
    "features = [ 'DEPARTURE_DELAY','DISTANCE', 'AIR_TIME']\n",
    "X = data[melbourne_features]\n",
    "y = data['MONTH']\n",
    "\n",
    "X_train, X_test, y_train, y_test = sk.model_selection.train_test_split(X, y, test_size=0.3, random_state=40)\n",
    "\n"
   ]
  },
  {
   "cell_type": "code",
   "execution_count": 236,
   "metadata": {},
   "outputs": [],
   "source": [
    "model = DecisionTreeRegressor(random_state=42)\n",
    "model.fit(X_train,y_train)\n",
    "test=model.predict(X_test.head())\n"
   ]
  },
  {
   "cell_type": "code",
   "execution_count": 237,
   "metadata": {},
   "outputs": [
    {
     "name": "stdout",
     "output_type": "stream",
     "text": [
      "MSE: 4.864\n"
     ]
    }
   ],
   "source": [
    "eval(X_test,y_test,model)"
   ]
  },
  {
   "cell_type": "markdown",
   "metadata": {},
   "source": [
    "# מצאנו את טעות ריבועית ממוצעת והיא קטנה זה אומר הטעויות במודל נמוכות"
   ]
  },
  {
   "cell_type": "code",
   "execution_count": 245,
   "metadata": {},
   "outputs": [
    {
     "data": {
      "text/plain": [
       "0.08933333333333333"
      ]
     },
     "execution_count": 245,
     "metadata": {},
     "output_type": "execute_result"
    }
   ],
   "source": [
    "from sklearn import tree\n",
    "from sklearn.model_selection import train_test_split\n",
    "from sklearn.tree import DecisionTreeRegressor\n",
    "ac= sk.tree.DecisionTreeClassifier(random_state=0)\n",
    "ac.fit(X_train, y_train)\n",
    "pred = ac.predict(X_test)\n",
    "acc = sk.metrics.accuracy_score(pred, y_test)\n",
    "acc    "
   ]
  }
 ],
 "metadata": {
  "kernelspec": {
   "display_name": "Python 3",
   "language": "python",
   "name": "python3"
  },
  "language_info": {
   "codemirror_mode": {
    "name": "ipython",
    "version": 3
   },
   "file_extension": ".py",
   "mimetype": "text/x-python",
   "name": "python",
   "nbconvert_exporter": "python",
   "pygments_lexer": "ipython3",
   "version": "3.8.5"
  }
 },
 "nbformat": 4,
 "nbformat_minor": 4
}
