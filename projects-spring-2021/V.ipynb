{
 "cells": [
  {
   "cell_type": "markdown",
   "metadata": {},
   "source": [
    "# __Final project__:\n",
    "## Introduction to  Data Analytics 2021 "
   ]
  },
  {
   "cell_type": "markdown",
   "metadata": {},
   "source": [
    "---"
   ]
  },
  {
   "cell_type": "markdown",
   "metadata": {},
   "source": [
    "### Presented by Talya Kapri , Noa Malihi, Shneor Yom Tov and Shalom Schwartz :)"
   ]
  },
  {
   "cell_type": "markdown",
   "metadata": {},
   "source": [
    "                 "
   ]
  },
  {
   "cell_type": "markdown",
   "metadata": {},
   "source": [
    "## In our project we will be analyzing  Salary Data:"
   ]
  },
  {
   "cell_type": "code",
   "execution_count": 1,
   "metadata": {},
   "outputs": [
    {
     "name": "stdout",
     "output_type": "stream",
     "text": [
      "Collecting seaborn\n",
      "  Downloading seaborn-0.11.1-py3-none-any.whl (285 kB)\n",
      "Requirement already satisfied, skipping upgrade: numpy>=1.15 in c:\\users\\lihi\\anaconda3\\lib\\site-packages (from seaborn) (1.19.2)\n",
      "Requirement already satisfied, skipping upgrade: pandas>=0.23 in c:\\users\\lihi\\anaconda3\\lib\\site-packages (from seaborn) (1.1.3)\n",
      "Requirement already satisfied, skipping upgrade: matplotlib>=2.2 in c:\\users\\lihi\\anaconda3\\lib\\site-packages (from seaborn) (3.3.2)\n",
      "Requirement already satisfied, skipping upgrade: scipy>=1.0 in c:\\users\\lihi\\anaconda3\\lib\\site-packages (from seaborn) (1.5.2)\n",
      "Requirement already satisfied, skipping upgrade: python-dateutil>=2.7.3 in c:\\users\\lihi\\anaconda3\\lib\\site-packages (from pandas>=0.23->seaborn) (2.8.1)\n",
      "Requirement already satisfied, skipping upgrade: pytz>=2017.2 in c:\\users\\lihi\\anaconda3\\lib\\site-packages (from pandas>=0.23->seaborn) (2020.1)\n",
      "Requirement already satisfied, skipping upgrade: pyparsing!=2.0.4,!=2.1.2,!=2.1.6,>=2.0.3 in c:\\users\\lihi\\anaconda3\\lib\\site-packages (from matplotlib>=2.2->seaborn) (2.4.7)\n",
      "Requirement already satisfied, skipping upgrade: pillow>=6.2.0 in c:\\users\\lihi\\anaconda3\\lib\\site-packages (from matplotlib>=2.2->seaborn) (8.0.1)\n",
      "Requirement already satisfied, skipping upgrade: certifi>=2020.06.20 in c:\\users\\lihi\\anaconda3\\lib\\site-packages (from matplotlib>=2.2->seaborn) (2020.6.20)\n",
      "Requirement already satisfied, skipping upgrade: cycler>=0.10 in c:\\users\\lihi\\anaconda3\\lib\\site-packages (from matplotlib>=2.2->seaborn) (0.10.0)\n",
      "Requirement already satisfied, skipping upgrade: kiwisolver>=1.0.1 in c:\\users\\lihi\\anaconda3\\lib\\site-packages (from matplotlib>=2.2->seaborn) (1.3.0)\n",
      "Requirement already satisfied, skipping upgrade: six>=1.5 in c:\\users\\lihi\\anaconda3\\lib\\site-packages (from python-dateutil>=2.7.3->pandas>=0.23->seaborn) (1.15.0)\n",
      "Installing collected packages: seaborn\n",
      "  Attempting uninstall: seaborn\n",
      "    Found existing installation: seaborn 0.11.0\n",
      "    Uninstalling seaborn-0.11.0:\n",
      "      Successfully uninstalled seaborn-0.11.0\n",
      "Successfully installed seaborn-0.11.1\n",
      "Note: you may need to restart the kernel to use updated packages.\n"
     ]
    }
   ],
   "source": [
    "pip install -U seaborn"
   ]
  },
  {
   "cell_type": "code",
   "execution_count": 2,
   "metadata": {},
   "outputs": [],
   "source": [
    "import numpy as np\n",
    "import pandas as pd\n",
    "import matplotlib.pyplot as plt\n",
    "import seaborn as sns\n",
    "import sklearn as sk\n",
    "from sklearn import tree\n",
    "from sklearn.ensemble import RandomForestRegressor\n",
    "from sklearn.tree import DecisionTreeRegressor\n",
    "from sklearn.model_selection import train_test_split\n",
    "from sklearn.metrics import mean_squared_error as mse\n"
   ]
  },
  {
   "cell_type": "code",
   "execution_count": 3,
   "metadata": {},
   "outputs": [],
   "source": [
    "url = 'https://raw.githubusercontent.com/shneoryomtov/shneor/main/wage_predict%20(1).csv'"
   ]
  },
  {
   "cell_type": "code",
   "execution_count": 4,
   "metadata": {},
   "outputs": [
    {
     "data": {
      "text/html": [
       "<div>\n",
       "<style scoped>\n",
       "    .dataframe tbody tr th:only-of-type {\n",
       "        vertical-align: middle;\n",
       "    }\n",
       "\n",
       "    .dataframe tbody tr th {\n",
       "        vertical-align: top;\n",
       "    }\n",
       "\n",
       "    .dataframe thead th {\n",
       "        text-align: right;\n",
       "    }\n",
       "</style>\n",
       "<table border=\"1\" class=\"dataframe\">\n",
       "  <thead>\n",
       "    <tr style=\"text-align: right;\">\n",
       "      <th></th>\n",
       "      <th>industry</th>\n",
       "      <th>occupation</th>\n",
       "      <th>yrs_qual</th>\n",
       "      <th>sex</th>\n",
       "      <th>highest_qual</th>\n",
       "      <th>area_of_study</th>\n",
       "      <th>influencing</th>\n",
       "      <th>negotiating</th>\n",
       "      <th>sector</th>\n",
       "      <th>workforce_change</th>\n",
       "      <th>...</th>\n",
       "      <th>advising</th>\n",
       "      <th>instructing</th>\n",
       "      <th>problem_solving_quick</th>\n",
       "      <th>problem_solving_long</th>\n",
       "      <th>labour</th>\n",
       "      <th>manual_skill</th>\n",
       "      <th>computer</th>\n",
       "      <th>group_meetings</th>\n",
       "      <th>computer_level</th>\n",
       "      <th>monthly_salary</th>\n",
       "    </tr>\n",
       "  </thead>\n",
       "  <tbody>\n",
       "    <tr>\n",
       "      <th>0</th>\n",
       "      <td>Q</td>\n",
       "      <td>2</td>\n",
       "      <td>19</td>\n",
       "      <td>1</td>\n",
       "      <td>13</td>\n",
       "      <td>4</td>\n",
       "      <td>2</td>\n",
       "      <td>1</td>\n",
       "      <td>1</td>\n",
       "      <td>3</td>\n",
       "      <td>...</td>\n",
       "      <td>5</td>\n",
       "      <td>4</td>\n",
       "      <td>5</td>\n",
       "      <td>4</td>\n",
       "      <td>4</td>\n",
       "      <td>5</td>\n",
       "      <td>1</td>\n",
       "      <td>1</td>\n",
       "      <td>2</td>\n",
       "      <td>23833.333330</td>\n",
       "    </tr>\n",
       "    <tr>\n",
       "      <th>1</th>\n",
       "      <td>C</td>\n",
       "      <td>9</td>\n",
       "      <td>14</td>\n",
       "      <td>1</td>\n",
       "      <td>11</td>\n",
       "      <td>7</td>\n",
       "      <td>4</td>\n",
       "      <td>2</td>\n",
       "      <td>1</td>\n",
       "      <td>1</td>\n",
       "      <td>...</td>\n",
       "      <td>5</td>\n",
       "      <td>3</td>\n",
       "      <td>5</td>\n",
       "      <td>3</td>\n",
       "      <td>4</td>\n",
       "      <td>5</td>\n",
       "      <td>1</td>\n",
       "      <td>1</td>\n",
       "      <td>1</td>\n",
       "      <td>6583.333333</td>\n",
       "    </tr>\n",
       "    <tr>\n",
       "      <th>2</th>\n",
       "      <td>L</td>\n",
       "      <td>3</td>\n",
       "      <td>16</td>\n",
       "      <td>2</td>\n",
       "      <td>12</td>\n",
       "      <td>4</td>\n",
       "      <td>2</td>\n",
       "      <td>1</td>\n",
       "      <td>1</td>\n",
       "      <td>3</td>\n",
       "      <td>...</td>\n",
       "      <td>3</td>\n",
       "      <td>1</td>\n",
       "      <td>4</td>\n",
       "      <td>2</td>\n",
       "      <td>1</td>\n",
       "      <td>5</td>\n",
       "      <td>1</td>\n",
       "      <td>1</td>\n",
       "      <td>2</td>\n",
       "      <td>433.333333</td>\n",
       "    </tr>\n",
       "    <tr>\n",
       "      <th>3</th>\n",
       "      <td>Q</td>\n",
       "      <td>5</td>\n",
       "      <td>12</td>\n",
       "      <td>2</td>\n",
       "      <td>7</td>\n",
       "      <td>4</td>\n",
       "      <td>5</td>\n",
       "      <td>4</td>\n",
       "      <td>2</td>\n",
       "      <td>1</td>\n",
       "      <td>...</td>\n",
       "      <td>5</td>\n",
       "      <td>2</td>\n",
       "      <td>5</td>\n",
       "      <td>2</td>\n",
       "      <td>5</td>\n",
       "      <td>5</td>\n",
       "      <td>2</td>\n",
       "      <td>1</td>\n",
       "      <td>0</td>\n",
       "      <td>379.000000</td>\n",
       "    </tr>\n",
       "    <tr>\n",
       "      <th>4</th>\n",
       "      <td>P</td>\n",
       "      <td>1</td>\n",
       "      <td>18</td>\n",
       "      <td>1</td>\n",
       "      <td>13</td>\n",
       "      <td>4</td>\n",
       "      <td>3</td>\n",
       "      <td>4</td>\n",
       "      <td>3</td>\n",
       "      <td>3</td>\n",
       "      <td>...</td>\n",
       "      <td>4</td>\n",
       "      <td>2</td>\n",
       "      <td>5</td>\n",
       "      <td>4</td>\n",
       "      <td>1</td>\n",
       "      <td>5</td>\n",
       "      <td>1</td>\n",
       "      <td>2</td>\n",
       "      <td>2</td>\n",
       "      <td>4583.333333</td>\n",
       "    </tr>\n",
       "  </tbody>\n",
       "</table>\n",
       "<p>5 rows × 28 columns</p>\n",
       "</div>"
      ],
      "text/plain": [
       "  industry  occupation  yrs_qual  sex  highest_qual  area_of_study  \\\n",
       "0        Q           2        19    1            13              4   \n",
       "1        C           9        14    1            11              7   \n",
       "2        L           3        16    2            12              4   \n",
       "3        Q           5        12    2             7              4   \n",
       "4        P           1        18    1            13              4   \n",
       "\n",
       "   influencing  negotiating  sector  workforce_change  ...  advising  \\\n",
       "0            2            1       1                 3  ...         5   \n",
       "1            4            2       1                 1  ...         5   \n",
       "2            2            1       1                 3  ...         3   \n",
       "3            5            4       2                 1  ...         5   \n",
       "4            3            4       3                 3  ...         4   \n",
       "\n",
       "   instructing  problem_solving_quick  problem_solving_long  labour  \\\n",
       "0            4                      5                     4       4   \n",
       "1            3                      5                     3       4   \n",
       "2            1                      4                     2       1   \n",
       "3            2                      5                     2       5   \n",
       "4            2                      5                     4       1   \n",
       "\n",
       "   manual_skill  computer  group_meetings  computer_level  monthly_salary  \n",
       "0             5         1               1               2    23833.333330  \n",
       "1             5         1               1               1     6583.333333  \n",
       "2             5         1               1               2      433.333333  \n",
       "3             5         2               1               0      379.000000  \n",
       "4             5         1               2               2     4583.333333  \n",
       "\n",
       "[5 rows x 28 columns]"
      ]
     },
     "execution_count": 4,
     "metadata": {},
     "output_type": "execute_result"
    }
   ],
   "source": [
    "data = pd.read_csv(url)\n",
    "data.head()"
   ]
  },
  {
   "cell_type": "code",
   "execution_count": 5,
   "metadata": {},
   "outputs": [],
   "source": [
    "original_data = data.copy(deep = True)\n",
    "original_data['industry'] = original_data['industry'].astype('category').cat.codes\n",
    "original_data = original_data.drop(columns=['job_quals','highest_qual'])"
   ]
  },
  {
   "cell_type": "markdown",
   "metadata": {},
   "source": [
    "## Wrangling the data:\n",
    "\n",
    "1. Treat weird things your data might have\n",
    "2. Treat column names (if needed)\n",
    "3. Treat data types (if needed)\n",
    "4. Treat missing values (if needed)\n",
    "\n"
   ]
  },
  {
   "cell_type": "code",
   "execution_count": 6,
   "metadata": {},
   "outputs": [],
   "source": [
    "data['industry'] = data['industry'].replace(['A','B',\"C\",\"D\",\"E\",\"F\",\"G\",\"H\",\"I\",\"J\",\"K\",\"L\",\"M\",\"N\",\"O\",\"P\",\"Q\",\"R\",\"S\",\"T\",\"U\"],['Agriculture, forestry and fishing','Mining and quarrying','Manufacturing','Electricity, gas, steam and air conditioning supply','Water supply; sewerage, waste management and remediation activities','Construction','Wholesale and retail trade; repair of motor vehicles and motorcycles','Transportation and storage','Accommodation and food service activities'\n",
    ",'Information and communication','Financial and insurance activities','Real estate activities','High-Tech','Administrative and support service activities','Public administration and defence; compulsory social security','Education','Human health and social work activities','Arts, entertainment and recreation','Other service activities','Activities of households as employers; undifferentiated goods','Activities of extraterritorial organizations and bodies'])\n",
    "data['sex'] = data['sex'].replace([1,2],['Male','Female'])\n",
    "data['computer'] = data['computer'].replace([1,2],['Yes','No'])\n",
    "data['sector'] = data['sector'].replace([1,2,3],['private sector','The public sector','A non-profit organisation'])\n",
    "data = data.rename(columns = {'yrs_qual': 'years_of_study'}, inplace = False)\n",
    "data = data.rename(columns = {'no_subordinates': 'num_employees'}, inplace = False)\n",
    "data['occupation']=data['occupation'].replace([0,1,2,3,4,5,6,7,8,9],[ 'Armed forces','Managers','Professionals','Associate professionals','Clerks','Service workers','Agricultural workers','Craft workers','Machine operators','Elementary occupations'])\n",
    "data['area_of_study'] = data['area_of_study'].replace([0,1,2,3,4,5,6,7,8,9],['Did not study','General programs','Teacher training and education science','Humanities, languages and arts','Social sciences, business and law','Science, mathematics and computing','Engineering, manufacturing and construction','Agriculture and veterinary','Health and welfare','Services'])\n",
    "data['satisfaction'] = data['satisfaction'].replace([1,2,3,4,5],[5,4,3,2,1])\n",
    "data['workforce_change'] = data['workforce_change'].replace([1,2,3],[3,2,1])\n"
   ]
  },
  {
   "cell_type": "markdown",
   "metadata": {},
   "source": [
    "When we read our data for the first time the number values weren't in any spacific order which is why we changed the values so that the number one represents the least amount and number five represents the most."
   ]
  },
  {
   "cell_type": "code",
   "execution_count": 7,
   "metadata": {},
   "outputs": [],
   "source": [
    "salary_data = data.drop(columns=['job_quals','highest_qual'])"
   ]
  },
  {
   "cell_type": "markdown",
   "metadata": {},
   "source": [
    "we removed these columns because they we're irelevant to our project."
   ]
  },
  {
   "cell_type": "markdown",
   "metadata": {},
   "source": [
    "  "
   ]
  },
  {
   "cell_type": "code",
   "execution_count": 8,
   "metadata": {},
   "outputs": [
    {
     "data": {
      "text/html": [
       "<div>\n",
       "<style scoped>\n",
       "    .dataframe tbody tr th:only-of-type {\n",
       "        vertical-align: middle;\n",
       "    }\n",
       "\n",
       "    .dataframe tbody tr th {\n",
       "        vertical-align: top;\n",
       "    }\n",
       "\n",
       "    .dataframe thead th {\n",
       "        text-align: right;\n",
       "    }\n",
       "</style>\n",
       "<table border=\"1\" class=\"dataframe\">\n",
       "  <thead>\n",
       "    <tr style=\"text-align: right;\">\n",
       "      <th></th>\n",
       "      <th>industry</th>\n",
       "      <th>occupation</th>\n",
       "      <th>years_of_study</th>\n",
       "      <th>sex</th>\n",
       "      <th>area_of_study</th>\n",
       "      <th>influencing</th>\n",
       "      <th>negotiating</th>\n",
       "      <th>sector</th>\n",
       "      <th>workforce_change</th>\n",
       "      <th>num_employees</th>\n",
       "      <th>...</th>\n",
       "      <th>advising</th>\n",
       "      <th>instructing</th>\n",
       "      <th>problem_solving_quick</th>\n",
       "      <th>problem_solving_long</th>\n",
       "      <th>labour</th>\n",
       "      <th>manual_skill</th>\n",
       "      <th>computer</th>\n",
       "      <th>group_meetings</th>\n",
       "      <th>computer_level</th>\n",
       "      <th>monthly_salary</th>\n",
       "    </tr>\n",
       "  </thead>\n",
       "  <tbody>\n",
       "    <tr>\n",
       "      <th>0</th>\n",
       "      <td>Human health and social work activities</td>\n",
       "      <td>Professionals</td>\n",
       "      <td>19</td>\n",
       "      <td>Male</td>\n",
       "      <td>Social sciences, business and law</td>\n",
       "      <td>2</td>\n",
       "      <td>1</td>\n",
       "      <td>private sector</td>\n",
       "      <td>1</td>\n",
       "      <td>3</td>\n",
       "      <td>...</td>\n",
       "      <td>5</td>\n",
       "      <td>4</td>\n",
       "      <td>5</td>\n",
       "      <td>4</td>\n",
       "      <td>4</td>\n",
       "      <td>5</td>\n",
       "      <td>Yes</td>\n",
       "      <td>1</td>\n",
       "      <td>2</td>\n",
       "      <td>23833.333330</td>\n",
       "    </tr>\n",
       "    <tr>\n",
       "      <th>1</th>\n",
       "      <td>Manufacturing</td>\n",
       "      <td>Elementary occupations</td>\n",
       "      <td>14</td>\n",
       "      <td>Male</td>\n",
       "      <td>Agriculture and veterinary</td>\n",
       "      <td>4</td>\n",
       "      <td>2</td>\n",
       "      <td>private sector</td>\n",
       "      <td>3</td>\n",
       "      <td>0</td>\n",
       "      <td>...</td>\n",
       "      <td>5</td>\n",
       "      <td>3</td>\n",
       "      <td>5</td>\n",
       "      <td>3</td>\n",
       "      <td>4</td>\n",
       "      <td>5</td>\n",
       "      <td>Yes</td>\n",
       "      <td>1</td>\n",
       "      <td>1</td>\n",
       "      <td>6583.333333</td>\n",
       "    </tr>\n",
       "    <tr>\n",
       "      <th>2</th>\n",
       "      <td>Real estate activities</td>\n",
       "      <td>Associate professionals</td>\n",
       "      <td>16</td>\n",
       "      <td>Female</td>\n",
       "      <td>Social sciences, business and law</td>\n",
       "      <td>2</td>\n",
       "      <td>1</td>\n",
       "      <td>private sector</td>\n",
       "      <td>1</td>\n",
       "      <td>0</td>\n",
       "      <td>...</td>\n",
       "      <td>3</td>\n",
       "      <td>1</td>\n",
       "      <td>4</td>\n",
       "      <td>2</td>\n",
       "      <td>1</td>\n",
       "      <td>5</td>\n",
       "      <td>Yes</td>\n",
       "      <td>1</td>\n",
       "      <td>2</td>\n",
       "      <td>433.333333</td>\n",
       "    </tr>\n",
       "    <tr>\n",
       "      <th>3</th>\n",
       "      <td>Human health and social work activities</td>\n",
       "      <td>Service workers</td>\n",
       "      <td>12</td>\n",
       "      <td>Female</td>\n",
       "      <td>Social sciences, business and law</td>\n",
       "      <td>5</td>\n",
       "      <td>4</td>\n",
       "      <td>The public sector</td>\n",
       "      <td>3</td>\n",
       "      <td>0</td>\n",
       "      <td>...</td>\n",
       "      <td>5</td>\n",
       "      <td>2</td>\n",
       "      <td>5</td>\n",
       "      <td>2</td>\n",
       "      <td>5</td>\n",
       "      <td>5</td>\n",
       "      <td>No</td>\n",
       "      <td>1</td>\n",
       "      <td>0</td>\n",
       "      <td>379.000000</td>\n",
       "    </tr>\n",
       "    <tr>\n",
       "      <th>4</th>\n",
       "      <td>Education</td>\n",
       "      <td>Managers</td>\n",
       "      <td>18</td>\n",
       "      <td>Male</td>\n",
       "      <td>Social sciences, business and law</td>\n",
       "      <td>3</td>\n",
       "      <td>4</td>\n",
       "      <td>A non-profit organisation</td>\n",
       "      <td>1</td>\n",
       "      <td>0</td>\n",
       "      <td>...</td>\n",
       "      <td>4</td>\n",
       "      <td>2</td>\n",
       "      <td>5</td>\n",
       "      <td>4</td>\n",
       "      <td>1</td>\n",
       "      <td>5</td>\n",
       "      <td>Yes</td>\n",
       "      <td>2</td>\n",
       "      <td>2</td>\n",
       "      <td>4583.333333</td>\n",
       "    </tr>\n",
       "  </tbody>\n",
       "</table>\n",
       "<p>5 rows × 26 columns</p>\n",
       "</div>"
      ],
      "text/plain": [
       "                                  industry               occupation  \\\n",
       "0  Human health and social work activities            Professionals   \n",
       "1                            Manufacturing   Elementary occupations   \n",
       "2                   Real estate activities  Associate professionals   \n",
       "3  Human health and social work activities          Service workers   \n",
       "4                                Education                 Managers   \n",
       "\n",
       "   years_of_study     sex                      area_of_study  influencing  \\\n",
       "0              19    Male  Social sciences, business and law            2   \n",
       "1              14    Male         Agriculture and veterinary            4   \n",
       "2              16  Female  Social sciences, business and law            2   \n",
       "3              12  Female  Social sciences, business and law            5   \n",
       "4              18    Male  Social sciences, business and law            3   \n",
       "\n",
       "   negotiating                     sector  workforce_change  num_employees  \\\n",
       "0            1             private sector                 1              3   \n",
       "1            2             private sector                 3              0   \n",
       "2            1             private sector                 1              0   \n",
       "3            4          The public sector                 3              0   \n",
       "4            4  A non-profit organisation                 1              0   \n",
       "\n",
       "   ...  advising  instructing  problem_solving_quick  problem_solving_long  \\\n",
       "0  ...         5            4                      5                     4   \n",
       "1  ...         5            3                      5                     3   \n",
       "2  ...         3            1                      4                     2   \n",
       "3  ...         5            2                      5                     2   \n",
       "4  ...         4            2                      5                     4   \n",
       "\n",
       "   labour  manual_skill  computer  group_meetings  computer_level  \\\n",
       "0       4             5       Yes               1               2   \n",
       "1       4             5       Yes               1               1   \n",
       "2       1             5       Yes               1               2   \n",
       "3       5             5        No               1               0   \n",
       "4       1             5       Yes               2               2   \n",
       "\n",
       "   monthly_salary  \n",
       "0    23833.333330  \n",
       "1     6583.333333  \n",
       "2      433.333333  \n",
       "3      379.000000  \n",
       "4     4583.333333  \n",
       "\n",
       "[5 rows x 26 columns]"
      ]
     },
     "execution_count": 8,
     "metadata": {},
     "output_type": "execute_result"
    }
   ],
   "source": [
    "salary_data.head()"
   ]
  },
  {
   "cell_type": "markdown",
   "metadata": {},
   "source": [
    "### Fixing data types\n"
   ]
  },
  {
   "cell_type": "code",
   "execution_count": 9,
   "metadata": {},
   "outputs": [
    {
     "data": {
      "text/plain": [
       "industry                  object\n",
       "occupation                object\n",
       "years_of_study             int64\n",
       "sex                       object\n",
       "area_of_study             object\n",
       "influencing                int64\n",
       "negotiating                int64\n",
       "sector                    object\n",
       "workforce_change           int64\n",
       "num_employees              int64\n",
       "choose_hours               int64\n",
       "choose_method              int64\n",
       "qual_needed                int64\n",
       "experience_needed          int64\n",
       "keeping_current            int64\n",
       "satisfaction               int64\n",
       "advising                   int64\n",
       "instructing                int64\n",
       "problem_solving_quick      int64\n",
       "problem_solving_long       int64\n",
       "labour                     int64\n",
       "manual_skill               int64\n",
       "computer                  object\n",
       "group_meetings             int64\n",
       "computer_level             int64\n",
       "monthly_salary           float64\n",
       "dtype: object"
      ]
     },
     "execution_count": 9,
     "metadata": {},
     "output_type": "execute_result"
    }
   ],
   "source": [
    "salary_data.dtypes"
   ]
  },
  {
   "cell_type": "markdown",
   "metadata": {},
   "source": [
    "#### no data types need fixing"
   ]
  },
  {
   "cell_type": "code",
   "execution_count": 10,
   "metadata": {},
   "outputs": [
    {
     "data": {
      "text/plain": [
       "industry                 0\n",
       "occupation               0\n",
       "years_of_study           0\n",
       "sex                      0\n",
       "area_of_study            0\n",
       "influencing              0\n",
       "negotiating              0\n",
       "sector                   0\n",
       "workforce_change         0\n",
       "num_employees            0\n",
       "choose_hours             0\n",
       "choose_method            0\n",
       "qual_needed              0\n",
       "experience_needed        0\n",
       "keeping_current          0\n",
       "satisfaction             0\n",
       "advising                 0\n",
       "instructing              0\n",
       "problem_solving_quick    0\n",
       "problem_solving_long     0\n",
       "labour                   0\n",
       "manual_skill             0\n",
       "computer                 0\n",
       "group_meetings           0\n",
       "computer_level           0\n",
       "monthly_salary           0\n",
       "dtype: int64"
      ]
     },
     "execution_count": 10,
     "metadata": {},
     "output_type": "execute_result"
    }
   ],
   "source": [
    "salary_data.isnull().sum()"
   ]
  },
  {
   "cell_type": "markdown",
   "metadata": {},
   "source": [
    "### no missing values :)"
   ]
  },
  {
   "cell_type": "markdown",
   "metadata": {},
   "source": [
    "***"
   ]
  },
  {
   "cell_type": "markdown",
   "metadata": {},
   "source": [
    "## _let's dive in..._"
   ]
  },
  {
   "cell_type": "markdown",
   "metadata": {},
   "source": [
    "1. [ monthly salary and correlations.](#section1)\n",
    "2. [Sector](#section2)\n",
    "3. [Men vs Women](#section3)\n",
    "4. [Prediction](#section4)\n",
    "\n"
   ]
  },
  {
   "cell_type": "markdown",
   "metadata": {},
   "source": [
    "# 1. monthly salary and correlations."
   ]
  },
  {
   "cell_type": "code",
   "execution_count": 34,
   "metadata": {},
   "outputs": [
    {
     "data": {
      "text/plain": [
       "<matplotlib.axes._subplots.AxesSubplot at 0x1f8b3cc0dc0>"
      ]
     },
     "execution_count": 34,
     "metadata": {},
     "output_type": "execute_result"
    },
    {
     "data": {
      "image/png": "[encoded data removed]",
      "text/plain": [
       "<Figure size 432x288 with 1 Axes>"
      ]
     },
     "metadata": {
      "needs_background": "light"
     },
     "output_type": "display_data"
    }
   ],
   "source": [
    "sns.histplot(salary_data['monthly_salary'])"
   ]
  },
  {
   "cell_type": "markdown",
   "metadata": {},
   "source": [
    " We can see that most of the salaries are up to 10,000$."
   ]
  },
  {
   "cell_type": "markdown",
   "metadata": {},
   "source": [
    "_We chose four columns that we thought would have a strong correlation._"
   ]
  },
  {
   "cell_type": "code",
   "execution_count": 11,
   "metadata": {},
   "outputs": [
    {
     "data": {
      "text/plain": [
       "<matplotlib.axes._subplots.AxesSubplot at 0x201a5a61310>"
      ]
     },
     "execution_count": 11,
     "metadata": {},
     "output_type": "execute_result"
    },
    {
     "data": {
      "image/png": "[encoded data removed]",
      "text/plain": [
       "<Figure size 432x288 with 2 Axes>"
      ]
     },
     "metadata": {
      "needs_background": "light"
     },
     "output_type": "display_data"
    }
   ],
   "source": [
    "features = ['years_of_study','experience_needed','monthly_salary','num_employees']\n",
    "correlation_matrix = salary_data[features].corr()\n",
    "sns.heatmap(correlation_matrix, vmin=0.0 , vmax = 1,cmap='Blues' , annot=True)"
   ]
  },
  {
   "cell_type": "markdown",
   "metadata": {},
   "source": [
    " _surprisingly they have a relatively low correlation._ \n",
    " - The highest correlation with monthly salary is with years of study.\n"
   ]
  },
  {
   "cell_type": "code",
   "execution_count": 12,
   "metadata": {},
   "outputs": [
    {
     "data": {
      "image/png": "[encoded data removed]",
      "text/plain": [
       "<Figure size 432x288 with 1 Axes>"
      ]
     },
     "metadata": {
      "needs_background": "light"
     },
     "output_type": "display_data"
    }
   ],
   "source": [
    "sns.regplot(x = 'years_of_study', y = 'monthly_salary', data=salary_data)\n",
    "plt.ylim(0,20000)\n",
    "plt.show()"
   ]
  },
  {
   "cell_type": "markdown",
   "metadata": {},
   "source": [
    "There's an upward trend between years of study and monthly salary."
   ]
  },
  {
   "cell_type": "markdown",
   "metadata": {},
   "source": [
    " ## Satisfaction \n",
    " "
   ]
  },
  {
   "cell_type": "markdown",
   "metadata": {},
   "source": [
    "Do you think people who make more money are more satisfied?"
   ]
  },
  {
   "cell_type": "code",
   "execution_count": 38,
   "metadata": {},
   "outputs": [
    {
     "data": {
      "text/html": [
       "<div>\n",
       "<style scoped>\n",
       "    .dataframe tbody tr th:only-of-type {\n",
       "        vertical-align: middle;\n",
       "    }\n",
       "\n",
       "    .dataframe tbody tr th {\n",
       "        vertical-align: top;\n",
       "    }\n",
       "\n",
       "    .dataframe thead th {\n",
       "        text-align: right;\n",
       "    }\n",
       "</style>\n",
       "<table border=\"1\" class=\"dataframe\">\n",
       "  <thead>\n",
       "    <tr style=\"text-align: right;\">\n",
       "      <th></th>\n",
       "      <th>satisfaction</th>\n",
       "      <th>monthly_salary</th>\n",
       "    </tr>\n",
       "  </thead>\n",
       "  <tbody>\n",
       "    <tr>\n",
       "      <th>satisfaction</th>\n",
       "      <td>1.000000</td>\n",
       "      <td>0.087306</td>\n",
       "    </tr>\n",
       "    <tr>\n",
       "      <th>monthly_salary</th>\n",
       "      <td>0.087306</td>\n",
       "      <td>1.000000</td>\n",
       "    </tr>\n",
       "  </tbody>\n",
       "</table>\n",
       "</div>"
      ],
      "text/plain": [
       "                satisfaction  monthly_salary\n",
       "satisfaction        1.000000        0.087306\n",
       "monthly_salary      0.087306        1.000000"
      ]
     },
     "execution_count": 38,
     "metadata": {},
     "output_type": "execute_result"
    }
   ],
   "source": [
    "features = ['satisfaction','monthly_salary']\n",
    "salary_data[features].corr()\n"
   ]
  },
  {
   "cell_type": "code",
   "execution_count": 39,
   "metadata": {},
   "outputs": [
    {
     "data": {
      "text/plain": [
       "<matplotlib.axes._subplots.AxesSubplot at 0x1f8b4255520>"
      ]
     },
     "execution_count": 39,
     "metadata": {},
     "output_type": "execute_result"
    },
    {
     "data": {
      "image/png": "[encoded data removed]",
      "text/plain": [
       "<Figure size 432x288 with 1 Axes>"
      ]
     },
     "metadata": {
      "needs_background": "light"
     },
     "output_type": "display_data"
    }
   ],
   "source": [
    "sns.regplot(x = 'satisfaction', y = 'monthly_salary', data=salary_data)"
   ]
  },
  {
   "cell_type": "markdown",
   "metadata": {},
   "source": [
    "We can't see any type of trend in this graph which indicates that there is a very low connection between the level of satisfaction and monthly salary."
   ]
  },
  {
   "cell_type": "code",
   "execution_count": 37,
   "metadata": {},
   "outputs": [
    {
     "data": {
      "text/html": [
       "<div>\n",
       "<style scoped>\n",
       "    .dataframe tbody tr th:only-of-type {\n",
       "        vertical-align: middle;\n",
       "    }\n",
       "\n",
       "    .dataframe tbody tr th {\n",
       "        vertical-align: top;\n",
       "    }\n",
       "\n",
       "    .dataframe thead th {\n",
       "        text-align: right;\n",
       "    }\n",
       "</style>\n",
       "<table border=\"1\" class=\"dataframe\">\n",
       "  <thead>\n",
       "    <tr style=\"text-align: right;\">\n",
       "      <th></th>\n",
       "      <th>satisfaction</th>\n",
       "      <th>monthly_salary</th>\n",
       "    </tr>\n",
       "    <tr>\n",
       "      <th>industry</th>\n",
       "      <th></th>\n",
       "      <th></th>\n",
       "    </tr>\n",
       "  </thead>\n",
       "  <tbody>\n",
       "    <tr>\n",
       "      <th>Water supply; sewerage, waste management and remediation activities</th>\n",
       "      <td>4.300000</td>\n",
       "      <td>4238.450000</td>\n",
       "    </tr>\n",
       "    <tr>\n",
       "      <th>Other service activities</th>\n",
       "      <td>4.270270</td>\n",
       "      <td>2810.409009</td>\n",
       "    </tr>\n",
       "    <tr>\n",
       "      <th>Electricity, gas, steam and air conditioning supply</th>\n",
       "      <td>4.210526</td>\n",
       "      <td>6092.326315</td>\n",
       "    </tr>\n",
       "  </tbody>\n",
       "</table>\n",
       "</div>"
      ],
      "text/plain": [
       "                                                    satisfaction  \\\n",
       "industry                                                           \n",
       "Water supply; sewerage, waste management and re...      4.300000   \n",
       "Other service activities                                4.270270   \n",
       "Electricity, gas, steam and air conditioning su...      4.210526   \n",
       "\n",
       "                                                    monthly_salary  \n",
       "industry                                                            \n",
       "Water supply; sewerage, waste management and re...     4238.450000  \n",
       "Other service activities                               2810.409009  \n",
       "Electricity, gas, steam and air conditioning su...     6092.326315  "
      ]
     },
     "execution_count": 37,
     "metadata": {},
     "output_type": "execute_result"
    }
   ],
   "source": [
    "satisfction_per_industry = salary_data.groupby('industry')[['satisfaction',\"monthly_salary\"]].mean().sort_values(\"satisfaction\",ascending=False)\n",
    "satisfction_per_industry.head(3)"
   ]
  },
  {
   "cell_type": "markdown",
   "metadata": {},
   "source": [
    "We wanted to check in which industry are people most satisfied.                       \n",
    "Surprisingly people who work with garbage are most satisfied."
   ]
  },
  {
   "cell_type": "markdown",
   "metadata": {},
   "source": [
    "---"
   ]
  },
  {
   "cell_type": "markdown",
   "metadata": {},
   "source": [
    "> ## observation 1:\n",
    "> After intensive research we found that there's a connection between monthly salary and the amount of years studied.                          \n",
    "> The norm is usually when a person makes more money they are more satisfied with there job, yet we discovred that there is a very small connection between the two.             \n",
    "\n"
   ]
  },
  {
   "cell_type": "markdown",
   "metadata": {},
   "source": [
    "---"
   ]
  },
  {
   "cell_type": "markdown",
   "metadata": {},
   "source": [
    "# 2. sector :\n"
   ]
  },
  {
   "cell_type": "markdown",
   "metadata": {},
   "source": [
    "#### Let's check the differences between sectors:"
   ]
  },
  {
   "cell_type": "code",
   "execution_count": 14,
   "metadata": {},
   "outputs": [
    {
     "data": {
      "text/plain": [
       "<matplotlib.axes._subplots.AxesSubplot at 0x201a6294fa0>"
      ]
     },
     "execution_count": 14,
     "metadata": {},
     "output_type": "execute_result"
    },
    {
     "data": {
      "image/png": "[encoded data removed]",
      "text/plain": [
       "<Figure size 504x360 with 1 Axes>"
      ]
     },
     "metadata": {
      "needs_background": "light"
     },
     "output_type": "display_data"
    }
   ],
   "source": [
    "plt.figure(figsize=(7,5)) \n",
    "sns.countplot(x=\"sector\", data=salary_data)"
   ]
  },
  {
   "cell_type": "markdown",
   "metadata": {},
   "source": [
    "Most people work in the private sector."
   ]
  },
  {
   "cell_type": "markdown",
   "metadata": {},
   "source": [
    "_Is the sector with the highest average monthly salary, the workforce change is the lowest..?_"
   ]
  },
  {
   "cell_type": "code",
   "execution_count": 15,
   "metadata": {},
   "outputs": [
    {
     "data": {
      "text/html": [
       "<div>\n",
       "<style scoped>\n",
       "    .dataframe tbody tr th:only-of-type {\n",
       "        vertical-align: middle;\n",
       "    }\n",
       "\n",
       "    .dataframe tbody tr th {\n",
       "        vertical-align: top;\n",
       "    }\n",
       "\n",
       "    .dataframe thead th {\n",
       "        text-align: right;\n",
       "    }\n",
       "</style>\n",
       "<table border=\"1\" class=\"dataframe\">\n",
       "  <thead>\n",
       "    <tr style=\"text-align: right;\">\n",
       "      <th></th>\n",
       "      <th>monthly_salary</th>\n",
       "      <th>workforce_change</th>\n",
       "    </tr>\n",
       "    <tr>\n",
       "      <th>sector</th>\n",
       "      <th></th>\n",
       "      <th></th>\n",
       "    </tr>\n",
       "  </thead>\n",
       "  <tbody>\n",
       "    <tr>\n",
       "      <th>The public sector</th>\n",
       "      <td>4827.162379</td>\n",
       "      <td>1.612632</td>\n",
       "    </tr>\n",
       "    <tr>\n",
       "      <th>A non-profit organisation</th>\n",
       "      <td>4784.990889</td>\n",
       "      <td>1.671141</td>\n",
       "    </tr>\n",
       "    <tr>\n",
       "      <th>private sector</th>\n",
       "      <td>4202.807985</td>\n",
       "      <td>1.737871</td>\n",
       "    </tr>\n",
       "  </tbody>\n",
       "</table>\n",
       "</div>"
      ],
      "text/plain": [
       "                           monthly_salary  workforce_change\n",
       "sector                                                     \n",
       "The public sector             4827.162379          1.612632\n",
       "A non-profit organisation     4784.990889          1.671141\n",
       "private sector                4202.807985          1.737871"
      ]
     },
     "execution_count": 15,
     "metadata": {},
     "output_type": "execute_result"
    }
   ],
   "source": [
    "salary_data.pivot_table(['monthly_salary','workforce_change'],'sector').sort_values(\"monthly_salary\",ascending=False)"
   ]
  },
  {
   "cell_type": "markdown",
   "metadata": {},
   "source": [
    "> Turns out that is the case (which makes sense)."
   ]
  },
  {
   "cell_type": "markdown",
   "metadata": {},
   "source": [
    "\n",
    " - Even though The highest average monthly salary is in the public sector, most people still work in the private sector."
   ]
  },
  {
   "cell_type": "code",
   "execution_count": 21,
   "metadata": {},
   "outputs": [
    {
     "data": {
      "text/html": [
       "<div>\n",
       "<style scoped>\n",
       "    .dataframe tbody tr th:only-of-type {\n",
       "        vertical-align: middle;\n",
       "    }\n",
       "\n",
       "    .dataframe tbody tr th {\n",
       "        vertical-align: top;\n",
       "    }\n",
       "\n",
       "    .dataframe thead th {\n",
       "        text-align: right;\n",
       "    }\n",
       "</style>\n",
       "<table border=\"1\" class=\"dataframe\">\n",
       "  <thead>\n",
       "    <tr style=\"text-align: right;\">\n",
       "      <th></th>\n",
       "      <th></th>\n",
       "      <th>monthly_salary</th>\n",
       "    </tr>\n",
       "    <tr>\n",
       "      <th>industry</th>\n",
       "      <th>sector</th>\n",
       "      <th></th>\n",
       "    </tr>\n",
       "  </thead>\n",
       "  <tbody>\n",
       "    <tr>\n",
       "      <th>Information and communication</th>\n",
       "      <th>A non-profit organisation</th>\n",
       "      <td>9666.666667</td>\n",
       "    </tr>\n",
       "    <tr>\n",
       "      <th>Activities of extraterritorial organizations and bodies</th>\n",
       "      <th>A non-profit organisation</th>\n",
       "      <td>8583.333333</td>\n",
       "    </tr>\n",
       "    <tr>\n",
       "      <th>Financial and insurance activities</th>\n",
       "      <th>The public sector</th>\n",
       "      <td>8121.961112</td>\n",
       "    </tr>\n",
       "    <tr>\n",
       "      <th>Information and communication</th>\n",
       "      <th>The public sector</th>\n",
       "      <td>7772.407407</td>\n",
       "    </tr>\n",
       "    <tr>\n",
       "      <th>High-Tech</th>\n",
       "      <th>private sector</th>\n",
       "      <td>7177.692688</td>\n",
       "    </tr>\n",
       "    <tr>\n",
       "      <th>Financial and insurance activities</th>\n",
       "      <th>private sector</th>\n",
       "      <td>6769.319238</td>\n",
       "    </tr>\n",
       "  </tbody>\n",
       "</table>\n",
       "</div>"
      ],
      "text/plain": [
       "                                                                              monthly_salary\n",
       "industry                                           sector                                   \n",
       "Information and communication                      A non-profit organisation     9666.666667\n",
       "Activities of extraterritorial organizations an... A non-profit organisation     8583.333333\n",
       "Financial and insurance activities                 The public sector             8121.961112\n",
       "Information and communication                      The public sector             7772.407407\n",
       "High-Tech                                          private sector                7177.692688\n",
       "Financial and insurance activities                 private sector                6769.319238"
      ]
     },
     "execution_count": 21,
     "metadata": {},
     "output_type": "execute_result"
    }
   ],
   "source": [
    "salary_data.groupby(['industry',\"sector\"])[[\"monthly_salary\"]].mean().sort_values(\"monthly_salary\",ascending=False).head(6)"
   ]
  },
  {
   "cell_type": "markdown",
   "metadata": {},
   "source": [
    "We wanted to check for each industry in which sector is the monthly salary the highest.                          "
   ]
  },
  {
   "cell_type": "markdown",
   "metadata": {},
   "source": [
    "Let's look on the High Tech for example:"
   ]
  },
  {
   "cell_type": "code",
   "execution_count": 35,
   "metadata": {},
   "outputs": [],
   "source": [
    "tech = salary_data[salary_data['industry'].str.contains('High-Tech')].copy()"
   ]
  },
  {
   "cell_type": "code",
   "execution_count": 37,
   "metadata": {},
   "outputs": [
    {
     "data": {
      "image/png": "[encoded data removed]",
      "text/plain": [
       "<Figure size 576x576 with 1 Axes>"
      ]
     },
     "metadata": {
      "needs_background": "light"
     },
     "output_type": "display_data"
    }
   ],
   "source": [
    "plt.figure(figsize=(8,8))\n",
    "sns.barplot(x=\"sector\", y=\"monthly_salary\",  data=tech)\n",
    "plt.show()"
   ]
  },
  {
   "cell_type": "markdown",
   "metadata": {},
   "source": [
    "We can see that a person that wants to work in High Tech should work in the private sector."
   ]
  },
  {
   "cell_type": "markdown",
   "metadata": {},
   "source": [
    "---"
   ]
  },
  {
   "cell_type": "markdown",
   "metadata": {},
   "source": [
    "> ## observation 2:\n",
    "> There are big differences btween the private and the public sector.                                          \n",
    "> The private sector has the lowest average monthly salary and yet most people work in that sector.\n",
    "\n",
    "\n"
   ]
  },
  {
   "cell_type": "markdown",
   "metadata": {},
   "source": [
    "---"
   ]
  },
  {
   "cell_type": "markdown",
   "metadata": {},
   "source": [
    "# 3. Men vs Women\n",
    "- __Introduction__\n",
    "- __Occupation__\n",
    "\n"
   ]
  },
  {
   "cell_type": "code",
   "execution_count": 38,
   "metadata": {},
   "outputs": [
    {
     "data": {
      "text/plain": [
       "<matplotlib.axes._subplots.AxesSubplot at 0x201a6513ca0>"
      ]
     },
     "execution_count": 38,
     "metadata": {},
     "output_type": "execute_result"
    },
    {
     "data": {
      "image/png": "[encoded data removed]",
      "text/plain": [
       "<Figure size 432x288 with 1 Axes>"
      ]
     },
     "metadata": {},
     "output_type": "display_data"
    }
   ],
   "source": [
    "salary_data['sex'].value_counts().plot.pie(autopct='%1.f%%')"
   ]
  },
  {
   "cell_type": "markdown",
   "metadata": {},
   "source": [
    "There are more women in our data."
   ]
  },
  {
   "cell_type": "code",
   "execution_count": 39,
   "metadata": {},
   "outputs": [],
   "source": [
    "female_df = salary_data.loc[data.sex == 'Female']\n",
    "male_df = salary_data.loc[data.sex == 'Male']"
   ]
  },
  {
   "cell_type": "code",
   "execution_count": 52,
   "metadata": {},
   "outputs": [
    {
     "data": {
      "text/plain": [
       "(0.0, 20000.0)"
      ]
     },
     "execution_count": 52,
     "metadata": {},
     "output_type": "execute_result"
    },
    {
     "data": {
      "image/png": "[encoded data removed]",
      "text/plain": [
       "<Figure size 720x504 with 1 Axes>"
      ]
     },
     "metadata": {
      "needs_background": "light"
     },
     "output_type": "display_data"
    }
   ],
   "source": [
    "plt.figure(figsize=(10,7))\n",
    "plt.hist(male_df['monthly_salary'], alpha=0.6, label='male',bins = 70)\n",
    "plt.hist(female_df['monthly_salary'], alpha=0.4, label='female',bins = 70)\n",
    "plt.legend(loc='upper right')\n",
    "plt.xlim(0,20000)"
   ]
  },
  {
   "cell_type": "markdown",
   "metadata": {},
   "source": [
    "There are more women who make up to 5,000.                              \n",
    "There are more men who make above 5,000 then women."
   ]
  },
  {
   "cell_type": "code",
   "execution_count": 53,
   "metadata": {},
   "outputs": [
    {
     "data": {
      "text/html": [
       "<div>\n",
       "<style scoped>\n",
       "    .dataframe tbody tr th:only-of-type {\n",
       "        vertical-align: middle;\n",
       "    }\n",
       "\n",
       "    .dataframe tbody tr th {\n",
       "        vertical-align: top;\n",
       "    }\n",
       "\n",
       "    .dataframe thead th {\n",
       "        text-align: right;\n",
       "    }\n",
       "</style>\n",
       "<table border=\"1\" class=\"dataframe\">\n",
       "  <thead>\n",
       "    <tr style=\"text-align: right;\">\n",
       "      <th></th>\n",
       "      <th>choose_hours</th>\n",
       "      <th>monthly_salary</th>\n",
       "      <th>years_of_study</th>\n",
       "    </tr>\n",
       "    <tr>\n",
       "      <th>sex</th>\n",
       "      <th></th>\n",
       "      <th></th>\n",
       "      <th></th>\n",
       "    </tr>\n",
       "  </thead>\n",
       "  <tbody>\n",
       "    <tr>\n",
       "      <th>Male</th>\n",
       "      <td>2.685031</td>\n",
       "      <td>5144.050426</td>\n",
       "      <td>13.818087</td>\n",
       "    </tr>\n",
       "    <tr>\n",
       "      <th>Female</th>\n",
       "      <td>2.654842</td>\n",
       "      <td>3702.173624</td>\n",
       "      <td>13.932886</td>\n",
       "    </tr>\n",
       "  </tbody>\n",
       "</table>\n",
       "</div>"
      ],
      "text/plain": [
       "        choose_hours  monthly_salary  years_of_study\n",
       "sex                                                 \n",
       "Male        2.685031     5144.050426       13.818087\n",
       "Female      2.654842     3702.173624       13.932886"
      ]
     },
     "execution_count": 53,
     "metadata": {},
     "output_type": "execute_result"
    }
   ],
   "source": [
    "salary_data.pivot_table(['monthly_salary','years_of_study','choose_hours'],'sex').sort_values(\"monthly_salary\",ascending=False)"
   ]
  },
  {
   "cell_type": "markdown",
   "metadata": {},
   "source": [
    " - Women and men choose more or less the same amount of hours and still men make much more money.      \n",
    " - Men and women invest more or less the same amount of years in there education and still men make more money."
   ]
  },
  {
   "cell_type": "code",
   "execution_count": 58,
   "metadata": {},
   "outputs": [
    {
     "data": {
      "text/plain": [
       "(0.0, 20000.0)"
      ]
     },
     "execution_count": 58,
     "metadata": {},
     "output_type": "execute_result"
    },
    {
     "data": {
      "image/png": "[encoded data removed]",
      "text/plain": [
       "<Figure size 720x504 with 1 Axes>"
      ]
     },
     "metadata": {
      "needs_background": "light"
     },
     "output_type": "display_data"
    }
   ],
   "source": [
    "fig, axes = plt.subplots(figsize=(10,7), ncols=1)\n",
    "sns.boxplot(x='choose_hours', y='monthly_salary', data=male_df)\n",
    "plt.ylim(0,20000)"
   ]
  },
  {
   "cell_type": "markdown",
   "metadata": {},
   "source": [
    "Men who get to choose there hours more freely have a higher monthly salary."
   ]
  },
  {
   "cell_type": "code",
   "execution_count": 59,
   "metadata": {},
   "outputs": [
    {
     "data": {
      "text/plain": [
       "(0.0, 20000.0)"
      ]
     },
     "execution_count": 59,
     "metadata": {},
     "output_type": "execute_result"
    },
    {
     "data": {
      "image/png": "[encoded data removed]",
      "text/plain": [
       "<Figure size 720x504 with 1 Axes>"
      ]
     },
     "metadata": {
      "needs_background": "light"
     },
     "output_type": "display_data"
    }
   ],
   "source": [
    "fig, axes = plt.subplots(figsize=(10,7), ncols=1)\n",
    "sns.boxplot(x='choose_hours', y='monthly_salary', data=female_df)\n",
    "plt.ylim(0,20000)"
   ]
  },
  {
   "cell_type": "markdown",
   "metadata": {},
   "source": [
    "Women who choose there hours the more freelly, have the smallest monthly salary."
   ]
  },
  {
   "cell_type": "markdown",
   "metadata": {},
   "source": [
    " > ### Occupation:"
   ]
  },
  {
   "cell_type": "markdown",
   "metadata": {},
   "source": [
    "Let's check the difference in monthly salary in each occupation between men and women."
   ]
  },
  {
   "cell_type": "code",
   "execution_count": 54,
   "metadata": {},
   "outputs": [
    {
     "data": {
      "image/png": "[encoded data removed]",
      "text/plain": [
       "<Figure size 2160x720 with 1 Axes>"
      ]
     },
     "metadata": {
      "needs_background": "light"
     },
     "output_type": "display_data"
    }
   ],
   "source": [
    "plt.figure(figsize=(30,10))\n",
    "sns.barplot(x=\"occupation\", y=\"monthly_salary\", hue=\"sex\",  data=salary_data)\n",
    "plt.show()"
   ]
  },
  {
   "cell_type": "markdown",
   "metadata": {},
   "source": [
    "We can see that only female clerks make more then male clerks."
   ]
  },
  {
   "cell_type": "markdown",
   "metadata": {},
   "source": [
    "*Let's check the difference in monthly salary.*"
   ]
  },
  {
   "cell_type": "code",
   "execution_count": 55,
   "metadata": {},
   "outputs": [],
   "source": [
    "Clerks = salary_data[salary_data['occupation'].str.contains('Clerks', na=False)]"
   ]
  },
  {
   "cell_type": "code",
   "execution_count": 56,
   "metadata": {},
   "outputs": [
    {
     "data": {
      "text/plain": [
       "<matplotlib.axes._subplots.AxesSubplot at 0x201a90fcdc0>"
      ]
     },
     "execution_count": 56,
     "metadata": {},
     "output_type": "execute_result"
    },
    {
     "data": {
      "image/png": "[encoded data removed]",
      "text/plain": [
       "<Figure size 432x288 with 1 Axes>"
      ]
     },
     "metadata": {},
     "output_type": "display_data"
    }
   ],
   "source": [
    "Clerks.groupby('sex')['monthly_salary'].mean().plot.pie(autopct='%1.1f%%')"
   ]
  },
  {
   "cell_type": "markdown",
   "metadata": {},
   "source": [
    "The difference in monthly salary is about 10%."
   ]
  },
  {
   "cell_type": "markdown",
   "metadata": {},
   "source": [
    "#### High-Tech:"
   ]
  },
  {
   "cell_type": "markdown",
   "metadata": {},
   "source": [
    "There's a common belief that in high tech the salary would be the same.                             \n",
    "Let's focus on managers."
   ]
  },
  {
   "cell_type": "code",
   "execution_count": 65,
   "metadata": {},
   "outputs": [],
   "source": [
    "Men_tech= tech[tech['sex'].str.contains('Male')].copy()\n",
    "Women_tech= tech[tech['sex'].str.contains('Female')].copy()"
   ]
  },
  {
   "cell_type": "code",
   "execution_count": 66,
   "metadata": {},
   "outputs": [],
   "source": [
    "manager_men_tech = Men_tech[Men_tech['occupation'].str.contains('Managers')]\n",
    "manager_women_tech = Women_tech[Women_tech['occupation'].str.contains('Managers')]"
   ]
  },
  {
   "cell_type": "code",
   "execution_count": 68,
   "metadata": {},
   "outputs": [
    {
     "data": {
      "text/plain": [
       "<matplotlib.axes._subplots.AxesSubplot at 0x201a63b6fd0>"
      ]
     },
     "execution_count": 68,
     "metadata": {},
     "output_type": "execute_result"
    },
    {
     "data": {
      "image/png": "[encoded data removed]",
      "text/plain": [
       "<Figure size 864x360 with 2 Axes>"
      ]
     },
     "metadata": {
      "needs_background": "light"
     },
     "output_type": "display_data"
    }
   ],
   "source": [
    "fig, axes = plt.subplots(figsize=(12, 5), ncols=2)\n",
    "sns.boxplot(ax=axes[0], y='monthly_salary', data=manager_men_tech)\n",
    "plt.ylim(0,28000)\n",
    "sns.boxplot(ax=axes[1], y='monthly_salary', data=manager_women_tech)"
   ]
  },
  {
   "cell_type": "markdown",
   "metadata": {},
   "source": [
    "Surprisingly even in High Tech managers there is a huge difference between men and women."
   ]
  },
  {
   "cell_type": "markdown",
   "metadata": {},
   "source": [
    "---"
   ]
  },
  {
   "cell_type": "markdown",
   "metadata": {},
   "source": [
    "> ## Observation 3:\n",
    "> #### There are big differences between men and women even in situations where we thought there wouldn't be.\n",
    "\n"
   ]
  },
  {
   "cell_type": "markdown",
   "metadata": {},
   "source": [
    "---"
   ]
  },
  {
   "cell_type": "markdown",
   "metadata": {},
   "source": [
    "## **Prediction:**"
   ]
  },
  {
   "cell_type": "code",
   "execution_count": 69,
   "metadata": {},
   "outputs": [],
   "source": [
    "salary_data_with_out_monthly_salary = original_data.drop(columns=['monthly_salary'])"
   ]
  },
  {
   "cell_type": "code",
   "execution_count": 70,
   "metadata": {},
   "outputs": [
    {
     "data": {
      "text/plain": [
       "RandomForestRegressor(max_samples=100, random_state=82)"
      ]
     },
     "execution_count": 70,
     "metadata": {},
     "output_type": "execute_result"
    }
   ],
   "source": [
    "predict_featers = salary_data_with_out_monthly_salary.columns\n",
    "X = original_data[predict_featers]\n",
    "y = original_data['monthly_salary']\n",
    "X_train, X_test, y_train, y_test = sk.model_selection.train_test_split(X, y, test_size=0.3, random_state=82)\n",
    "model_Forest = RandomForestRegressor(max_samples=100,random_state=82)\n",
    "model_Forest.fit(X_train, y_train)"
   ]
  },
  {
   "cell_type": "code",
   "execution_count": 71,
   "metadata": {},
   "outputs": [],
   "source": [
    "def eval(X_test,y_test,model):\n",
    "    predict = model.predict(X_test)\n",
    "    print(\"MSE: {:.3f}\".format(mse(predict,y_test,squared=False)))\n"
   ]
  },
  {
   "cell_type": "code",
   "execution_count": 72,
   "metadata": {},
   "outputs": [
    {
     "name": "stdout",
     "output_type": "stream",
     "text": [
      "MSE: 4108.259\n"
     ]
    }
   ],
   "source": [
    "eval(X_test,y_test,model_Forest)"
   ]
  },
  {
   "cell_type": "code",
   "execution_count": 73,
   "metadata": {},
   "outputs": [
    {
     "data": {
      "text/plain": [
       "4984.027791750432"
      ]
     },
     "execution_count": 73,
     "metadata": {},
     "output_type": "execute_result"
    }
   ],
   "source": [
    "y_test.std()"
   ]
  },
  {
   "cell_type": "markdown",
   "metadata": {},
   "source": [
    "---"
   ]
  },
  {
   "cell_type": "markdown",
   "metadata": {},
   "source": [
    "> ### prediction observation:\n",
    "> We chose to present Regressor predictions because we want to predict salaries.                            \n",
    "> We decided to present both a Forest Regressor and a decision tree Regressor to see which one is more accurate.                          \n",
    "> we found that the Forest Regressor is more accurate because the MSE came out lower.\n"
   ]
  },
  {
   "cell_type": "markdown",
   "metadata": {},
   "source": [
    "---"
   ]
  },
  {
   "cell_type": "markdown",
   "metadata": {},
   "source": [
    "# Thank you very much :)"
   ]
  }
 ],
 "metadata": {
  "kernelspec": {
   "display_name": "Python 3",
   "language": "python",
   "name": "python3"
  },
  "language_info": {
   "codemirror_mode": {
    "name": "ipython",
    "version": 3
   },
   "file_extension": ".py",
   "mimetype": "text/x-python",
   "name": "python",
   "nbconvert_exporter": "python",
   "pygments_lexer": "ipython3",
   "version": "3.8.5"
  }
 },
 "nbformat": 4,
 "nbformat_minor": 4
}
