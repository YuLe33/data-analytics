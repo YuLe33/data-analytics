{
 "cells": [
  {
   "cell_type": "markdown",
   "metadata": {},
   "source": [
    "ניתוח data להקמת מרכז לבעלי חיים אבודים:\n",
    "תוכן ענינים:\n",
    "<ol>\n",
    "<li>ניתוח זמני השהיה לאור נושאים שונים</li> \n",
    "<li>כמות האימוץ ביחס למצב הבריאותי</li>   \n",
    "<li>חיזויים</li> \n",
    "<li>ניתוח פעילות במרכז</li>\n",
    "</ol>"
   ]
  },
  {
   "cell_type": "markdown",
   "metadata": {
    "id": "ZEVWoQbdE8k3"
   },
   "source": [
    "<h3>הקדמה :\n",
    "   הנתונים נלקחו מבית אימוץ באוסטין טקסס שבארה\"ב הנתונים הם מהשנים 2013-2020,של 160,000 בעלי חיים.<h3>\n",
    "<div>\n",
    "<img src=\"animalshelter.JPG\" width=\"400\"/>\n",
    "</div>\n",
    " <a> href=\"https://www.kaggle.com/aaronschlegel/austin-animal-center-shelter-intakes-and-outcomes\" >Link to kaggle data</a>"
   ]
  },
  {
   "cell_type": "code",
   "execution_count": 1,
   "metadata": {
    "id": "HcTHd6smE8k4"
   },
   "outputs": [],
   "source": [
    "import pandas as pd\n",
    "import numpy as np\n",
    "import matplotlib.pyplot as plt\n",
    "import seaborn as sns\n",
    "import sklearn as sk\n",
    "from sklearn import tree\n",
    "from sklearn.tree import DecisionTreeClassifier\n",
    "from sklearn.tree import DecisionTreeRegressor\n",
    "from sklearn.metrics import mean_squared_error as mse\n",
    "from sklearn.metrics import mean_squared_error"
   ]
  },
  {
   "cell_type": "markdown",
   "metadata": {
    "id": "of2LadUmE8k5"
   },
   "source": [
    "יבוא הקבצים ואיחודם"
   ]
  },
  {
   "cell_type": "code",
   "execution_count": 2,
   "metadata": {
    "colab": {
     "base_uri": "https://localhost:8080/",
     "height": 162
    },
    "id": "GbqwfxrXE8k6",
    "outputId": "29f2d4f2-f19b-4f71-e248-f4d0a2a360c3"
   },
   "outputs": [
    {
     "data": {
      "text/html": [
       "<div>\n",
       "<style scoped>\n",
       "    .dataframe tbody tr th:only-of-type {\n",
       "        vertical-align: middle;\n",
       "    }\n",
       "\n",
       "    .dataframe tbody tr th {\n",
       "        vertical-align: top;\n",
       "    }\n",
       "\n",
       "    .dataframe thead th {\n",
       "        text-align: right;\n",
       "    }\n",
       "</style>\n",
       "<table border=\"1\" class=\"dataframe\">\n",
       "  <thead>\n",
       "    <tr style=\"text-align: right;\">\n",
       "      <th></th>\n",
       "      <th>Animal ID</th>\n",
       "      <th>Name</th>\n",
       "      <th>DateTime</th>\n",
       "      <th>MonthYear</th>\n",
       "      <th>Found Location</th>\n",
       "      <th>Intake Type</th>\n",
       "      <th>Intake Condition</th>\n",
       "      <th>Animal Type</th>\n",
       "      <th>Sex upon Intake</th>\n",
       "      <th>Age upon Intake</th>\n",
       "      <th>Breed</th>\n",
       "      <th>Color</th>\n",
       "    </tr>\n",
       "  </thead>\n",
       "  <tbody>\n",
       "    <tr>\n",
       "      <th>124118</th>\n",
       "      <td>A830171</td>\n",
       "      <td>NaN</td>\n",
       "      <td>03/03/2021 05:13:00 PM</td>\n",
       "      <td>03/03/2021 05:13:00 PM</td>\n",
       "      <td>1310 West Howard Lane in Austin (TX)</td>\n",
       "      <td>Stray</td>\n",
       "      <td>Normal</td>\n",
       "      <td>Dog</td>\n",
       "      <td>Intact Female</td>\n",
       "      <td>1 year</td>\n",
       "      <td>Plott Hound Mix</td>\n",
       "      <td>Brown Brindle/White</td>\n",
       "    </tr>\n",
       "    <tr>\n",
       "      <th>124119</th>\n",
       "      <td>A830181</td>\n",
       "      <td>Nona</td>\n",
       "      <td>03/03/2021 04:31:00 PM</td>\n",
       "      <td>03/03/2021 04:31:00 PM</td>\n",
       "      <td>Austin (TX)</td>\n",
       "      <td>Owner Surrender</td>\n",
       "      <td>Normal</td>\n",
       "      <td>Cat</td>\n",
       "      <td>Spayed Female</td>\n",
       "      <td>4 years</td>\n",
       "      <td>Domestic Shorthair Mix</td>\n",
       "      <td>White/Black</td>\n",
       "    </tr>\n",
       "  </tbody>\n",
       "</table>\n",
       "</div>"
      ],
      "text/plain": [
       "       Animal ID  Name  ...                   Breed                Color\n",
       "124118   A830171   NaN  ...         Plott Hound Mix  Brown Brindle/White\n",
       "124119   A830181  Nona  ...  Domestic Shorthair Mix          White/Black\n",
       "\n",
       "[2 rows x 12 columns]"
      ]
     },
     "execution_count": 2,
     "metadata": {
      "tags": []
     },
     "output_type": "execute_result"
    }
   ],
   "source": [
    "file_intakes = 'https://raw.githubusercontent.com/meirPazKershtain/final_project2021/main/Austin_Animal_Center_Intakes.csv'\n",
    "file_intakes = pd.read_csv(file_intakes)\n",
    "file_intakes.tail(2)"
   ]
  },
  {
   "cell_type": "code",
   "execution_count": 3,
   "metadata": {
    "colab": {
     "base_uri": "https://localhost:8080/",
     "height": 162
    },
    "id": "gmT4HLZoE8k7",
    "outputId": "469d7db6-fe56-45dd-b2b3-ddc5b388c7a1"
   },
   "outputs": [
    {
     "data": {
      "text/html": [
       "<div>\n",
       "<style scoped>\n",
       "    .dataframe tbody tr th:only-of-type {\n",
       "        vertical-align: middle;\n",
       "    }\n",
       "\n",
       "    .dataframe tbody tr th {\n",
       "        vertical-align: top;\n",
       "    }\n",
       "\n",
       "    .dataframe thead th {\n",
       "        text-align: right;\n",
       "    }\n",
       "</style>\n",
       "<table border=\"1\" class=\"dataframe\">\n",
       "  <thead>\n",
       "    <tr style=\"text-align: right;\">\n",
       "      <th></th>\n",
       "      <th>Animal ID</th>\n",
       "      <th>Name</th>\n",
       "      <th>DateTime</th>\n",
       "      <th>MonthYear</th>\n",
       "      <th>Date of Birth</th>\n",
       "      <th>Outcome Type</th>\n",
       "      <th>Outcome Subtype</th>\n",
       "      <th>Animal Type</th>\n",
       "      <th>Sex upon Outcome</th>\n",
       "      <th>Age upon Outcome</th>\n",
       "      <th>Breed</th>\n",
       "      <th>Color</th>\n",
       "    </tr>\n",
       "  </thead>\n",
       "  <tbody>\n",
       "    <tr>\n",
       "      <th>124489</th>\n",
       "      <td>A829964</td>\n",
       "      <td>NaN</td>\n",
       "      <td>03/03/2021 05:57:00 PM</td>\n",
       "      <td>03/03/2021 05:57:00 PM</td>\n",
       "      <td>11/27/2020</td>\n",
       "      <td>Adoption</td>\n",
       "      <td>NaN</td>\n",
       "      <td>Dog</td>\n",
       "      <td>Neutered Male</td>\n",
       "      <td>3 months</td>\n",
       "      <td>Labrador Retriever</td>\n",
       "      <td>Cream</td>\n",
       "    </tr>\n",
       "    <tr>\n",
       "      <th>124490</th>\n",
       "      <td>A828158</td>\n",
       "      <td>Odin</td>\n",
       "      <td>03/03/2021 05:19:00 PM</td>\n",
       "      <td>03/03/2021 05:19:00 PM</td>\n",
       "      <td>03/09/2020</td>\n",
       "      <td>Adoption</td>\n",
       "      <td>NaN</td>\n",
       "      <td>Dog</td>\n",
       "      <td>Neutered Male</td>\n",
       "      <td>11 months</td>\n",
       "      <td>Rottweiler Mix</td>\n",
       "      <td>Black/Tan</td>\n",
       "    </tr>\n",
       "  </tbody>\n",
       "</table>\n",
       "</div>"
      ],
      "text/plain": [
       "       Animal ID  Name  ...               Breed      Color\n",
       "124489   A829964   NaN  ...  Labrador Retriever      Cream\n",
       "124490   A828158  Odin  ...      Rottweiler Mix  Black/Tan\n",
       "\n",
       "[2 rows x 12 columns]"
      ]
     },
     "execution_count": 3,
     "metadata": {
      "tags": []
     },
     "output_type": "execute_result"
    }
   ],
   "source": [
    "file_Outcomes ='https://raw.githubusercontent.com/meirPazKershtain/final_project2021/main/Austin_Animal_Center_Outcomes.csv'\n",
    "file_Outcomes = pd.read_csv(file_Outcomes)\n",
    "file_Outcomes.tail(2)"
   ]
  },
  {
   "cell_type": "code",
   "execution_count": 4,
   "metadata": {
    "colab": {
     "base_uri": "https://localhost:8080/",
     "height": 250
    },
    "id": "TGpY15faE8k8",
    "outputId": "bca371f5-48f3-4891-c6b7-dd635098f3fa"
   },
   "outputs": [
    {
     "data": {
      "text/html": [
       "<div>\n",
       "<style scoped>\n",
       "    .dataframe tbody tr th:only-of-type {\n",
       "        vertical-align: middle;\n",
       "    }\n",
       "\n",
       "    .dataframe tbody tr th {\n",
       "        vertical-align: top;\n",
       "    }\n",
       "\n",
       "    .dataframe thead th {\n",
       "        text-align: right;\n",
       "    }\n",
       "</style>\n",
       "<table border=\"1\" class=\"dataframe\">\n",
       "  <thead>\n",
       "    <tr style=\"text-align: right;\">\n",
       "      <th></th>\n",
       "      <th>Animal ID</th>\n",
       "      <th>Name_x</th>\n",
       "      <th>DateTime_x</th>\n",
       "      <th>MonthYear_x</th>\n",
       "      <th>Found Location</th>\n",
       "      <th>Intake Type</th>\n",
       "      <th>Intake Condition</th>\n",
       "      <th>Animal Type_x</th>\n",
       "      <th>Sex upon Intake</th>\n",
       "      <th>Age upon Intake</th>\n",
       "      <th>Breed_x</th>\n",
       "      <th>Color_x</th>\n",
       "      <th>Name_y</th>\n",
       "      <th>DateTime_y</th>\n",
       "      <th>MonthYear_y</th>\n",
       "      <th>Date of Birth</th>\n",
       "      <th>Outcome Type</th>\n",
       "      <th>Outcome Subtype</th>\n",
       "      <th>Animal Type_y</th>\n",
       "      <th>Sex upon Outcome</th>\n",
       "      <th>Age upon Outcome</th>\n",
       "      <th>Breed_y</th>\n",
       "      <th>Color_y</th>\n",
       "    </tr>\n",
       "  </thead>\n",
       "  <tbody>\n",
       "    <tr>\n",
       "      <th>160426</th>\n",
       "      <td>A829868</td>\n",
       "      <td>Remy</td>\n",
       "      <td>02/25/2021 11:40:00 AM</td>\n",
       "      <td>02/25/2021 11:40:00 AM</td>\n",
       "      <td>Valdez in Austin (TX)</td>\n",
       "      <td>Stray</td>\n",
       "      <td>Normal</td>\n",
       "      <td>Dog</td>\n",
       "      <td>Neutered Male</td>\n",
       "      <td>1 year</td>\n",
       "      <td>Beagle/Labrador Retriever</td>\n",
       "      <td>Tricolor</td>\n",
       "      <td>Remy</td>\n",
       "      <td>03/03/2021 03:47:00 PM</td>\n",
       "      <td>03/03/2021 03:47:00 PM</td>\n",
       "      <td>02/25/2020</td>\n",
       "      <td>Adoption</td>\n",
       "      <td>NaN</td>\n",
       "      <td>Dog</td>\n",
       "      <td>Neutered Male</td>\n",
       "      <td>1 year</td>\n",
       "      <td>Beagle/Labrador Retriever</td>\n",
       "      <td>Tricolor</td>\n",
       "    </tr>\n",
       "    <tr>\n",
       "      <th>160427</th>\n",
       "      <td>A828158</td>\n",
       "      <td>Odin</td>\n",
       "      <td>01/08/2021 07:01:00 PM</td>\n",
       "      <td>01/08/2021 07:01:00 PM</td>\n",
       "      <td>2224 E Stassney in Austin (TX)</td>\n",
       "      <td>Stray</td>\n",
       "      <td>Normal</td>\n",
       "      <td>Dog</td>\n",
       "      <td>Intact Male</td>\n",
       "      <td>10 months</td>\n",
       "      <td>Rottweiler Mix</td>\n",
       "      <td>Black/Tan</td>\n",
       "      <td>Odin</td>\n",
       "      <td>03/03/2021 05:19:00 PM</td>\n",
       "      <td>03/03/2021 05:19:00 PM</td>\n",
       "      <td>03/09/2020</td>\n",
       "      <td>Adoption</td>\n",
       "      <td>NaN</td>\n",
       "      <td>Dog</td>\n",
       "      <td>Neutered Male</td>\n",
       "      <td>11 months</td>\n",
       "      <td>Rottweiler Mix</td>\n",
       "      <td>Black/Tan</td>\n",
       "    </tr>\n",
       "  </tbody>\n",
       "</table>\n",
       "</div>"
      ],
      "text/plain": [
       "       Animal ID Name_x  ...                    Breed_y    Color_y\n",
       "160426   A829868   Remy  ...  Beagle/Labrador Retriever   Tricolor\n",
       "160427   A828158   Odin  ...             Rottweiler Mix  Black/Tan\n",
       "\n",
       "[2 rows x 23 columns]"
      ]
     },
     "execution_count": 4,
     "metadata": {
      "tags": []
     },
     "output_type": "execute_result"
    }
   ],
   "source": [
    "full_file = pd.merge(file_intakes,file_Outcomes,on='Animal ID')\n",
    "full_file\n",
    "full_file.tail(2)"
   ]
  },
  {
   "cell_type": "code",
   "execution_count": 5,
   "metadata": {
    "colab": {
     "base_uri": "https://localhost:8080/"
    },
    "id": "-oc0jGnYE8k9",
    "outputId": "d04c1271-8404-4a44-a0db-e59adbd8438d"
   },
   "outputs": [
    {
     "data": {
      "text/plain": [
       "Index(['Animal ID', 'Name_x', 'DateTime_x', 'MonthYear_x', 'Found Location',\n",
       "       'Intake Type', 'Intake Condition', 'Animal Type_x', 'Sex upon Intake',\n",
       "       'Age upon Intake', 'Breed_x', 'Color_x', 'Name_y', 'DateTime_y',\n",
       "       'MonthYear_y', 'Date of Birth', 'Outcome Type', 'Outcome Subtype',\n",
       "       'Animal Type_y', 'Sex upon Outcome', 'Age upon Outcome', 'Breed_y',\n",
       "       'Color_y'],\n",
       "      dtype='object')"
      ]
     },
     "execution_count": 5,
     "metadata": {
      "tags": []
     },
     "output_type": "execute_result"
    }
   ],
   "source": [
    "full_file.keys()"
   ]
  },
  {
   "cell_type": "markdown",
   "metadata": {
    "id": "36sqtTyVE8k9"
   },
   "source": [
    "ניקוי הדאטה מעמודות   שלא רלוונטיות להמשך"
   ]
  },
  {
   "cell_type": "code",
   "execution_count": 6,
   "metadata": {
    "id": "irL7qVq9E8k9"
   },
   "outputs": [],
   "source": [
    "full_file = full_file.drop(columns=['Found Location' ,'Name_x','MonthYear_x','MonthYear_y','Outcome Subtype','Name_y','Breed_x','Animal Type_y','Color_x','Age upon Outcome','Age upon Intake','Breed_x', 'Color_x'])"
   ]
  },
  {
   "cell_type": "code",
   "execution_count": 7,
   "metadata": {
    "colab": {
     "base_uri": "https://localhost:8080/"
    },
    "id": "Necn3qSUE8k-",
    "outputId": "b8e4c08f-aa28-422a-fc22-7e4a4e5204c3"
   },
   "outputs": [
    {
     "data": {
      "text/plain": [
       "Outcome Type        29\n",
       "Sex upon Outcome     1\n",
       "Sex upon Intake      1\n",
       "Color_y              0\n",
       "Breed_y              0\n",
       "Date of Birth        0\n",
       "DateTime_y           0\n",
       "Animal Type_x        0\n",
       "Intake Condition     0\n",
       "Intake Type          0\n",
       "DateTime_x           0\n",
       "Animal ID            0\n",
       "dtype: int64"
      ]
     },
     "execution_count": 7,
     "metadata": {
      "tags": []
     },
     "output_type": "execute_result"
    }
   ],
   "source": [
    "full_file.isnull().sum().sort_values(ascending=False)"
   ]
  },
  {
   "cell_type": "code",
   "execution_count": 8,
   "metadata": {
    "id": "l_DhoaAnE8k-"
   },
   "outputs": [],
   "source": [
    "full_file.dropna(inplace=True)"
   ]
  },
  {
   "cell_type": "code",
   "execution_count": 9,
   "metadata": {
    "colab": {
     "base_uri": "https://localhost:8080/"
    },
    "id": "tw7TsjA5E8k_",
    "outputId": "355acdde-374b-42e9-85ab-c18067552940"
   },
   "outputs": [
    {
     "data": {
      "text/plain": [
       "Color_y             0\n",
       "Breed_y             0\n",
       "Sex upon Outcome    0\n",
       "Outcome Type        0\n",
       "Date of Birth       0\n",
       "DateTime_y          0\n",
       "Sex upon Intake     0\n",
       "Animal Type_x       0\n",
       "Intake Condition    0\n",
       "Intake Type         0\n",
       "DateTime_x          0\n",
       "Animal ID           0\n",
       "dtype: int64"
      ]
     },
     "execution_count": 9,
     "metadata": {
      "tags": []
     },
     "output_type": "execute_result"
    }
   ],
   "source": [
    "full_file.isnull().sum().sort_values(ascending=False)"
   ]
  },
  {
   "cell_type": "markdown",
   "metadata": {
    "id": "Ao14DI36E8k_"
   },
   "source": [
    "   datetime-העברה ל  "
   ]
  },
  {
   "cell_type": "code",
   "execution_count": 10,
   "metadata": {
    "id": "auTcrKcTE8lA"
   },
   "outputs": [],
   "source": [
    "full_file['DateTime_x'] = pd.to_datetime(full_file.DateTime_x)#תאריך כניסה\n",
    "full_file['DateTime_y'] = pd.to_datetime(full_file.DateTime_y)#תאריך יציאה"
   ]
  },
  {
   "cell_type": "code",
   "execution_count": 11,
   "metadata": {
    "colab": {
     "base_uri": "https://localhost:8080/",
     "height": 306
    },
    "id": "0w02sHASE8lA",
    "outputId": "c12eb522-5df7-45fb-cad5-a61f64d75e4b"
   },
   "outputs": [
    {
     "data": {
      "text/html": [
       "<div>\n",
       "<style scoped>\n",
       "    .dataframe tbody tr th:only-of-type {\n",
       "        vertical-align: middle;\n",
       "    }\n",
       "\n",
       "    .dataframe tbody tr th {\n",
       "        vertical-align: top;\n",
       "    }\n",
       "\n",
       "    .dataframe thead th {\n",
       "        text-align: right;\n",
       "    }\n",
       "</style>\n",
       "<table border=\"1\" class=\"dataframe\">\n",
       "  <thead>\n",
       "    <tr style=\"text-align: right;\">\n",
       "      <th></th>\n",
       "      <th>Date of Birth</th>\n",
       "      <th>DateTime_x</th>\n",
       "      <th>DateTime_y</th>\n",
       "      <th>Animal Type_x</th>\n",
       "      <th>Intake Condition</th>\n",
       "      <th>Outcome Type</th>\n",
       "      <th>Intake Type</th>\n",
       "      <th>Sex upon Outcome</th>\n",
       "      <th>Breed_y</th>\n",
       "      <th>Color_y</th>\n",
       "    </tr>\n",
       "  </thead>\n",
       "  <tbody>\n",
       "    <tr>\n",
       "      <th>160422</th>\n",
       "      <td>03/03/2020</td>\n",
       "      <td>2021-03-03 13:28:00</td>\n",
       "      <td>2021-03-03 14:46:00</td>\n",
       "      <td>Other</td>\n",
       "      <td>Sick</td>\n",
       "      <td>Euthanasia</td>\n",
       "      <td>Wildlife</td>\n",
       "      <td>Unknown</td>\n",
       "      <td>Raccoon</td>\n",
       "      <td>Black</td>\n",
       "    </tr>\n",
       "    <tr>\n",
       "      <th>160424</th>\n",
       "      <td>09/21/2017</td>\n",
       "      <td>2021-02-21 14:56:00</td>\n",
       "      <td>2021-02-21 17:28:00</td>\n",
       "      <td>Dog</td>\n",
       "      <td>Normal</td>\n",
       "      <td>Adoption</td>\n",
       "      <td>Stray</td>\n",
       "      <td>Intact Male</td>\n",
       "      <td>Chihuahua Shorthair</td>\n",
       "      <td>Brown</td>\n",
       "    </tr>\n",
       "    <tr>\n",
       "      <th>160425</th>\n",
       "      <td>11/14/2017</td>\n",
       "      <td>2018-01-14 11:31:00</td>\n",
       "      <td>2018-01-15 17:12:00</td>\n",
       "      <td>Dog</td>\n",
       "      <td>Normal</td>\n",
       "      <td>Adoption</td>\n",
       "      <td>Owner Surrender</td>\n",
       "      <td>Neutered Male</td>\n",
       "      <td>Chihuahua Shorthair Mix</td>\n",
       "      <td>Tan/White</td>\n",
       "    </tr>\n",
       "    <tr>\n",
       "      <th>160426</th>\n",
       "      <td>02/25/2020</td>\n",
       "      <td>2021-02-25 11:40:00</td>\n",
       "      <td>2021-03-03 15:47:00</td>\n",
       "      <td>Dog</td>\n",
       "      <td>Normal</td>\n",
       "      <td>Adoption</td>\n",
       "      <td>Stray</td>\n",
       "      <td>Neutered Male</td>\n",
       "      <td>Beagle/Labrador Retriever</td>\n",
       "      <td>Tricolor</td>\n",
       "    </tr>\n",
       "    <tr>\n",
       "      <th>160427</th>\n",
       "      <td>03/09/2020</td>\n",
       "      <td>2021-01-08 19:01:00</td>\n",
       "      <td>2021-03-03 17:19:00</td>\n",
       "      <td>Dog</td>\n",
       "      <td>Normal</td>\n",
       "      <td>Adoption</td>\n",
       "      <td>Stray</td>\n",
       "      <td>Neutered Male</td>\n",
       "      <td>Rottweiler Mix</td>\n",
       "      <td>Black/Tan</td>\n",
       "    </tr>\n",
       "  </tbody>\n",
       "</table>\n",
       "</div>"
      ],
      "text/plain": [
       "       Date of Birth          DateTime_x  ...                    Breed_y    Color_y\n",
       "160422    03/03/2020 2021-03-03 13:28:00  ...                    Raccoon      Black\n",
       "160424    09/21/2017 2021-02-21 14:56:00  ...        Chihuahua Shorthair      Brown\n",
       "160425    11/14/2017 2018-01-14 11:31:00  ...    Chihuahua Shorthair Mix  Tan/White\n",
       "160426    02/25/2020 2021-02-25 11:40:00  ...  Beagle/Labrador Retriever   Tricolor\n",
       "160427    03/09/2020 2021-01-08 19:01:00  ...             Rottweiler Mix  Black/Tan\n",
       "\n",
       "[5 rows x 10 columns]"
      ]
     },
     "execution_count": 11,
     "metadata": {
      "tags": []
     },
     "output_type": "execute_result"
    }
   ],
   "source": [
    "how_long_duration =full_file[['Date of Birth','DateTime_x','DateTime_y','Animal Type_x','Intake Condition','Outcome Type','Intake Type','Sex upon Outcome','Breed_y','Color_y']]\n",
    "how_long_duration.tail()"
   ]
  },
  {
   "cell_type": "markdown",
   "metadata": {
    "id": "HA0xqeG6E8lA"
   },
   "source": [
    "מציאת הזמן בין הכניסה ליציאה"
   ]
  },
  {
   "cell_type": "code",
   "execution_count": 12,
   "metadata": {
    "colab": {
     "base_uri": "https://localhost:8080/",
     "height": 210
    },
    "id": "C37RXGcAE8lB",
    "outputId": "d85dbd90-8734-406d-d6be-0175f1755356"
   },
   "outputs": [
    {
     "data": {
      "text/html": [
       "<div>\n",
       "<style scoped>\n",
       "    .dataframe tbody tr th:only-of-type {\n",
       "        vertical-align: middle;\n",
       "    }\n",
       "\n",
       "    .dataframe tbody tr th {\n",
       "        vertical-align: top;\n",
       "    }\n",
       "\n",
       "    .dataframe thead th {\n",
       "        text-align: right;\n",
       "    }\n",
       "</style>\n",
       "<table border=\"1\" class=\"dataframe\">\n",
       "  <thead>\n",
       "    <tr style=\"text-align: right;\">\n",
       "      <th></th>\n",
       "      <th>Date of Birth</th>\n",
       "      <th>DateTime_x</th>\n",
       "      <th>DateTime_y</th>\n",
       "      <th>Animal Type_x</th>\n",
       "      <th>Intake Condition</th>\n",
       "      <th>Outcome Type</th>\n",
       "      <th>Intake Type</th>\n",
       "      <th>Sex upon Outcome</th>\n",
       "      <th>Breed_y</th>\n",
       "      <th>Color_y</th>\n",
       "      <th>duration</th>\n",
       "      <th>Age upon Intake</th>\n",
       "      <th>Age upon Outcome</th>\n",
       "    </tr>\n",
       "  </thead>\n",
       "  <tbody>\n",
       "    <tr>\n",
       "      <th>160425</th>\n",
       "      <td>2017-11-14</td>\n",
       "      <td>2018-01-14 11:31:00</td>\n",
       "      <td>2018-01-15 17:12:00</td>\n",
       "      <td>Dog</td>\n",
       "      <td>Normal</td>\n",
       "      <td>Adoption</td>\n",
       "      <td>Owner Surrender</td>\n",
       "      <td>Neutered Male</td>\n",
       "      <td>Chihuahua Shorthair Mix</td>\n",
       "      <td>Tan/White</td>\n",
       "      <td>1 days 05:41:00</td>\n",
       "      <td>61 days 11:31:00</td>\n",
       "      <td>62 days 17:12:00</td>\n",
       "    </tr>\n",
       "    <tr>\n",
       "      <th>160426</th>\n",
       "      <td>2020-02-25</td>\n",
       "      <td>2021-02-25 11:40:00</td>\n",
       "      <td>2021-03-03 15:47:00</td>\n",
       "      <td>Dog</td>\n",
       "      <td>Normal</td>\n",
       "      <td>Adoption</td>\n",
       "      <td>Stray</td>\n",
       "      <td>Neutered Male</td>\n",
       "      <td>Beagle/Labrador Retriever</td>\n",
       "      <td>Tricolor</td>\n",
       "      <td>6 days 04:07:00</td>\n",
       "      <td>366 days 11:40:00</td>\n",
       "      <td>372 days 15:47:00</td>\n",
       "    </tr>\n",
       "    <tr>\n",
       "      <th>160427</th>\n",
       "      <td>2020-03-09</td>\n",
       "      <td>2021-01-08 19:01:00</td>\n",
       "      <td>2021-03-03 17:19:00</td>\n",
       "      <td>Dog</td>\n",
       "      <td>Normal</td>\n",
       "      <td>Adoption</td>\n",
       "      <td>Stray</td>\n",
       "      <td>Neutered Male</td>\n",
       "      <td>Rottweiler Mix</td>\n",
       "      <td>Black/Tan</td>\n",
       "      <td>53 days 22:18:00</td>\n",
       "      <td>305 days 19:01:00</td>\n",
       "      <td>359 days 17:19:00</td>\n",
       "    </tr>\n",
       "  </tbody>\n",
       "</table>\n",
       "</div>"
      ],
      "text/plain": [
       "       Date of Birth          DateTime_x  ...   Age upon Intake  Age upon Outcome\n",
       "160425    2017-11-14 2018-01-14 11:31:00  ...  61 days 11:31:00  62 days 17:12:00\n",
       "160426    2020-02-25 2021-02-25 11:40:00  ... 366 days 11:40:00 372 days 15:47:00\n",
       "160427    2020-03-09 2021-01-08 19:01:00  ... 305 days 19:01:00 359 days 17:19:00\n",
       "\n",
       "[3 rows x 13 columns]"
      ]
     },
     "execution_count": 12,
     "metadata": {
      "tags": []
     },
     "output_type": "execute_result"
    }
   ],
   "source": [
    "how_long_duration = how_long_duration.copy()\n",
    "how_long_duration['duration'] = how_long_duration['DateTime_y'] - how_long_duration['DateTime_x']\n",
    "how_long_duration['Date of Birth'] = pd.to_datetime(how_long_duration['Date of Birth'])\n",
    "how_long_duration['Age upon Intake']=how_long_duration['DateTime_x']-how_long_duration['Date of Birth']  \n",
    "how_long_duration['Age upon Outcome']=how_long_duration['DateTime_y']-how_long_duration['Date of Birth']\n",
    "how_long_duration.tail(3)"
   ]
  },
  {
   "cell_type": "code",
   "execution_count": 13,
   "metadata": {
    "colab": {
     "base_uri": "https://localhost:8080/",
     "height": 227
    },
    "id": "W4JAecQuE8lB",
    "outputId": "d77927a7-b5ff-408c-8771-53ec5c3f62d6"
   },
   "outputs": [
    {
     "data": {
      "text/html": [
       "<div>\n",
       "<style scoped>\n",
       "    .dataframe tbody tr th:only-of-type {\n",
       "        vertical-align: middle;\n",
       "    }\n",
       "\n",
       "    .dataframe tbody tr th {\n",
       "        vertical-align: top;\n",
       "    }\n",
       "\n",
       "    .dataframe thead th {\n",
       "        text-align: right;\n",
       "    }\n",
       "</style>\n",
       "<table border=\"1\" class=\"dataframe\">\n",
       "  <thead>\n",
       "    <tr style=\"text-align: right;\">\n",
       "      <th></th>\n",
       "      <th>Date of Birth</th>\n",
       "      <th>DateTime_x</th>\n",
       "      <th>DateTime_y</th>\n",
       "      <th>Animal Type_x</th>\n",
       "      <th>Intake Condition</th>\n",
       "      <th>Outcome Type</th>\n",
       "      <th>Intake Type</th>\n",
       "      <th>Sex upon Outcome</th>\n",
       "      <th>Breed_y</th>\n",
       "      <th>Color_y</th>\n",
       "      <th>duration</th>\n",
       "      <th>Age upon Intake</th>\n",
       "      <th>Age upon Outcome</th>\n",
       "    </tr>\n",
       "  </thead>\n",
       "  <tbody>\n",
       "    <tr>\n",
       "      <th>160425</th>\n",
       "      <td>2017-11-14</td>\n",
       "      <td>2018-01-14 11:31:00</td>\n",
       "      <td>2018-01-15 17:12:00</td>\n",
       "      <td>Dog</td>\n",
       "      <td>Normal</td>\n",
       "      <td>Adoption</td>\n",
       "      <td>Owner Surrender</td>\n",
       "      <td>Neutered Male</td>\n",
       "      <td>Chihuahua Shorthair Mix</td>\n",
       "      <td>Tan/White</td>\n",
       "      <td>1</td>\n",
       "      <td>61</td>\n",
       "      <td>62</td>\n",
       "    </tr>\n",
       "    <tr>\n",
       "      <th>160426</th>\n",
       "      <td>2020-02-25</td>\n",
       "      <td>2021-02-25 11:40:00</td>\n",
       "      <td>2021-03-03 15:47:00</td>\n",
       "      <td>Dog</td>\n",
       "      <td>Normal</td>\n",
       "      <td>Adoption</td>\n",
       "      <td>Stray</td>\n",
       "      <td>Neutered Male</td>\n",
       "      <td>Beagle/Labrador Retriever</td>\n",
       "      <td>Tricolor</td>\n",
       "      <td>6</td>\n",
       "      <td>366</td>\n",
       "      <td>372</td>\n",
       "    </tr>\n",
       "    <tr>\n",
       "      <th>160427</th>\n",
       "      <td>2020-03-09</td>\n",
       "      <td>2021-01-08 19:01:00</td>\n",
       "      <td>2021-03-03 17:19:00</td>\n",
       "      <td>Dog</td>\n",
       "      <td>Normal</td>\n",
       "      <td>Adoption</td>\n",
       "      <td>Stray</td>\n",
       "      <td>Neutered Male</td>\n",
       "      <td>Rottweiler Mix</td>\n",
       "      <td>Black/Tan</td>\n",
       "      <td>53</td>\n",
       "      <td>305</td>\n",
       "      <td>359</td>\n",
       "    </tr>\n",
       "  </tbody>\n",
       "</table>\n",
       "</div>"
      ],
      "text/plain": [
       "       Date of Birth          DateTime_x  ... Age upon Intake Age upon Outcome\n",
       "160425    2017-11-14 2018-01-14 11:31:00  ...              61               62\n",
       "160426    2020-02-25 2021-02-25 11:40:00  ...             366              372\n",
       "160427    2020-03-09 2021-01-08 19:01:00  ...             305              359\n",
       "\n",
       "[3 rows x 13 columns]"
      ]
     },
     "execution_count": 13,
     "metadata": {
      "tags": []
     },
     "output_type": "execute_result"
    }
   ],
   "source": [
    "int_intake=how_long_duration['Age upon Intake']##העברה למספר על פי הימים בתאריכי כניסה יציאה וזמן שההייה\n",
    "int_intake=int_intake.dt.days\n",
    "how_long_duration['Age upon Intake']=int_intake\n",
    "\n",
    "int_outcome=how_long_duration['Age upon Outcome']\n",
    "int_outcome=int_outcome.dt.days\n",
    "how_long_duration['Age upon Outcome']=int_outcome\n",
    "\n",
    "int_duration=how_long_duration['duration']\n",
    "int_duration=int_duration.dt.days\n",
    "how_long_duration['duration']=int_duration\n",
    "how_long_duration.tail(3)"
   ]
  },
  {
   "cell_type": "markdown",
   "metadata": {
    "id": "ltURrEvHE8lC"
   },
   "source": [
    "  כמות בעלי החיים לכל סוג "
   ]
  },
  {
   "cell_type": "code",
   "execution_count": 14,
   "metadata": {
    "colab": {
     "base_uri": "https://localhost:8080/",
     "height": 297
    },
    "id": "n4-ZOPsFE8lC",
    "outputId": "82a1056f-99bc-4f87-a399-5a07340d8c0f"
   },
   "outputs": [
    {
     "data": {
      "text/plain": [
       "<matplotlib.axes._subplots.AxesSubplot at 0x7f4c875d9450>"
      ]
     },
     "execution_count": 14,
     "metadata": {
      "tags": []
     },
     "output_type": "execute_result"
    },
    {
     "data": {
      "image/png": "[encoded data removed]",
      "text/plain": [
       "<Figure size 432x288 with 1 Axes>"
      ]
     },
     "metadata": {
      "needs_background": "light",
      "tags": []
     },
     "output_type": "display_data"
    }
   ],
   "source": [
    "sns.countplot(x=\"Animal Type_x\", data=how_long_duration)"
   ]
  },
  {
   "cell_type": "markdown",
   "metadata": {
    "id": "1DwpSpnzE8lC"
   },
   "source": [
    "אופני היציאה השונים "
   ]
  },
  {
   "cell_type": "code",
   "execution_count": 15,
   "metadata": {
    "colab": {
     "base_uri": "https://localhost:8080/",
     "height": 405
    },
    "id": "m_ehXou4E8lD",
    "outputId": "ad829fcd-b922-4542-c001-bd86bc9a7474"
   },
   "outputs": [
    {
     "data": {
      "text/plain": [
       "<matplotlib.axes._subplots.AxesSubplot at 0x7f4c73992890>"
      ]
     },
     "execution_count": 15,
     "metadata": {
      "tags": []
     },
     "output_type": "execute_result"
    },
    {
     "data": {
      "image/png": "[encoded data removed]",
      "text/plain": [
       "<Figure size 1008x432 with 1 Axes>"
      ]
     },
     "metadata": {
      "needs_background": "light",
      "tags": []
     },
     "output_type": "display_data"
    }
   ],
   "source": [
    "plt.figure(figsize=(14,6))\n",
    "sns.countplot(x='Outcome Type', data=how_long_duration)"
   ]
  },
  {
   "cell_type": "markdown",
   "metadata": {
    "id": "VPgN6waYE8lD"
   },
   "source": [
    "ווידוא לערכים שיצאו "
   ]
  },
  {
   "cell_type": "code",
   "execution_count": 16,
   "metadata": {
    "colab": {
     "base_uri": "https://localhost:8080/",
     "height": 227
    },
    "id": "OoOt0sgSE8lD",
    "outputId": "8c1381d5-70e3-4979-8bed-644f94a7481b"
   },
   "outputs": [
    {
     "data": {
      "text/html": [
       "<div>\n",
       "<style scoped>\n",
       "    .dataframe tbody tr th:only-of-type {\n",
       "        vertical-align: middle;\n",
       "    }\n",
       "\n",
       "    .dataframe tbody tr th {\n",
       "        vertical-align: top;\n",
       "    }\n",
       "\n",
       "    .dataframe thead th {\n",
       "        text-align: right;\n",
       "    }\n",
       "</style>\n",
       "<table border=\"1\" class=\"dataframe\">\n",
       "  <thead>\n",
       "    <tr style=\"text-align: right;\">\n",
       "      <th></th>\n",
       "      <th>Date of Birth</th>\n",
       "      <th>DateTime_x</th>\n",
       "      <th>DateTime_y</th>\n",
       "      <th>Animal Type_x</th>\n",
       "      <th>Intake Condition</th>\n",
       "      <th>Outcome Type</th>\n",
       "      <th>Intake Type</th>\n",
       "      <th>Sex upon Outcome</th>\n",
       "      <th>Breed_y</th>\n",
       "      <th>Color_y</th>\n",
       "      <th>duration</th>\n",
       "      <th>Age upon Intake</th>\n",
       "      <th>Age upon Outcome</th>\n",
       "    </tr>\n",
       "  </thead>\n",
       "  <tbody>\n",
       "    <tr>\n",
       "      <th>6566</th>\n",
       "      <td>2008-01-20</td>\n",
       "      <td>2021-02-24 08:26:00</td>\n",
       "      <td>2014-01-29 16:09:00</td>\n",
       "      <td>Dog</td>\n",
       "      <td>Aged</td>\n",
       "      <td>Return to Owner</td>\n",
       "      <td>Public Assist</td>\n",
       "      <td>Spayed Female</td>\n",
       "      <td>Beagle/Jack Russell Terrier</td>\n",
       "      <td>White/Tan</td>\n",
       "      <td>-2583</td>\n",
       "      <td>4784</td>\n",
       "      <td>2201</td>\n",
       "    </tr>\n",
       "    <tr>\n",
       "      <th>19047</th>\n",
       "      <td>2012-11-24</td>\n",
       "      <td>2020-11-14 13:46:00</td>\n",
       "      <td>2013-11-27 15:55:00</td>\n",
       "      <td>Dog</td>\n",
       "      <td>Normal</td>\n",
       "      <td>Return to Owner</td>\n",
       "      <td>Stray</td>\n",
       "      <td>Neutered Male</td>\n",
       "      <td>Chihuahua Shorthair Mix</td>\n",
       "      <td>Tan/White</td>\n",
       "      <td>-2544</td>\n",
       "      <td>2912</td>\n",
       "      <td>368</td>\n",
       "    </tr>\n",
       "    <tr>\n",
       "      <th>140608</th>\n",
       "      <td>2005-02-13</td>\n",
       "      <td>2020-10-02 13:29:00</td>\n",
       "      <td>2014-01-15 11:17:00</td>\n",
       "      <td>Dog</td>\n",
       "      <td>Normal</td>\n",
       "      <td>Return to Owner</td>\n",
       "      <td>Public Assist</td>\n",
       "      <td>Neutered Male</td>\n",
       "      <td>Jack Russell Terrier/Maltese</td>\n",
       "      <td>White/Black</td>\n",
       "      <td>-2453</td>\n",
       "      <td>5710</td>\n",
       "      <td>3258</td>\n",
       "    </tr>\n",
       "  </tbody>\n",
       "</table>\n",
       "</div>"
      ],
      "text/plain": [
       "       Date of Birth          DateTime_x  ... Age upon Intake Age upon Outcome\n",
       "6566      2008-01-20 2021-02-24 08:26:00  ...            4784             2201\n",
       "19047     2012-11-24 2020-11-14 13:46:00  ...            2912              368\n",
       "140608    2005-02-13 2020-10-02 13:29:00  ...            5710             3258\n",
       "\n",
       "[3 rows x 13 columns]"
      ]
     },
     "execution_count": 16,
     "metadata": {
      "tags": []
     },
     "output_type": "execute_result"
    }
   ],
   "source": [
    "how_long_duration.sort_values(by='duration', ascending=True).head(3)"
   ]
  },
  {
   "cell_type": "markdown",
   "metadata": {
    "id": "_N5tGwAAE8lE"
   },
   "source": [
    "החלפת תאריכי כניסה ויציאה במקומות שהתבלבלו והכניסו תאריך יציאה לפני כניסה"
   ]
  },
  {
   "cell_type": "code",
   "execution_count": 17,
   "metadata": {
    "id": "V6nUloRhE8lE"
   },
   "outputs": [],
   "source": [
    "for i in range(len(how_long_duration)): \n",
    "    if how_long_duration.iloc[i,10]<0:\n",
    "        how_long_duration.iloc[i,11],how_long_duration.iloc[i,12]=how_long_duration.iloc[i,12],how_long_duration.iloc[i,11]"
   ]
  },
  {
   "cell_type": "markdown",
   "metadata": {
    "id": "otWFHVyFE8lF"
   },
   "source": [
    "יצא ערכים שללים בתאריך זה עקב בילבול בין תאריך הכניסה והיציאה\n",
    "נסדר אותם:"
   ]
  },
  {
   "cell_type": "code",
   "execution_count": 18,
   "metadata": {
    "colab": {
     "base_uri": "https://localhost:8080/",
     "height": 210
    },
    "id": "4OCPSKWFE8lF",
    "outputId": "8e37344b-2bdb-4e41-bc48-ebcb68be2fb2"
   },
   "outputs": [
    {
     "data": {
      "text/html": [
       "<div>\n",
       "<style scoped>\n",
       "    .dataframe tbody tr th:only-of-type {\n",
       "        vertical-align: middle;\n",
       "    }\n",
       "\n",
       "    .dataframe tbody tr th {\n",
       "        vertical-align: top;\n",
       "    }\n",
       "\n",
       "    .dataframe thead th {\n",
       "        text-align: right;\n",
       "    }\n",
       "</style>\n",
       "<table border=\"1\" class=\"dataframe\">\n",
       "  <thead>\n",
       "    <tr style=\"text-align: right;\">\n",
       "      <th></th>\n",
       "      <th>Date of Birth</th>\n",
       "      <th>DateTime_x</th>\n",
       "      <th>DateTime_y</th>\n",
       "      <th>Animal Type_x</th>\n",
       "      <th>Intake Condition</th>\n",
       "      <th>Outcome Type</th>\n",
       "      <th>Intake Type</th>\n",
       "      <th>Sex upon Outcome</th>\n",
       "      <th>Breed_y</th>\n",
       "      <th>Color_y</th>\n",
       "      <th>duration</th>\n",
       "      <th>Age upon Intake</th>\n",
       "      <th>Age upon Outcome</th>\n",
       "    </tr>\n",
       "  </thead>\n",
       "  <tbody>\n",
       "    <tr>\n",
       "      <th>135349</th>\n",
       "      <td>2014-08-07</td>\n",
       "      <td>2019-01-05 14:18:00</td>\n",
       "      <td>2019-01-05 17:31:00</td>\n",
       "      <td>Dog</td>\n",
       "      <td>Normal</td>\n",
       "      <td>Return to Owner</td>\n",
       "      <td>Stray</td>\n",
       "      <td>Intact Male</td>\n",
       "      <td>German Shepherd</td>\n",
       "      <td>Tan/Black</td>\n",
       "      <td>0</td>\n",
       "      <td>1612</td>\n",
       "      <td>1612</td>\n",
       "    </tr>\n",
       "    <tr>\n",
       "      <th>128064</th>\n",
       "      <td>2016-09-08</td>\n",
       "      <td>2016-10-08 11:28:00</td>\n",
       "      <td>2016-10-08 11:33:00</td>\n",
       "      <td>Other</td>\n",
       "      <td>Normal</td>\n",
       "      <td>Euthanasia</td>\n",
       "      <td>Wildlife</td>\n",
       "      <td>Unknown</td>\n",
       "      <td>Bat</td>\n",
       "      <td>Black/Brown</td>\n",
       "      <td>0</td>\n",
       "      <td>30</td>\n",
       "      <td>30</td>\n",
       "    </tr>\n",
       "    <tr>\n",
       "      <th>128065</th>\n",
       "      <td>2007-12-14</td>\n",
       "      <td>2013-12-14 12:34:00</td>\n",
       "      <td>2013-12-14 14:11:00</td>\n",
       "      <td>Dog</td>\n",
       "      <td>Normal</td>\n",
       "      <td>Return to Owner</td>\n",
       "      <td>Stray</td>\n",
       "      <td>Neutered Male</td>\n",
       "      <td>Great Dane</td>\n",
       "      <td>Black/White</td>\n",
       "      <td>0</td>\n",
       "      <td>2192</td>\n",
       "      <td>2192</td>\n",
       "    </tr>\n",
       "  </tbody>\n",
       "</table>\n",
       "</div>"
      ],
      "text/plain": [
       "       Date of Birth          DateTime_x  ... Age upon Intake Age upon Outcome\n",
       "135349    2014-08-07 2019-01-05 14:18:00  ...            1612             1612\n",
       "128064    2016-09-08 2016-10-08 11:28:00  ...              30               30\n",
       "128065    2007-12-14 2013-12-14 12:34:00  ...            2192             2192\n",
       "\n",
       "[3 rows x 13 columns]"
      ]
     },
     "execution_count": 18,
     "metadata": {
      "tags": []
     },
     "output_type": "execute_result"
    }
   ],
   "source": [
    "how_long_duration['duration']=how_long_duration['duration'].abs()\n",
    "how_long_duration.sort_values(by='duration', ascending=True).head(3)"
   ]
  },
  {
   "cell_type": "markdown",
   "metadata": {
    "id": "v1TfOT-iE8lF"
   },
   "source": [
    "נבדוק מה הסיפור עם הנתונים שיש להם 0 בזמן שהיה"
   ]
  },
  {
   "cell_type": "code",
   "execution_count": 19,
   "metadata": {
    "colab": {
     "base_uri": "https://localhost:8080/"
    },
    "id": "97PkuJVyE8lF",
    "outputId": "4f5a961a-c7e5-4a73-91da-ae51f1790568"
   },
   "outputs": [
    {
     "data": {
      "text/plain": [
       "Transfer           10187\n",
       "Return to Owner     8049\n",
       "Euthanasia          5861\n",
       "Adoption             818\n",
       "Died                 362\n",
       "Disposal             336\n",
       "Rto-Adopt             17\n",
       "Relocate               9\n",
       "Missing                3\n",
       "Name: Outcome Type, dtype: int64"
      ]
     },
     "execution_count": 19,
     "metadata": {
      "tags": []
     },
     "output_type": "execute_result"
    }
   ],
   "source": [
    "zero_duration_adoption = how_long_duration.loc[how_long_duration.duration < 1] \n",
    "zero_duration_adoption['Outcome Type'].value_counts()"
   ]
  },
  {
   "cell_type": "markdown",
   "metadata": {
    "id": "ldecOo6EE8lG"
   },
   "source": [
    "נראה שיש יציאות מסיבות שונות ובכמות גדולה ולכן לא ניגע "
   ]
  },
  {
   "cell_type": "markdown",
   "metadata": {
    "id": "AAJ1jgqxE8lG"
   },
   "source": [
    "ממוצע השהיה לחיות"
   ]
  },
  {
   "cell_type": "code",
   "execution_count": 20,
   "metadata": {
    "colab": {
     "base_uri": "https://localhost:8080/",
     "height": 235
    },
    "id": "eMFxl19XE8lG",
    "outputId": "34d2bb59-04c4-47a5-ead3-c54d2c695f5d"
   },
   "outputs": [
    {
     "data": {
      "text/html": [
       "<div>\n",
       "<style scoped>\n",
       "    .dataframe tbody tr th:only-of-type {\n",
       "        vertical-align: middle;\n",
       "    }\n",
       "\n",
       "    .dataframe tbody tr th {\n",
       "        vertical-align: top;\n",
       "    }\n",
       "\n",
       "    .dataframe thead th {\n",
       "        text-align: right;\n",
       "    }\n",
       "</style>\n",
       "<table border=\"1\" class=\"dataframe\">\n",
       "  <thead>\n",
       "    <tr style=\"text-align: right;\">\n",
       "      <th></th>\n",
       "      <th>duration</th>\n",
       "    </tr>\n",
       "    <tr>\n",
       "      <th>Animal Type_x</th>\n",
       "      <th></th>\n",
       "    </tr>\n",
       "  </thead>\n",
       "  <tbody>\n",
       "    <tr>\n",
       "      <th>Bird</th>\n",
       "      <td>8.061538</td>\n",
       "    </tr>\n",
       "    <tr>\n",
       "      <th>Cat</th>\n",
       "      <td>45.695588</td>\n",
       "    </tr>\n",
       "    <tr>\n",
       "      <th>Dog</th>\n",
       "      <td>112.197199</td>\n",
       "    </tr>\n",
       "    <tr>\n",
       "      <th>Livestock</th>\n",
       "      <td>79.368421</td>\n",
       "    </tr>\n",
       "    <tr>\n",
       "      <th>Other</th>\n",
       "      <td>5.458740</td>\n",
       "    </tr>\n",
       "  </tbody>\n",
       "</table>\n",
       "</div>"
      ],
      "text/plain": [
       "                 duration\n",
       "Animal Type_x            \n",
       "Bird             8.061538\n",
       "Cat             45.695588\n",
       "Dog            112.197199\n",
       "Livestock       79.368421\n",
       "Other            5.458740"
      ]
     },
     "execution_count": 20,
     "metadata": {
      "tags": []
     },
     "output_type": "execute_result"
    }
   ],
   "source": [
    " how_long_duration.pivot_table('duration','Animal Type_x')"
   ]
  },
  {
   "cell_type": "markdown",
   "metadata": {
    "id": "WZWiiH4JE8lH"
   },
   "source": [
    "ממוצע השהיה לחיות עד זמן האימוץ לחיות שאומצו  "
   ]
  },
  {
   "cell_type": "code",
   "execution_count": 21,
   "metadata": {
    "colab": {
     "base_uri": "https://localhost:8080/",
     "height": 235
    },
    "id": "Tb6WTQg4E8lH",
    "outputId": "314cc388-b0d8-4d34-ce8b-b3fe63a02d0f"
   },
   "outputs": [
    {
     "data": {
      "text/html": [
       "<div>\n",
       "<style scoped>\n",
       "    .dataframe tbody tr th:only-of-type {\n",
       "        vertical-align: middle;\n",
       "    }\n",
       "\n",
       "    .dataframe tbody tr th {\n",
       "        vertical-align: top;\n",
       "    }\n",
       "\n",
       "    .dataframe thead th {\n",
       "        text-align: right;\n",
       "    }\n",
       "</style>\n",
       "<table border=\"1\" class=\"dataframe\">\n",
       "  <thead>\n",
       "    <tr style=\"text-align: right;\">\n",
       "      <th></th>\n",
       "      <th>duration</th>\n",
       "    </tr>\n",
       "    <tr>\n",
       "      <th>Animal Type_x</th>\n",
       "      <th></th>\n",
       "    </tr>\n",
       "  </thead>\n",
       "  <tbody>\n",
       "    <tr>\n",
       "      <th>Bird</th>\n",
       "      <td>13.468293</td>\n",
       "    </tr>\n",
       "    <tr>\n",
       "      <th>Cat</th>\n",
       "      <td>67.829485</td>\n",
       "    </tr>\n",
       "    <tr>\n",
       "      <th>Dog</th>\n",
       "      <td>92.638925</td>\n",
       "    </tr>\n",
       "    <tr>\n",
       "      <th>Livestock</th>\n",
       "      <td>168.750000</td>\n",
       "    </tr>\n",
       "    <tr>\n",
       "      <th>Other</th>\n",
       "      <td>39.932264</td>\n",
       "    </tr>\n",
       "  </tbody>\n",
       "</table>\n",
       "</div>"
      ],
      "text/plain": [
       "                 duration\n",
       "Animal Type_x            \n",
       "Bird            13.468293\n",
       "Cat             67.829485\n",
       "Dog             92.638925\n",
       "Livestock      168.750000\n",
       "Other           39.932264"
      ]
     },
     "execution_count": 21,
     "metadata": {
      "tags": []
     },
     "output_type": "execute_result"
    }
   ],
   "source": [
    "how_long_duration_adoption= how_long_duration.loc[how_long_duration['Outcome Type']== 'Adoption']\n",
    "how_long_duration_adoption.pivot_table('duration','Animal Type_x')"
   ]
  },
  {
   "cell_type": "markdown",
   "metadata": {
    "id": "knd-HQcyE8lI"
   },
   "source": [
    "שכלול הנתונים הנ\"ל ובנוסף גם חישוב עבור כלבים וחתולים שלהם כמות גדולה"
   ]
  },
  {
   "cell_type": "code",
   "execution_count": 22,
   "metadata": {
    "colab": {
     "base_uri": "https://localhost:8080/",
     "height": 173
    },
    "id": "8K-mD9P2E8lI",
    "outputId": "69e88cc3-0124-4fcd-87fc-4072f8b761bf"
   },
   "outputs": [
    {
     "data": {
      "text/html": [
       "<div>\n",
       "<style scoped>\n",
       "    .dataframe tbody tr th:only-of-type {\n",
       "        vertical-align: middle;\n",
       "    }\n",
       "\n",
       "    .dataframe tbody tr th {\n",
       "        vertical-align: top;\n",
       "    }\n",
       "\n",
       "    .dataframe thead th {\n",
       "        text-align: right;\n",
       "    }\n",
       "</style>\n",
       "<table border=\"1\" class=\"dataframe\">\n",
       "  <thead>\n",
       "    <tr style=\"text-align: right;\">\n",
       "      <th></th>\n",
       "      <th>mean</th>\n",
       "      <th>medain</th>\n",
       "      <th>mode</th>\n",
       "      <th>std</th>\n",
       "    </tr>\n",
       "  </thead>\n",
       "  <tbody>\n",
       "    <tr>\n",
       "      <th>category_outcomes_str</th>\n",
       "      <td>86.222341</td>\n",
       "      <td>8.0</td>\n",
       "      <td>0    0\n",
       "dtype: int64</td>\n",
       "      <td>233.548287</td>\n",
       "    </tr>\n",
       "    <tr>\n",
       "      <th>how_long_duration_adoption</th>\n",
       "      <td>83.733436</td>\n",
       "      <td>18.0</td>\n",
       "      <td>0    4\n",
       "dtype: int64</td>\n",
       "      <td>207.836444</td>\n",
       "    </tr>\n",
       "    <tr>\n",
       "      <th>how_long_duration_dog</th>\n",
       "      <td>112.197199</td>\n",
       "      <td>9.0</td>\n",
       "      <td>0    0\n",
       "dtype: int64</td>\n",
       "      <td>269.020313</td>\n",
       "    </tr>\n",
       "    <tr>\n",
       "      <th>how_long_duration_cat</th>\n",
       "      <td>45.695588</td>\n",
       "      <td>7.0</td>\n",
       "      <td>0    0\n",
       "dtype: int64</td>\n",
       "      <td>150.223776</td>\n",
       "    </tr>\n",
       "  </tbody>\n",
       "</table>\n",
       "</div>"
      ],
      "text/plain": [
       "                                  mean  medain                 mode         std\n",
       "category_outcomes_str        86.222341     8.0  0    0\n",
       "dtype: int64  233.548287\n",
       "how_long_duration_adoption   83.733436    18.0  0    4\n",
       "dtype: int64  207.836444\n",
       "how_long_duration_dog       112.197199     9.0  0    0\n",
       "dtype: int64  269.020313\n",
       "how_long_duration_cat        45.695588     7.0  0    0\n",
       "dtype: int64  150.223776"
      ]
     },
     "execution_count": 22,
     "metadata": {
      "tags": []
     },
     "output_type": "execute_result"
    }
   ],
   "source": [
    "how_long_duration_dog = how_long_duration.loc[how_long_duration['Animal Type_x']== 'Dog']\n",
    "how_long_duration_cat = how_long_duration.loc[how_long_duration['Animal Type_x']== 'Cat']\n",
    "category_outcomes = [how_long_duration,how_long_duration_adoption,how_long_duration_dog,how_long_duration_cat]\n",
    "category_outcomes_str = ['category_outcomes_str','how_long_duration_adoption','how_long_duration_dog','how_long_duration_cat']\n",
    "list_static = []\n",
    "for i in range(0,len(category_outcomes)):\n",
    "    list_static.append({'mean' : category_outcomes[i].duration.mean(),'medain' : category_outcomes[i].duration.median(),'mode' : category_outcomes[i].duration.mode(),'std' :category_outcomes[i].duration.std()})    \n",
    "statics_animel=pd.DataFrame(list_static, index=category_outcomes_str)\n",
    "statics_animel"
   ]
  },
  {
   "cell_type": "markdown",
   "metadata": {
    "id": "gQIRKwJaE8lJ"
   },
   "source": [
    "מעבר על קטגריות שונות סביב כלבים וחתולים כדי למצוא הפתעות"
   ]
  },
  {
   "cell_type": "markdown",
   "metadata": {
    "id": "uFao0p2_E8lJ"
   },
   "source": [
    "השארת כלבים וחתולים בלבד"
   ]
  },
  {
   "cell_type": "code",
   "execution_count": 23,
   "metadata": {
    "id": "mgL4fzQ6E8lJ"
   },
   "outputs": [],
   "source": [
    "how_long_duration.drop(how_long_duration.loc[how_long_duration['Animal Type_x'] == 'Other'].index,inplace = True)\n",
    "how_long_duration.drop(how_long_duration.loc[how_long_duration['Animal Type_x'] == 'Bird'].index,inplace = True)\n",
    "how_long_duration.drop(how_long_duration.loc[how_long_duration['Animal Type_x'] == 'Livestock'].index,inplace = True)"
   ]
  },
  {
   "cell_type": "markdown",
   "metadata": {
    "id": "0dWLnlo7E8lK"
   },
   "source": [
    "סיבת הכניסה וממוצע השהיה סביב זה:"
   ]
  },
  {
   "cell_type": "code",
   "execution_count": 24,
   "metadata": {
    "colab": {
     "base_uri": "https://localhost:8080/"
    },
    "id": "fnwwBOgyE8lK",
    "outputId": "02ed00fd-2406-4d4a-d428-391caae805d5"
   },
   "outputs": [
    {
     "data": {
      "text/plain": [
       "Stray                 105096\n",
       "Owner Surrender        35754\n",
       "Public Assist          11745\n",
       "Abandoned                282\n",
       "Euthanasia Request       264\n",
       "Name: Intake Type, dtype: int64"
      ]
     },
     "execution_count": 24,
     "metadata": {
      "tags": []
     },
     "output_type": "execute_result"
    }
   ],
   "source": [
    "how_long_duration['Intake Type'].value_counts()"
   ]
  },
  {
   "cell_type": "code",
   "execution_count": 25,
   "metadata": {
    "colab": {
     "base_uri": "https://localhost:8080/",
     "height": 390
    },
    "id": "ZwKrDbR-E8lK",
    "outputId": "867d5fba-ffc2-44a9-92c2-a7ea32332e0e"
   },
   "outputs": [
    {
     "data": {
      "text/html": [
       "<div>\n",
       "<style scoped>\n",
       "    .dataframe tbody tr th:only-of-type {\n",
       "        vertical-align: middle;\n",
       "    }\n",
       "\n",
       "    .dataframe tbody tr th {\n",
       "        vertical-align: top;\n",
       "    }\n",
       "\n",
       "    .dataframe thead th {\n",
       "        text-align: right;\n",
       "    }\n",
       "</style>\n",
       "<table border=\"1\" class=\"dataframe\">\n",
       "  <thead>\n",
       "    <tr style=\"text-align: right;\">\n",
       "      <th></th>\n",
       "      <th></th>\n",
       "      <th>duration</th>\n",
       "    </tr>\n",
       "    <tr>\n",
       "      <th>Animal Type_x</th>\n",
       "      <th>Intake Type</th>\n",
       "      <th></th>\n",
       "    </tr>\n",
       "  </thead>\n",
       "  <tbody>\n",
       "    <tr>\n",
       "      <th rowspan=\"5\" valign=\"top\">Cat</th>\n",
       "      <th>Abandoned</th>\n",
       "      <td>37.296296</td>\n",
       "    </tr>\n",
       "    <tr>\n",
       "      <th>Euthanasia Request</th>\n",
       "      <td>28.074627</td>\n",
       "    </tr>\n",
       "    <tr>\n",
       "      <th>Owner Surrender</th>\n",
       "      <td>69.933164</td>\n",
       "    </tr>\n",
       "    <tr>\n",
       "      <th>Public Assist</th>\n",
       "      <td>63.901546</td>\n",
       "    </tr>\n",
       "    <tr>\n",
       "      <th>Stray</th>\n",
       "      <td>37.938992</td>\n",
       "    </tr>\n",
       "    <tr>\n",
       "      <th rowspan=\"5\" valign=\"top\">Dog</th>\n",
       "      <th>Abandoned</th>\n",
       "      <td>42.787356</td>\n",
       "    </tr>\n",
       "    <tr>\n",
       "      <th>Euthanasia Request</th>\n",
       "      <td>21.700508</td>\n",
       "    </tr>\n",
       "    <tr>\n",
       "      <th>Owner Surrender</th>\n",
       "      <td>100.303494</td>\n",
       "    </tr>\n",
       "    <tr>\n",
       "      <th>Public Assist</th>\n",
       "      <td>177.729840</td>\n",
       "    </tr>\n",
       "    <tr>\n",
       "      <th>Stray</th>\n",
       "      <td>106.668985</td>\n",
       "    </tr>\n",
       "  </tbody>\n",
       "</table>\n",
       "</div>"
      ],
      "text/plain": [
       "                                    duration\n",
       "Animal Type_x Intake Type                   \n",
       "Cat           Abandoned            37.296296\n",
       "              Euthanasia Request   28.074627\n",
       "              Owner Surrender      69.933164\n",
       "              Public Assist        63.901546\n",
       "              Stray                37.938992\n",
       "Dog           Abandoned            42.787356\n",
       "              Euthanasia Request   21.700508\n",
       "              Owner Surrender     100.303494\n",
       "              Public Assist       177.729840\n",
       "              Stray               106.668985"
      ]
     },
     "execution_count": 25,
     "metadata": {
      "tags": []
     },
     "output_type": "execute_result"
    }
   ],
   "source": [
    "how_long_duration.pivot_table('duration', index=['Animal Type_x' ,'Intake Type'], aggfunc=np.mean)"
   ]
  },
  {
   "cell_type": "markdown",
   "metadata": {
    "id": "Jounly33E8lL"
   },
   "source": [
    "מין הכלבים והחתולים והאם הם מעוקרים/מסורסים וההשפעה על משך השהייה:"
   ]
  },
  {
   "cell_type": "code",
   "execution_count": 26,
   "metadata": {
    "colab": {
     "base_uri": "https://localhost:8080/"
    },
    "id": "r7UcHLwnE8lL",
    "outputId": "beb8b8b9-326e-4bf1-8108-c79f844cef77"
   },
   "outputs": [
    {
     "data": {
      "text/plain": [
       "Neutered Male    62230\n",
       "Spayed Female    52654\n",
       "Intact Male      17501\n",
       "Intact Female    16401\n",
       "Unknown           4355\n",
       "Name: Sex upon Outcome, dtype: int64"
      ]
     },
     "execution_count": 26,
     "metadata": {
      "tags": []
     },
     "output_type": "execute_result"
    }
   ],
   "source": [
    "how_long_duration['Sex upon Outcome'].value_counts()"
   ]
  },
  {
   "cell_type": "code",
   "execution_count": 27,
   "metadata": {
    "colab": {
     "base_uri": "https://localhost:8080/",
     "height": 328
    },
    "id": "nmj_2IbPE8lL",
    "outputId": "000936cb-5a30-4fb9-b462-e1a1adda8a75"
   },
   "outputs": [
    {
     "data": {
      "text/html": [
       "<div>\n",
       "<style scoped>\n",
       "    .dataframe tbody tr th:only-of-type {\n",
       "        vertical-align: middle;\n",
       "    }\n",
       "\n",
       "    .dataframe tbody tr th {\n",
       "        vertical-align: top;\n",
       "    }\n",
       "\n",
       "    .dataframe thead th {\n",
       "        text-align: right;\n",
       "    }\n",
       "</style>\n",
       "<table border=\"1\" class=\"dataframe\">\n",
       "  <thead>\n",
       "    <tr style=\"text-align: right;\">\n",
       "      <th></th>\n",
       "      <th></th>\n",
       "      <th>duration</th>\n",
       "    </tr>\n",
       "    <tr>\n",
       "      <th>Animal Type_x</th>\n",
       "      <th>Sex upon Outcome</th>\n",
       "      <th></th>\n",
       "    </tr>\n",
       "  </thead>\n",
       "  <tbody>\n",
       "    <tr>\n",
       "      <th rowspan=\"4\" valign=\"top\">Cat</th>\n",
       "      <th>Intact Female</th>\n",
       "      <td>10.675737</td>\n",
       "    </tr>\n",
       "    <tr>\n",
       "      <th>Intact Male</th>\n",
       "      <td>7.983215</td>\n",
       "    </tr>\n",
       "    <tr>\n",
       "      <th>Neutered Male</th>\n",
       "      <td>65.599448</td>\n",
       "    </tr>\n",
       "    <tr>\n",
       "      <th>Spayed Female</th>\n",
       "      <td>70.136461</td>\n",
       "    </tr>\n",
       "    <tr>\n",
       "      <th rowspan=\"4\" valign=\"top\">Dog</th>\n",
       "      <th>Intact Female</th>\n",
       "      <td>53.319529</td>\n",
       "    </tr>\n",
       "    <tr>\n",
       "      <th>Intact Male</th>\n",
       "      <td>74.194728</td>\n",
       "    </tr>\n",
       "    <tr>\n",
       "      <th>Neutered Male</th>\n",
       "      <td>132.507794</td>\n",
       "    </tr>\n",
       "    <tr>\n",
       "      <th>Spayed Female</th>\n",
       "      <td>112.590063</td>\n",
       "    </tr>\n",
       "  </tbody>\n",
       "</table>\n",
       "</div>"
      ],
      "text/plain": [
       "                                  duration\n",
       "Animal Type_x Sex upon Outcome            \n",
       "Cat           Intact Female      10.675737\n",
       "              Intact Male         7.983215\n",
       "              Neutered Male      65.599448\n",
       "              Spayed Female      70.136461\n",
       "Dog           Intact Female      53.319529\n",
       "              Intact Male        74.194728\n",
       "              Neutered Male     132.507794\n",
       "              Spayed Female     112.590063"
      ]
     },
     "execution_count": 27,
     "metadata": {
      "tags": []
     },
     "output_type": "execute_result"
    }
   ],
   "source": [
    "how_long_duration.drop(how_long_duration.loc[how_long_duration['Sex upon Outcome'] == 'Unknown'].index,inplace = True)###שגיאה כל שהיא לטיפול מאיר ק\n",
    "how_long_duration.pivot_table('duration', index=['Animal Type_x' ,'Sex upon Outcome'], aggfunc=np.mean)"
   ]
  },
  {
   "cell_type": "markdown",
   "metadata": {
    "id": "Ai_tBhu6E8lM"
   },
   "source": [
    "<h3> הופתענו לגלות שדווקא כאלו שאינם מסורסים זמן השהייה הממוצע שלהם היה קצר יותר<h3>"
   ]
  },
  {
   "cell_type": "code",
   "execution_count": 28,
   "metadata": {
    "colab": {
     "base_uri": "https://localhost:8080/",
     "height": 173
    },
    "id": "gofTj12BE8lM",
    "outputId": "fe15694e-75dc-40b3-dc45-855b1678b539"
   },
   "outputs": [
    {
     "data": {
      "text/html": [
       "<div>\n",
       "<style scoped>\n",
       "    .dataframe tbody tr th:only-of-type {\n",
       "        vertical-align: middle;\n",
       "    }\n",
       "\n",
       "    .dataframe tbody tr th {\n",
       "        vertical-align: top;\n",
       "    }\n",
       "\n",
       "    .dataframe thead th {\n",
       "        text-align: right;\n",
       "    }\n",
       "</style>\n",
       "<table border=\"1\" class=\"dataframe\">\n",
       "  <thead>\n",
       "    <tr style=\"text-align: right;\">\n",
       "      <th></th>\n",
       "      <th>dog</th>\n",
       "      <th>cat</th>\n",
       "      <th>dog/cat</th>\n",
       "      <th>cat/dog</th>\n",
       "    </tr>\n",
       "  </thead>\n",
       "  <tbody>\n",
       "    <tr>\n",
       "      <th>Adoption</th>\n",
       "      <td>0.464871</td>\n",
       "      <td>0.473455</td>\n",
       "      <td>0.981869</td>\n",
       "      <td>1.018466</td>\n",
       "    </tr>\n",
       "    <tr>\n",
       "      <th>Euthanasia</th>\n",
       "      <td>0.020403</td>\n",
       "      <td>0.038867</td>\n",
       "      <td>0.524934</td>\n",
       "      <td>1.905001</td>\n",
       "    </tr>\n",
       "    <tr>\n",
       "      <th>Return to Owner</th>\n",
       "      <td>0.325031</td>\n",
       "      <td>0.053853</td>\n",
       "      <td>6.035472</td>\n",
       "      <td>0.165687</td>\n",
       "    </tr>\n",
       "    <tr>\n",
       "      <th>Transfer</th>\n",
       "      <td>0.174729</td>\n",
       "      <td>0.414567</td>\n",
       "      <td>0.421474</td>\n",
       "      <td>2.372624</td>\n",
       "    </tr>\n",
       "  </tbody>\n",
       "</table>\n",
       "</div>"
      ],
      "text/plain": [
       "                      dog       cat   dog/cat   cat/dog\n",
       "Adoption         0.464871  0.473455  0.981869  1.018466\n",
       "Euthanasia       0.020403  0.038867  0.524934  1.905001\n",
       "Return to Owner  0.325031  0.053853  6.035472  0.165687\n",
       "Transfer         0.174729  0.414567  0.421474  2.372624"
      ]
     },
     "execution_count": 28,
     "metadata": {
      "tags": []
     },
     "output_type": "execute_result"
    }
   ],
   "source": [
    "a = how_long_duration_dog['Outcome Type'].value_counts(normalize=True)\n",
    "b = how_long_duration_cat['Outcome Type'].value_counts(normalize=True)\n",
    "d= {'dog':a,'cat':b}\n",
    "compare_cat_dog = pd.DataFrame(d)\n",
    "compare_cat_dog['dog/cat']=compare_cat_dog.dog/compare_cat_dog.cat\n",
    "compare_cat_dog['cat/dog']=compare_cat_dog.cat/compare_cat_dog.dog\n",
    "compare_cat_dog = compare_cat_dog.drop(['Died','Disposal','Relocate','Missing','Rto-Adopt'], axis=0)\n",
    "compare_cat_dog"
   ]
  },
  {
   "cell_type": "markdown",
   "metadata": {
    "id": "Wad07yChE8lM"
   },
   "source": [
    "<h3>  כמה מסקנות על כלבים וחתולים:\n",
    "    כלבים אובדים פי 6 מחתולים יתכן וזה עקב כך שכלבים נוטים להסתובב יותר מחוץ לבית מאשר חתולים.\n",
    "חתולים ממותים פי שניים בהמתת חסד מכלבים וכן פי שניים חתולים מועברים למכלאות אחרות \n",
    "<h3>"
   ]
  },
  {
   "cell_type": "markdown",
   "metadata": {
    "id": "IzdPP6ShE8lN"
   },
   "source": [
    "<div>\n",
    "<img src=\"dogpic.JPG\" width=\"400\"/>\n",
    "</div>"
   ]
  },
  {
   "cell_type": "markdown",
   "metadata": {
    "id": "E21DlGDyE8lN"
   },
   "source": [
    "<h2>2.כמות האימוץ ביחס למצב הבריאותי<h2>"
   ]
  },
  {
   "cell_type": "code",
   "execution_count": 29,
   "metadata": {
    "colab": {
     "base_uri": "https://localhost:8080/",
     "height": 390
    },
    "id": "BUUZtSwAE8lN",
    "outputId": "0d8878f2-820e-4bb1-a6ca-995438c78f59"
   },
   "outputs": [
    {
     "data": {
      "text/html": [
       "<div>\n",
       "<style scoped>\n",
       "    .dataframe tbody tr th:only-of-type {\n",
       "        vertical-align: middle;\n",
       "    }\n",
       "\n",
       "    .dataframe tbody tr th {\n",
       "        vertical-align: top;\n",
       "    }\n",
       "\n",
       "    .dataframe thead th {\n",
       "        text-align: right;\n",
       "    }\n",
       "</style>\n",
       "<table border=\"1\" class=\"dataframe\">\n",
       "  <thead>\n",
       "    <tr style=\"text-align: right;\">\n",
       "      <th></th>\n",
       "      <th>Animal ID</th>\n",
       "      <th>DateTime_x</th>\n",
       "      <th>Intake Type</th>\n",
       "      <th>Animal Type_x</th>\n",
       "      <th>Sex upon Intake</th>\n",
       "      <th>DateTime_y</th>\n",
       "      <th>Date of Birth</th>\n",
       "      <th>Outcome Type</th>\n",
       "      <th>Sex upon Outcome</th>\n",
       "      <th>Breed_y</th>\n",
       "      <th>Color_y</th>\n",
       "    </tr>\n",
       "    <tr>\n",
       "      <th>Intake Condition</th>\n",
       "      <th></th>\n",
       "      <th></th>\n",
       "      <th></th>\n",
       "      <th></th>\n",
       "      <th></th>\n",
       "      <th></th>\n",
       "      <th></th>\n",
       "      <th></th>\n",
       "      <th></th>\n",
       "      <th></th>\n",
       "      <th></th>\n",
       "    </tr>\n",
       "  </thead>\n",
       "  <tbody>\n",
       "    <tr>\n",
       "      <th>Aged</th>\n",
       "      <td>513</td>\n",
       "      <td>513</td>\n",
       "      <td>513</td>\n",
       "      <td>513</td>\n",
       "      <td>513</td>\n",
       "      <td>513</td>\n",
       "      <td>513</td>\n",
       "      <td>513</td>\n",
       "      <td>513</td>\n",
       "      <td>513</td>\n",
       "      <td>513</td>\n",
       "    </tr>\n",
       "    <tr>\n",
       "      <th>Behavior</th>\n",
       "      <td>25</td>\n",
       "      <td>25</td>\n",
       "      <td>25</td>\n",
       "      <td>25</td>\n",
       "      <td>25</td>\n",
       "      <td>25</td>\n",
       "      <td>25</td>\n",
       "      <td>25</td>\n",
       "      <td>25</td>\n",
       "      <td>25</td>\n",
       "      <td>25</td>\n",
       "    </tr>\n",
       "    <tr>\n",
       "      <th>Feral</th>\n",
       "      <td>112</td>\n",
       "      <td>112</td>\n",
       "      <td>112</td>\n",
       "      <td>112</td>\n",
       "      <td>112</td>\n",
       "      <td>112</td>\n",
       "      <td>112</td>\n",
       "      <td>112</td>\n",
       "      <td>112</td>\n",
       "      <td>112</td>\n",
       "      <td>112</td>\n",
       "    </tr>\n",
       "    <tr>\n",
       "      <th>Injured</th>\n",
       "      <td>7526</td>\n",
       "      <td>7526</td>\n",
       "      <td>7526</td>\n",
       "      <td>7526</td>\n",
       "      <td>7526</td>\n",
       "      <td>7526</td>\n",
       "      <td>7526</td>\n",
       "      <td>7526</td>\n",
       "      <td>7526</td>\n",
       "      <td>7526</td>\n",
       "      <td>7526</td>\n",
       "    </tr>\n",
       "    <tr>\n",
       "      <th>Medical</th>\n",
       "      <td>73</td>\n",
       "      <td>73</td>\n",
       "      <td>73</td>\n",
       "      <td>73</td>\n",
       "      <td>73</td>\n",
       "      <td>73</td>\n",
       "      <td>73</td>\n",
       "      <td>73</td>\n",
       "      <td>73</td>\n",
       "      <td>73</td>\n",
       "      <td>73</td>\n",
       "    </tr>\n",
       "    <tr>\n",
       "      <th>Normal</th>\n",
       "      <td>142733</td>\n",
       "      <td>142733</td>\n",
       "      <td>142733</td>\n",
       "      <td>142733</td>\n",
       "      <td>142733</td>\n",
       "      <td>142733</td>\n",
       "      <td>142733</td>\n",
       "      <td>142733</td>\n",
       "      <td>142733</td>\n",
       "      <td>142733</td>\n",
       "      <td>142733</td>\n",
       "    </tr>\n",
       "    <tr>\n",
       "      <th>Nursing</th>\n",
       "      <td>3624</td>\n",
       "      <td>3624</td>\n",
       "      <td>3624</td>\n",
       "      <td>3624</td>\n",
       "      <td>3624</td>\n",
       "      <td>3624</td>\n",
       "      <td>3624</td>\n",
       "      <td>3624</td>\n",
       "      <td>3624</td>\n",
       "      <td>3624</td>\n",
       "      <td>3624</td>\n",
       "    </tr>\n",
       "    <tr>\n",
       "      <th>Other</th>\n",
       "      <td>264</td>\n",
       "      <td>264</td>\n",
       "      <td>264</td>\n",
       "      <td>264</td>\n",
       "      <td>264</td>\n",
       "      <td>264</td>\n",
       "      <td>264</td>\n",
       "      <td>264</td>\n",
       "      <td>264</td>\n",
       "      <td>264</td>\n",
       "      <td>264</td>\n",
       "    </tr>\n",
       "    <tr>\n",
       "      <th>Pregnant</th>\n",
       "      <td>93</td>\n",
       "      <td>93</td>\n",
       "      <td>93</td>\n",
       "      <td>93</td>\n",
       "      <td>93</td>\n",
       "      <td>93</td>\n",
       "      <td>93</td>\n",
       "      <td>93</td>\n",
       "      <td>93</td>\n",
       "      <td>93</td>\n",
       "      <td>93</td>\n",
       "    </tr>\n",
       "    <tr>\n",
       "      <th>Sick</th>\n",
       "      <td>5435</td>\n",
       "      <td>5435</td>\n",
       "      <td>5435</td>\n",
       "      <td>5435</td>\n",
       "      <td>5435</td>\n",
       "      <td>5435</td>\n",
       "      <td>5435</td>\n",
       "      <td>5435</td>\n",
       "      <td>5435</td>\n",
       "      <td>5435</td>\n",
       "      <td>5435</td>\n",
       "    </tr>\n",
       "  </tbody>\n",
       "</table>\n",
       "</div>"
      ],
      "text/plain": [
       "                  Animal ID  DateTime_x  ...  Breed_y  Color_y\n",
       "Intake Condition                         ...                  \n",
       "Aged                    513         513  ...      513      513\n",
       "Behavior                 25          25  ...       25       25\n",
       "Feral                   112         112  ...      112      112\n",
       "Injured                7526        7526  ...     7526     7526\n",
       "Medical                  73          73  ...       73       73\n",
       "Normal               142733      142733  ...   142733   142733\n",
       "Nursing                3624        3624  ...     3624     3624\n",
       "Other                   264         264  ...      264      264\n",
       "Pregnant                 93          93  ...       93       93\n",
       "Sick                   5435        5435  ...     5435     5435\n",
       "\n",
       "[10 rows x 11 columns]"
      ]
     },
     "execution_count": 29,
     "metadata": {
      "tags": []
     },
     "output_type": "execute_result"
    }
   ],
   "source": [
    "condition=full_file.groupby('Intake Condition').count().sort_values(by='Intake Condition')\n",
    "condition"
   ]
  },
  {
   "cell_type": "markdown",
   "metadata": {
    "id": "qG-8RawmE8lO"
   },
   "source": [
    " מיון וסינון הדאטה לעבודה ממוקדת"
   ]
  },
  {
   "cell_type": "code",
   "execution_count": 30,
   "metadata": {
    "colab": {
     "base_uri": "https://localhost:8080/",
     "height": 312
    },
    "id": "l3De-oXGE8lO",
    "outputId": "ad219289-dd52-4b7c-d1cc-a85134416402"
   },
   "outputs": [
    {
     "data": {
      "text/plain": [
       "Text(0.5, 1.0, 'non normal condition')"
      ]
     },
     "execution_count": 30,
     "metadata": {
      "tags": []
     },
     "output_type": "execute_result"
    },
    {
     "data": {
      "image/png": "[encoded data removed]",
      "text/plain": [
       "<Figure size 432x288 with 1 Axes>"
      ]
     },
     "metadata": {
      "needs_background": "light",
      "tags": []
     },
     "output_type": "display_data"
    }
   ],
   "source": [
    "condition.iloc[[0,3,4,6,8,9],[0]].plot()\n",
    "plt.title('non normal condition')"
   ]
  },
  {
   "cell_type": "markdown",
   "metadata": {
    "id": "pnFq1gr3E8lO"
   },
   "source": [
    " עבודה על כל סוגי בריאות החיות הנכנסות למעט \"נורמל\"כיוון שלהפתעתנו כמות החיות הבריאות הייתה מאוד גדולה"
   ]
  },
  {
   "cell_type": "code",
   "execution_count": 31,
   "metadata": {
    "colab": {
     "base_uri": "https://localhost:8080/",
     "height": 312
    },
    "id": "FSL7SNCfE8lP",
    "outputId": "57e51b11-1490-4d12-a578-72aae8d6f31c"
   },
   "outputs": [
    {
     "data": {
      "text/plain": [
       "Text(0.5, 1.0, 'includind normal condition')"
      ]
     },
     "execution_count": 31,
     "metadata": {
      "tags": []
     },
     "output_type": "execute_result"
    },
    {
     "data": {
      "image/png": "[encoded data removed]",
      "text/plain": [
       "<Figure size 432x288 with 1 Axes>"
      ]
     },
     "metadata": {
      "needs_background": "light",
      "tags": []
     },
     "output_type": "display_data"
    }
   ],
   "source": [
    "condition.iloc[[0,3,4,5,6,8,9],[0]].plot()\n",
    "plt.title('includind normal condition')"
   ]
  },
  {
   "cell_type": "markdown",
   "metadata": {
    "id": "ILAO2TrwE8lP"
   },
   "source": [
    "למען הבהרת השוני ניתן לראות את 2 הגרפים הנ\"ל ואת המשתמע מכך"
   ]
  },
  {
   "cell_type": "code",
   "execution_count": 32,
   "metadata": {
    "colab": {
     "base_uri": "https://localhost:8080/",
     "height": 519
    },
    "id": "mhg0MEiuE8lP",
    "outputId": "86729eb4-8dca-4310-e1ab-17afa93cd094"
   },
   "outputs": [
    {
     "data": {
      "image/png": "[encoded data removed]",
      "text/plain": [
       "<Figure size 1800x720 with 2 Axes>"
      ]
     },
     "metadata": {
      "needs_background": "light",
      "tags": []
     },
     "output_type": "display_data"
    }
   ],
   "source": [
    "odd=full_file.drop(full_file.loc[full_file['Intake Condition'] =='Normal'].index)\n",
    "fig, axes = plt.subplots(figsize=(25,10), ncols=2)\n",
    "#axes[0].set(ylim=80000)\n",
    "sns.countplot(x='Outcome Type',data =full_file,ax=axes[0])\n",
    "sns.countplot(x='Outcome Type',data =odd,ax=axes[1])\n",
    "plt.show()"
   ]
  },
  {
   "cell_type": "markdown",
   "metadata": {
    "id": "5gnaA6vRE8lQ"
   },
   "source": [
    "במבט ראשוני אחוזי האימוץ נראים מעולה 46.1% אימוץ! אבל כשמנפים את החיות הבריאות מגלים שאחוזי האימוץ אצל חיות פצועות או במצב בריאותי מסובך הינו בערך 25% כלומר הבדל של 20% מהאימוץ הכללי. "
   ]
  },
  {
   "cell_type": "markdown",
   "metadata": {
    "id": "YoIgB2T0E8lQ"
   },
   "source": [
    "<div>\n",
    "<img src=\"catinbox.JPG\" width=\"400\"/>\n",
    "</div>"
   ]
  },
  {
   "cell_type": "markdown",
   "metadata": {
    "id": "dnjGt69kE8lQ"
   },
   "source": [
    "<h2>3.חיזויים"
   ]
  },
  {
   "cell_type": "markdown",
   "metadata": {
    "id": "3Vvyd0d7E8lQ"
   },
   "source": [
    "חיזוי שבודק מה יקרה לכלב או חתול(הם החיות העיקריות) שמגיע למוסד"
   ]
  },
  {
   "cell_type": "markdown",
   "metadata": {
    "id": "d4ngkKbxE8lR"
   },
   "source": [
    "חיזוי לכלבים"
   ]
  },
  {
   "cell_type": "code",
   "execution_count": 33,
   "metadata": {
    "id": "WnXoWs8ZE8lR"
   },
   "outputs": [],
   "source": [
    "dog_data=how_long_duration[how_long_duration['Animal Type_x']=='Dog']\n",
    "dog_model=dog_data[['Sex upon Outcome','Breed_y','Color_y', 'Intake Type','Intake Condition','Outcome Type','Age upon Intake','duration']].copy()\n",
    "dog_model['Sex upon Outcome'] =dog_model['Sex upon Outcome'].astype('category').cat.codes\n",
    "dog_model['Breed_y'] =dog_model['Breed_y'].astype('category').cat.codes\n",
    "dog_model['Color_y'] =dog_model['Color_y'].astype('category').cat.codes\n",
    "dog_model['Intake Type'] =dog_model['Intake Type'].astype('category').cat.codes\n",
    "dog_model['Intake Condition'] =dog_model['Intake Condition'].astype('category').cat.codes\n"
   ]
  },
  {
   "cell_type": "code",
   "execution_count": 34,
   "metadata": {
    "colab": {
     "base_uri": "https://localhost:8080/",
     "height": 187
    },
    "id": "i8DlmQgrE8lR",
    "outputId": "3feaa2d2-3201-4ff6-a349-c3cc8bef92d5"
   },
   "outputs": [
    {
     "data": {
      "text/plain": [
       "Adoption           0.466964\n",
       "Return to Owner    0.325727\n",
       "Transfer           0.172585\n",
       "Euthanasia         0.020053\n",
       "Rto-Adopt          0.011384\n",
       "Died               0.002460\n",
       "Missing            0.000502\n",
       "Disposal           0.000325\n",
       "Name: Outcome Type, dtype: float64"
      ]
     },
     "execution_count": 34,
     "metadata": {
      "tags": []
     },
     "output_type": "execute_result"
    },
    {
     "data": {
      "text/plain": [
       "<Figure size 720x504 with 0 Axes>"
      ]
     },
     "metadata": {
      "tags": []
     },
     "output_type": "display_data"
    }
   ],
   "source": [
    "plt.figure(figsize=(10,7))\n",
    "dog_data['Outcome Type'].value_counts(normalize=True)"
   ]
  },
  {
   "cell_type": "code",
   "execution_count": 35,
   "metadata": {
    "colab": {
     "base_uri": "https://localhost:8080/"
    },
    "id": "NoFHv40ZE8lS",
    "outputId": "a4a5dbfb-f51c-4c07-e12a-fcef9c3ecc8b"
   },
   "outputs": [
    {
     "name": "stdout",
     "output_type": "stream",
     "text": [
      "Depth: 41\n"
     ]
    },
    {
     "data": {
      "text/plain": [
       "0.6450639553952116"
      ]
     },
     "execution_count": 35,
     "metadata": {
      "tags": []
     },
     "output_type": "execute_result"
    }
   ],
   "source": [
    "model = sk.tree.DecisionTreeClassifier(criterion=\"gini\",random_state=1)\n",
    "features = ['Intake Type','Intake Condition','Sex upon Outcome','Age upon Intake']\n",
    "X = dog_model[features]\n",
    "y = dog_model['Outcome Type']\n",
    "X_train, X_test, y_train, y_test = sk.model_selection.train_test_split(X, y, test_size=0.3, random_state=1)\n",
    "model.fit(X_train,y_train)\n",
    "prediction = model.predict(X_test)\n",
    "print(\"Depth:\",model.get_depth())\n",
    "sk.metrics.accuracy_score(prediction, y_test)"
   ]
  },
  {
   "cell_type": "markdown",
   "metadata": {
    "id": "E0WeLk5GE8lS"
   },
   "source": [
    "חיזוי לחתולים"
   ]
  },
  {
   "cell_type": "code",
   "execution_count": 36,
   "metadata": {
    "id": "K5RouDd_E8lT"
   },
   "outputs": [],
   "source": [
    "cat_data=how_long_duration[how_long_duration['Animal Type_x']=='Cat']\n",
    "cat_model=cat_data[['Sex upon Outcome','Breed_y','Color_y', 'Intake Type','Intake Condition','Outcome Type','Age upon Intake','duration']].copy()\n",
    "\n",
    "cat_model['Sex upon Outcome'] =cat_model['Sex upon Outcome'].astype('category').cat.codes\n",
    "cat_model['Breed_y'] =cat_model['Breed_y'].astype('category').cat.codes\n",
    "cat_model['Color_y'] =cat_model['Color_y'].astype('category').cat.codes\n",
    "cat_model['Intake Type'] =cat_model['Intake Type'].astype('category').cat.codes\n",
    "cat_model['Intake Condition'] =cat_model['Intake Condition'].astype('category').cat.codes\n"
   ]
  },
  {
   "cell_type": "code",
   "execution_count": 37,
   "metadata": {
    "colab": {
     "base_uri": "https://localhost:8080/"
    },
    "id": "FfBRDildE8lT",
    "outputId": "1ecbdc66-4c62-4f67-b1fe-92d0230f649b"
   },
   "outputs": [
    {
     "data": {
      "text/plain": [
       "Adoption           0.512501\n",
       "Transfer           0.377160\n",
       "Return to Owner    0.057385\n",
       "Euthanasia         0.035245\n",
       "Died               0.012406\n",
       "Rto-Adopt          0.003584\n",
       "Disposal           0.000933\n",
       "Missing            0.000742\n",
       "Relocate           0.000042\n",
       "Name: Outcome Type, dtype: float64"
      ]
     },
     "execution_count": 37,
     "metadata": {
      "tags": []
     },
     "output_type": "execute_result"
    }
   ],
   "source": [
    "cat_data['Outcome Type'].value_counts(normalize=True)"
   ]
  },
  {
   "cell_type": "code",
   "execution_count": 38,
   "metadata": {
    "colab": {
     "base_uri": "https://localhost:8080/"
    },
    "id": "tyRS43EJE8lT",
    "outputId": "8a571a12-5b16-4006-9790-789950228cd3"
   },
   "outputs": [
    {
     "name": "stdout",
     "output_type": "stream",
     "text": [
      "Depth: 37\n"
     ]
    },
    {
     "data": {
      "text/plain": [
       "0.7392380009896091"
      ]
     },
     "execution_count": 38,
     "metadata": {
      "tags": []
     },
     "output_type": "execute_result"
    }
   ],
   "source": [
    "features = ['Intake Type','Intake Condition','Sex upon Outcome','Age upon Intake']###שגיאה בריצה לא ברור למה\n",
    "X = cat_model[features]\n",
    "y = cat_model['Outcome Type']\n",
    "X_train, X_test, y_train, y_test = sk.model_selection.train_test_split(X, y, test_size=0.3, random_state=1)\n",
    "model.fit(X_train,y_train)\n",
    "prediction = model.predict(X_test)\n",
    "print(\"Depth:\",model.get_depth())\n",
    "sk.metrics.accuracy_score(prediction, y_test)"
   ]
  },
  {
   "cell_type": "markdown",
   "metadata": {
    "id": "RaaUjF-oE8lU"
   },
   "source": [
    "<h3>\n",
    "מסקנה: רואים שהחיזוי למה יקרה לחיה המגיעה למרכז הוא יחסית גבוהה אפשר להשתמש בזה במרכז החדש שנדע אם מגיע כלב או חתול מסוים נדע לתכנן מראש כגון אם החיזוי שימות אז נדע להרדים אותו במקום שנחזיק אותו כמה שנים"
   ]
  },
  {
   "cell_type": "markdown",
   "metadata": {
    "id": "cfzQsWz8E8lU"
   },
   "source": [
    " עכשיו נבדוק חיזוי לכמה ימים נשארים במרכז העשה את זה בעזרת עץ רגרסיה כי זה רציף"
   ]
  },
  {
   "cell_type": "markdown",
   "metadata": {
    "id": "lOfVKouPE8lU"
   },
   "source": [
    "חיזוי לכלבים"
   ]
  },
  {
   "cell_type": "code",
   "execution_count": 39,
   "metadata": {
    "colab": {
     "base_uri": "https://localhost:8080/"
    },
    "id": "msJaer_fE8lV",
    "outputId": "28d3029b-b2d9-4b59-d069-83aee072beb1"
   },
   "outputs": [
    {
     "data": {
      "text/plain": [
       "DecisionTreeRegressor(ccp_alpha=0.0, criterion='mse', max_depth=None,\n",
       "                      max_features=None, max_leaf_nodes=None,\n",
       "                      min_impurity_decrease=0.0, min_impurity_split=None,\n",
       "                      min_samples_leaf=1, min_samples_split=2,\n",
       "                      min_weight_fraction_leaf=0.0, presort='deprecated',\n",
       "                      random_state=4, splitter='best')"
      ]
     },
     "execution_count": 39,
     "metadata": {
      "tags": []
     },
     "output_type": "execute_result"
    }
   ],
   "source": [
    "days_at_center = DecisionTreeRegressor(random_state=4)\n",
    "features = ['Intake Type','Intake Condition','Sex upon Outcome','Age upon Intake','Color_y','Breed_y']\n",
    "X = dog_model[features]\n",
    "y = dog_model['duration']\n",
    "X_train, X_test, y_train, y_test = sk.model_selection.train_test_split(X, y, test_size=0.3, random_state=1) \n",
    "days_at_center.fit(X_train, y_train)"
   ]
  },
  {
   "cell_type": "code",
   "execution_count": 40,
   "metadata": {
    "id": "oIMdXO49E8lV"
   },
   "outputs": [],
   "source": [
    "def eval(x_test,y_test,model):\n",
    "    pred =days_at_center.predict(x_test) \n",
    "    print(\"MSE: {:.3f}\".format(mean_squared_error(pred,y_test,squared=False)))\n",
    "    print(\"Depth:\",days_at_center.get_depth())\n",
    "    eval(X_test,y_test,days_at_center)"
   ]
  },
  {
   "cell_type": "code",
   "execution_count": 41,
   "metadata": {
    "colab": {
     "base_uri": "https://localhost:8080/",
     "height": 52
    },
    "id": "BR9cQfW4E8lV",
    "outputId": "0f9a3314-9c1e-4b49-8658-b44b3f821541"
   },
   "outputs": [
    {
     "name": "stdout",
     "output_type": "stream",
     "text": [
      "Depth: 43\n"
     ]
    },
    {
     "data": {
      "application/vnd.google.colaboratory.intrinsic+json": {
       "type": "string"
      },
      "text/plain": [
       "'MSE: 304.514'"
      ]
     },
     "execution_count": 41,
     "metadata": {
      "tags": []
     },
     "output_type": "execute_result"
    }
   ],
   "source": [
    "model3=sk.tree.DecisionTreeRegressor()\n",
    "model3.fit(X_train,y_train)\n",
    "prediction3=model3.predict( X_test)\n",
    "print(\"Depth:\",model3.get_depth())\n",
    "\"MSE: {:.3f}\".format(mean_squared_error(prediction3,y_test,squared=False))"
   ]
  },
  {
   "cell_type": "markdown",
   "metadata": {
    "id": "OSGhkRBAE8lW"
   },
   "source": [
    "חיזוי לחתולים"
   ]
  },
  {
   "cell_type": "code",
   "execution_count": 42,
   "metadata": {
    "colab": {
     "base_uri": "https://localhost:8080/"
    },
    "id": "QnjqHZ6-E8lW",
    "outputId": "fe365ebb-bfd5-4c34-d8da-7d1426ff5085"
   },
   "outputs": [
    {
     "data": {
      "text/plain": [
       "DecisionTreeRegressor(ccp_alpha=0.0, criterion='mse', max_depth=None,\n",
       "                      max_features=None, max_leaf_nodes=None,\n",
       "                      min_impurity_decrease=0.0, min_impurity_split=None,\n",
       "                      min_samples_leaf=1, min_samples_split=2,\n",
       "                      min_weight_fraction_leaf=0.0, presort='deprecated',\n",
       "                      random_state=4, splitter='best')"
      ]
     },
     "execution_count": 42,
     "metadata": {
      "tags": []
     },
     "output_type": "execute_result"
    }
   ],
   "source": [
    "days_at_center = DecisionTreeRegressor(random_state=4)\n",
    "features = ['Intake Type','Intake Condition','Sex upon Outcome','Age upon Intake','Color_y','Breed_y']\n",
    "X = cat_model[features]\n",
    "y = cat_model['duration']\n",
    "X_train, X_test, y_train, y_test = sk.model_selection.train_test_split(X, y, test_size=0.3, random_state=1) \n",
    "days_at_center.fit(X_train, y_train)"
   ]
  },
  {
   "cell_type": "code",
   "execution_count": 43,
   "metadata": {
    "colab": {
     "base_uri": "https://localhost:8080/",
     "height": 52
    },
    "id": "runLHLCmE8lW",
    "outputId": "3bb4b29b-13c0-4318-8ff1-d96085105bb1"
   },
   "outputs": [
    {
     "name": "stdout",
     "output_type": "stream",
     "text": [
      "Depth: 39\n"
     ]
    },
    {
     "data": {
      "application/vnd.google.colaboratory.intrinsic+json": {
       "type": "string"
      },
      "text/plain": [
       "'MSE: 199.094'"
      ]
     },
     "execution_count": 43,
     "metadata": {
      "tags": []
     },
     "output_type": "execute_result"
    }
   ],
   "source": [
    "model4=sk.tree.DecisionTreeRegressor()\n",
    "model4.fit(X_train,y_train)\n",
    "prediction4=model4.predict( X_test)\n",
    "print(\"Depth:\",model4.get_depth())\n",
    "\"MSE: {:.3f}\".format(mean_squared_error(prediction4,y_test,squared=False))"
   ]
  },
  {
   "cell_type": "markdown",
   "metadata": {
    "id": "sNF0COnwE8lX"
   },
   "source": [
    " <h3>הסטייה גדולה יש חיות שנשארים יום ויש כאלה 10 שנים אי אפשר לחזות כמה זמן כל חיה תישאר "
   ]
  },
  {
   "cell_type": "markdown",
   "metadata": {
    "id": "3X050OrZE8lX"
   },
   "source": [
    "<div>\n",
    "<img src=\"cutecats.JPG\" width=\"400\"/>\n",
    "</div>"
   ]
  },
  {
   "cell_type": "markdown",
   "metadata": {
    "id": "meLp9mxCE8lX"
   },
   "source": [
    "<h2>4. השוואות בין זמני כניסה ויציאה מהמוסד ותובנות:"
   ]
  },
  {
   "cell_type": "markdown",
   "metadata": {
    "id": "HB0_JHHxE8lY"
   },
   "source": [
    "הכנסת הנתונים של הזמני כניסה ויציאה מהמאגר לשתי דאטות שונות ופירוקם לגורמים(שנים,חודשים,ימים,ימי השבוע,שעות)"
   ]
  },
  {
   "cell_type": "code",
   "execution_count": 44,
   "metadata": {
    "id": "yc9agsmNE8lY"
   },
   "outputs": [],
   "source": [
    "Login_date=full_file[['DateTime_x']].copy()"
   ]
  },
  {
   "cell_type": "code",
   "execution_count": 45,
   "metadata": {
    "id": "j-yrAUz6E8lY"
   },
   "outputs": [],
   "source": [
    "departure_time=full_file[['DateTime_y']].copy()"
   ]
  },
  {
   "cell_type": "code",
   "execution_count": 46,
   "metadata": {
    "id": "Z66QBHT4E8lY"
   },
   "outputs": [],
   "source": [
    "departure_time['year'] = pd.DatetimeIndex(departure_time.DateTime_y).year\n",
    "departure_time['month'] = pd.DatetimeIndex(departure_time.DateTime_y).month\n",
    "departure_time['day'] = pd.DatetimeIndex(departure_time.DateTime_y).day\n",
    "departure_time['weekday'] = pd.DatetimeIndex(departure_time.DateTime_y).weekday\n",
    "departure_time['leaving time'] = pd.DatetimeIndex(departure_time.DateTime_y).hour"
   ]
  },
  {
   "cell_type": "code",
   "execution_count": 47,
   "metadata": {
    "id": "1iO3F8IqE8lZ"
   },
   "outputs": [],
   "source": [
    "Login_date['year'] = pd.DatetimeIndex(Login_date.DateTime_x).year\n",
    "Login_date['month'] = pd.DatetimeIndex(Login_date.DateTime_x).month\n",
    "Login_date['day'] = pd.DatetimeIndex(Login_date.DateTime_x).day\n",
    "Login_date['weekday'] = pd.DatetimeIndex(Login_date.DateTime_x).weekday\n",
    "Login_date['entrance time'] = pd.DatetimeIndex(Login_date.DateTime_x).hour"
   ]
  },
  {
   "cell_type": "markdown",
   "metadata": {
    "id": "ToR4FPgLE8lZ"
   },
   "source": [
    ":הצגת ההתפלגות היציאות מהמוסד על פי חודשים"
   ]
  },
  {
   "cell_type": "code",
   "execution_count": 48,
   "metadata": {
    "colab": {
     "base_uri": "https://localhost:8080/",
     "height": 298
    },
    "id": "FKFXQaCfE8lZ",
    "outputId": "d0bb95b7-5025-43fa-ecea-55f4c475c828"
   },
   "outputs": [
    {
     "data": {
      "text/plain": [
       "Text(0.5, 1.0, 'monthly distrbution')"
      ]
     },
     "execution_count": 48,
     "metadata": {
      "tags": []
     },
     "output_type": "execute_result"
    },
    {
     "data": {
      "image/png": "[encoded data removed]",
      "text/plain": [
       "<Figure size 432x288 with 1 Axes>"
      ]
     },
     "metadata": {
      "needs_background": "light",
      "tags": []
     },
     "output_type": "display_data"
    }
   ],
   "source": [
    "departure_time.hist('month', bins=12)\n",
    "plt.title('monthly distrbution')"
   ]
  },
  {
   "cell_type": "markdown",
   "metadata": {
    "id": "d9uX8asRE8lZ"
   },
   "source": [
    "   .מסקנה: ניתן לראות שבחודשי החורף(1-4)יש ירידה בכמויות היציאות מהמוסד "
   ]
  },
  {
   "cell_type": "markdown",
   "metadata": {
    "id": "tagBvWwKE8la"
   },
   "source": [
    "הצגת התפלגות הכניסות על ידי גרף: ניתן לראות שבין השעה 00 לשעה 06 בבוקר יש ירידה חדה בכמות הנכנסים"
   ]
  },
  {
   "cell_type": "code",
   "execution_count": 49,
   "metadata": {
    "colab": {
     "base_uri": "https://localhost:8080/"
    },
    "id": "Nhv3foxAE8la",
    "outputId": "4e3a9dec-32cb-4024-af10-55d34d023923"
   },
   "outputs": [
    {
     "data": {
      "text/plain": [
       "entrance time\n",
       "11    25364\n",
       "12    21456\n",
       "13    19385\n",
       "14    16874\n",
       "15    16378\n",
       "16    15598\n",
       "17    10789\n",
       "18    10118\n",
       "10     7784\n",
       "9      3827\n",
       "8      3019\n",
       "7      2448\n",
       "19     2208\n",
       "22     1000\n",
       "21      985\n",
       "23      921\n",
       "20      808\n",
       "0       519\n",
       "6       323\n",
       "1       262\n",
       "2       135\n",
       "3       100\n",
       "4        56\n",
       "5        41\n",
       "dtype: int64"
      ]
     },
     "execution_count": 49,
     "metadata": {
      "tags": []
     },
     "output_type": "execute_result"
    }
   ],
   "source": [
    "Login_date.value_counts('entrance time')"
   ]
  },
  {
   "cell_type": "markdown",
   "metadata": {
    "id": "tFpRBK8JE8la"
   },
   "source": [
    "סינון השעות שבהם המרכז הפעילות במוסד היתה זניחה(00-06) "
   ]
  },
  {
   "cell_type": "code",
   "execution_count": 50,
   "metadata": {
    "id": "TuNiCq6GE8lb"
   },
   "outputs": [],
   "source": [
    "Login_date=Login_date[Login_date['entrance time'] > 6]\n",
    "departure_time=departure_time[departure_time['leaving time'] > 6]"
   ]
  },
  {
   "cell_type": "code",
   "execution_count": 51,
   "metadata": {
    "id": "oAuSrwVwE8lb"
   },
   "outputs": [],
   "source": [
    "a=Login_date[['entrance time']]\n",
    "b=departure_time[['leaving time']]\n",
    "data_of_the_hours=pd.concat([a, b], axis=1)"
   ]
  },
  {
   "cell_type": "markdown",
   "metadata": {
    "id": "NR1Iur6nE8lb"
   },
   "source": [
    "הצגת זמני הכניסה למוסד וזמני היציאה מהמוסד על פי שעות הפעילות המשמעתיות"
   ]
  },
  {
   "cell_type": "code",
   "execution_count": 52,
   "metadata": {
    "colab": {
     "base_uri": "https://localhost:8080/",
     "height": 298
    },
    "id": "snOoM9VSE8lb",
    "outputId": "a8edc17f-e951-4b9a-f08d-aa367bc1813e"
   },
   "outputs": [
    {
     "data": {
      "text/plain": [
       "Text(0.5, 1.0, 'Comparison between entering and exiting from the institution')"
      ]
     },
     "execution_count": 52,
     "metadata": {
      "tags": []
     },
     "output_type": "execute_result"
    },
    {
     "data": {
      "image/png": "[encoded data removed]",
      "text/plain": [
       "<Figure size 432x288 with 1 Axes>"
      ]
     },
     "metadata": {
      "needs_background": "light",
      "tags": []
     },
     "output_type": "display_data"
    }
   ],
   "source": [
    "data_of_the_hours.plot.hist(bins=16, alpha=0.7)\n",
    "plt.title('Comparison between entering and exiting from the institution')"
   ]
  },
  {
   "cell_type": "markdown",
   "metadata": {
    "id": "62zZ_RvfE8lc"
   },
   "source": [
    "<h3>מסקנה: ניתן לראות שיש עומס גדול יותר בסוף שעות הפעילות ביציאות מהמוסד, ועומס גדול יותר בתחילת שעות הפעילות של הכניסות למוסד.\n",
    "    זה מעניין אותנו בחלוקת סוגי אנשי מקצוע לשעות שונות בשעות פעילות"
   ]
  },
  {
   "cell_type": "markdown",
   "metadata": {
    "id": "lKYBZTcbE8lc"
   },
   "source": [
    "<div>\n",
    "<img src=\"dogjumping.JPG\" width=\"400\"/>\n",
    "</div>"
   ]
  },
  {
   "cell_type": "code",
   "execution_count": null,
   "metadata": {},
   "outputs": [],
   "source": []
  }
 ],
 "metadata": {
  "colab": {
   "name": "final final project.ipynb",
   "provenance": []
  },
  "kernelspec": {
   "display_name": "Python 3",
   "language": "python",
   "name": "python3"
  },
  "language_info": {
   "codemirror_mode": {
    "name": "ipython",
    "version": 3
   },
   "file_extension": ".py",
   "mimetype": "text/x-python",
   "name": "python",
   "nbconvert_exporter": "python",
   "pygments_lexer": "ipython3",
   "version": "3.8.5"
  }
 },
 "nbformat": 4,
 "nbformat_minor": 5
}
