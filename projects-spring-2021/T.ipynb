{
 "cells": [
  {
   "cell_type": "code",
   "execution_count": null,
   "metadata": {},
   "outputs": [],
   "source": [
    "import pylab\n",
    "import pandas as pd\n",
    "import seaborn as sns \n",
    "import matplotlib.pyplot as plt"
   ]
  },
  {
   "cell_type": "markdown",
   "metadata": {},
   "source": [
    "# Intrudction :\n",
    "## Our data is about people's mindset behind the occurrence of Earthquakes in cities and towns."
   ]
  },
  {
   "cell_type": "markdown",
   "metadata": {},
   "source": [
    "### First, let's see the data : "
   ]
  },
  {
   "cell_type": "code",
   "execution_count": 266,
   "metadata": {},
   "outputs": [
    {
     "data": {
      "text/html": [
       "<div>\n",
       "<style scoped>\n",
       "    .dataframe tbody tr th:only-of-type {\n",
       "        vertical-align: middle;\n",
       "    }\n",
       "\n",
       "    .dataframe tbody tr th {\n",
       "        vertical-align: top;\n",
       "    }\n",
       "\n",
       "    .dataframe thead th {\n",
       "        text-align: right;\n",
       "    }\n",
       "</style>\n",
       "<table border=\"1\" class=\"dataframe\">\n",
       "  <thead>\n",
       "    <tr style=\"text-align: right;\">\n",
       "      <th></th>\n",
       "      <th>In general, how worried are you about earthquakes?</th>\n",
       "      <th>How worried are you about the Big One, a massive, catastrophic earthquake?</th>\n",
       "      <th>Do you think the \"Big One\" will occur in your lifetime?</th>\n",
       "      <th>Have you ever experienced an earthquake?</th>\n",
       "      <th>Have you or anyone in your household taken any precautions for an earthquake (packed an earthquake survival kit, prepared an evacuation plan, etc.)?</th>\n",
       "      <th>How familiar are you with the San Andreas Fault line?</th>\n",
       "      <th>How familiar are you with the Yellowstone Supervolcano?</th>\n",
       "      <th>Age</th>\n",
       "      <th>What is your gender?</th>\n",
       "      <th>How much total combined money did all members of your HOUSEHOLD earn last year?</th>\n",
       "      <th>US Region</th>\n",
       "    </tr>\n",
       "  </thead>\n",
       "  <tbody>\n",
       "    <tr>\n",
       "      <th>0</th>\n",
       "      <td>Not at all worried</td>\n",
       "      <td>Not so worried</td>\n",
       "      <td>No</td>\n",
       "      <td>Yes, one or more minor ones</td>\n",
       "      <td>No</td>\n",
       "      <td>Somewhat familiar</td>\n",
       "      <td>Not so familiar</td>\n",
       "      <td>18 - 29</td>\n",
       "      <td>Male</td>\n",
       "      <td>Prefer not to answer</td>\n",
       "      <td>New England</td>\n",
       "    </tr>\n",
       "    <tr>\n",
       "      <th>1</th>\n",
       "      <td>Somewhat worried</td>\n",
       "      <td>Very worried</td>\n",
       "      <td>No</td>\n",
       "      <td>Yes, one or more minor ones</td>\n",
       "      <td>No</td>\n",
       "      <td>Not at all familiar</td>\n",
       "      <td>Not at all familiar</td>\n",
       "      <td>18 - 29</td>\n",
       "      <td>Male</td>\n",
       "      <td>$75,000 to $99,999</td>\n",
       "      <td>East North Central</td>\n",
       "    </tr>\n",
       "    <tr>\n",
       "      <th>2</th>\n",
       "      <td>Not so worried</td>\n",
       "      <td>Somewhat worried</td>\n",
       "      <td>No</td>\n",
       "      <td>Yes, one or more minor ones</td>\n",
       "      <td>No</td>\n",
       "      <td>Very familiar</td>\n",
       "      <td>Somewhat familiar</td>\n",
       "      <td>18 - 29</td>\n",
       "      <td>Male</td>\n",
       "      <td>$10,000 to $24,999</td>\n",
       "      <td>Pacific</td>\n",
       "    </tr>\n",
       "    <tr>\n",
       "      <th>3</th>\n",
       "      <td>Not so worried</td>\n",
       "      <td>Not so worried</td>\n",
       "      <td>No</td>\n",
       "      <td>Yes, one or more minor ones</td>\n",
       "      <td>No</td>\n",
       "      <td>Very familiar</td>\n",
       "      <td>Not so familiar</td>\n",
       "      <td>18 - 29</td>\n",
       "      <td>Male</td>\n",
       "      <td>$25,000 to $49,999</td>\n",
       "      <td>West South Central</td>\n",
       "    </tr>\n",
       "    <tr>\n",
       "      <th>4</th>\n",
       "      <td>Not so worried</td>\n",
       "      <td>Not so worried</td>\n",
       "      <td>Yes</td>\n",
       "      <td>Yes, one or more minor ones</td>\n",
       "      <td>No</td>\n",
       "      <td>Somewhat familiar</td>\n",
       "      <td>Extremely familiar</td>\n",
       "      <td>18 - 29</td>\n",
       "      <td>Male</td>\n",
       "      <td>$200,000 and up</td>\n",
       "      <td>Middle Atlantic</td>\n",
       "    </tr>\n",
       "  </tbody>\n",
       "</table>\n",
       "</div>"
      ],
      "text/plain": [
       "  In general, how worried are you about earthquakes?  \\\n",
       "0                                 Not at all worried   \n",
       "1                                   Somewhat worried   \n",
       "2                                     Not so worried   \n",
       "3                                     Not so worried   \n",
       "4                                     Not so worried   \n",
       "\n",
       "  How worried are you about the Big One, a massive, catastrophic earthquake?  \\\n",
       "0                                     Not so worried                           \n",
       "1                                       Very worried                           \n",
       "2                                   Somewhat worried                           \n",
       "3                                     Not so worried                           \n",
       "4                                     Not so worried                           \n",
       "\n",
       "  Do you think the \"Big One\" will occur in your lifetime?  \\\n",
       "0                                                 No        \n",
       "1                                                 No        \n",
       "2                                                 No        \n",
       "3                                                 No        \n",
       "4                                                Yes        \n",
       "\n",
       "  Have you ever experienced an earthquake?  \\\n",
       "0              Yes, one or more minor ones   \n",
       "1              Yes, one or more minor ones   \n",
       "2              Yes, one or more minor ones   \n",
       "3              Yes, one or more minor ones   \n",
       "4              Yes, one or more minor ones   \n",
       "\n",
       "  Have you or anyone in your household taken any precautions for an earthquake (packed an earthquake survival kit, prepared an evacuation plan, etc.)?  \\\n",
       "0                                                 No                                                                                                     \n",
       "1                                                 No                                                                                                     \n",
       "2                                                 No                                                                                                     \n",
       "3                                                 No                                                                                                     \n",
       "4                                                 No                                                                                                     \n",
       "\n",
       "  How familiar are you with the San Andreas Fault line?  \\\n",
       "0                                  Somewhat familiar      \n",
       "1                                Not at all familiar      \n",
       "2                                      Very familiar      \n",
       "3                                      Very familiar      \n",
       "4                                  Somewhat familiar      \n",
       "\n",
       "  How familiar are you with the Yellowstone Supervolcano?      Age  \\\n",
       "0                                    Not so familiar       18 - 29   \n",
       "1                                Not at all familiar       18 - 29   \n",
       "2                                  Somewhat familiar       18 - 29   \n",
       "3                                    Not so familiar       18 - 29   \n",
       "4                                 Extremely familiar       18 - 29   \n",
       "\n",
       "  What is your gender?  \\\n",
       "0                 Male   \n",
       "1                 Male   \n",
       "2                 Male   \n",
       "3                 Male   \n",
       "4                 Male   \n",
       "\n",
       "  How much total combined money did all members of your HOUSEHOLD earn last year?  \\\n",
       "0                               Prefer not to answer                                \n",
       "1                                 $75,000 to $99,999                                \n",
       "2                                 $10,000 to $24,999                                \n",
       "3                                 $25,000 to $49,999                                \n",
       "4                                    $200,000 and up                                \n",
       "\n",
       "            US Region  \n",
       "0         New England  \n",
       "1  East North Central  \n",
       "2             Pacific  \n",
       "3  West South Central  \n",
       "4     Middle Atlantic  "
      ]
     },
     "execution_count": 266,
     "metadata": {},
     "output_type": "execute_result"
    }
   ],
   "source": [
    "data_set = pd.read_csv('earthquake_data.csv') \n",
    "data_set.head()"
   ]
  },
  {
   "cell_type": "code",
   "execution_count": null,
   "metadata": {},
   "outputs": [],
   "source": [
    "### Organize the data\n",
    "- Treat missing values.\n",
    "- removing all the columns that are not rellevant to our research."
   ]
  },
  {
   "cell_type": "markdown",
   "metadata": {},
   "source": [
    "### Let's check our NuN values : \n"
   ]
  },
  {
   "cell_type": "code",
   "execution_count": 259,
   "metadata": {},
   "outputs": [
    {
     "data": {
      "text/plain": [
       "In general, how worried are you about earthquakes?                                                                                                       0\n",
       "How worried are you about the Big One, a massive, catastrophic earthquake?                                                                               0\n",
       "Do you think the \"Big One\" will occur in your lifetime?                                                                                                  0\n",
       "Have you ever experienced an earthquake?                                                                                                                 7\n",
       "Have you or anyone in your household taken any precautions for an earthquake (packed an earthquake survival kit, prepared an evacuation plan, etc.)?     7\n",
       "How familiar are you with the San Andreas Fault line?                                                                                                   12\n",
       "How familiar are you with the Yellowstone Supervolcano?                                                                                                 12\n",
       "Age                                                                                                                                                     12\n",
       "What is your gender?                                                                                                                                    12\n",
       "How much total combined money did all members of your HOUSEHOLD earn last year?                                                                         12\n",
       "US Region                                                                                                                                               35\n",
       "dtype: int64"
      ]
     },
     "execution_count": 259,
     "metadata": {},
     "output_type": "execute_result"
    }
   ],
   "source": [
    "data_set.isnull().sum()"
   ]
  },
  {
   "cell_type": "markdown",
   "metadata": {},
   "source": [
    "#### Our data have 1013 rows, and we dont have a lot of NuN values, so we remove them."
   ]
  },
  {
   "cell_type": "code",
   "execution_count": 260,
   "metadata": {},
   "outputs": [],
   "source": [
    "data_set = data_set.dropna()"
   ]
  },
  {
   "cell_type": "markdown",
   "metadata": {},
   "source": [
    "### There are few columns that we didn't rely on when we analyzed our data.\n",
    "#### In the following code, we removing them. "
   ]
  },
  {
   "cell_type": "code",
   "execution_count": 261,
   "metadata": {},
   "outputs": [
    {
     "data": {
      "text/html": [
       "<div>\n",
       "<style scoped>\n",
       "    .dataframe tbody tr th:only-of-type {\n",
       "        vertical-align: middle;\n",
       "    }\n",
       "\n",
       "    .dataframe tbody tr th {\n",
       "        vertical-align: top;\n",
       "    }\n",
       "\n",
       "    .dataframe thead th {\n",
       "        text-align: right;\n",
       "    }\n",
       "</style>\n",
       "<table border=\"1\" class=\"dataframe\">\n",
       "  <thead>\n",
       "    <tr style=\"text-align: right;\">\n",
       "      <th></th>\n",
       "      <th>In general, how worried are you about earthquakes?</th>\n",
       "      <th>How worried are you about the Big One, a massive, catastrophic earthquake?</th>\n",
       "      <th>Have you ever experienced an earthquake?</th>\n",
       "      <th>Age</th>\n",
       "      <th>How much total combined money did all members of your HOUSEHOLD earn last year?</th>\n",
       "      <th>US Region</th>\n",
       "    </tr>\n",
       "  </thead>\n",
       "  <tbody>\n",
       "    <tr>\n",
       "      <th>0</th>\n",
       "      <td>Not at all worried</td>\n",
       "      <td>Not so worried</td>\n",
       "      <td>Yes, one or more minor ones</td>\n",
       "      <td>18 - 29</td>\n",
       "      <td>Prefer not to answer</td>\n",
       "      <td>New England</td>\n",
       "    </tr>\n",
       "    <tr>\n",
       "      <th>1</th>\n",
       "      <td>Somewhat worried</td>\n",
       "      <td>Very worried</td>\n",
       "      <td>Yes, one or more minor ones</td>\n",
       "      <td>18 - 29</td>\n",
       "      <td>$75,000 to $99,999</td>\n",
       "      <td>East North Central</td>\n",
       "    </tr>\n",
       "    <tr>\n",
       "      <th>2</th>\n",
       "      <td>Not so worried</td>\n",
       "      <td>Somewhat worried</td>\n",
       "      <td>Yes, one or more minor ones</td>\n",
       "      <td>18 - 29</td>\n",
       "      <td>$10,000 to $24,999</td>\n",
       "      <td>Pacific</td>\n",
       "    </tr>\n",
       "    <tr>\n",
       "      <th>3</th>\n",
       "      <td>Not so worried</td>\n",
       "      <td>Not so worried</td>\n",
       "      <td>Yes, one or more minor ones</td>\n",
       "      <td>18 - 29</td>\n",
       "      <td>$25,000 to $49,999</td>\n",
       "      <td>West South Central</td>\n",
       "    </tr>\n",
       "    <tr>\n",
       "      <th>4</th>\n",
       "      <td>Not so worried</td>\n",
       "      <td>Not so worried</td>\n",
       "      <td>Yes, one or more minor ones</td>\n",
       "      <td>18 - 29</td>\n",
       "      <td>$200,000 and up</td>\n",
       "      <td>Middle Atlantic</td>\n",
       "    </tr>\n",
       "  </tbody>\n",
       "</table>\n",
       "</div>"
      ],
      "text/plain": [
       "  In general, how worried are you about earthquakes?  \\\n",
       "0                                 Not at all worried   \n",
       "1                                   Somewhat worried   \n",
       "2                                     Not so worried   \n",
       "3                                     Not so worried   \n",
       "4                                     Not so worried   \n",
       "\n",
       "  How worried are you about the Big One, a massive, catastrophic earthquake?  \\\n",
       "0                                     Not so worried                           \n",
       "1                                       Very worried                           \n",
       "2                                   Somewhat worried                           \n",
       "3                                     Not so worried                           \n",
       "4                                     Not so worried                           \n",
       "\n",
       "  Have you ever experienced an earthquake?      Age  \\\n",
       "0              Yes, one or more minor ones  18 - 29   \n",
       "1              Yes, one or more minor ones  18 - 29   \n",
       "2              Yes, one or more minor ones  18 - 29   \n",
       "3              Yes, one or more minor ones  18 - 29   \n",
       "4              Yes, one or more minor ones  18 - 29   \n",
       "\n",
       "  How much total combined money did all members of your HOUSEHOLD earn last year?  \\\n",
       "0                               Prefer not to answer                                \n",
       "1                                 $75,000 to $99,999                                \n",
       "2                                 $10,000 to $24,999                                \n",
       "3                                 $25,000 to $49,999                                \n",
       "4                                    $200,000 and up                                \n",
       "\n",
       "            US Region  \n",
       "0         New England  \n",
       "1  East North Central  \n",
       "2             Pacific  \n",
       "3  West South Central  \n",
       "4     Middle Atlantic  "
      ]
     },
     "execution_count": 261,
     "metadata": {},
     "output_type": "execute_result"
    }
   ],
   "source": [
    "data_set = data_set.loc[:,['In general, how worried are you about earthquakes?','How worried are you about the Big One, a massive, catastrophic earthquake?','Have you ever experienced an earthquake?','Age','How much total combined money did all members of your HOUSEHOLD earn last year?','US Region']]\n",
    "data_set.head()"
   ]
  },
  {
   "cell_type": "markdown",
   "metadata": {},
   "source": [
    "## Now that we orginized the data, Let's analysis : \n"
   ]
  },
  {
   "cell_type": "markdown",
   "metadata": {},
   "source": [
    "### We wanted to see if there was a connection between the two questions 'In general, how worried are you about earthquakes?' and 'How worried are you about the Big One, a massive, catastrophic earthquake?' "
   ]
  },
  {
   "cell_type": "code",
   "execution_count": 262,
   "metadata": {},
   "outputs": [
    {
     "data": {
      "text/plain": [
       "<matplotlib.axes._subplots.AxesSubplot at 0x21cd66bb730>"
      ]
     },
     "execution_count": 262,
     "metadata": {},
     "output_type": "execute_result"
    },
    {
     "data": {
      "image/png": "[encoded data removed]",
      "text/plain": [
       "<Figure size 1440x1080 with 2 Axes>"
      ]
     },
     "metadata": {
      "needs_background": "light"
     },
     "output_type": "display_data"
    }
   ],
   "source": [
    "plt.figure(figsize=(20,15))\n",
    "plt.subplot(2,2,1)\n",
    "sns.countplot(x= 'In general, how worried are you about earthquakes?', data = data_set, order = data_set['In general, how worried are you about earthquakes?'].value_counts().index)\n",
    "plt.subplot(2,2,2)\n",
    "sns.countplot(x= 'How worried are you about the Big One, a massive, catastrophic earthquake?', data = data_set, order = data_set['How worried are you about the Big One, a massive, catastrophic earthquake?'].value_counts().index)"
   ]
  },
  {
   "cell_type": "markdown",
   "metadata": {},
   "source": [
    "### The following charts displays the connection between the two levels/kinds of fear.\n",
    "### According to that connection , from now on we will use mostly the \"fear in general\" question.\n"
   ]
  },
  {
   "cell_type": "markdown",
   "metadata": {},
   "source": [
    "## YALLA lets start : "
   ]
  },
  {
   "cell_type": "markdown",
   "metadata": {},
   "source": [
    "### 1. The first thing that we'll going to analysis is if the age is affecting the fear of earthquakes :  "
   ]
  },
  {
   "cell_type": "markdown",
   "metadata": {},
   "source": [
    "#### first we used \"get_dummies\" and \"groupby\" functions to split that \"Age\" Values to binary column, and to group by them."
   ]
  },
  {
   "cell_type": "code",
   "execution_count": 263,
   "metadata": {},
   "outputs": [],
   "source": [
    "x_data = pd.get_dummies(data=data_set, columns=['Age'])\n",
    "x_data = x_data.groupby('In general, how worried are you about earthquakes?')[['Age_18 - 29','Age_30 - 44','Age_45 - 59','Age_60']].sum()"
   ]
  },
  {
   "cell_type": "markdown",
   "metadata": {},
   "source": [
    "#### Here we made some pie charts for us to analysis : "
   ]
  },
  {
   "cell_type": "code",
   "execution_count": 264,
   "metadata": {},
   "outputs": [
    {
     "data": {
      "text/plain": [
       "<matplotlib.axes._subplots.AxesSubplot at 0x21cd69bbf10>"
      ]
     },
     "execution_count": 264,
     "metadata": {},
     "output_type": "execute_result"
    },
    {
     "data": {
      "image/png": "[encoded data removed]",
      "text/plain": [
       "<Figure size 1080x792 with 4 Axes>"
      ]
     },
     "metadata": {},
     "output_type": "display_data"
    }
   ],
   "source": [
    "plt.figure(figsize=(15,11))\n",
    "explode = (0.1, 0, 0, 0, 0.1)\n",
    "plt.subplot(2,2,1)\n",
    "plt.title(\"Age : 18 - 29\",bbox={'facecolor':'0.8', 'pad':7})\n",
    "x_data['Age_18 - 29'].plot.pie(autopct='%1.1f%%',explode = explode)\n",
    "plt.subplot(2,2,2)\n",
    "plt.title(\"Age : 30 - 44\",bbox={'facecolor':'0.8', 'pad':7})\n",
    "x_data['Age_30 - 44'].plot.pie(autopct='%1.1f%%',explode = explode)\n",
    "plt.subplot(2,2,3)\n",
    "plt.title(\"Age : 45 - 59\",bbox={'facecolor':'0.8', 'pad':7})\n",
    "x_data['Age_45 - 59'].plot.pie(autopct='%1.1f%%',explode = explode)\n",
    "plt.subplot(2,2,4)\n",
    "plt.title(\"Age : 60+\",bbox={'facecolor':'0.8', 'pad':7})\n",
    "x_data['Age_60'].plot.pie(autopct='%1.1f%%',explode = explode)"
   ]
  },
  {
   "cell_type": "markdown",
   "metadata": {},
   "source": [
    "## In conclusion : \n",
    "### We can see the age does matter, the older you are, the fearless of earthqueakes you become! "
   ]
  },
  {
   "cell_type": "markdown",
   "metadata": {},
   "source": [
    "### - US regions map. "
   ]
  },
  {
   "cell_type": "code",
   "execution_count": 239,
   "metadata": {},
   "outputs": [
    {
     "data": {
      "text/html": [
       "<img src=\"https://united-states.reaproject.org/img/maps/Census_Divisions_Full.png\" width=\"600\" height=\"600\"/>"
      ],
      "text/plain": [
       "<IPython.core.display.Image object>"
      ]
     },
     "execution_count": 239,
     "metadata": {},
     "output_type": "execute_result"
    }
   ],
   "source": [
    "from IPython.display import Image\n",
    "from IPython.core.display import HTML \n",
    "Image(url= \"https://united-states.reaproject.org/img/maps/Census_Divisions_Full.png\",width=600, height=600)\n",
    "#https://united-states.reaproject.org/"
   ]
  },
  {
   "cell_type": "markdown",
   "metadata": {},
   "source": [
    "### 2. Let's see if there is a connection between the fear and regions :"
   ]
  },
  {
   "cell_type": "code",
   "execution_count": 247,
   "metadata": {},
   "outputs": [
    {
     "data": {
      "text/plain": [
       "<matplotlib.axes._subplots.AxesSubplot at 0x21cd5942790>"
      ]
     },
     "execution_count": 247,
     "metadata": {},
     "output_type": "execute_result"
    },
    {
     "data": {
      "image/png": "[encoded data removed]",
      "text/plain": [
       "<Figure size 1080x576 with 1 Axes>"
      ]
     },
     "metadata": {
      "needs_background": "light"
     },
     "output_type": "display_data"
    }
   ],
   "source": [
    "plt.figure(figsize = (15, 8))\n",
    "sns.countplot(x=\"US Region\", hue='In general, how worried are you about earthquakes?', data=data_set, palette=\"rainbow_r\", hue_order= ['Extremely worried','Very worried','Somewhat worried','Not so worried','Not at all worried'])"
   ]
  },
  {
   "cell_type": "markdown",
   "metadata": {},
   "source": [
    "### We can see the fear in the pacific is the highest, why? "
   ]
  },
  {
   "cell_type": "markdown",
   "metadata": {},
   "source": [
    "### Let's see if other columns can give us information about the pacific compare to the other regions.\n",
    "#### The following chart is the amount of expirence with earthquakes in each region : "
   ]
  },
  {
   "cell_type": "code",
   "execution_count": 248,
   "metadata": {},
   "outputs": [
    {
     "data": {
      "text/plain": [
       "<matplotlib.axes._subplots.AxesSubplot at 0x21cd5e429a0>"
      ]
     },
     "execution_count": 248,
     "metadata": {},
     "output_type": "execute_result"
    },
    {
     "data": {
      "image/png": "[encoded data removed]",
      "text/plain": [
       "<Figure size 1080x576 with 1 Axes>"
      ]
     },
     "metadata": {
      "needs_background": "light"
     },
     "output_type": "display_data"
    }
   ],
   "source": [
    "plt.figure(figsize = (15, 8))\n",
    "sns.countplot(x=\"US Region\", hue=\"Have you ever experienced an earthquake?\", data=data_set, palette=\"rainbow_r\",hue_order = ['Yes, one or more major ones','Yes, one or more minor ones','No'])"
   ]
  },
  {
   "cell_type": "markdown",
   "metadata": {},
   "source": [
    "## The conclosion is clear! \n",
    "### In places that expirenced more earthquakes, there is more people that fear from them."
   ]
  },
  {
   "cell_type": "markdown",
   "metadata": {},
   "source": [
    "### - The pacific sounds quite terrifing for earthquakes, let's have a little look at USA earthquakes hot spots: "
   ]
  },
  {
   "cell_type": "code",
   "execution_count": 249,
   "metadata": {},
   "outputs": [
    {
     "data": {
      "text/html": [
       "<img src=\"https://www.sciencemag.org/sites/default/files/styles/article_main_large/public/images/sn-seismicH.jpg?itok=ft_cAqGT\" width=\"700\" height=\"700\"/>"
      ],
      "text/plain": [
       "<IPython.core.display.Image object>"
      ]
     },
     "execution_count": 249,
     "metadata": {},
     "output_type": "execute_result"
    }
   ],
   "source": [
    "from IPython.display import Image\n",
    "from IPython.core.display import HTML \n",
    "Image(url=\"https://www.sciencemag.org/sites/default/files/styles/article_main_large/public/images/sn-seismicH.jpg?itok=ft_cAqGT\",width=700, height=700)"
   ]
  },
  {
   "cell_type": "markdown",
   "metadata": {},
   "source": [
    "## If people are afraid in the pacific, and experienced earthquakes in the pacific, what makes them stay? "
   ]
  },
  {
   "cell_type": "markdown",
   "metadata": {},
   "source": [
    "### 3.the question makes us wonder, is it about the money? like everthing else?  "
   ]
  },
  {
   "cell_type": "markdown",
   "metadata": {},
   "source": [
    "#### Counting the people household earnings : "
   ]
  },
  {
   "cell_type": "code",
   "execution_count": 252,
   "metadata": {},
   "outputs": [
    {
     "data": {
      "text/html": [
       "<div>\n",
       "<style scoped>\n",
       "    .dataframe tbody tr th:only-of-type {\n",
       "        vertical-align: middle;\n",
       "    }\n",
       "\n",
       "    .dataframe tbody tr th {\n",
       "        vertical-align: top;\n",
       "    }\n",
       "\n",
       "    .dataframe thead th {\n",
       "        text-align: right;\n",
       "    }\n",
       "</style>\n",
       "<table border=\"1\" class=\"dataframe\">\n",
       "  <thead>\n",
       "    <tr style=\"text-align: right;\">\n",
       "      <th></th>\n",
       "      <th>People_index</th>\n",
       "    </tr>\n",
       "    <tr>\n",
       "      <th>How much total combined money did all members of your HOUSEHOLD earn last year?</th>\n",
       "      <th></th>\n",
       "    </tr>\n",
       "  </thead>\n",
       "  <tbody>\n",
       "    <tr>\n",
       "      <th>$0 to $9,999</th>\n",
       "      <td>63</td>\n",
       "    </tr>\n",
       "    <tr>\n",
       "      <th>$10,000 to $24,999</th>\n",
       "      <td>83</td>\n",
       "    </tr>\n",
       "    <tr>\n",
       "      <th>$100,000 to $124,999</th>\n",
       "      <td>74</td>\n",
       "    </tr>\n",
       "    <tr>\n",
       "      <th>$125,000 to $149,999</th>\n",
       "      <td>44</td>\n",
       "    </tr>\n",
       "    <tr>\n",
       "      <th>$150,000 to $174,999</th>\n",
       "      <td>33</td>\n",
       "    </tr>\n",
       "    <tr>\n",
       "      <th>$175,000 to $199,999</th>\n",
       "      <td>12</td>\n",
       "    </tr>\n",
       "    <tr>\n",
       "      <th>$200,000 and up</th>\n",
       "      <td>50</td>\n",
       "    </tr>\n",
       "    <tr>\n",
       "      <th>$25,000 to $49,999</th>\n",
       "      <td>158</td>\n",
       "    </tr>\n",
       "    <tr>\n",
       "      <th>$50,000 to $74,999</th>\n",
       "      <td>174</td>\n",
       "    </tr>\n",
       "    <tr>\n",
       "      <th>$75,000 to $99,999</th>\n",
       "      <td>133</td>\n",
       "    </tr>\n",
       "    <tr>\n",
       "      <th>Prefer not to answer</th>\n",
       "      <td>154</td>\n",
       "    </tr>\n",
       "  </tbody>\n",
       "</table>\n",
       "</div>"
      ],
      "text/plain": [
       "                                                    People_index\n",
       "How much total combined money did all members o...              \n",
       "$0 to $9,999                                                  63\n",
       "$10,000 to $24,999                                            83\n",
       "$100,000 to $124,999                                          74\n",
       "$125,000 to $149,999                                          44\n",
       "$150,000 to $174,999                                          33\n",
       "$175,000 to $199,999                                          12\n",
       "$200,000 and up                                               50\n",
       "$25,000 to $49,999                                           158\n",
       "$50,000 to $74,999                                           174\n",
       "$75,000 to $99,999                                           133\n",
       "Prefer not to answer                                         154"
      ]
     },
     "execution_count": 252,
     "metadata": {},
     "output_type": "execute_result"
    }
   ],
   "source": [
    "data_set['People_index']=  data_set.index\n",
    "data_set.groupby('How much total combined money did all members of your HOUSEHOLD earn last year?')[['People_index']].count()"
   ]
  },
  {
   "cell_type": "markdown",
   "metadata": {},
   "source": [
    "#### The \"Prefer not to answer\" value can be problematic, so we decided to remove them : "
   ]
  },
  {
   "cell_type": "code",
   "execution_count": 253,
   "metadata": {},
   "outputs": [
    {
     "data": {
      "text/html": [
       "<div>\n",
       "<style scoped>\n",
       "    .dataframe tbody tr th:only-of-type {\n",
       "        vertical-align: middle;\n",
       "    }\n",
       "\n",
       "    .dataframe tbody tr th {\n",
       "        vertical-align: top;\n",
       "    }\n",
       "\n",
       "    .dataframe thead th {\n",
       "        text-align: right;\n",
       "    }\n",
       "</style>\n",
       "<table border=\"1\" class=\"dataframe\">\n",
       "  <thead>\n",
       "    <tr style=\"text-align: right;\">\n",
       "      <th></th>\n",
       "      <th>People_index</th>\n",
       "    </tr>\n",
       "    <tr>\n",
       "      <th>How much total combined money did all members of your HOUSEHOLD earn last year?</th>\n",
       "      <th></th>\n",
       "    </tr>\n",
       "  </thead>\n",
       "  <tbody>\n",
       "    <tr>\n",
       "      <th>$0 to $9,999</th>\n",
       "      <td>63</td>\n",
       "    </tr>\n",
       "    <tr>\n",
       "      <th>$10,000 to $24,999</th>\n",
       "      <td>83</td>\n",
       "    </tr>\n",
       "    <tr>\n",
       "      <th>$100,000 to $124,999</th>\n",
       "      <td>74</td>\n",
       "    </tr>\n",
       "    <tr>\n",
       "      <th>$125,000 to $149,999</th>\n",
       "      <td>44</td>\n",
       "    </tr>\n",
       "    <tr>\n",
       "      <th>$150,000 to $174,999</th>\n",
       "      <td>33</td>\n",
       "    </tr>\n",
       "    <tr>\n",
       "      <th>$175,000 to $199,999</th>\n",
       "      <td>12</td>\n",
       "    </tr>\n",
       "    <tr>\n",
       "      <th>$200,000 and up</th>\n",
       "      <td>50</td>\n",
       "    </tr>\n",
       "    <tr>\n",
       "      <th>$25,000 to $49,999</th>\n",
       "      <td>158</td>\n",
       "    </tr>\n",
       "    <tr>\n",
       "      <th>$50,000 to $74,999</th>\n",
       "      <td>174</td>\n",
       "    </tr>\n",
       "    <tr>\n",
       "      <th>$75,000 to $99,999</th>\n",
       "      <td>133</td>\n",
       "    </tr>\n",
       "  </tbody>\n",
       "</table>\n",
       "</div>"
      ],
      "text/plain": [
       "                                                    People_index\n",
       "How much total combined money did all members o...              \n",
       "$0 to $9,999                                                  63\n",
       "$10,000 to $24,999                                            83\n",
       "$100,000 to $124,999                                          74\n",
       "$125,000 to $149,999                                          44\n",
       "$150,000 to $174,999                                          33\n",
       "$175,000 to $199,999                                          12\n",
       "$200,000 and up                                               50\n",
       "$25,000 to $49,999                                           158\n",
       "$50,000 to $74,999                                           174\n",
       "$75,000 to $99,999                                           133"
      ]
     },
     "execution_count": 253,
     "metadata": {},
     "output_type": "execute_result"
    }
   ],
   "source": [
    "wanted_val= data_set[data_set['How much total combined money did all members of your HOUSEHOLD earn last year?']==\"Prefer not to answer\"].index\n",
    "data_set.drop(wanted_val, inplace=True)\n",
    "data_set.groupby('How much total combined money did all members of your HOUSEHOLD earn last year?')[['People_index']].count()"
   ]
  },
  {
   "cell_type": "markdown",
   "metadata": {},
   "source": [
    "#### We can change the values to categories so we can use them more easily : "
   ]
  },
  {
   "cell_type": "code",
   "execution_count": 254,
   "metadata": {},
   "outputs": [
    {
     "data": {
      "text/html": [
       "<div>\n",
       "<style scoped>\n",
       "    .dataframe tbody tr th:only-of-type {\n",
       "        vertical-align: middle;\n",
       "    }\n",
       "\n",
       "    .dataframe tbody tr th {\n",
       "        vertical-align: top;\n",
       "    }\n",
       "\n",
       "    .dataframe thead th {\n",
       "        text-align: right;\n",
       "    }\n",
       "</style>\n",
       "<table border=\"1\" class=\"dataframe\">\n",
       "  <thead>\n",
       "    <tr style=\"text-align: right;\">\n",
       "      <th></th>\n",
       "      <th>People_index</th>\n",
       "    </tr>\n",
       "    <tr>\n",
       "      <th>How much total combined money did all members of your HOUSEHOLD earn last year?</th>\n",
       "      <th></th>\n",
       "    </tr>\n",
       "  </thead>\n",
       "  <tbody>\n",
       "    <tr>\n",
       "      <th>0</th>\n",
       "      <td>63</td>\n",
       "    </tr>\n",
       "    <tr>\n",
       "      <th>1</th>\n",
       "      <td>83</td>\n",
       "    </tr>\n",
       "    <tr>\n",
       "      <th>2</th>\n",
       "      <td>74</td>\n",
       "    </tr>\n",
       "    <tr>\n",
       "      <th>3</th>\n",
       "      <td>44</td>\n",
       "    </tr>\n",
       "    <tr>\n",
       "      <th>4</th>\n",
       "      <td>33</td>\n",
       "    </tr>\n",
       "    <tr>\n",
       "      <th>5</th>\n",
       "      <td>12</td>\n",
       "    </tr>\n",
       "    <tr>\n",
       "      <th>6</th>\n",
       "      <td>50</td>\n",
       "    </tr>\n",
       "    <tr>\n",
       "      <th>7</th>\n",
       "      <td>158</td>\n",
       "    </tr>\n",
       "    <tr>\n",
       "      <th>8</th>\n",
       "      <td>174</td>\n",
       "    </tr>\n",
       "    <tr>\n",
       "      <th>9</th>\n",
       "      <td>133</td>\n",
       "    </tr>\n",
       "  </tbody>\n",
       "</table>\n",
       "</div>"
      ],
      "text/plain": [
       "                                                    People_index\n",
       "How much total combined money did all members o...              \n",
       "0                                                             63\n",
       "1                                                             83\n",
       "2                                                             74\n",
       "3                                                             44\n",
       "4                                                             33\n",
       "5                                                             12\n",
       "6                                                             50\n",
       "7                                                            158\n",
       "8                                                            174\n",
       "9                                                            133"
      ]
     },
     "execution_count": 254,
     "metadata": {},
     "output_type": "execute_result"
    }
   ],
   "source": [
    "data_set['How much total combined money did all members of your HOUSEHOLD earn last year?'] = data_set['How much total combined money did all members of your HOUSEHOLD earn last year?'].astype('category').cat.codes\n",
    "data_set.groupby('How much total combined money did all members of your HOUSEHOLD earn last year?')[['People_index']].count()"
   ]
  },
  {
   "cell_type": "markdown",
   "metadata": {},
   "source": [
    "#### Editing the order of the categories values : "
   ]
  },
  {
   "cell_type": "code",
   "execution_count": 255,
   "metadata": {},
   "outputs": [],
   "source": [
    "change_values = {0:1,1:2,2:6,3:7,4:8,5:9,6:10,7:3,8:4,9:5}\n",
    "data_set['How much total combined money did all members of your HOUSEHOLD earn last year?'].replace(change_values, inplace=True)"
   ]
  },
  {
   "cell_type": "markdown",
   "metadata": {},
   "source": [
    "### Finally we can show the boxplot we wanted : "
   ]
  },
  {
   "cell_type": "code",
   "execution_count": 256,
   "metadata": {},
   "outputs": [
    {
     "data": {
      "text/plain": [
       "(0.0, 11.0)"
      ]
     },
     "execution_count": 256,
     "metadata": {},
     "output_type": "execute_result"
    },
    {
     "data": {
      "image/png": "[encoded data removed]",
      "text/plain": [
       "<Figure size 1080x720 with 1 Axes>"
      ]
     },
     "metadata": {
      "needs_background": "light"
     },
     "output_type": "display_data"
    }
   ],
   "source": [
    "plt.figure(figsize=(15,10))\n",
    "sns.boxplot(x = 'US Region', y = 'How much total combined money did all members of your HOUSEHOLD earn last year?', data = data_set, palette=\"gist_ncar_r\", whis =2)\n",
    "plt.xlabel(\"Regions\", size=16)\n",
    "plt.ylabel(\"Household earnings\", size=16)\n",
    "plt.title(\"Household earnings VS regions\", size=24)\n",
    "plt.ylim(0, 11,10)"
   ]
  },
  {
   "cell_type": "markdown",
   "metadata": {},
   "source": [
    "## Final conclusion : \n",
    "### We can see that the household earnings are pretty much the same across the US regions.\n",
    "### To our surprise, the money is not the reason for the people to stay in the pacific region.\n",
    "### So what is it that makes them stay? \n",
    "### Maybe it's the love for the place, the beaches or the colture they have there, We can't really tell, choose for yourself..."
   ]
  }
 ],
 "metadata": {
  "kernelspec": {
   "display_name": "Python 3",
   "language": "python",
   "name": "python3"
  },
  "language_info": {
   "codemirror_mode": {
    "name": "ipython",
    "version": 3
   },
   "file_extension": ".py",
   "mimetype": "text/x-python",
   "name": "python",
   "nbconvert_exporter": "python",
   "pygments_lexer": "ipython3",
   "version": "3.8.5"
  }
 },
 "nbformat": 4,
 "nbformat_minor": 4
}
