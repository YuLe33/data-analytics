{
 "cells": [
  {
   "cell_type": "markdown",
   "metadata": {},
   "source": [
    "# $\\color{blue}{\\text{Final Project }}$\n",
    "## $\\color{blue}{\\text{Group AU  }}$\n",
    "\n"
   ]
  },
  {
   "cell_type": "markdown",
   "metadata": {},
   "source": [
    "## $\\color{blue}{\\text{Project Subject:}}$  Stock market indices in Israel and the United States, Number of coronavirus infections in the US And their effects on each other"
   ]
  },
  {
   "cell_type": "markdown",
   "metadata": {},
   "source": [
    "<div>\n",
    "<img src=\"https://raw.githubusercontent.com/ArielHezi/DS_Stock_Exchange/main/Images/Stock.jpg\" width=\"500\"/>\n",
    "</div>\n"
   ]
  },
  {
   "cell_type": "markdown",
   "metadata": {},
   "source": [
    "#  "
   ]
  },
  {
   "cell_type": "markdown",
   "metadata": {},
   "source": [
    "## $\\color{blue}{\\text{Arranging the information}}$"
   ]
  },
  {
   "cell_type": "markdown",
   "metadata": {},
   "source": [
    "#### Imports of python libraries"
   ]
  },
  {
   "cell_type": "code",
   "execution_count": 40,
   "metadata": {},
   "outputs": [],
   "source": [
    "import pandas as pd\n",
    "import numpy as np\n",
    "import matplotlib.pyplot as plt\n",
    "import seaborn as sns\n",
    "import sklearn as sk\n",
    "from sklearn import tree\n",
    "from sklearn.model_selection import train_test_split\n",
    "from sklearn.tree import DecisionTreeRegressor\n",
    "from sklearn.metrics import mean_squared_error"
   ]
  },
  {
   "cell_type": "markdown",
   "metadata": {},
   "source": [
    "#### Reading CSV files: "
   ]
  },
  {
   "cell_type": "markdown",
   "metadata": {},
   "source": [
    "##### 1. Corona disease file"
   ]
  },
  {
   "cell_type": "code",
   "execution_count": 41,
   "metadata": {},
   "outputs": [
    {
     "data": {
      "text/html": [
       "<div>\n",
       "<style scoped>\n",
       "    .dataframe tbody tr th:only-of-type {\n",
       "        vertical-align: middle;\n",
       "    }\n",
       "\n",
       "    .dataframe tbody tr th {\n",
       "        vertical-align: top;\n",
       "    }\n",
       "\n",
       "    .dataframe thead th {\n",
       "        text-align: right;\n",
       "    }\n",
       "</style>\n",
       "<table border=\"1\" class=\"dataframe\">\n",
       "  <thead>\n",
       "    <tr style=\"text-align: right;\">\n",
       "      <th></th>\n",
       "      <th>Date</th>\n",
       "      <th>New Cases</th>\n",
       "      <th>7-Day Moving Avg</th>\n",
       "    </tr>\n",
       "  </thead>\n",
       "  <tbody>\n",
       "    <tr>\n",
       "      <th>0</th>\n",
       "      <td>19.04.2021</td>\n",
       "      <td>43863</td>\n",
       "      <td>66687</td>\n",
       "    </tr>\n",
       "    <tr>\n",
       "      <th>1</th>\n",
       "      <td>18.04.2021</td>\n",
       "      <td>54442</td>\n",
       "      <td>68602</td>\n",
       "    </tr>\n",
       "  </tbody>\n",
       "</table>\n",
       "</div>"
      ],
      "text/plain": [
       "         Date  New Cases  7-Day Moving Avg\n",
       "0  19.04.2021      43863             66687\n",
       "1  18.04.2021      54442             68602"
      ]
     },
     "execution_count": 41,
     "metadata": {},
     "output_type": "execute_result"
    }
   ],
   "source": [
    "url1 = 'https://raw.githubusercontent.com/ArielHezi/DS_Stock_Exchange/main/case_daily_trends__united_states.csv'\n",
    "Corona = pd.read_csv(url1)\n",
    "Corona.head(2)"
   ]
  },
  {
   "cell_type": "markdown",
   "metadata": {},
   "source": [
    "##### * As is well known, from the global media, the stock exchanges in the US and Israel suffered a severe blow with the outbreak of the corona (each in its own country), in light of the fact that no country was prepared for this.\n",
    "##### We referred to the corona data after the great stock market crisis that was known to be in March, to know if there were any side effects to the corona life"
   ]
  },
  {
   "cell_type": "markdown",
   "metadata": {},
   "source": [
    "##### 2. Nasdaq stock file"
   ]
  },
  {
   "cell_type": "code",
   "execution_count": 42,
   "metadata": {
    "scrolled": true
   },
   "outputs": [
    {
     "data": {
      "text/html": [
       "<div>\n",
       "<style scoped>\n",
       "    .dataframe tbody tr th:only-of-type {\n",
       "        vertical-align: middle;\n",
       "    }\n",
       "\n",
       "    .dataframe tbody tr th {\n",
       "        vertical-align: top;\n",
       "    }\n",
       "\n",
       "    .dataframe thead th {\n",
       "        text-align: right;\n",
       "    }\n",
       "</style>\n",
       "<table border=\"1\" class=\"dataframe\">\n",
       "  <thead>\n",
       "    <tr style=\"text-align: right;\">\n",
       "      <th></th>\n",
       "      <th>Date</th>\n",
       "      <th>Gate_Nasdaq</th>\n",
       "      <th>Openning_Value_Nasdaq</th>\n",
       "      <th>High_Daily_Nasdaq</th>\n",
       "      <th>Low_Daily_Nasdaq</th>\n",
       "      <th>Volume_Capacity_Nasdaq_M</th>\n",
       "      <th>Change%_Nasdaq</th>\n",
       "    </tr>\n",
       "  </thead>\n",
       "  <tbody>\n",
       "    <tr>\n",
       "      <th>0</th>\n",
       "      <td>21.04.2021</td>\n",
       "      <td>13,876.88</td>\n",
       "      <td>13,745.83</td>\n",
       "      <td>13,893.90</td>\n",
       "      <td>13,707.08</td>\n",
       "      <td>415.77M</td>\n",
       "      <td>0.66%</td>\n",
       "    </tr>\n",
       "    <tr>\n",
       "      <th>1</th>\n",
       "      <td>20.04.2021</td>\n",
       "      <td>13,786.27</td>\n",
       "      <td>13,894.46</td>\n",
       "      <td>13,927.67</td>\n",
       "      <td>13,698.67</td>\n",
       "      <td>875.27M</td>\n",
       "      <td>-0.92%</td>\n",
       "    </tr>\n",
       "  </tbody>\n",
       "</table>\n",
       "</div>"
      ],
      "text/plain": [
       "         Date Gate_Nasdaq Openning_Value_Nasdaq High_Daily_Nasdaq  \\\n",
       "0  21.04.2021   13,876.88             13,745.83         13,893.90   \n",
       "1  20.04.2021   13,786.27             13,894.46         13,927.67   \n",
       "\n",
       "  Low_Daily_Nasdaq Volume_Capacity_Nasdaq_M Change%_Nasdaq  \n",
       "0        13,707.08                  415.77M          0.66%  \n",
       "1        13,698.67                  875.27M         -0.92%  "
      ]
     },
     "execution_count": 42,
     "metadata": {},
     "output_type": "execute_result"
    }
   ],
   "source": [
    "url2 = 'https://raw.githubusercontent.com/ArielHezi/DS_Stock_Exchange/main/%D7%A0%D7%90%D7%A1%D7%93_%D7%A7%20-%20%D7%A0%D7%AA%D7%95%D7%A0%D7%99%D7%9D%20%D7%94%D7%99%D7%A1%D7%98%D7%95%D7%A8%D7%99%D7%99%D7%9D.csv'\n",
    "Nasdaq = pd.read_csv(url2)\n",
    "url2 = 'https://raw.githubusercontent.com/ArielHezi/DS_Stock_Exchange/main/%D7%A0%D7%90%D7%A1%D7%93_%D7%A7%20-%20%D7%A0%D7%AA%D7%95%D7%A0%D7%99%D7%9D%20%D7%94%D7%99%D7%A1%D7%98%D7%95%D7%A8%D7%99%D7%99%D7%9D.csv'\n",
    "Nasdaq = Nasdaq.rename(columns={\"תאריך\": \"Date\", \"שער\" : \"Gate_Nasdaq\", \"פתיחה\": \"Openning_Value_Nasdaq\" , \"גבוה\": \"High_Daily_Nasdaq\" , \"נמוך\": \"Low_Daily_Nasdaq\", \"נפח\": \"Volume_Capacity_Nasdaq_M\", \"שינוי %\" : \"Change%_Nasdaq\" })\n",
    "Nasdaq.head(2)"
   ]
  },
  {
   "cell_type": "markdown",
   "metadata": {},
   "source": [
    "##### 3. Tel Aviv Stock File 125"
   ]
  },
  {
   "cell_type": "code",
   "execution_count": 43,
   "metadata": {},
   "outputs": [
    {
     "data": {
      "text/html": [
       "<div>\n",
       "<style scoped>\n",
       "    .dataframe tbody tr th:only-of-type {\n",
       "        vertical-align: middle;\n",
       "    }\n",
       "\n",
       "    .dataframe tbody tr th {\n",
       "        vertical-align: top;\n",
       "    }\n",
       "\n",
       "    .dataframe thead th {\n",
       "        text-align: right;\n",
       "    }\n",
       "</style>\n",
       "<table border=\"1\" class=\"dataframe\">\n",
       "  <thead>\n",
       "    <tr style=\"text-align: right;\">\n",
       "      <th></th>\n",
       "      <th>Date</th>\n",
       "      <th>Gate_TLV</th>\n",
       "      <th>Openning_Value_TLV</th>\n",
       "      <th>High_Daily_TLV</th>\n",
       "      <th>Low_Daily_TLV</th>\n",
       "      <th>Volume_Capacity_TLV_M</th>\n",
       "      <th>Change%_TLV</th>\n",
       "    </tr>\n",
       "  </thead>\n",
       "  <tbody>\n",
       "    <tr>\n",
       "      <th>0</th>\n",
       "      <td>21.04.2021</td>\n",
       "      <td>1,692.91</td>\n",
       "      <td>1,691.69</td>\n",
       "      <td>1,694.97</td>\n",
       "      <td>1,684.35</td>\n",
       "      <td>51.51M</td>\n",
       "      <td>-0.29%</td>\n",
       "    </tr>\n",
       "    <tr>\n",
       "      <th>1</th>\n",
       "      <td>20.04.2021</td>\n",
       "      <td>1,697.88</td>\n",
       "      <td>1,703.36</td>\n",
       "      <td>1,709.17</td>\n",
       "      <td>1,693.61</td>\n",
       "      <td>57.06M</td>\n",
       "      <td>-0.53%</td>\n",
       "    </tr>\n",
       "  </tbody>\n",
       "</table>\n",
       "</div>"
      ],
      "text/plain": [
       "         Date  Gate_TLV Openning_Value_TLV High_Daily_TLV Low_Daily_TLV  \\\n",
       "0  21.04.2021  1,692.91           1,691.69       1,694.97      1,684.35   \n",
       "1  20.04.2021  1,697.88           1,703.36       1,709.17      1,693.61   \n",
       "\n",
       "  Volume_Capacity_TLV_M Change%_TLV  \n",
       "0                51.51M      -0.29%  \n",
       "1                57.06M      -0.53%  "
      ]
     },
     "execution_count": 43,
     "metadata": {},
     "output_type": "execute_result"
    }
   ],
   "source": [
    "url3 = 'https://raw.githubusercontent.com/ArielHezi/DS_Stock_Exchange/main/%D7%A0%D7%AA%D7%95%D7%A0%D7%99%20%D7%91%D7%95%D7%A8%D7%A1%D7%94%20%D7%AA%D7%9C%20%D7%90%D7%91%D7%99%D7%91%20125.csv'\n",
    "TLV = pd.read_csv(url3)\n",
    "TLV = TLV.rename(columns={\"תאריך\": \"Date\", \"שער\" : \"Gate_TLV\", \"פתיחה\": \"Openning_Value_TLV\" , \"גבוה\": \"High_Daily_TLV\" , \"נמוך\": \"Low_Daily_TLV\", \"נפח\": \"Volume_Capacity_TLV_M\", \"שינוי %\" : \"Change%_TLV\" })\n",
    "TLV.head(2)"
   ]
  },
  {
   "cell_type": "markdown",
   "metadata": {},
   "source": [
    "#### Create a help table for synchronized dates\n"
   ]
  },
  {
   "cell_type": "code",
   "execution_count": 44,
   "metadata": {
    "scrolled": true
   },
   "outputs": [
    {
     "data": {
      "text/html": [
       "<div>\n",
       "<style scoped>\n",
       "    .dataframe tbody tr th:only-of-type {\n",
       "        vertical-align: middle;\n",
       "    }\n",
       "\n",
       "    .dataframe tbody tr th {\n",
       "        vertical-align: top;\n",
       "    }\n",
       "\n",
       "    .dataframe thead th {\n",
       "        text-align: right;\n",
       "    }\n",
       "</style>\n",
       "<table border=\"1\" class=\"dataframe\">\n",
       "  <thead>\n",
       "    <tr style=\"text-align: right;\">\n",
       "      <th></th>\n",
       "      <th>Date</th>\n",
       "    </tr>\n",
       "  </thead>\n",
       "  <tbody>\n",
       "    <tr>\n",
       "      <th>0</th>\n",
       "      <td>21.04.2020</td>\n",
       "    </tr>\n",
       "    <tr>\n",
       "      <th>1</th>\n",
       "      <td>22.04.2020</td>\n",
       "    </tr>\n",
       "    <tr>\n",
       "      <th>2</th>\n",
       "      <td>23.04.2020</td>\n",
       "    </tr>\n",
       "  </tbody>\n",
       "</table>\n",
       "</div>"
      ],
      "text/plain": [
       "         Date\n",
       "0  21.04.2020\n",
       "1  22.04.2020\n",
       "2  23.04.2020"
      ]
     },
     "execution_count": 44,
     "metadata": {},
     "output_type": "execute_result"
    }
   ],
   "source": [
    "date_range = pd.date_range(start = \"21.04.2020\", end = '19.04.2021' ,freq = 'D')\n",
    "date_range_df = pd.DataFrame({'Date':date_range})\n",
    "date_range_df = date_range_df[\"Date\"].dt.strftime(\"%d.%m.%Y\")\n",
    "date_range_df = pd.DataFrame(date_range_df)\n",
    "date_range_df.head(3)"
   ]
  },
  {
   "cell_type": "markdown",
   "metadata": {},
   "source": [
    "#### Consolidation of the three cabins according to the date table"
   ]
  },
  {
   "cell_type": "code",
   "execution_count": 45,
   "metadata": {},
   "outputs": [
    {
     "data": {
      "text/html": [
       "<div>\n",
       "<style scoped>\n",
       "    .dataframe tbody tr th:only-of-type {\n",
       "        vertical-align: middle;\n",
       "    }\n",
       "\n",
       "    .dataframe tbody tr th {\n",
       "        vertical-align: top;\n",
       "    }\n",
       "\n",
       "    .dataframe thead th {\n",
       "        text-align: right;\n",
       "    }\n",
       "</style>\n",
       "<table border=\"1\" class=\"dataframe\">\n",
       "  <thead>\n",
       "    <tr style=\"text-align: right;\">\n",
       "      <th></th>\n",
       "      <th>Date</th>\n",
       "      <th>New Cases</th>\n",
       "      <th>7-Day Moving Avg</th>\n",
       "      <th>Gate_Nasdaq</th>\n",
       "      <th>Openning_Value_Nasdaq</th>\n",
       "      <th>High_Daily_Nasdaq</th>\n",
       "      <th>Low_Daily_Nasdaq</th>\n",
       "      <th>Volume_Capacity_Nasdaq_M</th>\n",
       "      <th>Change%_Nasdaq</th>\n",
       "      <th>Gate_TLV</th>\n",
       "      <th>Openning_Value_TLV</th>\n",
       "      <th>High_Daily_TLV</th>\n",
       "      <th>Low_Daily_TLV</th>\n",
       "      <th>Volume_Capacity_TLV_M</th>\n",
       "      <th>Change%_TLV</th>\n",
       "    </tr>\n",
       "  </thead>\n",
       "  <tbody>\n",
       "    <tr>\n",
       "      <th>130</th>\n",
       "      <td>2021-04-13</td>\n",
       "      <td>76033</td>\n",
       "      <td>69880</td>\n",
       "      <td>13,996.10</td>\n",
       "      <td>13,902.45</td>\n",
       "      <td>14,011.51</td>\n",
       "      <td>13,902.45</td>\n",
       "      <td>839.45M</td>\n",
       "      <td>1.05%</td>\n",
       "      <td>1,697.27</td>\n",
       "      <td>1,698.62</td>\n",
       "      <td>1,701.65</td>\n",
       "      <td>1,691.84</td>\n",
       "      <td>55.09M</td>\n",
       "      <td>0.07%</td>\n",
       "    </tr>\n",
       "    <tr>\n",
       "      <th>131</th>\n",
       "      <td>2021-04-19</td>\n",
       "      <td>43863</td>\n",
       "      <td>66687</td>\n",
       "      <td>13,914.76</td>\n",
       "      <td>13,984.58</td>\n",
       "      <td>14,041.79</td>\n",
       "      <td>13,842.57</td>\n",
       "      <td>907.06M</td>\n",
       "      <td>-0.98%</td>\n",
       "      <td>1,706.97</td>\n",
       "      <td>1,708.57</td>\n",
       "      <td>1,714.95</td>\n",
       "      <td>1,703.96</td>\n",
       "      <td>68.09M</td>\n",
       "      <td>-0.24%</td>\n",
       "    </tr>\n",
       "  </tbody>\n",
       "</table>\n",
       "</div>"
      ],
      "text/plain": [
       "          Date  New Cases  7-Day Moving Avg Gate_Nasdaq Openning_Value_Nasdaq  \\\n",
       "130 2021-04-13      76033             69880   13,996.10             13,902.45   \n",
       "131 2021-04-19      43863             66687   13,914.76             13,984.58   \n",
       "\n",
       "    High_Daily_Nasdaq Low_Daily_Nasdaq Volume_Capacity_Nasdaq_M  \\\n",
       "130         14,011.51        13,902.45                  839.45M   \n",
       "131         14,041.79        13,842.57                  907.06M   \n",
       "\n",
       "    Change%_Nasdaq  Gate_TLV Openning_Value_TLV High_Daily_TLV Low_Daily_TLV  \\\n",
       "130          1.05%  1,697.27           1,698.62       1,701.65      1,691.84   \n",
       "131         -0.98%  1,706.97           1,708.57       1,714.95      1,703.96   \n",
       "\n",
       "    Volume_Capacity_TLV_M Change%_TLV  \n",
       "130                55.09M       0.07%  \n",
       "131                68.09M      -0.24%  "
      ]
     },
     "execution_count": 45,
     "metadata": {},
     "output_type": "execute_result"
    }
   ],
   "source": [
    "All_Data = pd.merge(date_range_df, Corona, how='inner', on='Date')\n",
    "All_Data = pd.merge(All_Data, Nasdaq, how='inner', on='Date')\n",
    "All_Data = pd.merge(All_Data, TLV, how='inner', on='Date')\n",
    "All_Data['Date'] = pd.to_datetime(All_Data['Date'], format='%d.%m.%Y') \n",
    "All_Data.tail(2)"
   ]
  },
  {
   "cell_type": "markdown",
   "metadata": {},
   "source": [
    "### Understanding the information"
   ]
  },
  {
   "cell_type": "code",
   "execution_count": 46,
   "metadata": {},
   "outputs": [
    {
     "name": "stdout",
     "output_type": "stream",
     "text": [
      "<class 'pandas.core.frame.DataFrame'>\n",
      "Int64Index: 132 entries, 0 to 131\n",
      "Data columns (total 15 columns):\n",
      " #   Column                    Non-Null Count  Dtype         \n",
      "---  ------                    --------------  -----         \n",
      " 0   Date                      132 non-null    datetime64[ns]\n",
      " 1   New Cases                 132 non-null    int64         \n",
      " 2   7-Day Moving Avg          132 non-null    int64         \n",
      " 3   Gate_Nasdaq               132 non-null    object        \n",
      " 4   Openning_Value_Nasdaq     132 non-null    object        \n",
      " 5   High_Daily_Nasdaq         132 non-null    object        \n",
      " 6   Low_Daily_Nasdaq          132 non-null    object        \n",
      " 7   Volume_Capacity_Nasdaq_M  132 non-null    object        \n",
      " 8   Change%_Nasdaq            132 non-null    object        \n",
      " 9   Gate_TLV                  132 non-null    object        \n",
      " 10  Openning_Value_TLV        132 non-null    object        \n",
      " 11  High_Daily_TLV            132 non-null    object        \n",
      " 12  Low_Daily_TLV             132 non-null    object        \n",
      " 13  Volume_Capacity_TLV_M     132 non-null    object        \n",
      " 14  Change%_TLV               132 non-null    object        \n",
      "dtypes: datetime64[ns](1), int64(2), object(12)\n",
      "memory usage: 16.5+ KB\n"
     ]
    }
   ],
   "source": [
    "All_Data.info()"
   ]
  },
  {
   "cell_type": "code",
   "execution_count": 47,
   "metadata": {},
   "outputs": [],
   "source": [
    "# We changed the str to int\n",
    "All_Data['Low_Daily_Nasdaq'] = All_Data['Low_Daily_Nasdaq'].replace({',':''},regex=True).apply(pd.to_numeric,1)\n",
    "All_Data['High_Daily_Nasdaq'] =  All_Data['High_Daily_Nasdaq'].replace({',':''},regex=True).apply(pd.to_numeric,1)\n",
    "All_Data['Gate_Nasdaq'] = All_Data['Gate_Nasdaq'].replace({',':''},regex=True).apply(pd.to_numeric,1)\n",
    "All_Data['Openning_Value_Nasdaq'] = All_Data['Openning_Value_Nasdaq'].replace({',':''},regex=True).apply(pd.to_numeric,1)\n",
    "All_Data['Gate_TLV'] = All_Data['Gate_TLV'].replace({',':''},regex=True).apply(pd.to_numeric,1)\n",
    "All_Data['Openning_Value_TLV'] = All_Data['Openning_Value_TLV'].replace({',':''},regex=True).apply(pd.to_numeric,1)\n",
    "All_Data['Low_Daily_TLV'] = All_Data['Low_Daily_TLV'].replace({',':''},regex=True).apply(pd.to_numeric,1)\n",
    "All_Data['High_Daily_TLV'] =  All_Data['High_Daily_TLV'].replace({',':''},regex=True).apply(pd.to_numeric,1)"
   ]
  },
  {
   "cell_type": "code",
   "execution_count": 48,
   "metadata": {},
   "outputs": [],
   "source": [
    "# We removed the percentage mark and changed the str to int\n",
    "All_Data['Change%_Nasdaq'] =  All_Data['Change%_Nasdaq'].replace({'%':''},regex=True).apply(pd.to_numeric,1)\n",
    "All_Data['Change%_TLV'] =  All_Data['Change%_TLV'].replace({'%':''},regex=True).apply(pd.to_numeric,1)"
   ]
  },
  {
   "cell_type": "markdown",
   "metadata": {},
   "source": [
    "#### Average between the columns of high and low values in each of the stocks"
   ]
  },
  {
   "cell_type": "code",
   "execution_count": 49,
   "metadata": {},
   "outputs": [],
   "source": [
    "All_Data['Mean_Daily_Nasdaq'] = All_Data[['High_Daily_Nasdaq','Low_Daily_Nasdaq']].mean(axis = 1)\n",
    "All_Data['Mean_Daily_TLV'] = All_Data[['High_Daily_TLV','Low_Daily_TLV']].mean(axis = 1)"
   ]
  },
  {
   "cell_type": "markdown",
   "metadata": {},
   "source": [
    "#### "
   ]
  },
  {
   "cell_type": "markdown",
   "metadata": {},
   "source": [
    "# \n",
    "## $\\color{blue}{\\text{Data analysis}}$"
   ]
  },
  {
   "cell_type": "code",
   "execution_count": 50,
   "metadata": {},
   "outputs": [
    {
     "data": {
      "text/html": [
       "<div>\n",
       "<style scoped>\n",
       "    .dataframe tbody tr th:only-of-type {\n",
       "        vertical-align: middle;\n",
       "    }\n",
       "\n",
       "    .dataframe tbody tr th {\n",
       "        vertical-align: top;\n",
       "    }\n",
       "\n",
       "    .dataframe thead th {\n",
       "        text-align: right;\n",
       "    }\n",
       "</style>\n",
       "<table border=\"1\" class=\"dataframe\">\n",
       "  <thead>\n",
       "    <tr style=\"text-align: right;\">\n",
       "      <th></th>\n",
       "      <th>Date</th>\n",
       "      <th>New Cases</th>\n",
       "      <th>7-Day Moving Avg</th>\n",
       "      <th>Gate_Nasdaq</th>\n",
       "      <th>Openning_Value_Nasdaq</th>\n",
       "      <th>Mean_Daily_Nasdaq</th>\n",
       "      <th>Volume_Capacity_Nasdaq_M</th>\n",
       "      <th>Change%_Nasdaq</th>\n",
       "      <th>Gate_TLV</th>\n",
       "      <th>Openning_Value_TLV</th>\n",
       "      <th>Mean_Daily_TLV</th>\n",
       "      <th>Volume_Capacity_TLV_M</th>\n",
       "      <th>Change%_TLV</th>\n",
       "    </tr>\n",
       "  </thead>\n",
       "  <tbody>\n",
       "    <tr>\n",
       "      <th>0</th>\n",
       "      <td>2020-04-21</td>\n",
       "      <td>26053</td>\n",
       "      <td>28059</td>\n",
       "      <td>8263.23</td>\n",
       "      <td>8460.69</td>\n",
       "      <td>8347.990</td>\n",
       "      <td>881.56M</td>\n",
       "      <td>-3.48</td>\n",
       "      <td>1320.41</td>\n",
       "      <td>1347.93</td>\n",
       "      <td>1331.33</td>\n",
       "      <td>106.76M</td>\n",
       "      <td>-2.18</td>\n",
       "    </tr>\n",
       "    <tr>\n",
       "      <th>1</th>\n",
       "      <td>2020-04-22</td>\n",
       "      <td>26719</td>\n",
       "      <td>27966</td>\n",
       "      <td>8495.38</td>\n",
       "      <td>8434.55</td>\n",
       "      <td>8470.925</td>\n",
       "      <td>733.43M</td>\n",
       "      <td>2.81</td>\n",
       "      <td>1322.14</td>\n",
       "      <td>1323.80</td>\n",
       "      <td>1324.47</td>\n",
       "      <td>94.24M</td>\n",
       "      <td>0.13</td>\n",
       "    </tr>\n",
       "    <tr>\n",
       "      <th>2</th>\n",
       "      <td>2020-04-23</td>\n",
       "      <td>37341</td>\n",
       "      <td>29156</td>\n",
       "      <td>8494.75</td>\n",
       "      <td>8528.84</td>\n",
       "      <td>8555.215</td>\n",
       "      <td>854.52M</td>\n",
       "      <td>-0.01</td>\n",
       "      <td>1343.16</td>\n",
       "      <td>1332.74</td>\n",
       "      <td>1339.12</td>\n",
       "      <td>159.37M</td>\n",
       "      <td>1.59</td>\n",
       "    </tr>\n",
       "  </tbody>\n",
       "</table>\n",
       "</div>"
      ],
      "text/plain": [
       "        Date  New Cases  7-Day Moving Avg  Gate_Nasdaq  Openning_Value_Nasdaq  \\\n",
       "0 2020-04-21      26053             28059      8263.23                8460.69   \n",
       "1 2020-04-22      26719             27966      8495.38                8434.55   \n",
       "2 2020-04-23      37341             29156      8494.75                8528.84   \n",
       "\n",
       "   Mean_Daily_Nasdaq Volume_Capacity_Nasdaq_M  Change%_Nasdaq  Gate_TLV  \\\n",
       "0           8347.990                  881.56M           -3.48   1320.41   \n",
       "1           8470.925                  733.43M            2.81   1322.14   \n",
       "2           8555.215                  854.52M           -0.01   1343.16   \n",
       "\n",
       "   Openning_Value_TLV  Mean_Daily_TLV Volume_Capacity_TLV_M  Change%_TLV  \n",
       "0             1347.93         1331.33               106.76M        -2.18  \n",
       "1             1323.80         1324.47                94.24M         0.13  \n",
       "2             1332.74         1339.12               159.37M         1.59  "
      ]
     },
     "execution_count": 50,
     "metadata": {},
     "output_type": "execute_result"
    }
   ],
   "source": [
    "Final_Data = All_Data[['Date','New Cases','7-Day Moving Avg','Gate_Nasdaq','Openning_Value_Nasdaq','Mean_Daily_Nasdaq','Volume_Capacity_Nasdaq_M','Change%_Nasdaq','Gate_TLV','Openning_Value_TLV','Mean_Daily_TLV','Volume_Capacity_TLV_M','Change%_TLV']]\n",
    "Final_Data.head(3)"
   ]
  },
  {
   "cell_type": "code",
   "execution_count": 51,
   "metadata": {},
   "outputs": [
    {
     "data": {
      "text/html": [
       "<div>\n",
       "<style scoped>\n",
       "    .dataframe tbody tr th:only-of-type {\n",
       "        vertical-align: middle;\n",
       "    }\n",
       "\n",
       "    .dataframe tbody tr th {\n",
       "        vertical-align: top;\n",
       "    }\n",
       "\n",
       "    .dataframe thead th {\n",
       "        text-align: right;\n",
       "    }\n",
       "</style>\n",
       "<table border=\"1\" class=\"dataframe\">\n",
       "  <thead>\n",
       "    <tr style=\"text-align: right;\">\n",
       "      <th></th>\n",
       "      <th>New Cases</th>\n",
       "      <th>7-Day Moving Avg</th>\n",
       "      <th>Gate_Nasdaq</th>\n",
       "      <th>Openning_Value_Nasdaq</th>\n",
       "      <th>Mean_Daily_Nasdaq</th>\n",
       "      <th>Change%_Nasdaq</th>\n",
       "      <th>Gate_TLV</th>\n",
       "      <th>Openning_Value_TLV</th>\n",
       "      <th>Mean_Daily_TLV</th>\n",
       "      <th>Change%_TLV</th>\n",
       "    </tr>\n",
       "  </thead>\n",
       "  <tbody>\n",
       "    <tr>\n",
       "      <th>count</th>\n",
       "      <td>132.000000</td>\n",
       "      <td>132.000000</td>\n",
       "      <td>132.000000</td>\n",
       "      <td>132.000000</td>\n",
       "      <td>132.000000</td>\n",
       "      <td>132.000000</td>\n",
       "      <td>132.000000</td>\n",
       "      <td>132.000000</td>\n",
       "      <td>132.000000</td>\n",
       "      <td>132.000000</td>\n",
       "    </tr>\n",
       "    <tr>\n",
       "      <th>mean</th>\n",
       "      <td>86391.696970</td>\n",
       "      <td>86203.712121</td>\n",
       "      <td>11655.698258</td>\n",
       "      <td>11663.956515</td>\n",
       "      <td>11652.819545</td>\n",
       "      <td>0.045076</td>\n",
       "      <td>1482.368712</td>\n",
       "      <td>1484.391894</td>\n",
       "      <td>1483.180265</td>\n",
       "      <td>-0.057121</td>\n",
       "    </tr>\n",
       "    <tr>\n",
       "      <th>std</th>\n",
       "      <td>65623.253449</td>\n",
       "      <td>65596.674763</td>\n",
       "      <td>1457.816317</td>\n",
       "      <td>1453.294213</td>\n",
       "      <td>1451.198373</td>\n",
       "      <td>1.352485</td>\n",
       "      <td>118.150919</td>\n",
       "      <td>117.716910</td>\n",
       "      <td>117.730419</td>\n",
       "      <td>1.088964</td>\n",
       "    </tr>\n",
       "    <tr>\n",
       "      <th>min</th>\n",
       "      <td>16564.000000</td>\n",
       "      <td>20781.000000</td>\n",
       "      <td>8263.230000</td>\n",
       "      <td>8434.550000</td>\n",
       "      <td>8347.990000</td>\n",
       "      <td>-3.730000</td>\n",
       "      <td>1304.540000</td>\n",
       "      <td>1307.570000</td>\n",
       "      <td>1305.350000</td>\n",
       "      <td>-4.580000</td>\n",
       "    </tr>\n",
       "    <tr>\n",
       "      <th>25%</th>\n",
       "      <td>40426.500000</td>\n",
       "      <td>42081.250000</td>\n",
       "      <td>10678.337500</td>\n",
       "      <td>10689.020000</td>\n",
       "      <td>10647.316250</td>\n",
       "      <td>-0.667500</td>\n",
       "      <td>1387.660000</td>\n",
       "      <td>1387.052500</td>\n",
       "      <td>1389.932500</td>\n",
       "      <td>-0.710000</td>\n",
       "    </tr>\n",
       "    <tr>\n",
       "      <th>50%</th>\n",
       "      <td>59460.000000</td>\n",
       "      <td>60884.000000</td>\n",
       "      <td>11535.175000</td>\n",
       "      <td>11545.855000</td>\n",
       "      <td>11570.910000</td>\n",
       "      <td>0.205000</td>\n",
       "      <td>1438.770000</td>\n",
       "      <td>1442.350000</td>\n",
       "      <td>1440.917500</td>\n",
       "      <td>-0.090000</td>\n",
       "    </tr>\n",
       "    <tr>\n",
       "      <th>75%</th>\n",
       "      <td>144854.750000</td>\n",
       "      <td>127431.000000</td>\n",
       "      <td>12992.367500</td>\n",
       "      <td>13018.795000</td>\n",
       "      <td>13007.990000</td>\n",
       "      <td>0.880000</td>\n",
       "      <td>1609.865000</td>\n",
       "      <td>1620.822500</td>\n",
       "      <td>1616.436250</td>\n",
       "      <td>0.670000</td>\n",
       "    </tr>\n",
       "    <tr>\n",
       "      <th>max</th>\n",
       "      <td>248776.000000</td>\n",
       "      <td>249233.000000</td>\n",
       "      <td>14047.500000</td>\n",
       "      <td>14152.210000</td>\n",
       "      <td>14085.285000</td>\n",
       "      <td>2.810000</td>\n",
       "      <td>1706.970000</td>\n",
       "      <td>1708.570000</td>\n",
       "      <td>1709.455000</td>\n",
       "      <td>2.720000</td>\n",
       "    </tr>\n",
       "  </tbody>\n",
       "</table>\n",
       "</div>"
      ],
      "text/plain": [
       "           New Cases  7-Day Moving Avg   Gate_Nasdaq  Openning_Value_Nasdaq  \\\n",
       "count     132.000000        132.000000    132.000000             132.000000   \n",
       "mean    86391.696970      86203.712121  11655.698258           11663.956515   \n",
       "std     65623.253449      65596.674763   1457.816317            1453.294213   \n",
       "min     16564.000000      20781.000000   8263.230000            8434.550000   \n",
       "25%     40426.500000      42081.250000  10678.337500           10689.020000   \n",
       "50%     59460.000000      60884.000000  11535.175000           11545.855000   \n",
       "75%    144854.750000     127431.000000  12992.367500           13018.795000   \n",
       "max    248776.000000     249233.000000  14047.500000           14152.210000   \n",
       "\n",
       "       Mean_Daily_Nasdaq  Change%_Nasdaq     Gate_TLV  Openning_Value_TLV  \\\n",
       "count         132.000000      132.000000   132.000000          132.000000   \n",
       "mean        11652.819545        0.045076  1482.368712         1484.391894   \n",
       "std          1451.198373        1.352485   118.150919          117.716910   \n",
       "min          8347.990000       -3.730000  1304.540000         1307.570000   \n",
       "25%         10647.316250       -0.667500  1387.660000         1387.052500   \n",
       "50%         11570.910000        0.205000  1438.770000         1442.350000   \n",
       "75%         13007.990000        0.880000  1609.865000         1620.822500   \n",
       "max         14085.285000        2.810000  1706.970000         1708.570000   \n",
       "\n",
       "       Mean_Daily_TLV  Change%_TLV  \n",
       "count      132.000000   132.000000  \n",
       "mean      1483.180265    -0.057121  \n",
       "std        117.730419     1.088964  \n",
       "min       1305.350000    -4.580000  \n",
       "25%       1389.932500    -0.710000  \n",
       "50%       1440.917500    -0.090000  \n",
       "75%       1616.436250     0.670000  \n",
       "max       1709.455000     2.720000  "
      ]
     },
     "execution_count": 51,
     "metadata": {},
     "output_type": "execute_result"
    }
   ],
   "source": [
    "# We chose to use the command df.describe() to get a general picture of the data we are about to deal with \n",
    "Final_Data.describe()"
   ]
  },
  {
   "cell_type": "markdown",
   "metadata": {},
   "source": [
    "## $\\color{green}{\\text{Observation:}}$\n",
    "### As can be seen from columns -  Daily average of Nasdaq and TLV, and number of new infected , the average is higher than the median, which indicates strength we will be dealing with data that as time goes on the jumps between them will increase."
   ]
  },
  {
   "cell_type": "markdown",
   "metadata": {},
   "source": [
    " # \n",
    "  # "
   ]
  },
  {
   "cell_type": "markdown",
   "metadata": {},
   "source": [
    "## speculation:\n",
    "#### Life alongside the corona (with an emphasis on an increase in the number of corona patients) in the United States will cause a decline in US and Israeli stock market indices"
   ]
  },
  {
   "cell_type": "code",
   "execution_count": 52,
   "metadata": {},
   "outputs": [
    {
     "data": {
      "image/png": "[encoded data removed]",
      "text/plain": [
       "<Figure size 1800x360 with 3 Axes>"
      ]
     },
     "metadata": {
      "needs_background": "light"
     },
     "output_type": "display_data"
    }
   ],
   "source": [
    "# We will examine the correlation between each pair of variables\n",
    "fig, axes = plt.subplots(figsize=(25, 5), ncols=3)\n",
    "sns.regplot(ax=axes[0], x='Mean_Daily_TLV', y='Mean_Daily_Nasdaq', data= Final_Data)\n",
    "sns.regplot(ax=axes[1], x='Mean_Daily_Nasdaq', y='New Cases', data= Final_Data)\n",
    "sns.regplot(ax=axes[2], x='Mean_Daily_TLV', y='New Cases', data= Final_Data)\n",
    "\n",
    "axes[0].set_title(\"Correlation: Nasdaq - TLV\")\n",
    "axes[1].set_title(\"Correlation: New Cases - Nasdaq\")\n",
    "axes[2].set_title(\"Correlation: New Cases - TLV\")\n",
    "\n",
    "plt.show()"
   ]
  },
  {
   "cell_type": "markdown",
   "metadata": {},
   "source": [
    "###### There seems to be a certain match - we would like to see numerically "
   ]
  },
  {
   "cell_type": "code",
   "execution_count": 53,
   "metadata": {},
   "outputs": [
    {
     "data": {
      "text/html": [
       "<div>\n",
       "<style scoped>\n",
       "    .dataframe tbody tr th:only-of-type {\n",
       "        vertical-align: middle;\n",
       "    }\n",
       "\n",
       "    .dataframe tbody tr th {\n",
       "        vertical-align: top;\n",
       "    }\n",
       "\n",
       "    .dataframe thead th {\n",
       "        text-align: right;\n",
       "    }\n",
       "</style>\n",
       "<table border=\"1\" class=\"dataframe\">\n",
       "  <thead>\n",
       "    <tr style=\"text-align: right;\">\n",
       "      <th></th>\n",
       "      <th>Mean_Daily_TLV</th>\n",
       "      <th>Mean_Daily_Nasdaq</th>\n",
       "      <th>New Cases</th>\n",
       "    </tr>\n",
       "  </thead>\n",
       "  <tbody>\n",
       "    <tr>\n",
       "      <th>Mean_Daily_TLV</th>\n",
       "      <td>1.000000</td>\n",
       "      <td>0.868527</td>\n",
       "      <td>0.442966</td>\n",
       "    </tr>\n",
       "    <tr>\n",
       "      <th>Mean_Daily_Nasdaq</th>\n",
       "      <td>0.868527</td>\n",
       "      <td>1.000000</td>\n",
       "      <td>0.534756</td>\n",
       "    </tr>\n",
       "    <tr>\n",
       "      <th>New Cases</th>\n",
       "      <td>0.442966</td>\n",
       "      <td>0.534756</td>\n",
       "      <td>1.000000</td>\n",
       "    </tr>\n",
       "  </tbody>\n",
       "</table>\n",
       "</div>"
      ],
      "text/plain": [
       "                   Mean_Daily_TLV  Mean_Daily_Nasdaq  New Cases\n",
       "Mean_Daily_TLV           1.000000           0.868527   0.442966\n",
       "Mean_Daily_Nasdaq        0.868527           1.000000   0.534756\n",
       "New Cases                0.442966           0.534756   1.000000"
      ]
     },
     "execution_count": 53,
     "metadata": {},
     "output_type": "execute_result"
    }
   ],
   "source": [
    "data1 = Final_Data[['Mean_Daily_TLV','Mean_Daily_Nasdaq','New Cases']]\n",
    "data1.corr()"
   ]
  },
  {
   "cell_type": "code",
   "execution_count": 54,
   "metadata": {},
   "outputs": [
    {
     "data": {
      "text/plain": [
       "Text(0.5, 1.0, 'Heatmap')"
      ]
     },
     "execution_count": 54,
     "metadata": {},
     "output_type": "execute_result"
    },
    {
     "data": {
      "image/png": "[encoded data removed]",
      "text/plain": [
       "<Figure size 432x288 with 2 Axes>"
      ]
     },
     "metadata": {
      "needs_background": "light"
     },
     "output_type": "display_data"
    }
   ],
   "source": [
    "# create heatmap\n",
    "sns.heatmap(data1.corr(), vmin=0.0 , vmax = 1, cmap='jet', annot=True)\n",
    "plt.title(\"Heatmap\")"
   ]
  },
  {
   "cell_type": "markdown",
   "metadata": {},
   "source": [
    "## $\\color{green}{\\text{Observation:}}$\n",
    "### As can be seen, there is a high match between the US and Israeli stock exchanges."
   ]
  },
  {
   "cell_type": "markdown",
   "metadata": {},
   "source": [
    "##### If so, when we look at the correlation between the number of corona virus infections in the US and the US stock market, we will know how the number of infections affected the Israeli stock market as well.\n",
    "##### From the initial analysis performed - it can be seen that there is some match at the beginning of the period between the US stock market and the number of those infected there, but this needs to be analyzed in a different and more in-depth way in order to reach a real conclusion.\n",
    "# \n",
    "# "
   ]
  },
  {
   "cell_type": "markdown",
   "metadata": {},
   "source": [
    "### Create one more table \"Per_Month_Year\" to help us analyze the data by month:"
   ]
  },
  {
   "cell_type": "code",
   "execution_count": 55,
   "metadata": {},
   "outputs": [
    {
     "data": {
      "text/html": [
       "<div>\n",
       "<style scoped>\n",
       "    .dataframe tbody tr th:only-of-type {\n",
       "        vertical-align: middle;\n",
       "    }\n",
       "\n",
       "    .dataframe tbody tr th {\n",
       "        vertical-align: top;\n",
       "    }\n",
       "\n",
       "    .dataframe thead th {\n",
       "        text-align: right;\n",
       "    }\n",
       "</style>\n",
       "<table border=\"1\" class=\"dataframe\">\n",
       "  <thead>\n",
       "    <tr style=\"text-align: right;\">\n",
       "      <th></th>\n",
       "      <th>Date</th>\n",
       "      <th>New Cases</th>\n",
       "      <th>7-Day Moving Avg</th>\n",
       "      <th>Gate_Nasdaq</th>\n",
       "      <th>Openning_Value_Nasdaq</th>\n",
       "      <th>Mean_Daily_Nasdaq</th>\n",
       "      <th>Volume_Capacity_Nasdaq_M</th>\n",
       "      <th>Change%_Nasdaq</th>\n",
       "      <th>Gate_TLV</th>\n",
       "      <th>Openning_Value_TLV</th>\n",
       "      <th>Mean_Daily_TLV</th>\n",
       "      <th>Volume_Capacity_TLV_M</th>\n",
       "      <th>Change%_TLV</th>\n",
       "      <th>Per_Month_Year</th>\n",
       "    </tr>\n",
       "  </thead>\n",
       "  <tbody>\n",
       "    <tr>\n",
       "      <th>0</th>\n",
       "      <td>2020-04-21</td>\n",
       "      <td>26053</td>\n",
       "      <td>28059</td>\n",
       "      <td>8263.23</td>\n",
       "      <td>8460.69</td>\n",
       "      <td>8347.990</td>\n",
       "      <td>881.56M</td>\n",
       "      <td>-3.48</td>\n",
       "      <td>1320.41</td>\n",
       "      <td>1347.93</td>\n",
       "      <td>1331.33</td>\n",
       "      <td>106.76M</td>\n",
       "      <td>-2.18</td>\n",
       "      <td>2020-04</td>\n",
       "    </tr>\n",
       "    <tr>\n",
       "      <th>1</th>\n",
       "      <td>2020-04-22</td>\n",
       "      <td>26719</td>\n",
       "      <td>27966</td>\n",
       "      <td>8495.38</td>\n",
       "      <td>8434.55</td>\n",
       "      <td>8470.925</td>\n",
       "      <td>733.43M</td>\n",
       "      <td>2.81</td>\n",
       "      <td>1322.14</td>\n",
       "      <td>1323.80</td>\n",
       "      <td>1324.47</td>\n",
       "      <td>94.24M</td>\n",
       "      <td>0.13</td>\n",
       "      <td>2020-04</td>\n",
       "    </tr>\n",
       "  </tbody>\n",
       "</table>\n",
       "</div>"
      ],
      "text/plain": [
       "        Date  New Cases  7-Day Moving Avg  Gate_Nasdaq  Openning_Value_Nasdaq  \\\n",
       "0 2020-04-21      26053             28059      8263.23                8460.69   \n",
       "1 2020-04-22      26719             27966      8495.38                8434.55   \n",
       "\n",
       "   Mean_Daily_Nasdaq Volume_Capacity_Nasdaq_M  Change%_Nasdaq  Gate_TLV  \\\n",
       "0           8347.990                  881.56M           -3.48   1320.41   \n",
       "1           8470.925                  733.43M            2.81   1322.14   \n",
       "\n",
       "   Openning_Value_TLV  Mean_Daily_TLV Volume_Capacity_TLV_M  Change%_TLV  \\\n",
       "0             1347.93         1331.33               106.76M        -2.18   \n",
       "1             1323.80         1324.47                94.24M         0.13   \n",
       "\n",
       "  Per_Month_Year  \n",
       "0        2020-04  \n",
       "1        2020-04  "
      ]
     },
     "execution_count": 55,
     "metadata": {},
     "output_type": "execute_result"
    }
   ],
   "source": [
    "# Splitting the date into a month and a year will help us divide the table later\n",
    "Final_Data = Final_Data.copy()\n",
    "Final_Data[\"Per_Month_Year\"] = pd.DatetimeIndex(Final_Data.Date).to_period(\"M\")\n",
    "Final_Data.head(2)"
   ]
  },
  {
   "cell_type": "code",
   "execution_count": 56,
   "metadata": {},
   "outputs": [
    {
     "data": {
      "text/html": [
       "<div>\n",
       "<style scoped>\n",
       "    .dataframe tbody tr th:only-of-type {\n",
       "        vertical-align: middle;\n",
       "    }\n",
       "\n",
       "    .dataframe tbody tr th {\n",
       "        vertical-align: top;\n",
       "    }\n",
       "\n",
       "    .dataframe thead th {\n",
       "        text-align: right;\n",
       "    }\n",
       "</style>\n",
       "<table border=\"1\" class=\"dataframe\">\n",
       "  <thead>\n",
       "    <tr style=\"text-align: right;\">\n",
       "      <th></th>\n",
       "      <th>New Cases</th>\n",
       "      <th>7-Day Moving Avg</th>\n",
       "      <th>Gate_Nasdaq</th>\n",
       "      <th>Openning_Value_Nasdaq</th>\n",
       "      <th>Mean_Daily_Nasdaq</th>\n",
       "      <th>Change%_Nasdaq</th>\n",
       "      <th>Gate_TLV</th>\n",
       "      <th>Openning_Value_TLV</th>\n",
       "      <th>Mean_Daily_TLV</th>\n",
       "      <th>Change%_TLV</th>\n",
       "    </tr>\n",
       "    <tr>\n",
       "      <th>Per_Month_Year</th>\n",
       "      <th></th>\n",
       "      <th></th>\n",
       "      <th></th>\n",
       "      <th></th>\n",
       "      <th></th>\n",
       "      <th></th>\n",
       "      <th></th>\n",
       "      <th></th>\n",
       "      <th></th>\n",
       "      <th></th>\n",
       "    </tr>\n",
       "  </thead>\n",
       "  <tbody>\n",
       "    <tr>\n",
       "      <th>2020-04</th>\n",
       "      <td>29100.200000</td>\n",
       "      <td>28546.800000</td>\n",
       "      <td>8574.614000</td>\n",
       "      <td>8610.614000</td>\n",
       "      <td>8595.214000</td>\n",
       "      <td>0.030000</td>\n",
       "      <td>1357.044000</td>\n",
       "      <td>1366.784000</td>\n",
       "      <td>1362.321000</td>\n",
       "      <td>0.282000</td>\n",
       "    </tr>\n",
       "    <tr>\n",
       "      <th>2020-05</th>\n",
       "      <td>21588.700000</td>\n",
       "      <td>23206.900000</td>\n",
       "      <td>9183.495000</td>\n",
       "      <td>9200.690000</td>\n",
       "      <td>9184.819000</td>\n",
       "      <td>0.203000</td>\n",
       "      <td>1404.800000</td>\n",
       "      <td>1414.240000</td>\n",
       "      <td>1407.748500</td>\n",
       "      <td>-0.640000</td>\n",
       "    </tr>\n",
       "    <tr>\n",
       "      <th>2020-07</th>\n",
       "      <td>47576.500000</td>\n",
       "      <td>46801.090909</td>\n",
       "      <td>10545.458182</td>\n",
       "      <td>10564.303636</td>\n",
       "      <td>10542.418182</td>\n",
       "      <td>0.006364</td>\n",
       "      <td>1381.399091</td>\n",
       "      <td>1381.050909</td>\n",
       "      <td>1381.395909</td>\n",
       "      <td>0.298182</td>\n",
       "    </tr>\n",
       "    <tr>\n",
       "      <th>2020-08</th>\n",
       "      <td>44673.076923</td>\n",
       "      <td>47495.615385</td>\n",
       "      <td>11266.919231</td>\n",
       "      <td>11245.358462</td>\n",
       "      <td>11252.660385</td>\n",
       "      <td>0.459231</td>\n",
       "      <td>1437.493077</td>\n",
       "      <td>1440.210000</td>\n",
       "      <td>1439.325769</td>\n",
       "      <td>-0.160769</td>\n",
       "    </tr>\n",
       "    <tr>\n",
       "      <th>2020-09</th>\n",
       "      <td>41775.090909</td>\n",
       "      <td>40354.363636</td>\n",
       "      <td>10947.979091</td>\n",
       "      <td>10967.722727</td>\n",
       "      <td>10963.703182</td>\n",
       "      <td>-0.186364</td>\n",
       "      <td>1343.333636</td>\n",
       "      <td>1342.960000</td>\n",
       "      <td>1343.422273</td>\n",
       "      <td>-0.065455</td>\n",
       "    </tr>\n",
       "    <tr>\n",
       "      <th>2020-10</th>\n",
       "      <td>66965.666667</td>\n",
       "      <td>62487.000000</td>\n",
       "      <td>11515.798333</td>\n",
       "      <td>11545.827500</td>\n",
       "      <td>11537.405000</td>\n",
       "      <td>-0.275833</td>\n",
       "      <td>1395.846667</td>\n",
       "      <td>1399.875833</td>\n",
       "      <td>1397.236250</td>\n",
       "      <td>-0.388333</td>\n",
       "    </tr>\n",
       "    <tr>\n",
       "      <th>2020-11</th>\n",
       "      <td>165482.545455</td>\n",
       "      <td>155474.363636</td>\n",
       "      <td>11890.069091</td>\n",
       "      <td>11877.397273</td>\n",
       "      <td>11867.052727</td>\n",
       "      <td>0.234545</td>\n",
       "      <td>1487.928182</td>\n",
       "      <td>1487.137273</td>\n",
       "      <td>1488.048636</td>\n",
       "      <td>0.144545</td>\n",
       "    </tr>\n",
       "    <tr>\n",
       "      <th>2020-12</th>\n",
       "      <td>213434.692308</td>\n",
       "      <td>204863.153846</td>\n",
       "      <td>12730.619231</td>\n",
       "      <td>12711.656923</td>\n",
       "      <td>12710.485769</td>\n",
       "      <td>0.358462</td>\n",
       "      <td>1534.458462</td>\n",
       "      <td>1534.366154</td>\n",
       "      <td>1533.821923</td>\n",
       "      <td>0.034615</td>\n",
       "    </tr>\n",
       "    <tr>\n",
       "      <th>2021-01</th>\n",
       "      <td>181558.727273</td>\n",
       "      <td>200807.909091</td>\n",
       "      <td>13309.601818</td>\n",
       "      <td>13322.105455</td>\n",
       "      <td>13310.111364</td>\n",
       "      <td>0.172727</td>\n",
       "      <td>1648.120909</td>\n",
       "      <td>1644.236364</td>\n",
       "      <td>1645.498182</td>\n",
       "      <td>0.205455</td>\n",
       "    </tr>\n",
       "    <tr>\n",
       "      <th>2021-02</th>\n",
       "      <td>73965.333333</td>\n",
       "      <td>77186.555556</td>\n",
       "      <td>13732.478889</td>\n",
       "      <td>13767.421111</td>\n",
       "      <td>13715.732778</td>\n",
       "      <td>-0.777778</td>\n",
       "      <td>1646.192222</td>\n",
       "      <td>1659.376667</td>\n",
       "      <td>1652.816667</td>\n",
       "      <td>-0.757778</td>\n",
       "    </tr>\n",
       "    <tr>\n",
       "      <th>2021-03</th>\n",
       "      <td>59734.416667</td>\n",
       "      <td>56828.583333</td>\n",
       "      <td>13225.764167</td>\n",
       "      <td>13224.061667</td>\n",
       "      <td>13227.015833</td>\n",
       "      <td>0.097500</td>\n",
       "      <td>1656.157500</td>\n",
       "      <td>1654.002500</td>\n",
       "      <td>1654.721250</td>\n",
       "      <td>0.146667</td>\n",
       "    </tr>\n",
       "    <tr>\n",
       "      <th>2021-04</th>\n",
       "      <td>59054.333333</td>\n",
       "      <td>68110.000000</td>\n",
       "      <td>13920.286667</td>\n",
       "      <td>13913.823333</td>\n",
       "      <td>13909.878333</td>\n",
       "      <td>-0.096667</td>\n",
       "      <td>1700.103333</td>\n",
       "      <td>1704.066667</td>\n",
       "      <td>1701.191667</td>\n",
       "      <td>-0.293333</td>\n",
       "    </tr>\n",
       "  </tbody>\n",
       "</table>\n",
       "</div>"
      ],
      "text/plain": [
       "                    New Cases  7-Day Moving Avg   Gate_Nasdaq  \\\n",
       "Per_Month_Year                                                  \n",
       "2020-04          29100.200000      28546.800000   8574.614000   \n",
       "2020-05          21588.700000      23206.900000   9183.495000   \n",
       "2020-07          47576.500000      46801.090909  10545.458182   \n",
       "2020-08          44673.076923      47495.615385  11266.919231   \n",
       "2020-09          41775.090909      40354.363636  10947.979091   \n",
       "2020-10          66965.666667      62487.000000  11515.798333   \n",
       "2020-11         165482.545455     155474.363636  11890.069091   \n",
       "2020-12         213434.692308     204863.153846  12730.619231   \n",
       "2021-01         181558.727273     200807.909091  13309.601818   \n",
       "2021-02          73965.333333      77186.555556  13732.478889   \n",
       "2021-03          59734.416667      56828.583333  13225.764167   \n",
       "2021-04          59054.333333      68110.000000  13920.286667   \n",
       "\n",
       "                Openning_Value_Nasdaq  Mean_Daily_Nasdaq  Change%_Nasdaq  \\\n",
       "Per_Month_Year                                                             \n",
       "2020-04                   8610.614000        8595.214000        0.030000   \n",
       "2020-05                   9200.690000        9184.819000        0.203000   \n",
       "2020-07                  10564.303636       10542.418182        0.006364   \n",
       "2020-08                  11245.358462       11252.660385        0.459231   \n",
       "2020-09                  10967.722727       10963.703182       -0.186364   \n",
       "2020-10                  11545.827500       11537.405000       -0.275833   \n",
       "2020-11                  11877.397273       11867.052727        0.234545   \n",
       "2020-12                  12711.656923       12710.485769        0.358462   \n",
       "2021-01                  13322.105455       13310.111364        0.172727   \n",
       "2021-02                  13767.421111       13715.732778       -0.777778   \n",
       "2021-03                  13224.061667       13227.015833        0.097500   \n",
       "2021-04                  13913.823333       13909.878333       -0.096667   \n",
       "\n",
       "                   Gate_TLV  Openning_Value_TLV  Mean_Daily_TLV  Change%_TLV  \n",
       "Per_Month_Year                                                                \n",
       "2020-04         1357.044000         1366.784000     1362.321000     0.282000  \n",
       "2020-05         1404.800000         1414.240000     1407.748500    -0.640000  \n",
       "2020-07         1381.399091         1381.050909     1381.395909     0.298182  \n",
       "2020-08         1437.493077         1440.210000     1439.325769    -0.160769  \n",
       "2020-09         1343.333636         1342.960000     1343.422273    -0.065455  \n",
       "2020-10         1395.846667         1399.875833     1397.236250    -0.388333  \n",
       "2020-11         1487.928182         1487.137273     1488.048636     0.144545  \n",
       "2020-12         1534.458462         1534.366154     1533.821923     0.034615  \n",
       "2021-01         1648.120909         1644.236364     1645.498182     0.205455  \n",
       "2021-02         1646.192222         1659.376667     1652.816667    -0.757778  \n",
       "2021-03         1656.157500         1654.002500     1654.721250     0.146667  \n",
       "2021-04         1700.103333         1704.066667     1701.191667    -0.293333  "
      ]
     },
     "execution_count": 56,
     "metadata": {},
     "output_type": "execute_result"
    }
   ],
   "source": [
    "# Once we have arranged the dates, we will divide the information by months and make an average\n",
    "Per_Month = Final_Data.groupby('Per_Month_Year', as_index=True).mean()\n",
    "Per_Month"
   ]
  },
  {
   "cell_type": "markdown",
   "metadata": {},
   "source": [
    "# "
   ]
  },
  {
   "cell_type": "markdown",
   "metadata": {},
   "source": [
    "## We would like to check:\n",
    "### Has life alongside the corona caused a decline in stock market indices? "
   ]
  },
  {
   "cell_type": "code",
   "execution_count": 57,
   "metadata": {},
   "outputs": [
    {
     "data": {
      "image/png": "[encoded data removed]",
      "text/plain": [
       "<Figure size 432x288 with 1 Axes>"
      ]
     },
     "metadata": {
      "needs_background": "light"
     },
     "output_type": "display_data"
    }
   ],
   "source": [
    "Per_Month[[\"New Cases\"]].plot()\n",
    "plt.title(\"New Cases\")\n",
    "plt.show()"
   ]
  },
  {
   "cell_type": "code",
   "execution_count": 58,
   "metadata": {},
   "outputs": [
    {
     "data": {
      "image/png": "[encoded data removed]",
      "text/plain": [
       "<Figure size 432x288 with 1 Axes>"
      ]
     },
     "metadata": {
      "needs_background": "light"
     },
     "output_type": "display_data"
    }
   ],
   "source": [
    "Per_Month[[\"Mean_Daily_Nasdaq\"]].plot()\n",
    "plt.title(\"Mean Daily Nasdaq\")\n",
    "plt.show()"
   ]
  },
  {
   "cell_type": "code",
   "execution_count": 59,
   "metadata": {},
   "outputs": [
    {
     "data": {
      "image/png": "[encoded data removed]",
      "text/plain": [
       "<Figure size 1440x360 with 2 Axes>"
      ]
     },
     "metadata": {
      "needs_background": "light"
     },
     "output_type": "display_data"
    }
   ],
   "source": [
    "# create figure and axis objects with subplots()\n",
    "fig,ax = plt.subplots(figsize=(20, 5))\n",
    "# make a plot\n",
    "ax.plot(Final_Data.Per_Month_Year.astype(str) , Final_Data['New Cases'], color=\"red\", marker=\"o\")\n",
    "# set x-axis label\n",
    "ax.set_xlabel(\"Date\",fontsize=14)\n",
    "# set y-axis label\n",
    "ax.set_ylabel(\"New_Cases\",color=\"red\",fontsize=14)\n",
    "\n",
    "# twin object for two different y-axis on the sample plot\n",
    "ax2=ax.twinx()\n",
    "# make a plot with different y-axis using second axis object\n",
    "ax2.plot(Final_Data.Per_Month_Year.astype(str) , Final_Data['Mean_Daily_Nasdaq'],color=\"blue\",marker=\"o\")\n",
    "ax2.set_ylabel(\"Mean_Daily_Nasdaq\",color=\"blue\",fontsize=20)\n",
    "plt.show()"
   ]
  },
  {
   "cell_type": "markdown",
   "metadata": {},
   "source": [
    "### As noted earlier, we expected to see a direct correlation between the number of corona infections in the US and stock market data there.\n",
    "### From the comparison of the graphs it can be seen that only when there was an extreme point in the graph \"new cases\" had an effect on US stock market indices. After the extreme point there was an effect on stock market indices which caused a slight decline in stock market indices\n",
    "### Apart from these declines, the number affected has no significant impact on the US stock market.\n",
    "### Therefore, our hypothesis was incorrect"
   ]
  },
  {
   "cell_type": "markdown",
   "metadata": {},
   "source": [
    "## $\\color{green}{\\text{Observation:}}$\n",
    "### The corona virus in the US did not cause a drop in US and Israeli stock market indices."
   ]
  },
  {
   "cell_type": "markdown",
   "metadata": {},
   "source": [
    "# \n",
    "# \n",
    "\n",
    "\n",
    "# So ... if you invest the money, what is the profit expectation in each of the stock exchanges?"
   ]
  },
  {
   "cell_type": "markdown",
   "metadata": {},
   "source": [
    "<div>\n",
    "<img src=\"https://raw.githubusercontent.com/ArielHezi/DS_Stock_Exchange/main/Images/%E2%80%8F%E2%80%8FNoa_Kirel.jpg\", width=\"500\"/>\n",
    "</div>\n"
   ]
  },
  {
   "cell_type": "markdown",
   "metadata": {},
   "source": [
    "# $\\color{blue}{\\text{Forecasting stock market indices in the US and Israel through regression:}}$"
   ]
  },
  {
   "cell_type": "markdown",
   "metadata": {},
   "source": [
    "#### * It is important to note that this forecast is only an estimate that does not take into account changes in the US and Israel, which may significantly affect the price of the index."
   ]
  },
  {
   "cell_type": "markdown",
   "metadata": {},
   "source": [
    "## Nasdaq regression"
   ]
  },
  {
   "cell_type": "code",
   "execution_count": 60,
   "metadata": {},
   "outputs": [
    {
     "data": {
      "text/plain": [
       "(12, 10)"
      ]
     },
     "execution_count": 60,
     "metadata": {},
     "output_type": "execute_result"
    }
   ],
   "source": [
    "Per_Month.shape"
   ]
  },
  {
   "cell_type": "code",
   "execution_count": 61,
   "metadata": {
    "scrolled": true
   },
   "outputs": [
    {
     "name": "stdout",
     "output_type": "stream",
     "text": [
      "R^^2 =  0.9364366275248687\n"
     ]
    }
   ],
   "source": [
    "from sklearn import linear_model\n",
    "\n",
    "X = np.linspace(1,12, num=12).reshape(-1, 1)\n",
    "y = Per_Month['Mean_Daily_Nasdaq']\n",
    "\n",
    "regr = linear_model.LinearRegression()\n",
    "regr.fit(X, y)\n",
    "print(\"R^^2 = \",regr.score(X,y))"
   ]
  },
  {
   "cell_type": "code",
   "execution_count": 62,
   "metadata": {},
   "outputs": [
    {
     "data": {
      "text/plain": [
       "array([464.7256354])"
      ]
     },
     "execution_count": 62,
     "metadata": {},
     "output_type": "execute_result"
    }
   ],
   "source": [
    "# X point\n",
    "regr.coef_"
   ]
  },
  {
   "cell_type": "code",
   "execution_count": 63,
   "metadata": {},
   "outputs": [
    {
     "data": {
      "text/plain": [
       "8713.99141600151"
      ]
     },
     "execution_count": 63,
     "metadata": {},
     "output_type": "execute_result"
    }
   ],
   "source": [
    "# Y point\n",
    "regr.intercept_"
   ]
  },
  {
   "cell_type": "markdown",
   "metadata": {},
   "source": [
    "### The regression equation:\n",
    "## Y = 464.726X + 8714\n",
    "### "
   ]
  },
  {
   "cell_type": "code",
   "execution_count": 64,
   "metadata": {},
   "outputs": [
    {
     "data": {
      "image/png": "[encoded data removed]",
      "text/plain": [
       "<Figure size 432x288 with 1 Axes>"
      ]
     },
     "metadata": {
      "needs_background": "light"
     },
     "output_type": "display_data"
    }
   ],
   "source": [
    "y = []\n",
    "for i in range(12):\n",
    "    y.append(464.726*i + 8714)\n",
    "\n",
    "X = np.linspace(1,12,12)\n",
    "plt.plot(X,y)\n",
    "plt.title(\"Nasdaq Regression\")\n",
    "plt.xlabel(\"Month (starting from your investment month)\")\n",
    "plt.ylabel(\"Price stock\")\n",
    "plt.show()\n"
   ]
  },
  {
   "cell_type": "markdown",
   "metadata": {},
   "source": [
    "## \n",
    "## TLV regression"
   ]
  },
  {
   "cell_type": "code",
   "execution_count": 65,
   "metadata": {},
   "outputs": [
    {
     "name": "stdout",
     "output_type": "stream",
     "text": [
      "R^^2 =  0.8357261713633074\n"
     ]
    }
   ],
   "source": [
    "from sklearn import linear_model\n",
    "\n",
    "X = np.linspace(1,12, num=12).reshape(-1, 1)\n",
    "y = Per_Month['Mean_Daily_TLV']\n",
    "\n",
    "regr = linear_model.LinearRegression()\n",
    "regr.fit(X, y)\n",
    "print(\"R^^2 = \",regr.score(X,y))"
   ]
  },
  {
   "cell_type": "code",
   "execution_count": 66,
   "metadata": {},
   "outputs": [
    {
     "data": {
      "text/plain": [
       "array([33.36766009])"
      ]
     },
     "execution_count": 66,
     "metadata": {},
     "output_type": "execute_result"
    }
   ],
   "source": [
    "# X point\n",
    "regr.coef_"
   ]
  },
  {
   "cell_type": "code",
   "execution_count": 67,
   "metadata": {},
   "outputs": [
    {
     "data": {
      "text/plain": [
       "1283.739211529632"
      ]
     },
     "execution_count": 67,
     "metadata": {},
     "output_type": "execute_result"
    }
   ],
   "source": [
    "# Y point\n",
    "regr.intercept_"
   ]
  },
  {
   "cell_type": "markdown",
   "metadata": {},
   "source": [
    "### The regression equation:\n",
    "## Y = 33.367X + 1283.739\n",
    "### "
   ]
  },
  {
   "cell_type": "code",
   "execution_count": 68,
   "metadata": {},
   "outputs": [
    {
     "data": {
      "image/png": "[encoded data removed]",
      "text/plain": [
       "<Figure size 432x288 with 1 Axes>"
      ]
     },
     "metadata": {
      "needs_background": "light"
     },
     "output_type": "display_data"
    }
   ],
   "source": [
    "y = []\n",
    "for i in range(12):\n",
    "    y.append(33.367*i + 1283.739)\n",
    "\n",
    "X = np.linspace(1,12,12)\n",
    "plt.plot(X,y)\n",
    "plt.xlabel(\"Month (starting from your investment month)\")\n",
    "plt.ylabel(\"Price stock\")\n",
    "plt.plot(X,y, color=\"red\")\n",
    "plt.title(\"TLV Regression\")\n",
    "plt.show()"
   ]
  },
  {
   "cell_type": "markdown",
   "metadata": {},
   "source": [
    "# \n",
    "# \n",
    "# Profit percentages:"
   ]
  },
  {
   "cell_type": "markdown",
   "metadata": {},
   "source": [
    "## Nasdaq:"
   ]
  },
  {
   "cell_type": "markdown",
   "metadata": {},
   "source": [
    "### Investment"
   ]
  },
  {
   "cell_type": "code",
   "execution_count": 69,
   "metadata": {},
   "outputs": [
    {
     "data": {
      "text/plain": [
       "9178.726"
      ]
     },
     "execution_count": 69,
     "metadata": {},
     "output_type": "execute_result"
    }
   ],
   "source": [
    "INV_Nasdaq = 464.726*1 + 8714\n",
    "INV_Nasdaq"
   ]
  },
  {
   "cell_type": "markdown",
   "metadata": {},
   "source": [
    "### Next Month"
   ]
  },
  {
   "cell_type": "code",
   "execution_count": 70,
   "metadata": {},
   "outputs": [
    {
     "data": {
      "text/plain": [
       "9643.452"
      ]
     },
     "execution_count": 70,
     "metadata": {},
     "output_type": "execute_result"
    }
   ],
   "source": [
    "Next_Month_Nasdaq = 464.726*2 + 8714\n",
    "Next_Month_Nasdaq"
   ]
  },
  {
   "cell_type": "markdown",
   "metadata": {},
   "source": [
    "### Profit percentages:"
   ]
  },
  {
   "cell_type": "code",
   "execution_count": 71,
   "metadata": {},
   "outputs": [
    {
     "data": {
      "text/plain": [
       "5.063"
      ]
     },
     "execution_count": 71,
     "metadata": {},
     "output_type": "execute_result"
    }
   ],
   "source": [
    "Precent_Nasdaq = (((Next_Month_Nasdaq / INV_Nasdaq)-1)*100 )\n",
    "Precent_Nasdaq = round(Precent_Nasdaq, 3)\n",
    "Precent_Nasdaq"
   ]
  },
  {
   "cell_type": "markdown",
   "metadata": {},
   "source": [
    "## TLV:"
   ]
  },
  {
   "cell_type": "markdown",
   "metadata": {},
   "source": [
    "### Investment"
   ]
  },
  {
   "cell_type": "code",
   "execution_count": 72,
   "metadata": {},
   "outputs": [
    {
     "data": {
      "text/plain": [
       "1317.106"
      ]
     },
     "execution_count": 72,
     "metadata": {},
     "output_type": "execute_result"
    }
   ],
   "source": [
    "INV_TLV = 33.367*1 + 1283.739\n",
    "INV_TLV"
   ]
  },
  {
   "cell_type": "markdown",
   "metadata": {},
   "source": [
    "### Next Month"
   ]
  },
  {
   "cell_type": "code",
   "execution_count": 73,
   "metadata": {},
   "outputs": [
    {
     "data": {
      "text/plain": [
       "1350.473"
      ]
     },
     "execution_count": 73,
     "metadata": {},
     "output_type": "execute_result"
    }
   ],
   "source": [
    "Next_Month_TLV = 33.367*2 + 1283.739\n",
    "Next_Month_TLV"
   ]
  },
  {
   "cell_type": "markdown",
   "metadata": {},
   "source": [
    "### Profit percentages:"
   ]
  },
  {
   "cell_type": "code",
   "execution_count": 74,
   "metadata": {},
   "outputs": [
    {
     "data": {
      "text/plain": [
       "2.533"
      ]
     },
     "execution_count": 74,
     "metadata": {},
     "output_type": "execute_result"
    }
   ],
   "source": [
    "Precent_TLV = (((Next_Month_TLV / INV_TLV)-1)*100 )\n",
    "Precent_TLV = round(Precent_TLV, 3)\n",
    "Precent_TLV"
   ]
  },
  {
   "cell_type": "markdown",
   "metadata": {},
   "source": [
    "## $\\color{green}{\\text{Observation:}}$\n"
   ]
  },
  {
   "cell_type": "markdown",
   "metadata": {},
   "source": [
    "## Expect to earn (Based on the slope of the graphs):"
   ]
  },
  {
   "cell_type": "markdown",
   "metadata": {},
   "source": [
    "### If you invest money in the US stock market today, your expected profit (in the near future) each month is about 5% of your investment amount.\n",
    "### If you invest in the Israeli Stock Exchange, your expected profit (in the near future) each month is about 2.5% of your investment amount.\n",
    "### So if you are investing in the stock market - you should invest in the US, good luck to you :)"
   ]
  },
  {
   "cell_type": "markdown",
   "metadata": {},
   "source": [
    "# \n",
    "# \n",
    "# $\\color{blue}{\\text{Thanks for listening}}$\n"
   ]
  }
 ],
 "metadata": {
  "kernelspec": {
   "display_name": "Python 3",
   "language": "python",
   "name": "python3"
  },
  "language_info": {
   "codemirror_mode": {
    "name": "ipython",
    "version": 3
   },
   "file_extension": ".py",
   "mimetype": "text/x-python",
   "name": "python",
   "nbconvert_exporter": "python",
   "pygments_lexer": "ipython3",
   "version": "3.8.5"
  }
 },
 "nbformat": 4,
 "nbformat_minor": 4
}
