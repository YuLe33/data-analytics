{
 "cells": [
  {
   "cell_type": "markdown",
   "metadata": {},
   "source": [
    "### \"Drink because you are happy, but never because you are miserable\" "
   ]
  },
  {
   "cell_type": "markdown",
   "metadata": {},
   "source": [
    "\n"
   ]
  },
  {
   "cell_type": "code",
   "execution_count": 39,
   "metadata": {},
   "outputs": [],
   "source": [
    "import pandas as pd\n",
    "import numpy as np\n",
    "import matplotlib.pyplot as plt\n",
    "import seaborn as sns\n",
    "import sklearn as sk\n",
    "from sklearn.model_selection import train_test_split\n",
    "from sklearn.tree import DecisionTreeRegressor\n",
    "from sklearn.metrics import mean_squared_error\n",
    "from IPython.core.display import HTML"
   ]
  },
  {
   "cell_type": "code",
   "execution_count": 40,
   "metadata": {},
   "outputs": [
    {
     "data": {
      "text/html": [
       "<img src='https://mygenes.co.il/wp-content/uploads/2020/09/shutterstock_1376048102-1.jpg'/>"
      ],
      "text/plain": [
       "<IPython.core.display.HTML object>"
      ]
     },
     "metadata": {},
     "output_type": "display_data"
    }
   ],
   "source": [
    "display(HTML(\"<img src='https://mygenes.co.il/wp-content/uploads/2020/09/shutterstock_1376048102-1.jpg'/>\"))"
   ]
  },
  {
   "cell_type": "markdown",
   "metadata": {},
   "source": [
    "#### The Dataset:\n",
    "The dataset contains information on countries that rank their level of happiness through various data such as HDI, gross domestic product (GDP) and types of alcohol.\n",
    "[link to the data source](https://www.kaggle.com/marcospessotto/happiness-and-alcohol-consumption)\n",
    "\n",
    "We read the data from a github repository:"
   ]
  },
  {
   "cell_type": "code",
   "execution_count": 41,
   "metadata": {},
   "outputs": [
    {
     "data": {
      "text/html": [
       "<div>\n",
       "<style scoped>\n",
       "    .dataframe tbody tr th:only-of-type {\n",
       "        vertical-align: middle;\n",
       "    }\n",
       "\n",
       "    .dataframe tbody tr th {\n",
       "        vertical-align: top;\n",
       "    }\n",
       "\n",
       "    .dataframe thead th {\n",
       "        text-align: right;\n",
       "    }\n",
       "</style>\n",
       "<table border=\"1\" class=\"dataframe\">\n",
       "  <thead>\n",
       "    <tr style=\"text-align: right;\">\n",
       "      <th></th>\n",
       "      <th>Country</th>\n",
       "      <th>Region</th>\n",
       "      <th>Hemisphere</th>\n",
       "      <th>HappinessScore</th>\n",
       "      <th>HDI</th>\n",
       "      <th>GDP_PerCapita</th>\n",
       "      <th>Beer_PerCapita</th>\n",
       "      <th>Spirit_PerCapita</th>\n",
       "      <th>Wine_PerCapita</th>\n",
       "    </tr>\n",
       "  </thead>\n",
       "  <tbody>\n",
       "    <tr>\n",
       "      <th>0</th>\n",
       "      <td>Denmark</td>\n",
       "      <td>Western Europe</td>\n",
       "      <td>north</td>\n",
       "      <td>7.526</td>\n",
       "      <td>928</td>\n",
       "      <td>53.579</td>\n",
       "      <td>224</td>\n",
       "      <td>81</td>\n",
       "      <td>278</td>\n",
       "    </tr>\n",
       "    <tr>\n",
       "      <th>1</th>\n",
       "      <td>Switzerland</td>\n",
       "      <td>Western Europe</td>\n",
       "      <td>north</td>\n",
       "      <td>7.509</td>\n",
       "      <td>943</td>\n",
       "      <td>79.866</td>\n",
       "      <td>185</td>\n",
       "      <td>100</td>\n",
       "      <td>280</td>\n",
       "    </tr>\n",
       "    <tr>\n",
       "      <th>2</th>\n",
       "      <td>Iceland</td>\n",
       "      <td>Western Europe</td>\n",
       "      <td>north</td>\n",
       "      <td>7.501</td>\n",
       "      <td>933</td>\n",
       "      <td>60.530</td>\n",
       "      <td>233</td>\n",
       "      <td>61</td>\n",
       "      <td>78</td>\n",
       "    </tr>\n",
       "    <tr>\n",
       "      <th>3</th>\n",
       "      <td>Norway</td>\n",
       "      <td>Western Europe</td>\n",
       "      <td>north</td>\n",
       "      <td>7.498</td>\n",
       "      <td>951</td>\n",
       "      <td>70.890</td>\n",
       "      <td>169</td>\n",
       "      <td>71</td>\n",
       "      <td>129</td>\n",
       "    </tr>\n",
       "    <tr>\n",
       "      <th>4</th>\n",
       "      <td>Finland</td>\n",
       "      <td>Western Europe</td>\n",
       "      <td>north</td>\n",
       "      <td>7.413</td>\n",
       "      <td>918</td>\n",
       "      <td>43.433</td>\n",
       "      <td>263</td>\n",
       "      <td>133</td>\n",
       "      <td>97</td>\n",
       "    </tr>\n",
       "    <tr>\n",
       "      <th>...</th>\n",
       "      <td>...</td>\n",
       "      <td>...</td>\n",
       "      <td>...</td>\n",
       "      <td>...</td>\n",
       "      <td>...</td>\n",
       "      <td>...</td>\n",
       "      <td>...</td>\n",
       "      <td>...</td>\n",
       "      <td>...</td>\n",
       "    </tr>\n",
       "    <tr>\n",
       "      <th>117</th>\n",
       "      <td>Tanzania</td>\n",
       "      <td>Sub-Saharan Africa</td>\n",
       "      <td>south</td>\n",
       "      <td>3.666</td>\n",
       "      <td>533</td>\n",
       "      <td>878.000</td>\n",
       "      <td>36</td>\n",
       "      <td>6</td>\n",
       "      <td>1</td>\n",
       "    </tr>\n",
       "    <tr>\n",
       "      <th>118</th>\n",
       "      <td>Liberia</td>\n",
       "      <td>Sub-Saharan Africa</td>\n",
       "      <td>north</td>\n",
       "      <td>3.622</td>\n",
       "      <td>432</td>\n",
       "      <td>455.000</td>\n",
       "      <td>19</td>\n",
       "      <td>152</td>\n",
       "      <td>2</td>\n",
       "    </tr>\n",
       "    <tr>\n",
       "      <th>119</th>\n",
       "      <td>Benin</td>\n",
       "      <td>Sub-Saharan Africa</td>\n",
       "      <td>north</td>\n",
       "      <td>3.484</td>\n",
       "      <td>512</td>\n",
       "      <td>789.000</td>\n",
       "      <td>34</td>\n",
       "      <td>4</td>\n",
       "      <td>13</td>\n",
       "    </tr>\n",
       "    <tr>\n",
       "      <th>120</th>\n",
       "      <td>Togo</td>\n",
       "      <td>Sub-Saharan Africa</td>\n",
       "      <td>north</td>\n",
       "      <td>3.303</td>\n",
       "      <td>500</td>\n",
       "      <td>577.000</td>\n",
       "      <td>36</td>\n",
       "      <td>2</td>\n",
       "      <td>19</td>\n",
       "    </tr>\n",
       "    <tr>\n",
       "      <th>121</th>\n",
       "      <td>Syria</td>\n",
       "      <td>Middle East and Northern Africa</td>\n",
       "      <td>north</td>\n",
       "      <td>3.069</td>\n",
       "      <td>536</td>\n",
       "      <td>2.058</td>\n",
       "      <td>5</td>\n",
       "      <td>35</td>\n",
       "      <td>16</td>\n",
       "    </tr>\n",
       "  </tbody>\n",
       "</table>\n",
       "<p>122 rows × 9 columns</p>\n",
       "</div>"
      ],
      "text/plain": [
       "         Country                           Region Hemisphere  HappinessScore  \\\n",
       "0        Denmark                   Western Europe      north           7.526   \n",
       "1    Switzerland                   Western Europe      north           7.509   \n",
       "2        Iceland                   Western Europe      north           7.501   \n",
       "3         Norway                   Western Europe      north           7.498   \n",
       "4        Finland                   Western Europe      north           7.413   \n",
       "..           ...                              ...        ...             ...   \n",
       "117     Tanzania               Sub-Saharan Africa      south           3.666   \n",
       "118      Liberia               Sub-Saharan Africa      north           3.622   \n",
       "119        Benin               Sub-Saharan Africa      north           3.484   \n",
       "120         Togo               Sub-Saharan Africa      north           3.303   \n",
       "121        Syria  Middle East and Northern Africa      north           3.069   \n",
       "\n",
       "     HDI  GDP_PerCapita  Beer_PerCapita  Spirit_PerCapita  Wine_PerCapita  \n",
       "0    928         53.579             224                81             278  \n",
       "1    943         79.866             185               100             280  \n",
       "2    933         60.530             233                61              78  \n",
       "3    951         70.890             169                71             129  \n",
       "4    918         43.433             263               133              97  \n",
       "..   ...            ...             ...               ...             ...  \n",
       "117  533        878.000              36                 6               1  \n",
       "118  432        455.000              19               152               2  \n",
       "119  512        789.000              34                 4              13  \n",
       "120  500        577.000              36                 2              19  \n",
       "121  536          2.058               5                35              16  \n",
       "\n",
       "[122 rows x 9 columns]"
      ]
     },
     "execution_count": 41,
     "metadata": {},
     "output_type": "execute_result"
    }
   ],
   "source": [
    "alcohol_df = pd.read_csv('https://raw.githubusercontent.com/shahafmalka13/DS_PROJECT/main/HappinessAlcoholConsumption.csv.csv')\n",
    "alcohol_df"
   ]
  },
  {
   "cell_type": "markdown",
   "metadata": {},
   "source": [
    "## 1. Wrangling the data:\n",
    "\n",
    "- Treat data types (if needed)\n",
    "- Treat missing values (if needed)\n",
    "- Treat column names (if needed)\n",
    "\n",
    "- Treat any other weird thing your data might have\n",
    "\n"
   ]
  },
  {
   "cell_type": "markdown",
   "metadata": {},
   "source": [
    "we check the data types-"
   ]
  },
  {
   "cell_type": "code",
   "execution_count": 4,
   "metadata": {},
   "outputs": [
    {
     "data": {
      "text/plain": [
       "Country              object\n",
       "Region               object\n",
       "Hemisphere           object\n",
       "HappinessScore      float64\n",
       "HDI                   int64\n",
       "GDP_PerCapita       float64\n",
       "Beer_PerCapita        int64\n",
       "Spirit_PerCapita      int64\n",
       "Wine_PerCapita        int64\n",
       "dtype: object"
      ]
     },
     "execution_count": 4,
     "metadata": {},
     "output_type": "execute_result"
    }
   ],
   "source": [
    "alcohol_df.dtypes"
   ]
  },
  {
   "cell_type": "markdown",
   "metadata": {},
   "source": [
    "Check if there are missing values-"
   ]
  },
  {
   "cell_type": "code",
   "execution_count": 5,
   "metadata": {},
   "outputs": [
    {
     "data": {
      "text/plain": [
       "Country             0\n",
       "Region              0\n",
       "Hemisphere          0\n",
       "HappinessScore      0\n",
       "HDI                 0\n",
       "GDP_PerCapita       0\n",
       "Beer_PerCapita      0\n",
       "Spirit_PerCapita    0\n",
       "Wine_PerCapita      0\n",
       "dtype: int64"
      ]
     },
     "execution_count": 5,
     "metadata": {},
     "output_type": "execute_result"
    }
   ],
   "source": [
    "alcohol_df.isnull().sum().sort_values()"
   ]
  },
  {
   "cell_type": "markdown",
   "metadata": {},
   "source": [
    "## 2. Understanding the data\n"
   ]
  },
  {
   "cell_type": "code",
   "execution_count": 6,
   "metadata": {},
   "outputs": [
    {
     "data": {
      "image/png": "[encoded data removed]",
      "text/plain": [
       "<Figure size 1008x1152 with 9 Axes>"
      ]
     },
     "metadata": {
      "needs_background": "light"
     },
     "output_type": "display_data"
    }
   ],
   "source": [
    "alcohol_df.plot(subplots = True , layout =(3,3) , kind ='box', figsize = (14,16), patch_artist = False)\n",
    "plt.subplots_adjust(wspace=0.5)"
   ]
  },
  {
   "cell_type": "markdown",
   "metadata": {},
   "source": [
    "GDP- It can be clearly seen that many data are not in the relevant field and therefore we have chosen to present in another way."
   ]
  },
  {
   "cell_type": "code",
   "execution_count": 7,
   "metadata": {},
   "outputs": [
    {
     "data": {
      "image/png": "[encoded data removed]",
      "text/plain": [
       "<Figure size 432x288 with 1 Axes>"
      ]
     },
     "metadata": {
      "needs_background": "light"
     },
     "output_type": "display_data"
    }
   ],
   "source": [
    "plt.title('GDP_PerCapita:')\n",
    "alcohol_df['GDP_PerCapita'].hist();"
   ]
  },
  {
   "cell_type": "markdown",
   "metadata": {},
   "source": [
    "- It can be noted that there are several anomalies in the data but these anomalies are not problematic because it is indeed possible that the gross national product in one country is significantly higher than in the other countries, as well as the consumption of wine or beer in one country is significantly different from another.\n",
    "  According to state production capacity / demand / supply"
   ]
  },
  {
   "cell_type": "code",
   "execution_count": 8,
   "metadata": {},
   "outputs": [
    {
     "data": {
      "text/html": [
       "<div>\n",
       "<style scoped>\n",
       "    .dataframe tbody tr th:only-of-type {\n",
       "        vertical-align: middle;\n",
       "    }\n",
       "\n",
       "    .dataframe tbody tr th {\n",
       "        vertical-align: top;\n",
       "    }\n",
       "\n",
       "    .dataframe thead th {\n",
       "        text-align: right;\n",
       "    }\n",
       "</style>\n",
       "<table border=\"1\" class=\"dataframe\">\n",
       "  <thead>\n",
       "    <tr style=\"text-align: right;\">\n",
       "      <th></th>\n",
       "      <th>Beer_PerCapita</th>\n",
       "      <th>Spirit_PerCapita</th>\n",
       "      <th>Wine_PerCapita</th>\n",
       "    </tr>\n",
       "    <tr>\n",
       "      <th>Region</th>\n",
       "      <th></th>\n",
       "      <th></th>\n",
       "      <th></th>\n",
       "    </tr>\n",
       "  </thead>\n",
       "  <tbody>\n",
       "    <tr>\n",
       "      <th>Australia and New Zealand</th>\n",
       "      <td>232.000000</td>\n",
       "      <td>75.500000</td>\n",
       "      <td>193.500000</td>\n",
       "    </tr>\n",
       "    <tr>\n",
       "      <th>Central and Eastern Europe</th>\n",
       "      <td>170.074074</td>\n",
       "      <td>171.777778</td>\n",
       "      <td>83.814815</td>\n",
       "    </tr>\n",
       "    <tr>\n",
       "      <th>Eastern Asia</th>\n",
       "      <td>93.250000</td>\n",
       "      <td>149.750000</td>\n",
       "      <td>10.250000</td>\n",
       "    </tr>\n",
       "    <tr>\n",
       "      <th>Latin America and Caribbean</th>\n",
       "      <td>159.478261</td>\n",
       "      <td>109.913043</td>\n",
       "      <td>35.782609</td>\n",
       "    </tr>\n",
       "    <tr>\n",
       "      <th>Middle East and Northern Africa</th>\n",
       "      <td>24.818182</td>\n",
       "      <td>41.363636</td>\n",
       "      <td>10.363636</td>\n",
       "    </tr>\n",
       "    <tr>\n",
       "      <th>North America</th>\n",
       "      <td>244.500000</td>\n",
       "      <td>140.000000</td>\n",
       "      <td>92.000000</td>\n",
       "    </tr>\n",
       "    <tr>\n",
       "      <th>Southeastern Asia</th>\n",
       "      <td>79.600000</td>\n",
       "      <td>104.600000</td>\n",
       "      <td>3.000000</td>\n",
       "    </tr>\n",
       "    <tr>\n",
       "      <th>Sub-Saharan Africa</th>\n",
       "      <td>78.464286</td>\n",
       "      <td>20.750000</td>\n",
       "      <td>12.214286</td>\n",
       "    </tr>\n",
       "    <tr>\n",
       "      <th>Western Europe</th>\n",
       "      <td>216.450000</td>\n",
       "      <td>101.500000</td>\n",
       "      <td>197.800000</td>\n",
       "    </tr>\n",
       "  </tbody>\n",
       "</table>\n",
       "</div>"
      ],
      "text/plain": [
       "                                 Beer_PerCapita  Spirit_PerCapita  \\\n",
       "Region                                                              \n",
       "Australia and New Zealand            232.000000         75.500000   \n",
       "Central and Eastern Europe           170.074074        171.777778   \n",
       "Eastern Asia                          93.250000        149.750000   \n",
       "Latin America and Caribbean          159.478261        109.913043   \n",
       "Middle East and Northern Africa       24.818182         41.363636   \n",
       "North America                        244.500000        140.000000   \n",
       "Southeastern Asia                     79.600000        104.600000   \n",
       "Sub-Saharan Africa                    78.464286         20.750000   \n",
       "Western Europe                       216.450000        101.500000   \n",
       "\n",
       "                                 Wine_PerCapita  \n",
       "Region                                           \n",
       "Australia and New Zealand            193.500000  \n",
       "Central and Eastern Europe            83.814815  \n",
       "Eastern Asia                          10.250000  \n",
       "Latin America and Caribbean           35.782609  \n",
       "Middle East and Northern Africa       10.363636  \n",
       "North America                         92.000000  \n",
       "Southeastern Asia                      3.000000  \n",
       "Sub-Saharan Africa                    12.214286  \n",
       "Western Europe                       197.800000  "
      ]
     },
     "execution_count": 8,
     "metadata": {},
     "output_type": "execute_result"
    }
   ],
   "source": [
    "alcohol_df.pivot_table(['Beer_PerCapita','Spirit_PerCapita','Wine_PerCapita' ],'Region') "
   ]
  },
  {
   "cell_type": "markdown",
   "metadata": {},
   "source": [
    "#### findings:\n",
    "- It seems that in the provinces characterized by developing or Muslim countries the level of alcohol consumption is relatively low compared to the developed countries"
   ]
  },
  {
   "cell_type": "code",
   "execution_count": 9,
   "metadata": {},
   "outputs": [
    {
     "data": {
      "image/png": "[encoded data removed]",
      "text/plain": [
       "<Figure size 1080x432 with 1 Axes>"
      ]
     },
     "metadata": {
      "needs_background": "light"
     },
     "output_type": "display_data"
    }
   ],
   "source": [
    "plt.figure(figsize=(15,6))\n",
    "plt.title('Presentation of the sample of countries:')\n",
    "plot1 = sns.countplot(x=\"Region\", data=alcohol_df);\n",
    "plot1.set_xticklabels(plot1.get_xticklabels(), rotation=40, ha=\"right\");\n"
   ]
  },
  {
   "cell_type": "markdown",
   "metadata": {},
   "source": [
    "- It can be seen that the sample presented in the data reliably represents the distribution and division of countries into regions in the world."
   ]
  },
  {
   "cell_type": "code",
   "execution_count": 10,
   "metadata": {},
   "outputs": [
    {
     "data": {
      "text/html": [
       "<div>\n",
       "<style scoped>\n",
       "    .dataframe tbody tr th:only-of-type {\n",
       "        vertical-align: middle;\n",
       "    }\n",
       "\n",
       "    .dataframe tbody tr th {\n",
       "        vertical-align: top;\n",
       "    }\n",
       "\n",
       "    .dataframe thead th {\n",
       "        text-align: right;\n",
       "    }\n",
       "</style>\n",
       "<table border=\"1\" class=\"dataframe\">\n",
       "  <thead>\n",
       "    <tr style=\"text-align: right;\">\n",
       "      <th></th>\n",
       "      <th>Country</th>\n",
       "      <th>Region</th>\n",
       "      <th>Hemisphere</th>\n",
       "      <th>HappinessScore</th>\n",
       "      <th>HDI</th>\n",
       "      <th>GDP_PerCapita</th>\n",
       "      <th>Beer_PerCapita</th>\n",
       "      <th>Spirit_PerCapita</th>\n",
       "      <th>Wine_PerCapita</th>\n",
       "      <th>Total_alcohol</th>\n",
       "    </tr>\n",
       "  </thead>\n",
       "  <tbody>\n",
       "    <tr>\n",
       "      <th>0</th>\n",
       "      <td>Denmark</td>\n",
       "      <td>Western Europe</td>\n",
       "      <td>north</td>\n",
       "      <td>7.526</td>\n",
       "      <td>928</td>\n",
       "      <td>53.579</td>\n",
       "      <td>224</td>\n",
       "      <td>81</td>\n",
       "      <td>278</td>\n",
       "      <td>583</td>\n",
       "    </tr>\n",
       "    <tr>\n",
       "      <th>1</th>\n",
       "      <td>Switzerland</td>\n",
       "      <td>Western Europe</td>\n",
       "      <td>north</td>\n",
       "      <td>7.509</td>\n",
       "      <td>943</td>\n",
       "      <td>79.866</td>\n",
       "      <td>185</td>\n",
       "      <td>100</td>\n",
       "      <td>280</td>\n",
       "      <td>565</td>\n",
       "    </tr>\n",
       "    <tr>\n",
       "      <th>2</th>\n",
       "      <td>Iceland</td>\n",
       "      <td>Western Europe</td>\n",
       "      <td>north</td>\n",
       "      <td>7.501</td>\n",
       "      <td>933</td>\n",
       "      <td>60.530</td>\n",
       "      <td>233</td>\n",
       "      <td>61</td>\n",
       "      <td>78</td>\n",
       "      <td>372</td>\n",
       "    </tr>\n",
       "    <tr>\n",
       "      <th>3</th>\n",
       "      <td>Norway</td>\n",
       "      <td>Western Europe</td>\n",
       "      <td>north</td>\n",
       "      <td>7.498</td>\n",
       "      <td>951</td>\n",
       "      <td>70.890</td>\n",
       "      <td>169</td>\n",
       "      <td>71</td>\n",
       "      <td>129</td>\n",
       "      <td>369</td>\n",
       "    </tr>\n",
       "    <tr>\n",
       "      <th>4</th>\n",
       "      <td>Finland</td>\n",
       "      <td>Western Europe</td>\n",
       "      <td>north</td>\n",
       "      <td>7.413</td>\n",
       "      <td>918</td>\n",
       "      <td>43.433</td>\n",
       "      <td>263</td>\n",
       "      <td>133</td>\n",
       "      <td>97</td>\n",
       "      <td>493</td>\n",
       "    </tr>\n",
       "  </tbody>\n",
       "</table>\n",
       "</div>"
      ],
      "text/plain": [
       "       Country          Region Hemisphere  HappinessScore  HDI  GDP_PerCapita  \\\n",
       "0      Denmark  Western Europe      north           7.526  928         53.579   \n",
       "1  Switzerland  Western Europe      north           7.509  943         79.866   \n",
       "2      Iceland  Western Europe      north           7.501  933         60.530   \n",
       "3       Norway  Western Europe      north           7.498  951         70.890   \n",
       "4      Finland  Western Europe      north           7.413  918         43.433   \n",
       "\n",
       "   Beer_PerCapita  Spirit_PerCapita  Wine_PerCapita  Total_alcohol  \n",
       "0             224                81             278            583  \n",
       "1             185               100             280            565  \n",
       "2             233                61              78            372  \n",
       "3             169                71             129            369  \n",
       "4             263               133              97            493  "
      ]
     },
     "execution_count": 10,
     "metadata": {},
     "output_type": "execute_result"
    }
   ],
   "source": [
    "alcohol_df[\"Total_alcohol\"] = alcohol_df['Beer_PerCapita'] + alcohol_df['Spirit_PerCapita'] + alcohol_df['Wine_PerCapita']\n",
    "alcohol_df.head()"
   ]
  },
  {
   "cell_type": "code",
   "execution_count": 11,
   "metadata": {},
   "outputs": [
    {
     "data": {
      "text/html": [
       "<div>\n",
       "<style scoped>\n",
       "    .dataframe tbody tr th:only-of-type {\n",
       "        vertical-align: middle;\n",
       "    }\n",
       "\n",
       "    .dataframe tbody tr th {\n",
       "        vertical-align: top;\n",
       "    }\n",
       "\n",
       "    .dataframe thead th {\n",
       "        text-align: right;\n",
       "    }\n",
       "</style>\n",
       "<table border=\"1\" class=\"dataframe\">\n",
       "  <thead>\n",
       "    <tr style=\"text-align: right;\">\n",
       "      <th></th>\n",
       "      <th>Country</th>\n",
       "      <th>HappinessScore</th>\n",
       "      <th>Total_alcohol</th>\n",
       "    </tr>\n",
       "  </thead>\n",
       "  <tbody>\n",
       "    <tr>\n",
       "      <th>0</th>\n",
       "      <td>Denmark</td>\n",
       "      <td>7.526</td>\n",
       "      <td>583</td>\n",
       "    </tr>\n",
       "    <tr>\n",
       "      <th>1</th>\n",
       "      <td>Switzerland</td>\n",
       "      <td>7.509</td>\n",
       "      <td>565</td>\n",
       "    </tr>\n",
       "    <tr>\n",
       "      <th>2</th>\n",
       "      <td>Iceland</td>\n",
       "      <td>7.501</td>\n",
       "      <td>372</td>\n",
       "    </tr>\n",
       "    <tr>\n",
       "      <th>3</th>\n",
       "      <td>Norway</td>\n",
       "      <td>7.498</td>\n",
       "      <td>369</td>\n",
       "    </tr>\n",
       "    <tr>\n",
       "      <th>4</th>\n",
       "      <td>Finland</td>\n",
       "      <td>7.413</td>\n",
       "      <td>493</td>\n",
       "    </tr>\n",
       "    <tr>\n",
       "      <th>...</th>\n",
       "      <td>...</td>\n",
       "      <td>...</td>\n",
       "      <td>...</td>\n",
       "    </tr>\n",
       "    <tr>\n",
       "      <th>117</th>\n",
       "      <td>Tanzania</td>\n",
       "      <td>3.666</td>\n",
       "      <td>43</td>\n",
       "    </tr>\n",
       "    <tr>\n",
       "      <th>118</th>\n",
       "      <td>Liberia</td>\n",
       "      <td>3.622</td>\n",
       "      <td>173</td>\n",
       "    </tr>\n",
       "    <tr>\n",
       "      <th>119</th>\n",
       "      <td>Benin</td>\n",
       "      <td>3.484</td>\n",
       "      <td>51</td>\n",
       "    </tr>\n",
       "    <tr>\n",
       "      <th>120</th>\n",
       "      <td>Togo</td>\n",
       "      <td>3.303</td>\n",
       "      <td>57</td>\n",
       "    </tr>\n",
       "    <tr>\n",
       "      <th>121</th>\n",
       "      <td>Syria</td>\n",
       "      <td>3.069</td>\n",
       "      <td>56</td>\n",
       "    </tr>\n",
       "  </tbody>\n",
       "</table>\n",
       "<p>122 rows × 3 columns</p>\n",
       "</div>"
      ],
      "text/plain": [
       "         Country  HappinessScore  Total_alcohol\n",
       "0        Denmark           7.526            583\n",
       "1    Switzerland           7.509            565\n",
       "2        Iceland           7.501            372\n",
       "3         Norway           7.498            369\n",
       "4        Finland           7.413            493\n",
       "..           ...             ...            ...\n",
       "117     Tanzania           3.666             43\n",
       "118      Liberia           3.622            173\n",
       "119        Benin           3.484             51\n",
       "120         Togo           3.303             57\n",
       "121        Syria           3.069             56\n",
       "\n",
       "[122 rows x 3 columns]"
      ]
     },
     "execution_count": 11,
     "metadata": {},
     "output_type": "execute_result"
    }
   ],
   "source": [
    "alcohol_groupd = alcohol_df.groupby('Country')[['HappinessScore', 'Total_alcohol']].max()\n",
    "groupH = alcohol_groupd.sort_values('HappinessScore',ascending = False).reset_index()\n",
    "groupH"
   ]
  },
  {
   "cell_type": "code",
   "execution_count": 12,
   "metadata": {},
   "outputs": [
    {
     "data": {
      "text/html": [
       "<div>\n",
       "<style scoped>\n",
       "    .dataframe tbody tr th:only-of-type {\n",
       "        vertical-align: middle;\n",
       "    }\n",
       "\n",
       "    .dataframe tbody tr th {\n",
       "        vertical-align: top;\n",
       "    }\n",
       "\n",
       "    .dataframe thead th {\n",
       "        text-align: right;\n",
       "    }\n",
       "</style>\n",
       "<table border=\"1\" class=\"dataframe\">\n",
       "  <thead>\n",
       "    <tr style=\"text-align: right;\">\n",
       "      <th></th>\n",
       "      <th>Country</th>\n",
       "      <th>HappinessScore</th>\n",
       "      <th>Total_alcohol</th>\n",
       "    </tr>\n",
       "  </thead>\n",
       "  <tbody>\n",
       "    <tr>\n",
       "      <th>0</th>\n",
       "      <td>Czech Republic</td>\n",
       "      <td>6.596</td>\n",
       "      <td>665</td>\n",
       "    </tr>\n",
       "    <tr>\n",
       "      <th>1</th>\n",
       "      <td>France</td>\n",
       "      <td>6.478</td>\n",
       "      <td>648</td>\n",
       "    </tr>\n",
       "    <tr>\n",
       "      <th>2</th>\n",
       "      <td>Russian Federation</td>\n",
       "      <td>5.856</td>\n",
       "      <td>646</td>\n",
       "    </tr>\n",
       "    <tr>\n",
       "      <th>3</th>\n",
       "      <td>Lithuania</td>\n",
       "      <td>5.813</td>\n",
       "      <td>643</td>\n",
       "    </tr>\n",
       "    <tr>\n",
       "      <th>4</th>\n",
       "      <td>Luxembourg</td>\n",
       "      <td>6.871</td>\n",
       "      <td>640</td>\n",
       "    </tr>\n",
       "    <tr>\n",
       "      <th>...</th>\n",
       "      <td>...</td>\n",
       "      <td>...</td>\n",
       "      <td>...</td>\n",
       "    </tr>\n",
       "    <tr>\n",
       "      <th>117</th>\n",
       "      <td>Senegal</td>\n",
       "      <td>4.219</td>\n",
       "      <td>17</td>\n",
       "    </tr>\n",
       "    <tr>\n",
       "      <th>118</th>\n",
       "      <td>Egypt</td>\n",
       "      <td>4.362</td>\n",
       "      <td>11</td>\n",
       "    </tr>\n",
       "    <tr>\n",
       "      <th>119</th>\n",
       "      <td>Mali</td>\n",
       "      <td>4.073</td>\n",
       "      <td>7</td>\n",
       "    </tr>\n",
       "    <tr>\n",
       "      <th>120</th>\n",
       "      <td>Niger</td>\n",
       "      <td>3.856</td>\n",
       "      <td>6</td>\n",
       "    </tr>\n",
       "    <tr>\n",
       "      <th>121</th>\n",
       "      <td>Comoros</td>\n",
       "      <td>3.956</td>\n",
       "      <td>5</td>\n",
       "    </tr>\n",
       "  </tbody>\n",
       "</table>\n",
       "<p>122 rows × 3 columns</p>\n",
       "</div>"
      ],
      "text/plain": [
       "                Country  HappinessScore  Total_alcohol\n",
       "0        Czech Republic           6.596            665\n",
       "1                France           6.478            648\n",
       "2    Russian Federation           5.856            646\n",
       "3             Lithuania           5.813            643\n",
       "4            Luxembourg           6.871            640\n",
       "..                  ...             ...            ...\n",
       "117             Senegal           4.219             17\n",
       "118               Egypt           4.362             11\n",
       "119                Mali           4.073              7\n",
       "120               Niger           3.856              6\n",
       "121             Comoros           3.956              5\n",
       "\n",
       "[122 rows x 3 columns]"
      ]
     },
     "execution_count": 12,
     "metadata": {},
     "output_type": "execute_result"
    }
   ],
   "source": [
    "alcohol_groupd = alcohol_df.groupby('Country')[['HappinessScore', 'Total_alcohol']].max()\n",
    "groupT = alcohol_groupd.sort_values('Total_alcohol',ascending = False).reset_index()\n",
    "groupT"
   ]
  },
  {
   "cell_type": "code",
   "execution_count": 13,
   "metadata": {},
   "outputs": [],
   "source": [
    "countries = groupT['Country']"
   ]
  },
  {
   "cell_type": "code",
   "execution_count": 14,
   "metadata": {},
   "outputs": [
    {
     "data": {
      "text/plain": [
       "26.78688524590164"
      ]
     },
     "execution_count": 14,
     "metadata": {},
     "output_type": "execute_result"
    }
   ],
   "source": [
    "diff=[]\n",
    "for country in countries:\n",
    "    c1 = int(groupT[groupT['Country'] == country].index[0])\n",
    "    c2 = int(groupH[groupH['Country'] == country].index[0])\n",
    "    diff+=[abs(c1-c2)]\n",
    "mean = np.mean(diff)\n",
    "mean"
   ]
  },
  {
   "cell_type": "markdown",
   "metadata": {},
   "source": [
    "##### findings:\n",
    "- It can be seen that the happiest country is not necessarily the country with the highest alcohol consumption.\n",
    "- It can be seen that there is indeed a connection between the level of alcohol and happiness.\n",
    "- With the help of the function we built it can be seen that the sorting is not completely random."
   ]
  },
  {
   "cell_type": "code",
   "execution_count": 15,
   "metadata": {},
   "outputs": [
    {
     "data": {
      "text/html": [
       "<div>\n",
       "<style scoped>\n",
       "    .dataframe tbody tr th:only-of-type {\n",
       "        vertical-align: middle;\n",
       "    }\n",
       "\n",
       "    .dataframe tbody tr th {\n",
       "        vertical-align: top;\n",
       "    }\n",
       "\n",
       "    .dataframe thead th {\n",
       "        text-align: right;\n",
       "    }\n",
       "</style>\n",
       "<table border=\"1\" class=\"dataframe\">\n",
       "  <thead>\n",
       "    <tr style=\"text-align: right;\">\n",
       "      <th></th>\n",
       "      <th>HappinessScore</th>\n",
       "      <th>Total_alcohol</th>\n",
       "    </tr>\n",
       "  </thead>\n",
       "  <tbody>\n",
       "    <tr>\n",
       "      <th>HappinessScore</th>\n",
       "      <td>1.000000</td>\n",
       "      <td>0.554812</td>\n",
       "    </tr>\n",
       "    <tr>\n",
       "      <th>Total_alcohol</th>\n",
       "      <td>0.554812</td>\n",
       "      <td>1.000000</td>\n",
       "    </tr>\n",
       "  </tbody>\n",
       "</table>\n",
       "</div>"
      ],
      "text/plain": [
       "                HappinessScore  Total_alcohol\n",
       "HappinessScore        1.000000       0.554812\n",
       "Total_alcohol         0.554812       1.000000"
      ]
     },
     "execution_count": 15,
     "metadata": {},
     "output_type": "execute_result"
    }
   ],
   "source": [
    "corr_prep = alcohol_df[['HappinessScore','Total_alcohol']]\n",
    "corr_prep.corr(method = 'spearman')"
   ]
  },
  {
   "cell_type": "markdown",
   "metadata": {},
   "source": [
    "We chose to use Spearman's correlation because the other methods give a lower correlation. (unit 5)"
   ]
  },
  {
   "cell_type": "code",
   "execution_count": 16,
   "metadata": {},
   "outputs": [
    {
     "data": {
      "image/png": "[encoded data removed]",
      "text/plain": [
       "<Figure size 432x288 with 2 Axes>"
      ]
     },
     "metadata": {
      "needs_background": "light"
     },
     "output_type": "display_data"
    }
   ],
   "source": [
    "sns.heatmap(corr_prep.corr(), vmin=0.0 , vmax = 1,cmap='Reds' , annot=True);"
   ]
  },
  {
   "cell_type": "code",
   "execution_count": 17,
   "metadata": {},
   "outputs": [
    {
     "data": {
      "image/png": "[encoded data removed]",
      "text/plain": [
       "<Figure size 432x288 with 1 Axes>"
      ]
     },
     "metadata": {
      "needs_background": "light"
     },
     "output_type": "display_data"
    }
   ],
   "source": [
    "plt.title('Amount of Alcohol versus happiness level:')\n",
    "sns.regplot(x='Total_alcohol', y='HappinessScore', data=corr_prep);"
   ]
  },
  {
   "cell_type": "markdown",
   "metadata": {},
   "source": [
    "##### findings:\n",
    "\n",
    "- The correlation between happiness level and overall alcohol consumption is moderate. This medium relationship can be explained by a number of explanations:\n",
    "- It is natural to think that in countries where people drink more the population is happier (celebrating more) but it is possible that in countries where people drink more it is the population that is obligated to alcohol addictions, ie a population with bigger problems."
   ]
  },
  {
   "cell_type": "markdown",
   "metadata": {},
   "source": [
    "checking the correlation between types of alcohol with happines- "
   ]
  },
  {
   "cell_type": "code",
   "execution_count": 18,
   "metadata": {},
   "outputs": [
    {
     "data": {
      "text/html": [
       "<div>\n",
       "<style scoped>\n",
       "    .dataframe tbody tr th:only-of-type {\n",
       "        vertical-align: middle;\n",
       "    }\n",
       "\n",
       "    .dataframe tbody tr th {\n",
       "        vertical-align: top;\n",
       "    }\n",
       "\n",
       "    .dataframe thead th {\n",
       "        text-align: right;\n",
       "    }\n",
       "</style>\n",
       "<table border=\"1\" class=\"dataframe\">\n",
       "  <thead>\n",
       "    <tr style=\"text-align: right;\">\n",
       "      <th></th>\n",
       "      <th>HappinessScore</th>\n",
       "      <th>Beer_PerCapita</th>\n",
       "      <th>Spirit_PerCapita</th>\n",
       "      <th>Wine_PerCapita</th>\n",
       "    </tr>\n",
       "  </thead>\n",
       "  <tbody>\n",
       "    <tr>\n",
       "      <th>HappinessScore</th>\n",
       "      <td>1.000000</td>\n",
       "      <td>0.525883</td>\n",
       "      <td>0.371074</td>\n",
       "      <td>0.470146</td>\n",
       "    </tr>\n",
       "    <tr>\n",
       "      <th>Beer_PerCapita</th>\n",
       "      <td>0.525883</td>\n",
       "      <td>1.000000</td>\n",
       "      <td>0.463499</td>\n",
       "      <td>0.601451</td>\n",
       "    </tr>\n",
       "    <tr>\n",
       "      <th>Spirit_PerCapita</th>\n",
       "      <td>0.371074</td>\n",
       "      <td>0.463499</td>\n",
       "      <td>1.000000</td>\n",
       "      <td>0.342377</td>\n",
       "    </tr>\n",
       "    <tr>\n",
       "      <th>Wine_PerCapita</th>\n",
       "      <td>0.470146</td>\n",
       "      <td>0.601451</td>\n",
       "      <td>0.342377</td>\n",
       "      <td>1.000000</td>\n",
       "    </tr>\n",
       "  </tbody>\n",
       "</table>\n",
       "</div>"
      ],
      "text/plain": [
       "                  HappinessScore  Beer_PerCapita  Spirit_PerCapita  \\\n",
       "HappinessScore          1.000000        0.525883          0.371074   \n",
       "Beer_PerCapita          0.525883        1.000000          0.463499   \n",
       "Spirit_PerCapita        0.371074        0.463499          1.000000   \n",
       "Wine_PerCapita          0.470146        0.601451          0.342377   \n",
       "\n",
       "                  Wine_PerCapita  \n",
       "HappinessScore          0.470146  \n",
       "Beer_PerCapita          0.601451  \n",
       "Spirit_PerCapita        0.342377  \n",
       "Wine_PerCapita          1.000000  "
      ]
     },
     "execution_count": 18,
     "metadata": {},
     "output_type": "execute_result"
    }
   ],
   "source": [
    "spc_corr = alcohol_df[['HappinessScore','Beer_PerCapita','Spirit_PerCapita','Wine_PerCapita']].corr(method = 'spearman')\n",
    "spc_corr"
   ]
  },
  {
   "cell_type": "code",
   "execution_count": 19,
   "metadata": {},
   "outputs": [
    {
     "data": {
      "text/html": [
       "<style  type=\"text/css\" >\n",
       "    #T_965f4a1d_c056_11eb_bfa9_d83bbfa83242row0_col0 {\n",
       "            background-color:  #08306b;\n",
       "            color:  #f1f1f1;\n",
       "        }    #T_965f4a1d_c056_11eb_bfa9_d83bbfa83242row0_col1 {\n",
       "            background-color:  #e0ecf8;\n",
       "            color:  #000000;\n",
       "        }    #T_965f4a1d_c056_11eb_bfa9_d83bbfa83242row0_col2 {\n",
       "            background-color:  #eef5fc;\n",
       "            color:  #000000;\n",
       "        }    #T_965f4a1d_c056_11eb_bfa9_d83bbfa83242row0_col3 {\n",
       "            background-color:  #d1e2f3;\n",
       "            color:  #000000;\n",
       "        }    #T_965f4a1d_c056_11eb_bfa9_d83bbfa83242row1_col0 {\n",
       "            background-color:  #c7dbef;\n",
       "            color:  #000000;\n",
       "        }    #T_965f4a1d_c056_11eb_bfa9_d83bbfa83242row1_col1 {\n",
       "            background-color:  #08306b;\n",
       "            color:  #f1f1f1;\n",
       "        }    #T_965f4a1d_c056_11eb_bfa9_d83bbfa83242row1_col2 {\n",
       "            background-color:  #d3e3f3;\n",
       "            color:  #000000;\n",
       "        }    #T_965f4a1d_c056_11eb_bfa9_d83bbfa83242row1_col3 {\n",
       "            background-color:  #97c6df;\n",
       "            color:  #000000;\n",
       "        }    #T_965f4a1d_c056_11eb_bfa9_d83bbfa83242row2_col0 {\n",
       "            background-color:  #f7fbff;\n",
       "            color:  #000000;\n",
       "        }    #T_965f4a1d_c056_11eb_bfa9_d83bbfa83242row2_col1 {\n",
       "            background-color:  #f7fbff;\n",
       "            color:  #000000;\n",
       "        }    #T_965f4a1d_c056_11eb_bfa9_d83bbfa83242row2_col2 {\n",
       "            background-color:  #08306b;\n",
       "            color:  #f1f1f1;\n",
       "        }    #T_965f4a1d_c056_11eb_bfa9_d83bbfa83242row2_col3 {\n",
       "            background-color:  #f7fbff;\n",
       "            color:  #000000;\n",
       "        }    #T_965f4a1d_c056_11eb_bfa9_d83bbfa83242row3_col0 {\n",
       "            background-color:  #d8e7f5;\n",
       "            color:  #000000;\n",
       "        }    #T_965f4a1d_c056_11eb_bfa9_d83bbfa83242row3_col1 {\n",
       "            background-color:  #c4daee;\n",
       "            color:  #000000;\n",
       "        }    #T_965f4a1d_c056_11eb_bfa9_d83bbfa83242row3_col2 {\n",
       "            background-color:  #f7fbff;\n",
       "            color:  #000000;\n",
       "        }    #T_965f4a1d_c056_11eb_bfa9_d83bbfa83242row3_col3 {\n",
       "            background-color:  #08306b;\n",
       "            color:  #f1f1f1;\n",
       "        }</style><table id=\"T_965f4a1d_c056_11eb_bfa9_d83bbfa83242\" ><thead>    <tr>        <th class=\"blank level0\" ></th>        <th class=\"col_heading level0 col0\" >HappinessScore</th>        <th class=\"col_heading level0 col1\" >Beer_PerCapita</th>        <th class=\"col_heading level0 col2\" >Spirit_PerCapita</th>        <th class=\"col_heading level0 col3\" >Wine_PerCapita</th>    </tr></thead><tbody>\n",
       "                <tr>\n",
       "                        <th id=\"T_965f4a1d_c056_11eb_bfa9_d83bbfa83242level0_row0\" class=\"row_heading level0 row0\" >HappinessScore</th>\n",
       "                        <td id=\"T_965f4a1d_c056_11eb_bfa9_d83bbfa83242row0_col0\" class=\"data row0 col0\" >1.000000</td>\n",
       "                        <td id=\"T_965f4a1d_c056_11eb_bfa9_d83bbfa83242row0_col1\" class=\"data row0 col1\" >0.525883</td>\n",
       "                        <td id=\"T_965f4a1d_c056_11eb_bfa9_d83bbfa83242row0_col2\" class=\"data row0 col2\" >0.371074</td>\n",
       "                        <td id=\"T_965f4a1d_c056_11eb_bfa9_d83bbfa83242row0_col3\" class=\"data row0 col3\" >0.470146</td>\n",
       "            </tr>\n",
       "            <tr>\n",
       "                        <th id=\"T_965f4a1d_c056_11eb_bfa9_d83bbfa83242level0_row1\" class=\"row_heading level0 row1\" >Beer_PerCapita</th>\n",
       "                        <td id=\"T_965f4a1d_c056_11eb_bfa9_d83bbfa83242row1_col0\" class=\"data row1 col0\" >0.525883</td>\n",
       "                        <td id=\"T_965f4a1d_c056_11eb_bfa9_d83bbfa83242row1_col1\" class=\"data row1 col1\" >1.000000</td>\n",
       "                        <td id=\"T_965f4a1d_c056_11eb_bfa9_d83bbfa83242row1_col2\" class=\"data row1 col2\" >0.463499</td>\n",
       "                        <td id=\"T_965f4a1d_c056_11eb_bfa9_d83bbfa83242row1_col3\" class=\"data row1 col3\" >0.601451</td>\n",
       "            </tr>\n",
       "            <tr>\n",
       "                        <th id=\"T_965f4a1d_c056_11eb_bfa9_d83bbfa83242level0_row2\" class=\"row_heading level0 row2\" >Spirit_PerCapita</th>\n",
       "                        <td id=\"T_965f4a1d_c056_11eb_bfa9_d83bbfa83242row2_col0\" class=\"data row2 col0\" >0.371074</td>\n",
       "                        <td id=\"T_965f4a1d_c056_11eb_bfa9_d83bbfa83242row2_col1\" class=\"data row2 col1\" >0.463499</td>\n",
       "                        <td id=\"T_965f4a1d_c056_11eb_bfa9_d83bbfa83242row2_col2\" class=\"data row2 col2\" >1.000000</td>\n",
       "                        <td id=\"T_965f4a1d_c056_11eb_bfa9_d83bbfa83242row2_col3\" class=\"data row2 col3\" >0.342377</td>\n",
       "            </tr>\n",
       "            <tr>\n",
       "                        <th id=\"T_965f4a1d_c056_11eb_bfa9_d83bbfa83242level0_row3\" class=\"row_heading level0 row3\" >Wine_PerCapita</th>\n",
       "                        <td id=\"T_965f4a1d_c056_11eb_bfa9_d83bbfa83242row3_col0\" class=\"data row3 col0\" >0.470146</td>\n",
       "                        <td id=\"T_965f4a1d_c056_11eb_bfa9_d83bbfa83242row3_col1\" class=\"data row3 col1\" >0.601451</td>\n",
       "                        <td id=\"T_965f4a1d_c056_11eb_bfa9_d83bbfa83242row3_col2\" class=\"data row3 col2\" >0.342377</td>\n",
       "                        <td id=\"T_965f4a1d_c056_11eb_bfa9_d83bbfa83242row3_col3\" class=\"data row3 col3\" >1.000000</td>\n",
       "            </tr>\n",
       "    </tbody></table>"
      ],
      "text/plain": [
       "<pandas.io.formats.style.Styler at 0x14daad3a760>"
      ]
     },
     "execution_count": 19,
     "metadata": {},
     "output_type": "execute_result"
    }
   ],
   "source": [
    "spc_corr.style.background_gradient(cmap='Blues')"
   ]
  },
  {
   "cell_type": "code",
   "execution_count": 20,
   "metadata": {},
   "outputs": [
    {
     "data": {
      "image/png": "[encoded data removed]",
      "text/plain": [
       "<Figure size 432x288 with 1 Axes>"
      ]
     },
     "metadata": {
      "needs_background": "light"
     },
     "output_type": "display_data"
    }
   ],
   "source": [
    "plt.title('The connection between drinking Wine and drinking Beer:')\n",
    "sns.regplot(x='Wine_PerCapita', y='Beer_PerCapita', data=alcohol_df);"
   ]
  },
  {
   "cell_type": "markdown",
   "metadata": {},
   "source": [
    "##### findings:\n",
    "\n",
    "- we can see that the relationship between beer and happiness is the strongest between all of them. \n",
    "- From the heat map it can be seen that there is a strong connection between drinking beer and drinking wine."
   ]
  },
  {
   "cell_type": "code",
   "execution_count": 21,
   "metadata": {},
   "outputs": [
    {
     "data": {
      "text/html": [
       "<div>\n",
       "<style scoped>\n",
       "    .dataframe tbody tr th:only-of-type {\n",
       "        vertical-align: middle;\n",
       "    }\n",
       "\n",
       "    .dataframe tbody tr th {\n",
       "        vertical-align: top;\n",
       "    }\n",
       "\n",
       "    .dataframe thead th {\n",
       "        text-align: right;\n",
       "    }\n",
       "</style>\n",
       "<table border=\"1\" class=\"dataframe\">\n",
       "  <thead>\n",
       "    <tr style=\"text-align: right;\">\n",
       "      <th></th>\n",
       "      <th>Total_alcohol</th>\n",
       "      <th>HDI</th>\n",
       "    </tr>\n",
       "    <tr>\n",
       "      <th>Region</th>\n",
       "      <th></th>\n",
       "      <th></th>\n",
       "    </tr>\n",
       "  </thead>\n",
       "  <tbody>\n",
       "    <tr>\n",
       "      <th>Central and Eastern Europe</th>\n",
       "      <td>11493</td>\n",
       "      <td>21457</td>\n",
       "    </tr>\n",
       "    <tr>\n",
       "      <th>Western Europe</th>\n",
       "      <td>10315</td>\n",
       "      <td>18167</td>\n",
       "    </tr>\n",
       "    <tr>\n",
       "      <th>Latin America and Caribbean</th>\n",
       "      <td>7019</td>\n",
       "      <td>16746</td>\n",
       "    </tr>\n",
       "    <tr>\n",
       "      <th>Sub-Saharan Africa</th>\n",
       "      <td>3120</td>\n",
       "      <td>15019</td>\n",
       "    </tr>\n",
       "    <tr>\n",
       "      <th>Middle East and Northern Africa</th>\n",
       "      <td>842</td>\n",
       "      <td>8364</td>\n",
       "    </tr>\n",
       "    <tr>\n",
       "      <th>Southeastern Asia</th>\n",
       "      <td>936</td>\n",
       "      <td>3639</td>\n",
       "    </tr>\n",
       "    <tr>\n",
       "      <th>Eastern Asia</th>\n",
       "      <td>1013</td>\n",
       "      <td>3298</td>\n",
       "    </tr>\n",
       "    <tr>\n",
       "      <th>Australia and New Zealand</th>\n",
       "      <td>1002</td>\n",
       "      <td>1853</td>\n",
       "    </tr>\n",
       "    <tr>\n",
       "      <th>North America</th>\n",
       "      <td>953</td>\n",
       "      <td>1844</td>\n",
       "    </tr>\n",
       "  </tbody>\n",
       "</table>\n",
       "</div>"
      ],
      "text/plain": [
       "                                 Total_alcohol    HDI\n",
       "Region                                               \n",
       "Central and Eastern Europe               11493  21457\n",
       "Western Europe                           10315  18167\n",
       "Latin America and Caribbean               7019  16746\n",
       "Sub-Saharan Africa                        3120  15019\n",
       "Middle East and Northern Africa            842   8364\n",
       "Southeastern Asia                          936   3639\n",
       "Eastern Asia                              1013   3298\n",
       "Australia and New Zealand                 1002   1853\n",
       "North America                              953   1844"
      ]
     },
     "execution_count": 21,
     "metadata": {},
     "output_type": "execute_result"
    }
   ],
   "source": [
    "hdi_groupd = alcohol_df.groupby('Region')[['Total_alcohol','HDI']].sum()\n",
    "hdi_groupd.sort_values('HDI',ascending = False)"
   ]
  },
  {
   "cell_type": "markdown",
   "metadata": {},
   "source": [
    "- There is a direct relationship between alcohol consumption and the level of development of the country"
   ]
  },
  {
   "cell_type": "markdown",
   "metadata": {},
   "source": [
    "## 3. Building a model from the data"
   ]
  },
  {
   "cell_type": "markdown",
   "metadata": {},
   "source": [
    "We will try to predict the level of happiness using the HDI, GDP, total alcohol index. In order to predict we will use tree in the regression method because happiness is measured in a continuous range. Using the size of the error we will try to understand if there is a relationship between these features and the level of happiness. "
   ]
  },
  {
   "cell_type": "code",
   "execution_count": 22,
   "metadata": {},
   "outputs": [
    {
     "data": {
      "text/html": [
       "<div>\n",
       "<style scoped>\n",
       "    .dataframe tbody tr th:only-of-type {\n",
       "        vertical-align: middle;\n",
       "    }\n",
       "\n",
       "    .dataframe tbody tr th {\n",
       "        vertical-align: top;\n",
       "    }\n",
       "\n",
       "    .dataframe thead th {\n",
       "        text-align: right;\n",
       "    }\n",
       "</style>\n",
       "<table border=\"1\" class=\"dataframe\">\n",
       "  <thead>\n",
       "    <tr style=\"text-align: right;\">\n",
       "      <th></th>\n",
       "      <th>Total_alcohol</th>\n",
       "      <th>HDI</th>\n",
       "      <th>GDP_PerCapita</th>\n",
       "    </tr>\n",
       "  </thead>\n",
       "  <tbody>\n",
       "    <tr>\n",
       "      <th>0</th>\n",
       "      <td>583</td>\n",
       "      <td>928</td>\n",
       "      <td>53.579</td>\n",
       "    </tr>\n",
       "    <tr>\n",
       "      <th>1</th>\n",
       "      <td>565</td>\n",
       "      <td>943</td>\n",
       "      <td>79.866</td>\n",
       "    </tr>\n",
       "    <tr>\n",
       "      <th>2</th>\n",
       "      <td>372</td>\n",
       "      <td>933</td>\n",
       "      <td>60.530</td>\n",
       "    </tr>\n",
       "    <tr>\n",
       "      <th>3</th>\n",
       "      <td>369</td>\n",
       "      <td>951</td>\n",
       "      <td>70.890</td>\n",
       "    </tr>\n",
       "    <tr>\n",
       "      <th>4</th>\n",
       "      <td>493</td>\n",
       "      <td>918</td>\n",
       "      <td>43.433</td>\n",
       "    </tr>\n",
       "  </tbody>\n",
       "</table>\n",
       "</div>"
      ],
      "text/plain": [
       "   Total_alcohol  HDI  GDP_PerCapita\n",
       "0            583  928         53.579\n",
       "1            565  943         79.866\n",
       "2            372  933         60.530\n",
       "3            369  951         70.890\n",
       "4            493  918         43.433"
      ]
     },
     "execution_count": 22,
     "metadata": {},
     "output_type": "execute_result"
    }
   ],
   "source": [
    "features = ['Total_alcohol','HDI','GDP_PerCapita']\n",
    "X = alcohol_df[features]\n",
    "y = alcohol_df['HappinessScore']\n",
    "X_train, X_test, y_train, y_test = sk.model_selection.train_test_split(X, y, test_size=0.3, random_state=42)\n",
    "X.head()"
   ]
  },
  {
   "cell_type": "code",
   "execution_count": 23,
   "metadata": {},
   "outputs": [
    {
     "data": {
      "text/plain": [
       "DecisionTreeRegressor(random_state=42)"
      ]
     },
     "execution_count": 23,
     "metadata": {},
     "output_type": "execute_result"
    }
   ],
   "source": [
    "Alcohol_model = sk.tree.DecisionTreeRegressor(random_state=42)\n",
    "Alcohol_model.fit(X_train, y_train)"
   ]
  },
  {
   "cell_type": "code",
   "execution_count": 29,
   "metadata": {},
   "outputs": [],
   "source": [
    "#def mse(a,b):\n",
    "    #return np.sqrt(np.square(a-b).mean())"
   ]
  },
  {
   "cell_type": "code",
   "execution_count": 30,
   "metadata": {},
   "outputs": [],
   "source": [
    "def eval(x_test,y_test,Alcohol_model):\n",
    "    pred = Alcohol_model.predict(x_test)\n",
    "    print(\"MSE: {:.3f}\".format(mean_squared_error(pred,y_test,squared=False)))"
   ]
  },
  {
   "cell_type": "code",
   "execution_count": 31,
   "metadata": {},
   "outputs": [
    {
     "name": "stdout",
     "output_type": "stream",
     "text": [
      "MSE: 0.735\n"
     ]
    }
   ],
   "source": [
    "eval(X_test,y_test,Alcohol_model)"
   ]
  },
  {
   "cell_type": "code",
   "execution_count": 32,
   "metadata": {},
   "outputs": [
    {
     "name": "stdout",
     "output_type": "stream",
     "text": [
      "Making predictions:\n",
      "18     6.871\n",
      "45     5.956\n",
      "47     5.919\n",
      "89     4.635\n",
      "4      7.413\n",
      "40     6.068\n",
      "62     5.528\n",
      "107    4.028\n",
      "31     6.474\n",
      "55     5.768\n",
      "53     5.813\n",
      "119    3.484\n",
      "10     7.267\n",
      "90     4.574\n",
      "109    3.956\n",
      "11     7.119\n",
      "76     5.151\n",
      "56     5.743\n",
      "115    3.739\n",
      "0      7.526\n",
      "26     6.573\n",
      "44     5.976\n",
      "66     5.389\n",
      "98     4.272\n",
      "24     6.650\n",
      "42     5.987\n",
      "105    4.121\n",
      "93     4.362\n",
      "36     6.218\n",
      "100    4.236\n",
      "12     7.104\n",
      "15     6.952\n",
      "72     5.177\n",
      "22     6.705\n",
      "116    3.695\n",
      "91     4.513\n",
      "83     5.033\n",
      "Name: HappinessScore, dtype: float64\n",
      "The predictions are:\n",
      "[6.994 5.538 5.245 3.856 7.404 5.061 6.701 3.622 6.481 6.361 5.835 4.875\n",
      " 5.835 6.324 4.073 6.725 5.992 6.481 3.916 6.907 5.546 6.481 5.648 3.916\n",
      " 5.56  5.185 4.217 5.045 5.56  4.795 7.339 6.778 5.802 5.56  3.666 3.907\n",
      " 5.517]\n",
      "MSE: 0.735\n"
     ]
    }
   ],
   "source": [
    "print(\"Making predictions:\")\n",
    "print(y_test)\n",
    "\n",
    "print(\"The predictions are:\")\n",
    "test_pred = Alcohol_model.predict(X_test)\n",
    "print(test_pred)\n",
    "\n",
    "print(\"MSE: {:.3f}\".format(mse(y_test.values,test_pred)))"
   ]
  },
  {
   "cell_type": "markdown",
   "metadata": {},
   "source": [
    "We will check the depth of the tree and try to change it to see if there is a positive change in the size of the error."
   ]
  },
  {
   "cell_type": "code",
   "execution_count": 33,
   "metadata": {},
   "outputs": [
    {
     "name": "stdout",
     "output_type": "stream",
     "text": [
      "depth: 13\n"
     ]
    }
   ],
   "source": [
    "print(\"depth:\",Alcohol_model.get_depth())"
   ]
  },
  {
   "cell_type": "code",
   "execution_count": 34,
   "metadata": {},
   "outputs": [],
   "source": [
    "import sklearn.tree as tree\n",
    "def plot_tree(tree_model,feat,size=(15,10)):\n",
    "    fig = plt.figure(figsize=size)\n",
    "    tree.plot_tree(tree_model, \n",
    "                   feature_names = feat, \n",
    "                   filled=True,\n",
    "                  fontsize=15)  \n",
    "    plt.show()"
   ]
  },
  {
   "cell_type": "code",
   "execution_count": 35,
   "metadata": {},
   "outputs": [
    {
     "name": "stdout",
     "output_type": "stream",
     "text": [
      "MSE: 0.631\n"
     ]
    },
    {
     "data": {
      "image/png": "[encoded data removed]",
      "text/plain": [
       "<Figure size 2160x1440 with 1 Axes>"
      ]
     },
     "metadata": {
      "needs_background": "light"
     },
     "output_type": "display_data"
    }
   ],
   "source": [
    "model = DecisionTreeRegressor(max_depth=3,random_state=42)\n",
    "model.fit(X_train,y_train)\n",
    "\n",
    "eval(X_test,y_test,model)\n",
    "plot_tree(model,X_test.columns,size=(30,20))"
   ]
  },
  {
   "cell_type": "markdown",
   "metadata": {},
   "source": [
    "Because the mse is very low it can be concluded that the features we have chosen reliably predict the level of happiness measured in each country and that there is indeed a direct relationship between these features and the level of happiness. "
   ]
  },
  {
   "cell_type": "code",
   "execution_count": 36,
   "metadata": {},
   "outputs": [
    {
     "data": {
      "text/html": [
       "<img src='https://www.rt-ltd.com/wp-content/uploads/2017/06/didyouknow-246x300.png'/>"
      ],
      "text/plain": [
       "<IPython.core.display.HTML object>"
      ]
     },
     "metadata": {},
     "output_type": "display_data"
    }
   ],
   "source": [
    "display(HTML(\"<img src='https://www.rt-ltd.com/wp-content/uploads/2017/06/didyouknow-246x300.png'/>\"))    "
   ]
  },
  {
   "cell_type": "markdown",
   "metadata": {},
   "source": [
    "##### And a little for general knowledge, let's see where we're located "
   ]
  },
  {
   "cell_type": "code",
   "execution_count": 37,
   "metadata": {},
   "outputs": [
    {
     "data": {
      "text/html": [
       "<div>\n",
       "<style scoped>\n",
       "    .dataframe tbody tr th:only-of-type {\n",
       "        vertical-align: middle;\n",
       "    }\n",
       "\n",
       "    .dataframe tbody tr th {\n",
       "        vertical-align: top;\n",
       "    }\n",
       "\n",
       "    .dataframe thead th {\n",
       "        text-align: right;\n",
       "    }\n",
       "</style>\n",
       "<table border=\"1\" class=\"dataframe\">\n",
       "  <thead>\n",
       "    <tr style=\"text-align: right;\">\n",
       "      <th></th>\n",
       "      <th>Country</th>\n",
       "      <th>HappinessScore</th>\n",
       "      <th>Total_alcohol</th>\n",
       "    </tr>\n",
       "  </thead>\n",
       "  <tbody>\n",
       "    <tr>\n",
       "      <th>10</th>\n",
       "      <td>Israel</td>\n",
       "      <td>7.267</td>\n",
       "      <td>141</td>\n",
       "    </tr>\n",
       "  </tbody>\n",
       "</table>\n",
       "</div>"
      ],
      "text/plain": [
       "   Country  HappinessScore  Total_alcohol\n",
       "10  Israel           7.267            141"
      ]
     },
     "execution_count": 37,
     "metadata": {},
     "output_type": "execute_result"
    }
   ],
   "source": [
    "groupH[groupH['Country']=='Israel']"
   ]
  },
  {
   "cell_type": "code",
   "execution_count": 38,
   "metadata": {},
   "outputs": [
    {
     "data": {
      "text/html": [
       "<div>\n",
       "<style scoped>\n",
       "    .dataframe tbody tr th:only-of-type {\n",
       "        vertical-align: middle;\n",
       "    }\n",
       "\n",
       "    .dataframe tbody tr th {\n",
       "        vertical-align: top;\n",
       "    }\n",
       "\n",
       "    .dataframe thead th {\n",
       "        text-align: right;\n",
       "    }\n",
       "</style>\n",
       "<table border=\"1\" class=\"dataframe\">\n",
       "  <thead>\n",
       "    <tr style=\"text-align: right;\">\n",
       "      <th></th>\n",
       "      <th>Country</th>\n",
       "      <th>HappinessScore</th>\n",
       "      <th>Total_alcohol</th>\n",
       "    </tr>\n",
       "  </thead>\n",
       "  <tbody>\n",
       "    <tr>\n",
       "      <th>83</th>\n",
       "      <td>Israel</td>\n",
       "      <td>7.267</td>\n",
       "      <td>141</td>\n",
       "    </tr>\n",
       "  </tbody>\n",
       "</table>\n",
       "</div>"
      ],
      "text/plain": [
       "   Country  HappinessScore  Total_alcohol\n",
       "83  Israel           7.267            141"
      ]
     },
     "execution_count": 38,
     "metadata": {},
     "output_type": "execute_result"
    }
   ],
   "source": [
    "groupT[groupT['Country']=='Israel']"
   ]
  },
  {
   "cell_type": "markdown",
   "metadata": {},
   "source": [
    "And what makes Israelis rank so high in the global happiness rankings?\n",
    "The reasons can be seen in the next article\n",
    "[link to the article](https://www.ynet.co.il/articles/0,7340,L-4956142,00.html)"
   ]
  }
 ],
 "metadata": {
  "kernelspec": {
   "display_name": "Python 3",
   "language": "python",
   "name": "python3"
  },
  "language_info": {
   "codemirror_mode": {
    "name": "ipython",
    "version": 3
   },
   "file_extension": ".py",
   "mimetype": "text/x-python",
   "name": "python",
   "nbconvert_exporter": "python",
   "pygments_lexer": "ipython3",
   "version": "3.8.5"
  }
 },
 "nbformat": 4,
 "nbformat_minor": 4
}
