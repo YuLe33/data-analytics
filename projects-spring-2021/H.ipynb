{
 "cells": [
  {
   "cell_type": "markdown",
   "metadata": {},
   "source": [
    "# **FINAL PROJECT - H team**"
   ]
  },
  {
   "cell_type": "markdown",
   "metadata": {},
   "source": []
  },
  {
   "cell_type": "markdown",
   "metadata": {},
   "source": [
    "<img src=\"https://www.charlessaliba.com/wp-content/uploads/2020/09/319718852-corona-1532x900-adobestock-1.jpg\" \n",
    "width=\"400\"/>\n"
   ]
  },
  {
   "cell_type": "code",
   "execution_count": 8,
   "metadata": {},
   "outputs": [],
   "source": [
    "import pandas as pd\n",
    "import numpy as np\n",
    "import matplotlib.pyplot as plt\n",
    "import seaborn as sns\n",
    "import sklearn as sk\n",
    "from sklearn import tree\n",
    "from sklearn.tree import DecisionTreeClassifier"
   ]
  },
  {
   "cell_type": "code",
   "execution_count": 9,
   "metadata": {},
   "outputs": [],
   "source": [
    "url = 'https://raw.githubusercontent.com/TehilaM1/DataScience/main/Effects%20on%20personality%20due%20to%20Covid-19%20(Responses)%20-%20Form%20Responses%201.csv'\n",
    "corona_effects = pd.read_csv(url)"
   ]
  },
  {
   "cell_type": "code",
   "execution_count": 10,
   "metadata": {},
   "outputs": [
    {
     "data": {
      "text/html": [
       "<div>\n",
       "<style scoped>\n",
       "    .dataframe tbody tr th:only-of-type {\n",
       "        vertical-align: middle;\n",
       "    }\n",
       "\n",
       "    .dataframe tbody tr th {\n",
       "        vertical-align: top;\n",
       "    }\n",
       "\n",
       "    .dataframe thead th {\n",
       "        text-align: right;\n",
       "    }\n",
       "</style>\n",
       "<table border=\"1\" class=\"dataframe\">\n",
       "  <thead>\n",
       "    <tr style=\"text-align: right;\">\n",
       "      <th></th>\n",
       "      <th>Timestamp</th>\n",
       "      <th>Enter your name</th>\n",
       "      <th>Enter gender</th>\n",
       "      <th>You  are a-</th>\n",
       "      <th>1. Average number of hours you used to sleep before covid-</th>\n",
       "      <th>2. Average number of hours you sleep now-</th>\n",
       "      <th>3. Are you overeating or have put on your weight?</th>\n",
       "      <th>4. Number of hours you used mobile, tv, laptop or any other devices before covid-</th>\n",
       "      <th>5. Number of hours you use these devices now-</th>\n",
       "      <th>6. Do you exercise daily?</th>\n",
       "      <th>7. Health issues like anxiety, headache, dehydration, stomach ache or any other problems have started or increased than before</th>\n",
       "      <th>8. Relations with family have improved?</th>\n",
       "      <th>9. Contact with old school friends or fellow mates have increased and social life have improved after covid</th>\n",
       "      <th>10. Are you working on your skills and hobbies and trying to enhance them?</th>\n",
       "      <th>11. Have you kept studies aside and just enjoying this phase like a long vacation?</th>\n",
       "      <th>12. Are you going out frequently just with a mask on?</th>\n",
       "      <th>13. Are you taking proper preventive measures and sanitizing everything you use(including eatables and clothes)?</th>\n",
       "      <th>14. Overall covid has changed you in which manner?</th>\n",
       "    </tr>\n",
       "  </thead>\n",
       "  <tbody>\n",
       "    <tr>\n",
       "      <th>0</th>\n",
       "      <td>8/27/2020 20:42:45</td>\n",
       "      <td>Sourabh Karma</td>\n",
       "      <td>Male</td>\n",
       "      <td>college student</td>\n",
       "      <td>8</td>\n",
       "      <td>6</td>\n",
       "      <td>NO</td>\n",
       "      <td>3</td>\n",
       "      <td>10.0</td>\n",
       "      <td>Yes</td>\n",
       "      <td>No</td>\n",
       "      <td>Same as before</td>\n",
       "      <td>Same as before</td>\n",
       "      <td>Yes</td>\n",
       "      <td>Yes</td>\n",
       "      <td>Yes</td>\n",
       "      <td>Yes</td>\n",
       "      <td>Positive</td>\n",
       "    </tr>\n",
       "    <tr>\n",
       "      <th>1</th>\n",
       "      <td>8/31/2020 13:59:59</td>\n",
       "      <td>Suyash Tabakade</td>\n",
       "      <td>Male</td>\n",
       "      <td>college student</td>\n",
       "      <td>6</td>\n",
       "      <td>9</td>\n",
       "      <td>No</td>\n",
       "      <td>6</td>\n",
       "      <td>10.0</td>\n",
       "      <td>Sometimes</td>\n",
       "      <td>No</td>\n",
       "      <td>Same as before</td>\n",
       "      <td>Yes</td>\n",
       "      <td>Yes</td>\n",
       "      <td>Yes</td>\n",
       "      <td>No</td>\n",
       "      <td>Yes</td>\n",
       "      <td>Negative</td>\n",
       "    </tr>\n",
       "    <tr>\n",
       "      <th>2</th>\n",
       "      <td>8/31/2020 14:00:32</td>\n",
       "      <td>Khushi Neema</td>\n",
       "      <td>Female</td>\n",
       "      <td>college student</td>\n",
       "      <td>7</td>\n",
       "      <td>9</td>\n",
       "      <td>No</td>\n",
       "      <td>6</td>\n",
       "      <td>7.0</td>\n",
       "      <td>Sometimes</td>\n",
       "      <td>Yes</td>\n",
       "      <td>yes</td>\n",
       "      <td>Yes</td>\n",
       "      <td>Yes</td>\n",
       "      <td>No</td>\n",
       "      <td>No</td>\n",
       "      <td>Yes</td>\n",
       "      <td>Positive</td>\n",
       "    </tr>\n",
       "    <tr>\n",
       "      <th>3</th>\n",
       "      <td>8/31/2020 14:01:17</td>\n",
       "      <td>Divyansh Verma</td>\n",
       "      <td>Male</td>\n",
       "      <td>college student</td>\n",
       "      <td>2</td>\n",
       "      <td>7</td>\n",
       "      <td>No</td>\n",
       "      <td>14</td>\n",
       "      <td>4.0</td>\n",
       "      <td>Yes</td>\n",
       "      <td>Same as before</td>\n",
       "      <td>no</td>\n",
       "      <td>No</td>\n",
       "      <td>Yes</td>\n",
       "      <td>No</td>\n",
       "      <td>No</td>\n",
       "      <td>Yes</td>\n",
       "      <td>Not at all changed</td>\n",
       "    </tr>\n",
       "    <tr>\n",
       "      <th>4</th>\n",
       "      <td>8/31/2020 14:02:47</td>\n",
       "      <td>Mayank Pandya</td>\n",
       "      <td>Male</td>\n",
       "      <td>college student</td>\n",
       "      <td>6</td>\n",
       "      <td>8</td>\n",
       "      <td>No</td>\n",
       "      <td>2</td>\n",
       "      <td>7.0</td>\n",
       "      <td>Sometimes</td>\n",
       "      <td>No</td>\n",
       "      <td>Same as before</td>\n",
       "      <td>Same as before</td>\n",
       "      <td>Yes</td>\n",
       "      <td>No</td>\n",
       "      <td>Yes</td>\n",
       "      <td>Yes</td>\n",
       "      <td>Negative</td>\n",
       "    </tr>\n",
       "  </tbody>\n",
       "</table>\n",
       "</div>"
      ],
      "text/plain": [
       "            Timestamp  Enter your name Enter gender      You  are a-  \\\n",
       "0  8/27/2020 20:42:45    Sourabh Karma         Male  college student   \n",
       "1  8/31/2020 13:59:59  Suyash Tabakade         Male  college student   \n",
       "2  8/31/2020 14:00:32    Khushi Neema        Female  college student   \n",
       "3  8/31/2020 14:01:17   Divyansh Verma         Male  college student   \n",
       "4  8/31/2020 14:02:47    Mayank Pandya         Male  college student   \n",
       "\n",
       "  1. Average number of hours you used to sleep before covid-  \\\n",
       "0                                                  8           \n",
       "1                                                  6           \n",
       "2                                                  7           \n",
       "3                                                  2           \n",
       "4                                                  6           \n",
       "\n",
       "   2. Average number of hours you sleep now-  \\\n",
       "0                                          6   \n",
       "1                                          9   \n",
       "2                                          9   \n",
       "3                                          7   \n",
       "4                                          8   \n",
       "\n",
       "  3. Are you overeating or have put on your weight?  \\\n",
       "0                                                NO   \n",
       "1                                                No   \n",
       "2                                                No   \n",
       "3                                                No   \n",
       "4                                                No   \n",
       "\n",
       "   4. Number of hours you used mobile, tv, laptop or any other devices before covid-  \\\n",
       "0                                                  3                                   \n",
       "1                                                  6                                   \n",
       "2                                                  6                                   \n",
       "3                                                 14                                   \n",
       "4                                                  2                                   \n",
       "\n",
       "   5. Number of hours you use these devices now- 6. Do you exercise daily?  \\\n",
       "0                                           10.0                       Yes   \n",
       "1                                           10.0                 Sometimes   \n",
       "2                                            7.0                 Sometimes   \n",
       "3                                            4.0                       Yes   \n",
       "4                                            7.0                 Sometimes   \n",
       "\n",
       "  7. Health issues like anxiety, headache, dehydration, stomach ache or any other problems have started or increased than before  \\\n",
       "0                                                 No                                                                               \n",
       "1                                                 No                                                                               \n",
       "2                                                Yes                                                                               \n",
       "3                                     Same as before                                                                               \n",
       "4                                                 No                                                                               \n",
       "\n",
       "  8. Relations with family have improved?  \\\n",
       "0                          Same as before   \n",
       "1                          Same as before   \n",
       "2                                     yes   \n",
       "3                                      no   \n",
       "4                          Same as before   \n",
       "\n",
       "  9. Contact with old school friends or fellow mates have increased and social life have improved after covid  \\\n",
       "0                                     Same as before                                                            \n",
       "1                                                Yes                                                            \n",
       "2                                                Yes                                                            \n",
       "3                                                 No                                                            \n",
       "4                                     Same as before                                                            \n",
       "\n",
       "  10. Are you working on your skills and hobbies and trying to enhance them?   \\\n",
       "0                                                Yes                            \n",
       "1                                                Yes                            \n",
       "2                                                Yes                            \n",
       "3                                                Yes                            \n",
       "4                                                Yes                            \n",
       "\n",
       "  11. Have you kept studies aside and just enjoying this phase like a long vacation?  \\\n",
       "0                                                Yes                                   \n",
       "1                                                Yes                                   \n",
       "2                                                 No                                   \n",
       "3                                                 No                                   \n",
       "4                                                 No                                   \n",
       "\n",
       "  12. Are you going out frequently just with a mask on?  \\\n",
       "0                                                Yes      \n",
       "1                                                 No      \n",
       "2                                                 No      \n",
       "3                                                 No      \n",
       "4                                                Yes      \n",
       "\n",
       "  13. Are you taking proper preventive measures and sanitizing everything you use(including eatables and clothes)?  \\\n",
       "0                                                Yes                                                                 \n",
       "1                                                Yes                                                                 \n",
       "2                                                Yes                                                                 \n",
       "3                                                Yes                                                                 \n",
       "4                                                Yes                                                                 \n",
       "\n",
       "  14. Overall covid has changed you in which manner?  \n",
       "0                                           Positive  \n",
       "1                                           Negative  \n",
       "2                                           Positive  \n",
       "3                                 Not at all changed  \n",
       "4                                           Negative  "
      ]
     },
     "execution_count": 10,
     "metadata": {},
     "output_type": "execute_result"
    }
   ],
   "source": [
    "corona_effects.head()"
   ]
  },
  {
   "cell_type": "markdown",
   "metadata": {},
   "source": [
    "### **1. Checking missing values and data types:**"
   ]
  },
  {
   "cell_type": "code",
   "execution_count": 11,
   "metadata": {},
   "outputs": [
    {
     "data": {
      "text/plain": [
       "Timestamp                                                                                                                          object\n",
       "Enter your name                                                                                                                    object\n",
       "Enter gender                                                                                                                       object\n",
       "You  are a-                                                                                                                        object\n",
       "1. Average number of hours you used to sleep before covid-                                                                         object\n",
       "2. Average number of hours you sleep now-                                                                                           int64\n",
       "3. Are you overeating or have put on your weight?                                                                                  object\n",
       "4. Number of hours you used mobile, tv, laptop or any other devices before covid-                                                   int64\n",
       "5. Number of hours you use these devices now-                                                                                     float64\n",
       "6. Do you exercise daily?                                                                                                          object\n",
       "7. Health issues like anxiety, headache, dehydration, stomach ache or any other problems have started or increased than before     object\n",
       "8. Relations with family have improved?                                                                                            object\n",
       "9. Contact with old school friends or fellow mates have increased and social life have improved after covid                        object\n",
       "10. Are you working on your skills and hobbies and trying to enhance them?                                                         object\n",
       "11. Have you kept studies aside and just enjoying this phase like a long vacation?                                                 object\n",
       "12. Are you going out frequently just with a mask on?                                                                              object\n",
       "13. Are you taking proper preventive measures and sanitizing everything you use(including eatables and clothes)?                   object\n",
       "14. Overall covid has changed you in which manner?                                                                                 object\n",
       "dtype: object"
      ]
     },
     "execution_count": 11,
     "metadata": {},
     "output_type": "execute_result"
    }
   ],
   "source": [
    "corona_effects.dtypes"
   ]
  },
  {
   "cell_type": "code",
   "execution_count": 12,
   "metadata": {},
   "outputs": [
    {
     "data": {
      "text/plain": [
       "14. Overall covid has changed you in which manner?                                                                                0\n",
       "13. Are you taking proper preventive measures and sanitizing everything you use(including eatables and clothes)?                  0\n",
       "Enter your name                                                                                                                   0\n",
       "Enter gender                                                                                                                      0\n",
       "You  are a-                                                                                                                       0\n",
       "1. Average number of hours you used to sleep before covid-                                                                        0\n",
       "2. Average number of hours you sleep now-                                                                                         0\n",
       "3. Are you overeating or have put on your weight?                                                                                 0\n",
       "4. Number of hours you used mobile, tv, laptop or any other devices before covid-                                                 0\n",
       "5. Number of hours you use these devices now-                                                                                     0\n",
       "6. Do you exercise daily?                                                                                                         0\n",
       "7. Health issues like anxiety, headache, dehydration, stomach ache or any other problems have started or increased than before    0\n",
       "8. Relations with family have improved?                                                                                           0\n",
       "9. Contact with old school friends or fellow mates have increased and social life have improved after covid                       0\n",
       "10. Are you working on your skills and hobbies and trying to enhance them?                                                        0\n",
       "11. Have you kept studies aside and just enjoying this phase like a long vacation?                                                0\n",
       "12. Are you going out frequently just with a mask on?                                                                             0\n",
       "Timestamp                                                                                                                         0\n",
       "dtype: int64"
      ]
     },
     "execution_count": 12,
     "metadata": {},
     "output_type": "execute_result"
    }
   ],
   "source": [
    "corona_effects.isnull().sum().sort_values(ascending=False)"
   ]
  },
  {
   "cell_type": "code",
   "execution_count": 13,
   "metadata": {},
   "outputs": [
    {
     "data": {
      "text/plain": [
       "199              10\n",
       "200               5\n",
       "201               8\n",
       "202               6\n",
       "203    6 to 7 hours\n",
       "Name: 1. Average number of hours you used to sleep before covid-, dtype: object"
      ]
     },
     "execution_count": 13,
     "metadata": {},
     "output_type": "execute_result"
    }
   ],
   "source": [
    "#We found that the last value in this column is not displayed as a number and so we will correct it\n",
    "#גילינו שהערך האחרון בעמודה זו אינו מוצג כמספר ולכן נתקן אותו\n",
    "\n",
    "corona_effects['1. Average number of hours you used to sleep before covid-'].tail()"
   ]
  },
  {
   "cell_type": "code",
   "execution_count": 14,
   "metadata": {},
   "outputs": [
    {
     "data": {
      "text/plain": [
       "199    10.0\n",
       "200     5.0\n",
       "201     8.0\n",
       "202     6.0\n",
       "203     6.5\n",
       "Name: 1. Average number of hours you used to sleep before covid-, dtype: float64"
      ]
     },
     "execution_count": 14,
     "metadata": {},
     "output_type": "execute_result"
    }
   ],
   "source": [
    "corona_effects['1. Average number of hours you used to sleep before covid-'] = corona_effects['1. Average number of hours you used to sleep before covid-'].replace('6 to 7 hours', 6.5).astype('float')\n",
    "corona_effects['1. Average number of hours you used to sleep before covid-'].tail()"
   ]
  },
  {
   "cell_type": "code",
   "execution_count": 15,
   "metadata": {},
   "outputs": [
    {
     "data": {
      "text/plain": [
       "0    NO\n",
       "1    No\n",
       "2    No\n",
       "3    No\n",
       "4    No\n",
       "Name: 3. Are you overeating or have put on your weight?, dtype: object"
      ]
     },
     "execution_count": 15,
     "metadata": {},
     "output_type": "execute_result"
    }
   ],
   "source": [
    "corona_effects['3. Are you overeating or have put on your weight?'].head()"
   ]
  },
  {
   "cell_type": "code",
   "execution_count": 16,
   "metadata": {},
   "outputs": [
    {
     "data": {
      "text/plain": [
       "0    No\n",
       "1    No\n",
       "2    No\n",
       "3    No\n",
       "4    No\n",
       "Name: 3. Are you overeating or have put on your weight?, dtype: category\n",
       "Categories (2, object): ['No', 'Yes']"
      ]
     },
     "execution_count": 16,
     "metadata": {},
     "output_type": "execute_result"
    }
   ],
   "source": [
    "#We see that there is a typo and we will fix it\n",
    "#אנחנו רואים שקיימת שגיאת הקלדה ולכן נתקן אותה\n",
    "\n",
    "corona_effects['3. Are you overeating or have put on your weight?'] = corona_effects['3. Are you overeating or have put on your weight?'].str.replace('NO', 'No').astype('category')\n",
    "corona_effects['3. Are you overeating or have put on your weight?'].head()"
   ]
  },
  {
   "cell_type": "code",
   "execution_count": 17,
   "metadata": {},
   "outputs": [
    {
     "data": {
      "text/html": [
       "<div>\n",
       "<style scoped>\n",
       "    .dataframe tbody tr th:only-of-type {\n",
       "        vertical-align: middle;\n",
       "    }\n",
       "\n",
       "    .dataframe tbody tr th {\n",
       "        vertical-align: top;\n",
       "    }\n",
       "\n",
       "    .dataframe thead th {\n",
       "        text-align: right;\n",
       "    }\n",
       "</style>\n",
       "<table border=\"1\" class=\"dataframe\">\n",
       "  <thead>\n",
       "    <tr style=\"text-align: right;\">\n",
       "      <th></th>\n",
       "      <th>Enter gender_Female</th>\n",
       "      <th>3. Are you overeating or have put on your weight?_Yes</th>\n",
       "      <th>10. Are you working on your skills and hobbies and trying to enhance them? _Yes</th>\n",
       "      <th>11. Have you kept studies aside and just enjoying this phase like a long vacation?_Yes</th>\n",
       "      <th>12. Are you going out frequently just with a mask on?_Yes</th>\n",
       "      <th>13. Are you taking proper preventive measures and sanitizing everything you use(including eatables and clothes)?_Yes</th>\n",
       "    </tr>\n",
       "  </thead>\n",
       "  <tbody>\n",
       "    <tr>\n",
       "      <th>0</th>\n",
       "      <td>0</td>\n",
       "      <td>0</td>\n",
       "      <td>1</td>\n",
       "      <td>1</td>\n",
       "      <td>1</td>\n",
       "      <td>1</td>\n",
       "    </tr>\n",
       "    <tr>\n",
       "      <th>1</th>\n",
       "      <td>0</td>\n",
       "      <td>0</td>\n",
       "      <td>1</td>\n",
       "      <td>1</td>\n",
       "      <td>0</td>\n",
       "      <td>1</td>\n",
       "    </tr>\n",
       "    <tr>\n",
       "      <th>2</th>\n",
       "      <td>1</td>\n",
       "      <td>0</td>\n",
       "      <td>1</td>\n",
       "      <td>0</td>\n",
       "      <td>0</td>\n",
       "      <td>1</td>\n",
       "    </tr>\n",
       "    <tr>\n",
       "      <th>3</th>\n",
       "      <td>0</td>\n",
       "      <td>0</td>\n",
       "      <td>1</td>\n",
       "      <td>0</td>\n",
       "      <td>0</td>\n",
       "      <td>1</td>\n",
       "    </tr>\n",
       "    <tr>\n",
       "      <th>4</th>\n",
       "      <td>0</td>\n",
       "      <td>0</td>\n",
       "      <td>1</td>\n",
       "      <td>0</td>\n",
       "      <td>1</td>\n",
       "      <td>1</td>\n",
       "    </tr>\n",
       "    <tr>\n",
       "      <th>5</th>\n",
       "      <td>1</td>\n",
       "      <td>0</td>\n",
       "      <td>1</td>\n",
       "      <td>0</td>\n",
       "      <td>1</td>\n",
       "      <td>1</td>\n",
       "    </tr>\n",
       "    <tr>\n",
       "      <th>6</th>\n",
       "      <td>1</td>\n",
       "      <td>1</td>\n",
       "      <td>1</td>\n",
       "      <td>1</td>\n",
       "      <td>0</td>\n",
       "      <td>1</td>\n",
       "    </tr>\n",
       "    <tr>\n",
       "      <th>7</th>\n",
       "      <td>1</td>\n",
       "      <td>1</td>\n",
       "      <td>1</td>\n",
       "      <td>0</td>\n",
       "      <td>0</td>\n",
       "      <td>1</td>\n",
       "    </tr>\n",
       "    <tr>\n",
       "      <th>8</th>\n",
       "      <td>0</td>\n",
       "      <td>1</td>\n",
       "      <td>1</td>\n",
       "      <td>1</td>\n",
       "      <td>1</td>\n",
       "      <td>0</td>\n",
       "    </tr>\n",
       "    <tr>\n",
       "      <th>9</th>\n",
       "      <td>0</td>\n",
       "      <td>1</td>\n",
       "      <td>0</td>\n",
       "      <td>0</td>\n",
       "      <td>1</td>\n",
       "      <td>1</td>\n",
       "    </tr>\n",
       "  </tbody>\n",
       "</table>\n",
       "</div>"
      ],
      "text/plain": [
       "   Enter gender_Female  3. Are you overeating or have put on your weight?_Yes  \\\n",
       "0                    0                                                  0       \n",
       "1                    0                                                  0       \n",
       "2                    1                                                  0       \n",
       "3                    0                                                  0       \n",
       "4                    0                                                  0       \n",
       "5                    1                                                  0       \n",
       "6                    1                                                  1       \n",
       "7                    1                                                  1       \n",
       "8                    0                                                  1       \n",
       "9                    0                                                  1       \n",
       "\n",
       "   10. Are you working on your skills and hobbies and trying to enhance them? _Yes  \\\n",
       "0                                                  1                                 \n",
       "1                                                  1                                 \n",
       "2                                                  1                                 \n",
       "3                                                  1                                 \n",
       "4                                                  1                                 \n",
       "5                                                  1                                 \n",
       "6                                                  1                                 \n",
       "7                                                  1                                 \n",
       "8                                                  1                                 \n",
       "9                                                  0                                 \n",
       "\n",
       "   11. Have you kept studies aside and just enjoying this phase like a long vacation?_Yes  \\\n",
       "0                                                  1                                        \n",
       "1                                                  1                                        \n",
       "2                                                  0                                        \n",
       "3                                                  0                                        \n",
       "4                                                  0                                        \n",
       "5                                                  0                                        \n",
       "6                                                  1                                        \n",
       "7                                                  0                                        \n",
       "8                                                  1                                        \n",
       "9                                                  0                                        \n",
       "\n",
       "   12. Are you going out frequently just with a mask on?_Yes  \\\n",
       "0                                                  1           \n",
       "1                                                  0           \n",
       "2                                                  0           \n",
       "3                                                  0           \n",
       "4                                                  1           \n",
       "5                                                  1           \n",
       "6                                                  0           \n",
       "7                                                  0           \n",
       "8                                                  1           \n",
       "9                                                  1           \n",
       "\n",
       "   13. Are you taking proper preventive measures and sanitizing everything you use(including eatables and clothes)?_Yes  \n",
       "0                                                  1                                                                     \n",
       "1                                                  1                                                                     \n",
       "2                                                  1                                                                     \n",
       "3                                                  1                                                                     \n",
       "4                                                  1                                                                     \n",
       "5                                                  1                                                                     \n",
       "6                                                  1                                                                     \n",
       "7                                                  1                                                                     \n",
       "8                                                  0                                                                     \n",
       "9                                                  1                                                                     "
      ]
     },
     "execution_count": 17,
     "metadata": {},
     "output_type": "execute_result"
    }
   ],
   "source": [
    "# 0= NO or male | 1= Yes or female\n",
    "NoYes = pd.get_dummies(corona_effects[['Enter gender', '3. Are you overeating or have put on your weight?', '10. Are you working on your skills and hobbies and trying to enhance them? ', '11. Have you kept studies aside and just enjoying this phase like a long vacation?','12. Are you going out frequently just with a mask on?', '13. Are you taking proper preventive measures and sanitizing everything you use(including eatables and clothes)?']])\n",
    "NoYes= NoYes.loc[:, ['Enter gender_Female', '3. Are you overeating or have put on your weight?_Yes', '10. Are you working on your skills and hobbies and trying to enhance them? _Yes', '11. Have you kept studies aside and just enjoying this phase like a long vacation?_Yes', '12. Are you going out frequently just with a mask on?_Yes', '13. Are you taking proper preventive measures and sanitizing everything you use(including eatables and clothes)?_Yes']]\n",
    "NoYes.head(10)"
   ]
  },
  {
   "cell_type": "markdown",
   "metadata": {},
   "source": [
    "### **2. Understanding the data:**"
   ]
  },
  {
   "cell_type": "code",
   "execution_count": 39,
   "metadata": {},
   "outputs": [
    {
     "data": {
      "text/html": [
       "<div>\n",
       "<style scoped>\n",
       "    .dataframe tbody tr th:only-of-type {\n",
       "        vertical-align: middle;\n",
       "    }\n",
       "\n",
       "    .dataframe tbody tr th {\n",
       "        vertical-align: top;\n",
       "    }\n",
       "\n",
       "    .dataframe thead th {\n",
       "        text-align: right;\n",
       "    }\n",
       "</style>\n",
       "<table border=\"1\" class=\"dataframe\">\n",
       "  <thead>\n",
       "    <tr style=\"text-align: right;\">\n",
       "      <th></th>\n",
       "      <th>Timestamp</th>\n",
       "    </tr>\n",
       "  </thead>\n",
       "  <tbody>\n",
       "    <tr>\n",
       "      <th>0</th>\n",
       "      <td>8/27/2020 20:42:45</td>\n",
       "    </tr>\n",
       "    <tr>\n",
       "      <th>203</th>\n",
       "      <td>9/9/2020 13:26:11</td>\n",
       "    </tr>\n",
       "  </tbody>\n",
       "</table>\n",
       "</div>"
      ],
      "text/plain": [
       "              Timestamp\n",
       "0    8/27/2020 20:42:45\n",
       "203   9/9/2020 13:26:11"
      ]
     },
     "execution_count": 39,
     "metadata": {},
     "output_type": "execute_result"
    }
   ],
   "source": [
    "dates= pd.DataFrame(corona_effects.iloc[[0,-1], 0])\n",
    "dates\n",
    "#The period of time of taking the data in the survey\n",
    "#תקופת הזמן של לקיחת הנתונים בסקר"
   ]
  },
  {
   "cell_type": "code",
   "execution_count": 18,
   "metadata": {},
   "outputs": [
    {
     "data": {
      "text/plain": [
       "<AxesSubplot:title={'center':'Pie distribution of Gender'}, ylabel='Enter gender'>"
      ]
     },
     "execution_count": 18,
     "metadata": {},
     "output_type": "execute_result"
    },
    {
     "data": {
      "image/png": "[encoded data removed]",
      "text/plain": [
       "<Figure size 432x288 with 1 Axes>"
      ]
     },
     "metadata": {},
     "output_type": "display_data"
    }
   ],
   "source": [
    "plt.title(\"Pie distribution of Gender\")\n",
    "corona_effects['Enter gender'].value_counts().plot.pie(autopct='%1.1f%%')"
   ]
  },
  {
   "cell_type": "code",
   "execution_count": 19,
   "metadata": {},
   "outputs": [
    {
     "data": {
      "text/html": [
       "<div>\n",
       "<style scoped>\n",
       "    .dataframe tbody tr th:only-of-type {\n",
       "        vertical-align: middle;\n",
       "    }\n",
       "\n",
       "    .dataframe tbody tr th {\n",
       "        vertical-align: top;\n",
       "    }\n",
       "\n",
       "    .dataframe thead th {\n",
       "        text-align: right;\n",
       "    }\n",
       "</style>\n",
       "<table border=\"1\" class=\"dataframe\">\n",
       "  <thead>\n",
       "    <tr style=\"text-align: right;\">\n",
       "      <th></th>\n",
       "      <th>Enter gender</th>\n",
       "    </tr>\n",
       "    <tr>\n",
       "      <th>Enter gender</th>\n",
       "      <th></th>\n",
       "    </tr>\n",
       "  </thead>\n",
       "  <tbody>\n",
       "    <tr>\n",
       "      <th>Female</th>\n",
       "      <td>98</td>\n",
       "    </tr>\n",
       "    <tr>\n",
       "      <th>Male</th>\n",
       "      <td>106</td>\n",
       "    </tr>\n",
       "  </tbody>\n",
       "</table>\n",
       "</div>"
      ],
      "text/plain": [
       "              Enter gender\n",
       "Enter gender              \n",
       "Female                  98\n",
       "Male                   106"
      ]
     },
     "execution_count": 19,
     "metadata": {},
     "output_type": "execute_result"
    }
   ],
   "source": [
    "num_sex= pd.DataFrame(corona_effects.groupby('Enter gender')['Enter gender'].count())\n",
    "num_sex"
   ]
  },
  {
   "cell_type": "code",
   "execution_count": 20,
   "metadata": {},
   "outputs": [
    {
     "data": {
      "text/plain": [
       "<AxesSubplot:title={'center':'Count distribution of Status'}, xlabel='You  are a-', ylabel='count'>"
      ]
     },
     "execution_count": 20,
     "metadata": {},
     "output_type": "execute_result"
    },
    {
     "data": {
      "image/png": "[encoded data removed]",
      "text/plain": [
       "<Figure size 432x288 with 1 Axes>"
      ]
     },
     "metadata": {
      "needs_background": "light"
     },
     "output_type": "display_data"
    }
   ],
   "source": [
    "plt.title(\"Count distribution of Status\")\n",
    "sns.countplot(x=\"You  are a-\", data=corona_effects, order= ['college student', 'working', 'school student', 'graduate'])"
   ]
  },
  {
   "cell_type": "code",
   "execution_count": 21,
   "metadata": {},
   "outputs": [
    {
     "data": {
      "text/html": [
       "<div>\n",
       "<style scoped>\n",
       "    .dataframe tbody tr th:only-of-type {\n",
       "        vertical-align: middle;\n",
       "    }\n",
       "\n",
       "    .dataframe tbody tr th {\n",
       "        vertical-align: top;\n",
       "    }\n",
       "\n",
       "    .dataframe thead th {\n",
       "        text-align: right;\n",
       "    }\n",
       "</style>\n",
       "<table border=\"1\" class=\"dataframe\">\n",
       "  <thead>\n",
       "    <tr style=\"text-align: right;\">\n",
       "      <th></th>\n",
       "      <th>You  are a-</th>\n",
       "    </tr>\n",
       "    <tr>\n",
       "      <th>You  are a-</th>\n",
       "      <th></th>\n",
       "    </tr>\n",
       "  </thead>\n",
       "  <tbody>\n",
       "    <tr>\n",
       "      <th>college student</th>\n",
       "      <td>139</td>\n",
       "    </tr>\n",
       "    <tr>\n",
       "      <th>graduate</th>\n",
       "      <td>15</td>\n",
       "    </tr>\n",
       "    <tr>\n",
       "      <th>school student</th>\n",
       "      <td>16</td>\n",
       "    </tr>\n",
       "    <tr>\n",
       "      <th>working</th>\n",
       "      <td>34</td>\n",
       "    </tr>\n",
       "  </tbody>\n",
       "</table>\n",
       "</div>"
      ],
      "text/plain": [
       "                 You  are a-\n",
       "You  are a-                 \n",
       "college student          139\n",
       "graduate                  15\n",
       "school student            16\n",
       "working                   34"
      ]
     },
     "execution_count": 21,
     "metadata": {},
     "output_type": "execute_result"
    }
   ],
   "source": [
    "status_count= pd.DataFrame(corona_effects.groupby('You  are a-')['You  are a-'].count())\n",
    "status_count"
   ]
  },
  {
   "cell_type": "code",
   "execution_count": 37,
   "metadata": {},
   "outputs": [
    {
     "data": {
      "text/html": [
       "<div>\n",
       "<style scoped>\n",
       "    .dataframe tbody tr th:only-of-type {\n",
       "        vertical-align: middle;\n",
       "    }\n",
       "\n",
       "    .dataframe tbody tr th {\n",
       "        vertical-align: top;\n",
       "    }\n",
       "\n",
       "    .dataframe thead th {\n",
       "        text-align: right;\n",
       "    }\n",
       "</style>\n",
       "<table border=\"1\" class=\"dataframe\">\n",
       "  <thead>\n",
       "    <tr style=\"text-align: right;\">\n",
       "      <th></th>\n",
       "      <th>3. Are you overeating or have put on your weight?_Yes</th>\n",
       "    </tr>\n",
       "    <tr>\n",
       "      <th>Enter gender_Female</th>\n",
       "      <th></th>\n",
       "    </tr>\n",
       "  </thead>\n",
       "  <tbody>\n",
       "    <tr>\n",
       "      <th>0</th>\n",
       "      <td>40</td>\n",
       "    </tr>\n",
       "    <tr>\n",
       "      <th>1</th>\n",
       "      <td>48</td>\n",
       "    </tr>\n",
       "  </tbody>\n",
       "</table>\n",
       "</div>"
      ],
      "text/plain": [
       "                     3. Are you overeating or have put on your weight?_Yes\n",
       "Enter gender_Female                                                       \n",
       "0                                                                   40    \n",
       "1                                                                   48    "
      ]
     },
     "execution_count": 37,
     "metadata": {},
     "output_type": "execute_result"
    }
   ],
   "source": [
    "NoYes.groupby('Enter gender_Female')[['3. Are you overeating or have put on your weight?_Yes' ]].sum()\n",
    "#The number of men and women who answered yes to overeating.\n",
    "#0= male | 1= female\n",
    "#מספר הגברים והנשים שענו כן על אכילת יתר"
   ]
  },
  {
   "cell_type": "markdown",
   "metadata": {},
   "source": [
    "### **3. Correlations and Findings:**"
   ]
  },
  {
   "cell_type": "code",
   "execution_count": 24,
   "metadata": {},
   "outputs": [
    {
     "data": {
      "image/png": "[encoded data removed]",
      "text/plain": [
       "<Figure size 1440x360 with 2 Axes>"
      ]
     },
     "metadata": {
      "needs_background": "light"
     },
     "output_type": "display_data"
    }
   ],
   "source": [
    "fig, axes = plt.subplots(figsize=(20, 5), ncols=2)\n",
    "sns.countplot(ax=axes[0], x=\"12. Are you going out frequently just with a mask on?\", data=corona_effects)\n",
    "sns.countplot(ax=axes[1], x=\"13. Are you taking proper preventive measures and sanitizing everything you use(including eatables and clothes)?\", data=corona_effects)\n",
    "plt.show()"
   ]
  },
  {
   "cell_type": "code",
   "execution_count": 25,
   "metadata": {},
   "outputs": [
    {
     "data": {
      "text/html": [
       "<div>\n",
       "<style scoped>\n",
       "    .dataframe tbody tr th:only-of-type {\n",
       "        vertical-align: middle;\n",
       "    }\n",
       "\n",
       "    .dataframe tbody tr th {\n",
       "        vertical-align: top;\n",
       "    }\n",
       "\n",
       "    .dataframe thead th {\n",
       "        text-align: right;\n",
       "    }\n",
       "</style>\n",
       "<table border=\"1\" class=\"dataframe\">\n",
       "  <thead>\n",
       "    <tr style=\"text-align: right;\">\n",
       "      <th></th>\n",
       "      <th>12. Are you going out frequently just with a mask on?_Yes</th>\n",
       "    </tr>\n",
       "    <tr>\n",
       "      <th>Enter gender_Female</th>\n",
       "      <th></th>\n",
       "    </tr>\n",
       "  </thead>\n",
       "  <tbody>\n",
       "    <tr>\n",
       "      <th>0</th>\n",
       "      <td>54</td>\n",
       "    </tr>\n",
       "    <tr>\n",
       "      <th>1</th>\n",
       "      <td>32</td>\n",
       "    </tr>\n",
       "  </tbody>\n",
       "</table>\n",
       "</div>"
      ],
      "text/plain": [
       "                     12. Are you going out frequently just with a mask on?_Yes\n",
       "Enter gender_Female                                                           \n",
       "0                                                                   54        \n",
       "1                                                                   32        "
      ]
     },
     "execution_count": 25,
     "metadata": {},
     "output_type": "execute_result"
    }
   ],
   "source": [
    "NoYes.groupby('Enter gender_Female')[['12. Are you going out frequently just with a mask on?_Yes']].sum()"
   ]
  },
  {
   "cell_type": "code",
   "execution_count": 26,
   "metadata": {},
   "outputs": [
    {
     "data": {
      "text/html": [
       "<div>\n",
       "<style scoped>\n",
       "    .dataframe tbody tr th:only-of-type {\n",
       "        vertical-align: middle;\n",
       "    }\n",
       "\n",
       "    .dataframe tbody tr th {\n",
       "        vertical-align: top;\n",
       "    }\n",
       "\n",
       "    .dataframe thead th {\n",
       "        text-align: right;\n",
       "    }\n",
       "</style>\n",
       "<table border=\"1\" class=\"dataframe\">\n",
       "  <thead>\n",
       "    <tr style=\"text-align: right;\">\n",
       "      <th></th>\n",
       "      <th>13. Are you taking proper preventive measures and sanitizing everything you use(including eatables and clothes)?_Yes</th>\n",
       "    </tr>\n",
       "    <tr>\n",
       "      <th>Enter gender_Female</th>\n",
       "      <th></th>\n",
       "    </tr>\n",
       "  </thead>\n",
       "  <tbody>\n",
       "    <tr>\n",
       "      <th>0</th>\n",
       "      <td>87</td>\n",
       "    </tr>\n",
       "    <tr>\n",
       "      <th>1</th>\n",
       "      <td>87</td>\n",
       "    </tr>\n",
       "  </tbody>\n",
       "</table>\n",
       "</div>"
      ],
      "text/plain": [
       "                     13. Are you taking proper preventive measures and sanitizing everything you use(including eatables and clothes)?_Yes\n",
       "Enter gender_Female                                                                                                                      \n",
       "0                                                                   87                                                                   \n",
       "1                                                                   87                                                                   "
      ]
     },
     "execution_count": 26,
     "metadata": {},
     "output_type": "execute_result"
    }
   ],
   "source": [
    "NoYes.groupby('Enter gender_Female')[['13. Are you taking proper preventive measures and sanitizing everything you use(including eatables and clothes)?_Yes']].sum()"
   ]
  },
  {
   "cell_type": "markdown",
   "metadata": {},
   "source": [
    "**Findings:**\n",
    "\n",
    "It can be seen that there is no connection between wearing a mask and hygiene against the corona.\n",
    "Another thing is that most people do not wear a mask but on the other hand do maintain hygiene.\n",
    "\n",
    "In addition, it can be seen that there is equality between women and men in hygiene, compared to what is commonly thought that women are more hygienic than men. And another thing is that men are more careful about wearing a mask than women.\n",
    "\n",
    "אפשר לראות שאין קשר בין עטיית מסיכה לבין הגיינה נגד הקורונה.\n",
    "דבר נוסף הוא שרוב האנשים אינם עוטים מסיכה אך לעומת זאת כן שומרים על הגיינה.\n",
    "\n",
    "בנוסף, אפשר לראות כי יש שוויון בין נשים לגברים בהגיינה, לעומת מה שנהוג לחשוב כי נשים יותר הגיניות מגברים. ודבר נוסף הוא שגברים מקפידים יותר על עטיית מסיכה מאשר נשים."
   ]
  },
  {
   "cell_type": "code",
   "execution_count": 27,
   "metadata": {},
   "outputs": [
    {
     "data": {
      "text/html": [
       "<div>\n",
       "<style scoped>\n",
       "    .dataframe tbody tr th:only-of-type {\n",
       "        vertical-align: middle;\n",
       "    }\n",
       "\n",
       "    .dataframe tbody tr th {\n",
       "        vertical-align: top;\n",
       "    }\n",
       "\n",
       "    .dataframe thead th {\n",
       "        text-align: right;\n",
       "    }\n",
       "</style>\n",
       "<table border=\"1\" class=\"dataframe\">\n",
       "  <thead>\n",
       "    <tr style=\"text-align: right;\">\n",
       "      <th></th>\n",
       "      <th>Timestamp</th>\n",
       "      <th>Enter your name</th>\n",
       "      <th>Enter gender</th>\n",
       "      <th>You  are a-</th>\n",
       "      <th>1. Average number of hours you used to sleep before covid-</th>\n",
       "      <th>2. Average number of hours you sleep now-</th>\n",
       "      <th>3. Are you overeating or have put on your weight?</th>\n",
       "      <th>4. Number of hours you used mobile, tv, laptop or any other devices before covid-</th>\n",
       "      <th>5. Number of hours you use these devices now-</th>\n",
       "      <th>6. Do you exercise daily?</th>\n",
       "      <th>7. Health issues like anxiety, headache, dehydration, stomach ache or any other problems have started or increased than before</th>\n",
       "      <th>8. Relations with family have improved?</th>\n",
       "      <th>9. Contact with old school friends or fellow mates have increased and social life have improved after covid</th>\n",
       "      <th>10. Are you working on your skills and hobbies and trying to enhance them?</th>\n",
       "      <th>11. Have you kept studies aside and just enjoying this phase like a long vacation?</th>\n",
       "      <th>12. Are you going out frequently just with a mask on?</th>\n",
       "      <th>13. Are you taking proper preventive measures and sanitizing everything you use(including eatables and clothes)?</th>\n",
       "      <th>14. Overall covid has changed you in which manner?</th>\n",
       "      <th>Working on your skills_Yes</th>\n",
       "      <th>Corona vacation_Yes</th>\n",
       "    </tr>\n",
       "  </thead>\n",
       "  <tbody>\n",
       "    <tr>\n",
       "      <th>0</th>\n",
       "      <td>8/27/2020 20:42:45</td>\n",
       "      <td>Sourabh Karma</td>\n",
       "      <td>Male</td>\n",
       "      <td>college student</td>\n",
       "      <td>8.0</td>\n",
       "      <td>6</td>\n",
       "      <td>No</td>\n",
       "      <td>3</td>\n",
       "      <td>10.0</td>\n",
       "      <td>Yes</td>\n",
       "      <td>No</td>\n",
       "      <td>Same as before</td>\n",
       "      <td>Same as before</td>\n",
       "      <td>Yes</td>\n",
       "      <td>Yes</td>\n",
       "      <td>Yes</td>\n",
       "      <td>Yes</td>\n",
       "      <td>Positive</td>\n",
       "      <td>1</td>\n",
       "      <td>1</td>\n",
       "    </tr>\n",
       "    <tr>\n",
       "      <th>1</th>\n",
       "      <td>8/31/2020 13:59:59</td>\n",
       "      <td>Suyash Tabakade</td>\n",
       "      <td>Male</td>\n",
       "      <td>college student</td>\n",
       "      <td>6.0</td>\n",
       "      <td>9</td>\n",
       "      <td>No</td>\n",
       "      <td>6</td>\n",
       "      <td>10.0</td>\n",
       "      <td>Sometimes</td>\n",
       "      <td>No</td>\n",
       "      <td>Same as before</td>\n",
       "      <td>Yes</td>\n",
       "      <td>Yes</td>\n",
       "      <td>Yes</td>\n",
       "      <td>No</td>\n",
       "      <td>Yes</td>\n",
       "      <td>Negative</td>\n",
       "      <td>1</td>\n",
       "      <td>1</td>\n",
       "    </tr>\n",
       "    <tr>\n",
       "      <th>2</th>\n",
       "      <td>8/31/2020 14:00:32</td>\n",
       "      <td>Khushi Neema</td>\n",
       "      <td>Female</td>\n",
       "      <td>college student</td>\n",
       "      <td>7.0</td>\n",
       "      <td>9</td>\n",
       "      <td>No</td>\n",
       "      <td>6</td>\n",
       "      <td>7.0</td>\n",
       "      <td>Sometimes</td>\n",
       "      <td>Yes</td>\n",
       "      <td>yes</td>\n",
       "      <td>Yes</td>\n",
       "      <td>Yes</td>\n",
       "      <td>No</td>\n",
       "      <td>No</td>\n",
       "      <td>Yes</td>\n",
       "      <td>Positive</td>\n",
       "      <td>1</td>\n",
       "      <td>0</td>\n",
       "    </tr>\n",
       "    <tr>\n",
       "      <th>3</th>\n",
       "      <td>8/31/2020 14:01:17</td>\n",
       "      <td>Divyansh Verma</td>\n",
       "      <td>Male</td>\n",
       "      <td>college student</td>\n",
       "      <td>2.0</td>\n",
       "      <td>7</td>\n",
       "      <td>No</td>\n",
       "      <td>14</td>\n",
       "      <td>4.0</td>\n",
       "      <td>Yes</td>\n",
       "      <td>Same as before</td>\n",
       "      <td>no</td>\n",
       "      <td>No</td>\n",
       "      <td>Yes</td>\n",
       "      <td>No</td>\n",
       "      <td>No</td>\n",
       "      <td>Yes</td>\n",
       "      <td>Not at all changed</td>\n",
       "      <td>1</td>\n",
       "      <td>0</td>\n",
       "    </tr>\n",
       "    <tr>\n",
       "      <th>4</th>\n",
       "      <td>8/31/2020 14:02:47</td>\n",
       "      <td>Mayank Pandya</td>\n",
       "      <td>Male</td>\n",
       "      <td>college student</td>\n",
       "      <td>6.0</td>\n",
       "      <td>8</td>\n",
       "      <td>No</td>\n",
       "      <td>2</td>\n",
       "      <td>7.0</td>\n",
       "      <td>Sometimes</td>\n",
       "      <td>No</td>\n",
       "      <td>Same as before</td>\n",
       "      <td>Same as before</td>\n",
       "      <td>Yes</td>\n",
       "      <td>No</td>\n",
       "      <td>Yes</td>\n",
       "      <td>Yes</td>\n",
       "      <td>Negative</td>\n",
       "      <td>1</td>\n",
       "      <td>0</td>\n",
       "    </tr>\n",
       "  </tbody>\n",
       "</table>\n",
       "</div>"
      ],
      "text/plain": [
       "            Timestamp  Enter your name Enter gender      You  are a-  \\\n",
       "0  8/27/2020 20:42:45    Sourabh Karma         Male  college student   \n",
       "1  8/31/2020 13:59:59  Suyash Tabakade         Male  college student   \n",
       "2  8/31/2020 14:00:32    Khushi Neema        Female  college student   \n",
       "3  8/31/2020 14:01:17   Divyansh Verma         Male  college student   \n",
       "4  8/31/2020 14:02:47    Mayank Pandya         Male  college student   \n",
       "\n",
       "   1. Average number of hours you used to sleep before covid-  \\\n",
       "0                                                8.0            \n",
       "1                                                6.0            \n",
       "2                                                7.0            \n",
       "3                                                2.0            \n",
       "4                                                6.0            \n",
       "\n",
       "   2. Average number of hours you sleep now-  \\\n",
       "0                                          6   \n",
       "1                                          9   \n",
       "2                                          9   \n",
       "3                                          7   \n",
       "4                                          8   \n",
       "\n",
       "  3. Are you overeating or have put on your weight?  \\\n",
       "0                                                No   \n",
       "1                                                No   \n",
       "2                                                No   \n",
       "3                                                No   \n",
       "4                                                No   \n",
       "\n",
       "   4. Number of hours you used mobile, tv, laptop or any other devices before covid-  \\\n",
       "0                                                  3                                   \n",
       "1                                                  6                                   \n",
       "2                                                  6                                   \n",
       "3                                                 14                                   \n",
       "4                                                  2                                   \n",
       "\n",
       "   5. Number of hours you use these devices now- 6. Do you exercise daily?  \\\n",
       "0                                           10.0                       Yes   \n",
       "1                                           10.0                 Sometimes   \n",
       "2                                            7.0                 Sometimes   \n",
       "3                                            4.0                       Yes   \n",
       "4                                            7.0                 Sometimes   \n",
       "\n",
       "  7. Health issues like anxiety, headache, dehydration, stomach ache or any other problems have started or increased than before  \\\n",
       "0                                                 No                                                                               \n",
       "1                                                 No                                                                               \n",
       "2                                                Yes                                                                               \n",
       "3                                     Same as before                                                                               \n",
       "4                                                 No                                                                               \n",
       "\n",
       "  8. Relations with family have improved?  \\\n",
       "0                          Same as before   \n",
       "1                          Same as before   \n",
       "2                                     yes   \n",
       "3                                      no   \n",
       "4                          Same as before   \n",
       "\n",
       "  9. Contact with old school friends or fellow mates have increased and social life have improved after covid  \\\n",
       "0                                     Same as before                                                            \n",
       "1                                                Yes                                                            \n",
       "2                                                Yes                                                            \n",
       "3                                                 No                                                            \n",
       "4                                     Same as before                                                            \n",
       "\n",
       "  10. Are you working on your skills and hobbies and trying to enhance them?   \\\n",
       "0                                                Yes                            \n",
       "1                                                Yes                            \n",
       "2                                                Yes                            \n",
       "3                                                Yes                            \n",
       "4                                                Yes                            \n",
       "\n",
       "  11. Have you kept studies aside and just enjoying this phase like a long vacation?  \\\n",
       "0                                                Yes                                   \n",
       "1                                                Yes                                   \n",
       "2                                                 No                                   \n",
       "3                                                 No                                   \n",
       "4                                                 No                                   \n",
       "\n",
       "  12. Are you going out frequently just with a mask on?  \\\n",
       "0                                                Yes      \n",
       "1                                                 No      \n",
       "2                                                 No      \n",
       "3                                                 No      \n",
       "4                                                Yes      \n",
       "\n",
       "  13. Are you taking proper preventive measures and sanitizing everything you use(including eatables and clothes)?  \\\n",
       "0                                                Yes                                                                 \n",
       "1                                                Yes                                                                 \n",
       "2                                                Yes                                                                 \n",
       "3                                                Yes                                                                 \n",
       "4                                                Yes                                                                 \n",
       "\n",
       "  14. Overall covid has changed you in which manner?  \\\n",
       "0                                           Positive   \n",
       "1                                           Negative   \n",
       "2                                           Positive   \n",
       "3                                 Not at all changed   \n",
       "4                                           Negative   \n",
       "\n",
       "   Working on your skills_Yes  Corona vacation_Yes  \n",
       "0                           1                    1  \n",
       "1                           1                    1  \n",
       "2                           1                    0  \n",
       "3                           1                    0  \n",
       "4                           1                    0  "
      ]
     },
     "execution_count": 27,
     "metadata": {},
     "output_type": "execute_result"
    }
   ],
   "source": [
    "corona_effects['Working on your skills_Yes'] = NoYes['10. Are you working on your skills and hobbies and trying to enhance them? _Yes']\n",
    "corona_effects['Corona vacation_Yes']= NoYes['11. Have you kept studies aside and just enjoying this phase like a long vacation?_Yes']\n",
    "corona_effects.head()"
   ]
  },
  {
   "cell_type": "code",
   "execution_count": 28,
   "metadata": {},
   "outputs": [
    {
     "data": {
      "text/html": [
       "<div>\n",
       "<style scoped>\n",
       "    .dataframe tbody tr th:only-of-type {\n",
       "        vertical-align: middle;\n",
       "    }\n",
       "\n",
       "    .dataframe tbody tr th {\n",
       "        vertical-align: top;\n",
       "    }\n",
       "\n",
       "    .dataframe thead th {\n",
       "        text-align: right;\n",
       "    }\n",
       "</style>\n",
       "<table border=\"1\" class=\"dataframe\">\n",
       "  <thead>\n",
       "    <tr style=\"text-align: right;\">\n",
       "      <th></th>\n",
       "      <th>Working on your skills_Yes</th>\n",
       "    </tr>\n",
       "    <tr>\n",
       "      <th>You  are a-</th>\n",
       "      <th></th>\n",
       "    </tr>\n",
       "  </thead>\n",
       "  <tbody>\n",
       "    <tr>\n",
       "      <th>school student</th>\n",
       "      <td>0.437500</td>\n",
       "    </tr>\n",
       "    <tr>\n",
       "      <th>working</th>\n",
       "      <td>0.647059</td>\n",
       "    </tr>\n",
       "    <tr>\n",
       "      <th>graduate</th>\n",
       "      <td>0.666667</td>\n",
       "    </tr>\n",
       "    <tr>\n",
       "      <th>college student</th>\n",
       "      <td>0.712230</td>\n",
       "    </tr>\n",
       "  </tbody>\n",
       "</table>\n",
       "</div>"
      ],
      "text/plain": [
       "                 Working on your skills_Yes\n",
       "You  are a-                                \n",
       "school student                     0.437500\n",
       "working                            0.647059\n",
       "graduate                           0.666667\n",
       "college student                    0.712230"
      ]
     },
     "execution_count": 28,
     "metadata": {},
     "output_type": "execute_result"
    }
   ],
   "source": [
    "average = corona_effects.pivot_table('Working on your skills_Yes','You  are a-').sort_values(by='Working on your skills_Yes')\n",
    "average\n",
    "\n",
    "#Average between status and improving skills and hobbies\n",
    "#ממוצע בין סטטוס לבין שיפור מיומנויות ותחביבים"
   ]
  },
  {
   "cell_type": "code",
   "execution_count": 29,
   "metadata": {},
   "outputs": [
    {
     "data": {
      "text/plain": [
       "<matplotlib.collections.PathCollection at 0x1aa772cc880>"
      ]
     },
     "execution_count": 29,
     "metadata": {},
     "output_type": "execute_result"
    },
    {
     "data": {
      "image/png": "[encoded data removed]",
      "text/plain": [
       "<Figure size 720x360 with 1 Axes>"
      ]
     },
     "metadata": {
      "needs_background": "light"
     },
     "output_type": "display_data"
    }
   ],
   "source": [
    "order = [2,3,1,0]\n",
    "plt.figure(figsize=(10,5))\n",
    "plt.scatter(average.index[order],average.values[order])\n",
    "#plt.ylim(0,1)\n",
    "\n",
    "#Graphic display | הצגה גרפית"
   ]
  },
  {
   "cell_type": "code",
   "execution_count": 30,
   "metadata": {},
   "outputs": [
    {
     "data": {
      "text/html": [
       "<div>\n",
       "<style scoped>\n",
       "    .dataframe tbody tr th:only-of-type {\n",
       "        vertical-align: middle;\n",
       "    }\n",
       "\n",
       "    .dataframe tbody tr th {\n",
       "        vertical-align: top;\n",
       "    }\n",
       "\n",
       "    .dataframe thead th {\n",
       "        text-align: right;\n",
       "    }\n",
       "</style>\n",
       "<table border=\"1\" class=\"dataframe\">\n",
       "  <thead>\n",
       "    <tr style=\"text-align: right;\">\n",
       "      <th></th>\n",
       "      <th>Corona vacation_Yes</th>\n",
       "      <th>Working on your skills_Yes</th>\n",
       "    </tr>\n",
       "    <tr>\n",
       "      <th>You  are a-</th>\n",
       "      <th></th>\n",
       "      <th></th>\n",
       "    </tr>\n",
       "  </thead>\n",
       "  <tbody>\n",
       "    <tr>\n",
       "      <th>college student</th>\n",
       "      <td>0.446043</td>\n",
       "      <td>0.712230</td>\n",
       "    </tr>\n",
       "    <tr>\n",
       "      <th>graduate</th>\n",
       "      <td>0.466667</td>\n",
       "      <td>0.666667</td>\n",
       "    </tr>\n",
       "    <tr>\n",
       "      <th>school student</th>\n",
       "      <td>0.250000</td>\n",
       "      <td>0.437500</td>\n",
       "    </tr>\n",
       "    <tr>\n",
       "      <th>working</th>\n",
       "      <td>0.352941</td>\n",
       "      <td>0.647059</td>\n",
       "    </tr>\n",
       "  </tbody>\n",
       "</table>\n",
       "</div>"
      ],
      "text/plain": [
       "                 Corona vacation_Yes  Working on your skills_Yes\n",
       "You  are a-                                                     \n",
       "college student             0.446043                    0.712230\n",
       "graduate                    0.466667                    0.666667\n",
       "school student              0.250000                    0.437500\n",
       "working                     0.352941                    0.647059"
      ]
     },
     "execution_count": 30,
     "metadata": {},
     "output_type": "execute_result"
    }
   ],
   "source": [
    "average = corona_effects.pivot_table(['Working on your skills_Yes', 'Corona vacation_Yes'], 'You  are a-')\n",
    "average\n",
    "\n",
    "#Adding an average between status and taking Corona as a vacation\n",
    "#הוספת ממוצע בין סטטוס לבין לקיחת קורונה כחופשה"
   ]
  },
  {
   "cell_type": "markdown",
   "metadata": {},
   "source": [
    "**Findings:**\n",
    "\n",
    "It can be seen from the graph noticeably that high school students worked the least on their skills and hobbies while at Corona from the rest, and from the second table it can be assumed that most of the time they spent studying compared to the rest who took it as a vacation, for example graduate.\n",
    "\n",
    "ניתן לראות מהגרף בצורה ניכרת לעין כי תלמידי תיכון עבדו הכי פחות על המיומנויות והתחביבים שלהם בזמן הקורונה מהשאר, ומהטבלה השנייה ניתן להניח שאת רוב הזמן הם השקיעו בלימודים לעומת השאר שלקחו את זה כחופשה, לדוגמא מי שסיים את התואר."
   ]
  },
  {
   "cell_type": "code",
   "execution_count": 31,
   "metadata": {},
   "outputs": [
    {
     "data": {
      "image/png": "[encoded data removed]",
      "text/plain": [
       "<Figure size 504x288 with 2 Axes>"
      ]
     },
     "metadata": {
      "needs_background": "light"
     },
     "output_type": "display_data"
    }
   ],
   "source": [
    "plt.figure(figsize=(7,4)) \n",
    "sns.heatmap(corona_effects.corr(),annot=True,cmap='Greens')\n",
    "plt.show()\n",
    "\n",
    "#We see from the correlation that the highest match is between the 2 columns of using screen time before and during the corona\n",
    "#אנחנו רואים מהקורלציה שההתאמה הגבוהה ביותר היא בין 2 העמודות של שימוש בזמן מסך לפני ובמהלך הקורונה"
   ]
  },
  {
   "cell_type": "code",
   "execution_count": 41,
   "metadata": {},
   "outputs": [
    {
     "data": {
      "text/html": [
       "<div>\n",
       "<style scoped>\n",
       "    .dataframe tbody tr th:only-of-type {\n",
       "        vertical-align: middle;\n",
       "    }\n",
       "\n",
       "    .dataframe tbody tr th {\n",
       "        vertical-align: top;\n",
       "    }\n",
       "\n",
       "    .dataframe thead th {\n",
       "        text-align: right;\n",
       "    }\n",
       "</style>\n",
       "<table border=\"1\" class=\"dataframe\">\n",
       "  <thead>\n",
       "    <tr style=\"text-align: right;\">\n",
       "      <th></th>\n",
       "      <th>4. Number of hours you used mobile, tv, laptop or any other devices before covid-</th>\n",
       "      <th>a5</th>\n",
       "    </tr>\n",
       "    <tr>\n",
       "      <th>Enter gender</th>\n",
       "      <th></th>\n",
       "      <th></th>\n",
       "    </tr>\n",
       "  </thead>\n",
       "  <tbody>\n",
       "    <tr>\n",
       "      <th>Female</th>\n",
       "      <td>4.581633</td>\n",
       "      <td>6.747724</td>\n",
       "    </tr>\n",
       "    <tr>\n",
       "      <th>Male</th>\n",
       "      <td>4.566038</td>\n",
       "      <td>7.183962</td>\n",
       "    </tr>\n",
       "  </tbody>\n",
       "</table>\n",
       "</div>"
      ],
      "text/plain": [
       "              4. Number of hours you used mobile, tv, laptop or any other devices before covid-  \\\n",
       "Enter gender                                                                                      \n",
       "Female                                                 4.581633                                   \n",
       "Male                                                   4.566038                                   \n",
       "\n",
       "                    a5  \n",
       "Enter gender            \n",
       "Female        6.747724  \n",
       "Male          7.183962  "
      ]
     },
     "execution_count": 41,
     "metadata": {},
     "output_type": "execute_result"
    }
   ],
   "source": [
    "corona_effects['a5'] = corona_effects['5. Number of hours you use these devices now-']\n",
    "mean5 = corona_effects.a5.mean()\n",
    "corona_effects['a5'] = corona_effects['a5'].replace(69.0, mean5).astype('float')\n",
    "average = corona_effects.pivot_table(['4. Number of hours you used mobile, tv, laptop or any other devices before covid-', 'a5'], 'Enter gender')\n",
    "average\n",
    "#Mean between gender and screen time hours before the corona (column 4) and during the corona (column 5)\n",
    "#ממוצע בין מגדר לשעות זמן מסך לפני הקורונה (עמודה 4) ובזמן הקורונה (עמודה 5)\n",
    "\n",
    "#a5= עמודה 5 עם שינוי הערך 69 לממוצע העמודה"
   ]
  },
  {
   "cell_type": "code",
   "execution_count": 36,
   "metadata": {},
   "outputs": [
    {
     "data": {
      "image/png": "[encoded data removed]",
      "text/plain": [
       "<Figure size 432x288 with 1 Axes>"
      ]
     },
     "metadata": {
      "needs_background": "light"
     },
     "output_type": "display_data"
    }
   ],
   "source": [
    "plt.subplot(1,1,1)\n",
    "sns.boxplot(x = 'Enter gender', y = 'a5', data = corona_effects, palette=\"gist_ncar_r\" )\n",
    "plt.subplots_adjust(wspace=0.005);"
   ]
  },
  {
   "cell_type": "markdown",
   "metadata": {},
   "source": [
    "**Findings:**\n",
    "\n",
    "It can be seen that before the corona men and women watched on average those hours of screen time, and during the corona there is an effect on both men and women.\n",
    "But the maximum effect is on men as can be seen in Boxplot.\n",
    "\n",
    "ניתן לראות כי לפני הקורונה גברים ונשים צפו בממוצע באותן שעות זמן מסך, ובמהלך הקורונה קיימת השפעה על גברים ונשים כאחד. \n",
    "אך ההשפעה המירבית היא על הגברים כפי שניתן לראות בבוקספלוט."
   ]
  }
 ],
 "metadata": {
  "kernelspec": {
   "display_name": "Python 3",
   "language": "python",
   "name": "python3"
  },
  "language_info": {
   "codemirror_mode": {
    "name": "ipython",
    "version": 3
   },
   "file_extension": ".py",
   "mimetype": "text/x-python",
   "name": "python",
   "nbconvert_exporter": "python",
   "pygments_lexer": "ipython3",
   "version": "3.8.5"
  }
 },
 "nbformat": 4,
 "nbformat_minor": 4
}
