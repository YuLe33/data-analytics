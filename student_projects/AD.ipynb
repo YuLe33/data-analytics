{
 "cells": [
  {
   "cell_type": "markdown",
   "metadata": {},
   "source": [
    "## רקע על הדאטה:\n",
    "עוד במהלך חיינו היינו ועודנו עדים להמצאות ושיפורם טכנולוגיים ששינו באופן טוטאלי את אורח החיים המודרני בכל האספקטים.\n",
    "אחת מההשפעות הבולטות ביותר היא בתחום החברתי. בעידן הרשתות החברתיות והפלאפונים החכמים כמעט ואין צורך להיפגש עם אנשים באופן פיזי בכדי לתקשר ולהעביר מידע.\n",
    "שינויים אלה הביאו איתם קשיים ותופעות חברתיות חדשות כאשר אחת מהן היא חרדה חברתית.\n",
    "באופן אינטואיטיבי כל חברי הקבוצה שיערו כי יש השפעה ישירה בין השימוש במדיה ופלאפונים חכמים לבין חרדה חברתית.\n",
    "בעזרת קובץ המידע הנ\"ל שעוסק בחרדה חברתית שמכיל בתוכו מידע על 93 אנשים, 69- סטודנטים ו24 – לא סטודנטים. (אנחנו בחרנו להתמקד בסטודנטים)\n",
    "החלטנו לבחון את הגורמים לחרדה חברתית ולנסות ולמצוא אילו אוכלוסיות נמצאות בסיכון יותר גבוה ללקות בחרדה כזו\n",
    ".\n",
    "##### טופס הסקר מורכב ממידע אישי בסיסי כמו טווח גילאים, מין ומצב משפחתי ועוד 7 שאלות שבוחנות את רמת החרדה של הנשאלים \n",
    "##### :כאשר המדד מתחלק בין רמות חרדה\n",
    "> גבוה (ציון: מעל 24)\n",
    "\n",
    "> בינונית (ציון: 18-23) \n",
    "\n",
    "> נמוכה (ציון: 17 ומטה)\n",
    "#### :השאלות המרכיבות את השאלון הן\n",
    "\n",
    "> Q1: How many hours per day do you spend on social media?\n",
    "\n",
    "> Q2: How do you feel being the center of attention\n",
    "\n",
    "> Q3: Working while being observed\n",
    "\n",
    "> Q4: Talking face to face with someone you don't know very well\n",
    "\n",
    "> Q5: Expressing disagreement or disapproval to someone you don't know very well\n",
    "\n",
    "> Q6: Are you extremely conscious of your actions when in social settings because you fear they might offend someone or you could be rejected?\n",
    "\n",
    "> Q7: Do you feel anxious or panicky before social situations?\n",
    "\n",
    "##### מצאנו כי אכן ישנה קבוצה מתוך קבוצת הסטודנטים הנשאלת שחשופה יותר להפרעת חרדה חברתית.\n"
   ]
  },
  {
   "cell_type": "code",
   "execution_count": 1,
   "metadata": {},
   "outputs": [],
   "source": [
    "import pandas as pd\n",
    "import numpy as np\n",
    "import matplotlib.pyplot as plt\n",
    "import seaborn as sns\n",
    "import sklearn as sk\n",
    "from sklearn import tree\n",
    "from sklearn.tree import DecisionTreeClassifier"
   ]
  },
  {
   "cell_type": "code",
   "execution_count": 2,
   "metadata": {},
   "outputs": [
    {
     "data": {
      "text/html": [
       "<div>\n",
       "<style scoped>\n",
       "    .dataframe tbody tr th:only-of-type {\n",
       "        vertical-align: middle;\n",
       "    }\n",
       "\n",
       "    .dataframe tbody tr th {\n",
       "        vertical-align: top;\n",
       "    }\n",
       "\n",
       "    .dataframe thead th {\n",
       "        text-align: right;\n",
       "    }\n",
       "</style>\n",
       "<table border=\"1\" class=\"dataframe\">\n",
       "  <thead>\n",
       "    <tr style=\"text-align: right;\">\n",
       "      <th></th>\n",
       "      <th>Timestamp</th>\n",
       "      <th>Gender</th>\n",
       "      <th>Student</th>\n",
       "      <th>Age</th>\n",
       "      <th>Marital</th>\n",
       "      <th>Q1</th>\n",
       "      <th>Q2</th>\n",
       "      <th>Q3</th>\n",
       "      <th>Q4</th>\n",
       "      <th>Q5</th>\n",
       "      <th>Q6</th>\n",
       "      <th>Q7</th>\n",
       "    </tr>\n",
       "  </thead>\n",
       "  <tbody>\n",
       "    <tr>\n",
       "      <th>0</th>\n",
       "      <td>12/12/2019 2:06</td>\n",
       "      <td>Female</td>\n",
       "      <td>Yes</td>\n",
       "      <td>21 - 30</td>\n",
       "      <td>Single</td>\n",
       "      <td>Less than 4 hours per day</td>\n",
       "      <td>3</td>\n",
       "      <td>3</td>\n",
       "      <td>3</td>\n",
       "      <td>3</td>\n",
       "      <td>4</td>\n",
       "      <td>1</td>\n",
       "    </tr>\n",
       "    <tr>\n",
       "      <th>1</th>\n",
       "      <td>12/12/2019 21:41</td>\n",
       "      <td>Male</td>\n",
       "      <td>Yes</td>\n",
       "      <td>21 - 30</td>\n",
       "      <td>Single</td>\n",
       "      <td>Less than 2 hours per day</td>\n",
       "      <td>3</td>\n",
       "      <td>3</td>\n",
       "      <td>2</td>\n",
       "      <td>2</td>\n",
       "      <td>4</td>\n",
       "      <td>4</td>\n",
       "    </tr>\n",
       "    <tr>\n",
       "      <th>2</th>\n",
       "      <td>12/12/2019 21:42</td>\n",
       "      <td>Female</td>\n",
       "      <td>Yes</td>\n",
       "      <td>21 - 30</td>\n",
       "      <td>Single</td>\n",
       "      <td>4 hours and above per day</td>\n",
       "      <td>1</td>\n",
       "      <td>5</td>\n",
       "      <td>2</td>\n",
       "      <td>4</td>\n",
       "      <td>5</td>\n",
       "      <td>4</td>\n",
       "    </tr>\n",
       "    <tr>\n",
       "      <th>3</th>\n",
       "      <td>12/12/2019 21:43</td>\n",
       "      <td>Female</td>\n",
       "      <td>Yes</td>\n",
       "      <td>21 - 30</td>\n",
       "      <td>Single</td>\n",
       "      <td>Less than 1 hours per day</td>\n",
       "      <td>4</td>\n",
       "      <td>4</td>\n",
       "      <td>3</td>\n",
       "      <td>3</td>\n",
       "      <td>3</td>\n",
       "      <td>1</td>\n",
       "    </tr>\n",
       "    <tr>\n",
       "      <th>4</th>\n",
       "      <td>12/12/2019 21:43</td>\n",
       "      <td>Male</td>\n",
       "      <td>Yes</td>\n",
       "      <td>21 - 30</td>\n",
       "      <td>Single</td>\n",
       "      <td>Less than 1 hours per day</td>\n",
       "      <td>3</td>\n",
       "      <td>5</td>\n",
       "      <td>2</td>\n",
       "      <td>3</td>\n",
       "      <td>4</td>\n",
       "      <td>4</td>\n",
       "    </tr>\n",
       "  </tbody>\n",
       "</table>\n",
       "</div>"
      ],
      "text/plain": [
       "          Timestamp  Gender Student      Age Marital  \\\n",
       "0   12/12/2019 2:06  Female     Yes  21 - 30  Single   \n",
       "1  12/12/2019 21:41    Male     Yes  21 - 30  Single   \n",
       "2  12/12/2019 21:42  Female     Yes  21 - 30  Single   \n",
       "3  12/12/2019 21:43  Female     Yes  21 - 30  Single   \n",
       "4  12/12/2019 21:43    Male     Yes  21 - 30  Single   \n",
       "\n",
       "                          Q1  Q2  Q3  Q4  Q5  Q6  Q7  \n",
       "0  Less than 4 hours per day   3   3   3   3   4   1  \n",
       "1  Less than 2 hours per day   3   3   2   2   4   4  \n",
       "2  4 hours and above per day   1   5   2   4   5   4  \n",
       "3  Less than 1 hours per day   4   4   3   3   3   1  \n",
       "4  Less than 1 hours per day   3   5   2   3   4   4  "
      ]
     },
     "execution_count": 2,
     "metadata": {},
     "output_type": "execute_result"
    }
   ],
   "source": [
    "url = 'https://raw.githubusercontent.com/yrhein01/Fina-project/main/Social_Anxiety_Survey_Master.csv'\n",
    "anxiety_data = pd.read_csv(url)\n",
    "anxiety_data.head()"
   ]
  },
  {
   "cell_type": "markdown",
   "metadata": {},
   "source": [
    "## Fix the data"
   ]
  },
  {
   "cell_type": "code",
   "execution_count": 3,
   "metadata": {},
   "outputs": [],
   "source": [
    "anxiety_data = anxiety_data.drop('Timestamp',axis = 1)\n",
    "anxiety_data['Total Anxiety'] = anxiety_data[['Q2','Q3','Q4','Q5','Q6','Q7']].sum(axis=1)"
   ]
  },
  {
   "cell_type": "markdown",
   "metadata": {},
   "source": [
    "#### חלוקה לרמות חרדה לפי סך הניקוד של השאלון"
   ]
  },
  {
   "cell_type": "code",
   "execution_count": 4,
   "metadata": {},
   "outputs": [
    {
     "data": {
      "text/html": [
       "<div>\n",
       "<style scoped>\n",
       "    .dataframe tbody tr th:only-of-type {\n",
       "        vertical-align: middle;\n",
       "    }\n",
       "\n",
       "    .dataframe tbody tr th {\n",
       "        vertical-align: top;\n",
       "    }\n",
       "\n",
       "    .dataframe thead th {\n",
       "        text-align: right;\n",
       "    }\n",
       "</style>\n",
       "<table border=\"1\" class=\"dataframe\">\n",
       "  <thead>\n",
       "    <tr style=\"text-align: right;\">\n",
       "      <th></th>\n",
       "      <th>Gender</th>\n",
       "      <th>Student</th>\n",
       "      <th>Age</th>\n",
       "      <th>Marital</th>\n",
       "      <th>Q1</th>\n",
       "      <th>Q2</th>\n",
       "      <th>Q3</th>\n",
       "      <th>Q4</th>\n",
       "      <th>Q5</th>\n",
       "      <th>Q6</th>\n",
       "      <th>Q7</th>\n",
       "      <th>Total Anxiety</th>\n",
       "      <th>Level</th>\n",
       "    </tr>\n",
       "  </thead>\n",
       "  <tbody>\n",
       "    <tr>\n",
       "      <th>0</th>\n",
       "      <td>Female</td>\n",
       "      <td>Yes</td>\n",
       "      <td>21 - 30</td>\n",
       "      <td>Single</td>\n",
       "      <td>Less than 4 hours per day</td>\n",
       "      <td>3</td>\n",
       "      <td>3</td>\n",
       "      <td>3</td>\n",
       "      <td>3</td>\n",
       "      <td>4</td>\n",
       "      <td>1</td>\n",
       "      <td>17</td>\n",
       "      <td>None</td>\n",
       "    </tr>\n",
       "    <tr>\n",
       "      <th>1</th>\n",
       "      <td>Male</td>\n",
       "      <td>Yes</td>\n",
       "      <td>21 - 30</td>\n",
       "      <td>Single</td>\n",
       "      <td>Less than 2 hours per day</td>\n",
       "      <td>3</td>\n",
       "      <td>3</td>\n",
       "      <td>2</td>\n",
       "      <td>2</td>\n",
       "      <td>4</td>\n",
       "      <td>4</td>\n",
       "      <td>18</td>\n",
       "      <td>Mild</td>\n",
       "    </tr>\n",
       "    <tr>\n",
       "      <th>2</th>\n",
       "      <td>Female</td>\n",
       "      <td>Yes</td>\n",
       "      <td>21 - 30</td>\n",
       "      <td>Single</td>\n",
       "      <td>4 hours and above per day</td>\n",
       "      <td>1</td>\n",
       "      <td>5</td>\n",
       "      <td>2</td>\n",
       "      <td>4</td>\n",
       "      <td>5</td>\n",
       "      <td>4</td>\n",
       "      <td>21</td>\n",
       "      <td>Mild</td>\n",
       "    </tr>\n",
       "    <tr>\n",
       "      <th>3</th>\n",
       "      <td>Female</td>\n",
       "      <td>Yes</td>\n",
       "      <td>21 - 30</td>\n",
       "      <td>Single</td>\n",
       "      <td>Less than 1 hours per day</td>\n",
       "      <td>4</td>\n",
       "      <td>4</td>\n",
       "      <td>3</td>\n",
       "      <td>3</td>\n",
       "      <td>3</td>\n",
       "      <td>1</td>\n",
       "      <td>18</td>\n",
       "      <td>Mild</td>\n",
       "    </tr>\n",
       "    <tr>\n",
       "      <th>4</th>\n",
       "      <td>Male</td>\n",
       "      <td>Yes</td>\n",
       "      <td>21 - 30</td>\n",
       "      <td>Single</td>\n",
       "      <td>Less than 1 hours per day</td>\n",
       "      <td>3</td>\n",
       "      <td>5</td>\n",
       "      <td>2</td>\n",
       "      <td>3</td>\n",
       "      <td>4</td>\n",
       "      <td>4</td>\n",
       "      <td>21</td>\n",
       "      <td>Mild</td>\n",
       "    </tr>\n",
       "  </tbody>\n",
       "</table>\n",
       "</div>"
      ],
      "text/plain": [
       "   Gender Student      Age Marital                         Q1  Q2  Q3  Q4  Q5  \\\n",
       "0  Female     Yes  21 - 30  Single  Less than 4 hours per day   3   3   3   3   \n",
       "1    Male     Yes  21 - 30  Single  Less than 2 hours per day   3   3   2   2   \n",
       "2  Female     Yes  21 - 30  Single  4 hours and above per day   1   5   2   4   \n",
       "3  Female     Yes  21 - 30  Single  Less than 1 hours per day   4   4   3   3   \n",
       "4    Male     Yes  21 - 30  Single  Less than 1 hours per day   3   5   2   3   \n",
       "\n",
       "   Q6  Q7  Total Anxiety Level  \n",
       "0   4   1             17  None  \n",
       "1   4   4             18  Mild  \n",
       "2   5   4             21  Mild  \n",
       "3   3   1             18  Mild  \n",
       "4   4   4             21  Mild  "
      ]
     },
     "execution_count": 4,
     "metadata": {},
     "output_type": "execute_result"
    }
   ],
   "source": [
    "conditions = [\n",
    "    (anxiety_data['Total Anxiety'] <= 17),\n",
    "    (anxiety_data['Total Anxiety'] >= 18) & (anxiety_data['Total Anxiety'] <= 23),\n",
    "    (anxiety_data['Total Anxiety'] >= 24),\n",
    "    ]\n",
    "values = ['None', 'Mild', 'High']\n",
    "anxiety_data['Level'] = np.select(conditions, values)\n",
    "anxiety_data.head()\n",
    "\n",
    "#בשלב זה נחלק לרמות חרדה של הנבחנים עלפי סכימה של התשובות וחישוב התוצאה הסופית"
   ]
  },
  {
   "cell_type": "markdown",
   "metadata": {},
   "source": [
    "#### הפיכת עמודות לקטגוריות\n",
    "הפכנו את העמודות לערכים קטגוריים כדי שנוכל לחפש קורלציות והשפעות של הנתונים בצורה קלה יותר"
   ]
  },
  {
   "cell_type": "code",
   "execution_count": 5,
   "metadata": {},
   "outputs": [],
   "source": [
    "anxiety_data['Gender_n'] = anxiety_data['Gender'].astype('category').cat.codes\n",
    "anxiety_data['Age_n'] = anxiety_data['Age'].astype('category').cat.codes\n",
    "anxiety_data['Student_n'] = anxiety_data['Student'].astype('category').cat.codes\n",
    "anxiety_data['Marital_n'] = anxiety_data['Marital'].astype('category').cat.codes\n",
    "anxiety_data['Q1_n'] = anxiety_data['Q1'].astype('category').cat.codes"
   ]
  },
  {
   "cell_type": "code",
   "execution_count": 6,
   "metadata": {},
   "outputs": [
    {
     "data": {
      "image/png": "[encoded data removed]",
      "text/plain": [
       "<Figure size 1080x1080 with 5 Axes>"
      ]
     },
     "metadata": {},
     "output_type": "display_data"
    }
   ],
   "source": [
    "plt.figure(1, figsize=(15,15))\n",
    "plt.subplot(3,3,1)\n",
    "plt.title(\"Gender\")\n",
    "gender_data = anxiety_data['Gender'].value_counts().plot.pie(autopct=\"%1.1f%%\")\n",
    "plt.subplot(3,3,2)\n",
    "plt.title(\"Student\")\n",
    "student_data = anxiety_data['Student'].value_counts().plot.pie(autopct=\"%1.1f%%\")\n",
    "plt.subplot(3,3,3)\n",
    "plt.title(\"Age\")\n",
    "age_data = anxiety_data['Age'].value_counts().plot.pie(autopct=\"%1.1f%%\")\n",
    "plt.subplot(3,3,4)\n",
    "plt.title(\"Marital\")\n",
    "marital_data = anxiety_data['Marital'].value_counts().plot.pie(autopct=\"%1.1f%%\")\n",
    "plt.subplot(3,3,5)\n",
    "plt.title(\"Level of anxiety\")\n",
    "level_data = anxiety_data['Level'].value_counts().plot.pie(autopct=\"%1.1f%%\")\n",
    "plt.show()\n",
    "\n",
    "#צירפנו את עוגות הנתונים כדי להראות את הפילוח של הנשארים ואת צורת החלוקה שלהם לפי כמות בבחינה. בנוסף גם  הוספנו את החלוקה של רמות החרדה אצל הנשאלים- כבר אפשר לראות שליותר מחצי מהנשאלים יש רמת חרדה בינונית \n",
    "#(מפתיע לראות שלחלק ככ גדול מכל הנשאלים מתמודדים עם מצב כזה ועכשיו נרצה להבין אם אפשר לשים דגש על משהו ספציפי יותר שיכול לגרום לחרדה ואולי על ידי זה נדע איך להתמודד עם חרדות בהמשך או אולי אפילו למנוע אותה)"
   ]
  },
  {
   "cell_type": "code",
   "execution_count": 7,
   "metadata": {},
   "outputs": [
    {
     "data": {
      "text/plain": [
       "(array([0, 1, 2, 3, 4]),\n",
       " [Text(0, 0, 'Less than 4 hours per day'),\n",
       "  Text(1, 0, 'Less than 2 hours per day'),\n",
       "  Text(2, 0, '4 hours and above per day'),\n",
       "  Text(3, 0, 'Less than 1 hours per day'),\n",
       "  Text(4, 0, 'Less than 3 hours per day')])"
      ]
     },
     "execution_count": 7,
     "metadata": {},
     "output_type": "execute_result"
    },
    {
     "data": {
      "image/png": "[encoded data removed]",
      "text/plain": [
       "<Figure size 432x288 with 1 Axes>"
      ]
     },
     "metadata": {
      "needs_background": "light"
     },
     "output_type": "display_data"
    }
   ],
   "source": [
    "plt.title(\"Hours in media\")\n",
    "ax = sns.countplot(x=\"Q1\", data=anxiety_data, palette=\"Set2\" )\n",
    "plt.xticks(rotation = 75)\n",
    "\n",
    "# חשבנו מיד לקשר את רמות החרדה לזמן הבילוי ברשתות החברתיות ולכן אנחנו מראים קודם את כמות האנשים שמבלה ברשתות חברתיות בכל אחד מהזמנים שניתנו בשאלון"
   ]
  },
  {
   "cell_type": "code",
   "execution_count": 8,
   "metadata": {},
   "outputs": [
    {
     "data": {
      "text/html": [
       "<div>\n",
       "<style scoped>\n",
       "    .dataframe tbody tr th:only-of-type {\n",
       "        vertical-align: middle;\n",
       "    }\n",
       "\n",
       "    .dataframe tbody tr th {\n",
       "        vertical-align: top;\n",
       "    }\n",
       "\n",
       "    .dataframe thead th {\n",
       "        text-align: right;\n",
       "    }\n",
       "</style>\n",
       "<table border=\"1\" class=\"dataframe\">\n",
       "  <thead>\n",
       "    <tr style=\"text-align: right;\">\n",
       "      <th></th>\n",
       "      <th></th>\n",
       "      <th>Total Anxiety</th>\n",
       "    </tr>\n",
       "    <tr>\n",
       "      <th>Student</th>\n",
       "      <th>Q1</th>\n",
       "      <th></th>\n",
       "    </tr>\n",
       "  </thead>\n",
       "  <tbody>\n",
       "    <tr>\n",
       "      <th rowspan=\"5\" valign=\"top\">No</th>\n",
       "      <th>4 hours and above per day</th>\n",
       "      <td>24.166667</td>\n",
       "    </tr>\n",
       "    <tr>\n",
       "      <th>Less than 1 hours per day</th>\n",
       "      <td>19.800000</td>\n",
       "    </tr>\n",
       "    <tr>\n",
       "      <th>Less than 2 hours per day</th>\n",
       "      <td>19.750000</td>\n",
       "    </tr>\n",
       "    <tr>\n",
       "      <th>Less than 3 hours per day</th>\n",
       "      <td>20.000000</td>\n",
       "    </tr>\n",
       "    <tr>\n",
       "      <th>Less than 4 hours per day</th>\n",
       "      <td>19.400000</td>\n",
       "    </tr>\n",
       "    <tr>\n",
       "      <th rowspan=\"5\" valign=\"top\">Yes</th>\n",
       "      <th>4 hours and above per day</th>\n",
       "      <td>21.090909</td>\n",
       "    </tr>\n",
       "    <tr>\n",
       "      <th>Less than 1 hours per day</th>\n",
       "      <td>19.500000</td>\n",
       "    </tr>\n",
       "    <tr>\n",
       "      <th>Less than 2 hours per day</th>\n",
       "      <td>17.750000</td>\n",
       "    </tr>\n",
       "    <tr>\n",
       "      <th>Less than 3 hours per day</th>\n",
       "      <td>22.375000</td>\n",
       "    </tr>\n",
       "    <tr>\n",
       "      <th>Less than 4 hours per day</th>\n",
       "      <td>18.000000</td>\n",
       "    </tr>\n",
       "  </tbody>\n",
       "</table>\n",
       "</div>"
      ],
      "text/plain": [
       "                                   Total Anxiety\n",
       "Student Q1                                      \n",
       "No      4 hours and above per day      24.166667\n",
       "        Less than 1 hours per day      19.800000\n",
       "        Less than 2 hours per day      19.750000\n",
       "        Less than 3 hours per day      20.000000\n",
       "        Less than 4 hours per day      19.400000\n",
       "Yes     4 hours and above per day      21.090909\n",
       "        Less than 1 hours per day      19.500000\n",
       "        Less than 2 hours per day      17.750000\n",
       "        Less than 3 hours per day      22.375000\n",
       "        Less than 4 hours per day      18.000000"
      ]
     },
     "execution_count": 8,
     "metadata": {},
     "output_type": "execute_result"
    }
   ],
   "source": [
    "anxiety_data.groupby(['Student','Q1'])[['Total Anxiety']].mean()\n",
    "\n",
    "# רצינו לבדוק האם קיים הבדל מהותי בין סטודנטים לבין מי שלא אז עשינו גרופביי לפי סטודנטים או לא ומה הם ענו בשאלה 1"
   ]
  },
  {
   "cell_type": "code",
   "execution_count": 9,
   "metadata": {},
   "outputs": [
    {
     "data": {
      "text/plain": [
       "<AxesSubplot:xlabel='Student', ylabel='Total Anxiety'>"
      ]
     },
     "execution_count": 9,
     "metadata": {},
     "output_type": "execute_result"
    },
    {
     "data": {
      "image/png": "[encoded data removed]",
      "text/plain": [
       "<Figure size 720x576 with 1 Axes>"
      ]
     },
     "metadata": {
      "needs_background": "light"
     },
     "output_type": "display_data"
    }
   ],
   "source": [
    "plt.figure(figsize=(10,8))\n",
    "sns.barplot(x=\"Student\", y=\"Total Anxiety\", hue=\"Q1\",  data=anxiety_data, palette=\"Set2\")\n",
    "\n",
    "# הבנו שבבאר פלוט ניתן לראות יותר בבירור את ההבדלים בין מי שסוטדנט לבין מי שלא וניתן לראות שאצל מי שלא סטודנט מי שמבלה יותר מ4 שעות ברשת החברתית הוא אכן סובל יותר מחרדה חברתית\n",
    "# לעומת זאת אצל מי שסטודנט אפשר לראות שיותר זמן מול הרשת בחרתית הוא כן משפיע אבל אי אפשר לקחת מפה אמירה שזה מה שגורם בעיקר לחרדה חברתית"
   ]
  },
  {
   "cell_type": "code",
   "execution_count": 10,
   "metadata": {},
   "outputs": [],
   "source": [
    "student = anxiety_data[anxiety_data['Student'] == 'Yes'].reset_index(drop = True)\n",
    "#student.tail()\n",
    "# הבנו שיותר מעניין אותנו להתעסק עם הסטודנטים כי הם גם הרוב של ננשאלים פה בשאלון ולכן פתחנו דאטה פרים חדש שכולל בתוכו רק את מי שסטודנט"
   ]
  },
  {
   "cell_type": "code",
   "execution_count": 11,
   "metadata": {},
   "outputs": [
    {
     "data": {
      "text/plain": [
       "Text(0, 0.5, 'Anxiety level')"
      ]
     },
     "execution_count": 11,
     "metadata": {},
     "output_type": "execute_result"
    },
    {
     "data": {
      "image/png": "[encoded data removed]",
      "text/plain": [
       "<Figure size 432x288 with 1 Axes>"
      ]
     },
     "metadata": {
      "needs_background": "light"
     },
     "output_type": "display_data"
    }
   ],
   "source": [
    "plt.title('Anxiety according to Marital status')\n",
    "sns.regplot(x = 'Marital_n', y = 'Total Anxiety', data = student, scatter_kws = {'color': 'purple'}, line_kws = {'color': 'blue'})\n",
    "plt.xlabel('Marital status')\n",
    "plt.xticks(np.arange(2), ['married', 'single'])\n",
    "plt.ylabel('Anxiety level')\n",
    "\n",
    "# אחרי שהחלטנו לבדוק מה קורה בקרב סטודנטים רצינו לבדוק האם יש קשר בין מצב משפחתי לבין רמת חרדה"
   ]
  },
  {
   "cell_type": "code",
   "execution_count": 12,
   "metadata": {},
   "outputs": [
    {
     "data": {
      "text/html": [
       "<div>\n",
       "<style scoped>\n",
       "    .dataframe tbody tr th:only-of-type {\n",
       "        vertical-align: middle;\n",
       "    }\n",
       "\n",
       "    .dataframe tbody tr th {\n",
       "        vertical-align: top;\n",
       "    }\n",
       "\n",
       "    .dataframe thead th {\n",
       "        text-align: right;\n",
       "    }\n",
       "</style>\n",
       "<table border=\"1\" class=\"dataframe\">\n",
       "  <thead>\n",
       "    <tr style=\"text-align: right;\">\n",
       "      <th></th>\n",
       "      <th></th>\n",
       "      <th>Total Anxiety</th>\n",
       "    </tr>\n",
       "    <tr>\n",
       "      <th>Marital</th>\n",
       "      <th>Gender</th>\n",
       "      <th></th>\n",
       "    </tr>\n",
       "  </thead>\n",
       "  <tbody>\n",
       "    <tr>\n",
       "      <th rowspan=\"2\" valign=\"top\">Married</th>\n",
       "      <th>Female</th>\n",
       "      <td>18.17</td>\n",
       "    </tr>\n",
       "    <tr>\n",
       "      <th>Male</th>\n",
       "      <td>16.50</td>\n",
       "    </tr>\n",
       "    <tr>\n",
       "      <th rowspan=\"2\" valign=\"top\">Single</th>\n",
       "      <th>Female</th>\n",
       "      <td>21.39</td>\n",
       "    </tr>\n",
       "    <tr>\n",
       "      <th>Male</th>\n",
       "      <td>21.06</td>\n",
       "    </tr>\n",
       "  </tbody>\n",
       "</table>\n",
       "</div>"
      ],
      "text/plain": [
       "                Total Anxiety\n",
       "Marital Gender               \n",
       "Married Female          18.17\n",
       "        Male            16.50\n",
       "Single  Female          21.39\n",
       "        Male            21.06"
      ]
     },
     "execution_count": 12,
     "metadata": {},
     "output_type": "execute_result"
    }
   ],
   "source": [
    "student.groupby(['Marital','Gender'])[['Total Anxiety']].mean().round(2)\n",
    "# אחרי שהבנו שיש הבדל ברמת החרדה בין נשואים ללא נשואים רצינו לבדוק מה קורה בתוך אוכלוסיות אלה בין נשים וגברים"
   ]
  },
  {
   "cell_type": "code",
   "execution_count": 13,
   "metadata": {},
   "outputs": [
    {
     "data": {
      "text/plain": [
       "Text(0, 0.5, 'Total Anxitey')"
      ]
     },
     "execution_count": 13,
     "metadata": {},
     "output_type": "execute_result"
    },
    {
     "data": {
      "image/png": "[encoded data removed]",
      "text/plain": [
       "<Figure size 432x288 with 1 Axes>"
      ]
     },
     "metadata": {
      "needs_background": "light"
     },
     "output_type": "display_data"
    }
   ],
   "source": [
    "married = student[student['Marital'] == 'Married'].reset_index(drop = True)\n",
    "married_female = married[married['Gender'] == 'Female'].reset_index(drop = True)\n",
    "plt.title('Anxiety according to Gender')\n",
    "sns.regplot(x = 'Q1_n', y = 'Total Anxiety', data = married_female, scatter_kws = {'color': 'purple'}, line_kws = {'color': 'blue'})\n",
    "plt.xlabel('Hours on media')\n",
    "plt.xticks(np.arange(4), ['4 hours and above per day','Less than 1 hours per day','Less than 2 hours per day','Less than 3 hours per day'], rotation = 75)\n",
    "plt.ylabel('Total Anxitey')\n",
    "#אחרי שזיהינו את הקשרים בין מצב משפחתי מגדר ורמת חרדה רצינו לבדוק אם הקשר נשמר גם בזמן המושקע ברשתות החברתיות"
   ]
  },
  {
   "cell_type": "markdown",
   "metadata": {},
   "source": [
    "##### תובנה 1\n",
    "מהגרף הראשון אפשר להבין שאכן סטודנטים נשואים סובלים פחות מחרדה חברתית. \n",
    "בגרף השני בדקנו את הקשר בין רמת החרדה של נשים נשואות לזמן שהן מבלות ברשתות החברתיות. ניתן לראות שאכן בין 0 ל-3 שעות של בילוי ברשתות החברתיות רמת החרדה עולה.\n",
    "באופן מפתיע עולה מכאן שדווקא בילוי של מעל 4 שעות ברשתות החברתיות מוריד את רמת החרדה בקרב נשים נשואות.\n",
    "מכאן אפשר לבדוק את האפשרות שדווקא אצל נשים נשואות - שלרוב פחות פנויות להשקעה באינטרקציה חברתית כזאת או אחרת -המעורבות החברתית דרך הרשתות דווקא יכולה להועיל בהפחתת רמת החרדה."
   ]
  },
  {
   "cell_type": "code",
   "execution_count": 14,
   "metadata": {},
   "outputs": [
    {
     "data": {
      "text/plain": [
       "Text(0, 0.5, 'Anxiety level')"
      ]
     },
     "execution_count": 14,
     "metadata": {},
     "output_type": "execute_result"
    },
    {
     "data": {
      "image/png": "[encoded data removed]",
      "text/plain": [
       "<Figure size 432x288 with 1 Axes>"
      ]
     },
     "metadata": {
      "needs_background": "light"
     },
     "output_type": "display_data"
    }
   ],
   "source": [
    "plt.title('Anxiety according to Age')\n",
    "sns.regplot(x = 'Age_n', y = 'Total Anxiety', data = student)\n",
    "plt.xlabel('Age range')\n",
    "plt.xticks(np.arange(3), ['20 or below', '21 - 30','31-40'])\n",
    "plt.ylabel('Anxiety level')\n",
    "\n",
    "# תחום נוסף שרצינו לבדוק הוא האם יש השפעה של הגיל על רמת החרדה ולכן בחרנו בגרף"
   ]
  },
  {
   "cell_type": "code",
   "execution_count": 15,
   "metadata": {},
   "outputs": [
    {
     "data": {
      "text/html": [
       "<div>\n",
       "<style scoped>\n",
       "    .dataframe tbody tr th:only-of-type {\n",
       "        vertical-align: middle;\n",
       "    }\n",
       "\n",
       "    .dataframe tbody tr th {\n",
       "        vertical-align: top;\n",
       "    }\n",
       "\n",
       "    .dataframe thead th {\n",
       "        text-align: right;\n",
       "    }\n",
       "</style>\n",
       "<table border=\"1\" class=\"dataframe\">\n",
       "  <thead>\n",
       "    <tr style=\"text-align: right;\">\n",
       "      <th></th>\n",
       "      <th></th>\n",
       "      <th>Total Anxiety</th>\n",
       "    </tr>\n",
       "    <tr>\n",
       "      <th>Age</th>\n",
       "      <th>Gender</th>\n",
       "      <th></th>\n",
       "    </tr>\n",
       "  </thead>\n",
       "  <tbody>\n",
       "    <tr>\n",
       "      <th rowspan=\"2\" valign=\"top\">20 or below</th>\n",
       "      <th>Female</th>\n",
       "      <td>23.67</td>\n",
       "    </tr>\n",
       "    <tr>\n",
       "      <th>Male</th>\n",
       "      <td>20.67</td>\n",
       "    </tr>\n",
       "    <tr>\n",
       "      <th rowspan=\"2\" valign=\"top\">21 - 30</th>\n",
       "      <th>Female</th>\n",
       "      <td>20.53</td>\n",
       "    </tr>\n",
       "    <tr>\n",
       "      <th>Male</th>\n",
       "      <td>21.08</td>\n",
       "    </tr>\n",
       "    <tr>\n",
       "      <th rowspan=\"2\" valign=\"top\">31 - 40</th>\n",
       "      <th>Female</th>\n",
       "      <td>18.50</td>\n",
       "    </tr>\n",
       "    <tr>\n",
       "      <th>Male</th>\n",
       "      <td>18.33</td>\n",
       "    </tr>\n",
       "  </tbody>\n",
       "</table>\n",
       "</div>"
      ],
      "text/plain": [
       "                    Total Anxiety\n",
       "Age         Gender               \n",
       "20 or below Female          23.67\n",
       "            Male            20.67\n",
       "21 - 30     Female          20.53\n",
       "            Male            21.08\n",
       "31 - 40     Female          18.50\n",
       "            Male            18.33"
      ]
     },
     "execution_count": 15,
     "metadata": {},
     "output_type": "execute_result"
    }
   ],
   "source": [
    "student.groupby(['Age','Gender'])[['Total Anxiety']].mean().round(2)\n",
    "# אחרי שהבנו שיש קשר בין גיל לרמת חרדה רצינו לבדוק בכל גיל את ההבדלים בין נשים וגברים "
   ]
  },
  {
   "cell_type": "markdown",
   "metadata": {},
   "source": [
    "##### תובנה 2\n",
    "מהגרף רואים שבאמת כמו שהיינו חושבים ככל שהגיל מתקדם יותר כך רמת החרדה החברתית יורדת.\n",
    "התובנה המעניינית שעולה מהגרופביי היא שאמנם ככל שמתקדמים בגיל ויורדת רמת החרדה יורד גם ההבדל בין גברים לנשים ברמת החרדה"
   ]
  },
  {
   "cell_type": "code",
   "execution_count": 16,
   "metadata": {},
   "outputs": [],
   "source": [
    "single = student[student['Marital'] == 'Single'].reset_index(drop = True)"
   ]
  },
  {
   "cell_type": "code",
   "execution_count": 17,
   "metadata": {},
   "outputs": [
    {
     "data": {
      "text/plain": [
       "<matplotlib.legend.Legend at 0x19beeacbf40>"
      ]
     },
     "execution_count": 17,
     "metadata": {},
     "output_type": "execute_result"
    },
    {
     "data": {
      "image/png": "[encoded data removed]",
      "text/plain": [
       "<Figure size 432x288 with 1 Axes>"
      ]
     },
     "metadata": {
      "needs_background": "light"
     },
     "output_type": "display_data"
    }
   ],
   "source": [
    "plt.title('Talking to a starnger')\n",
    "plt.hist(single['Q4'], alpha = 0.8, label = 'single')\n",
    "plt.hist(married['Q4'], alpha = 0.6, label = 'married')\n",
    "plt.xticks([1,2,3,4,5])\n",
    "plt.ylabel('count')\n",
    "plt.legend(loc = 'upper right')"
   ]
  },
  {
   "cell_type": "code",
   "execution_count": 18,
   "metadata": {},
   "outputs": [
    {
     "data": {
      "text/plain": [
       "Text(0.5, 1.0, 'married')"
      ]
     },
     "execution_count": 18,
     "metadata": {},
     "output_type": "execute_result"
    },
    {
     "data": {
      "image/png": "[encoded data removed]",
      "text/plain": [
       "<Figure size 720x720 with 2 Axes>"
      ]
     },
     "metadata": {
      "needs_background": "light"
     },
     "output_type": "display_data"
    }
   ],
   "source": [
    "plt.figure(1, figsize=(10,10))\n",
    "plt.subplot(2,2,1)\n",
    "sns.boxplot(y='Q4',data = single,color='green')\n",
    "plt.yticks([1,2,3,4,5])\n",
    "plt.xlabel('Talking to a starnger')\n",
    "plt.title('single')\n",
    "plt.subplot(2,2,2)\n",
    "sns.boxplot(y='Q4',data = married,color='red')\n",
    "plt.yticks([1,2,3,4,5])\n",
    "plt.xlabel('Talking to a starnger')\n",
    "plt.title('married')\n"
   ]
  },
  {
   "cell_type": "markdown",
   "metadata": {},
   "source": [
    "##### תובנה 3\n",
    "לסטודנטים רווקים יותר מפריע ומלחיץ לדבר פנים אל פנים עם אדם שהם לא מכירים מאשר לסטודנטים נשואים ."
   ]
  },
  {
   "cell_type": "code",
   "execution_count": 19,
   "metadata": {},
   "outputs": [
    {
     "data": {
      "text/plain": [
       "Text(0.5, 1.0, 'married')"
      ]
     },
     "execution_count": 19,
     "metadata": {},
     "output_type": "execute_result"
    },
    {
     "data": {
      "image/png": "[encoded data removed]",
      "text/plain": [
       "<Figure size 720x720 with 2 Axes>"
      ]
     },
     "metadata": {
      "needs_background": "light"
     },
     "output_type": "display_data"
    }
   ],
   "source": [
    "\n",
    "plt.figure(1, figsize=(10,10))\n",
    "plt.subplot(2,2,1)\n",
    "sns.boxplot(y='Q2',data = single,color='green')\n",
    "plt.yticks([1,2,3,4,5])\n",
    "plt.xlabel('being the center of attention')\n",
    "plt.title('single')\n",
    "plt.subplot(2,2,2)\n",
    "sns.boxplot(y='Q2',data = married,color='red')\n",
    "plt.yticks([1,2,3,4,5])\n",
    "plt.xlabel('being the center of attention')\n",
    "plt.title('married')\n"
   ]
  },
  {
   "cell_type": "markdown",
   "metadata": {},
   "source": [
    "##### תובנה 4\n",
    "אמנם ביחס לשאלה החציון בין נשואים לרווקים הוא שווה.\n",
    "אבל אם בודקים היכן נמצא הרבעון אצל כל אוכלוסיה ניתן לראות שאצל הנשואים הרבעון נמצא בחלק התחתון משמע שהם מרגישים יותר בנוח כאשר הם נמצאים במרכז תשומת הלב.\n",
    "ולעומת  זאת אצל הרווקים הרבעון נמצא בחלק העליון מה שאומר שהם מרגישים פחות בנוח כאשר הם נמצאים במרכז תשומת הלב."
   ]
  },
  {
   "cell_type": "code",
   "execution_count": null,
   "metadata": {},
   "outputs": [],
   "source": []
  }
 ],
 "metadata": {
  "kernelspec": {
   "display_name": "Python 3",
   "language": "python",
   "name": "python3"
  },
  "language_info": {
   "codemirror_mode": {
    "name": "ipython",
    "version": 3
   },
   "file_extension": ".py",
   "mimetype": "text/x-python",
   "name": "python",
   "nbconvert_exporter": "python",
   "pygments_lexer": "ipython3",
   "version": "3.8.5"
  }
 },
 "nbformat": 4,
 "nbformat_minor": 4
}
