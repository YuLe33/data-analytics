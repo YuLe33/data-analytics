{
 "cells": [
  {
   "cell_type": "markdown",
   "id": "perfect-painting",
   "metadata": {},
   "source": [
    "### מגישים:\n",
    "בר שירזי - 315536755\n",
    "\n",
    "עדי כהן- 315006445\n",
    "\n",
    "לירון זמיר - 209465046\n",
    "\n",
    "הדר בן שושן - 208737510"
   ]
  },
  {
   "cell_type": "code",
   "execution_count": 30,
   "id": "curious-tackle",
   "metadata": {},
   "outputs": [],
   "source": [
    "import pandas as pd\n",
    "import matplotlib.pyplot as plt\n",
    "import seaborn as sns\n",
    "from sklearn.model_selection import train_test_split\n",
    "from sklearn.ensemble import RandomForestClassifier\n",
    "from sklearn.metrics import accuracy_score, classification_report"
   ]
  },
  {
   "cell_type": "markdown",
   "id": "liberal-shopping",
   "metadata": {},
   "source": [
    "# EDA - Wellbeing & Lifestyle\n",
    "\n",
    "<div>\n",
    "<img src=\"https://idea-events.com/wp-content/uploads/2019/11/wellbeing-01-1.jpg\" width=\"400\"/>\n",
    "</div>\n"
   ]
  },
  {
   "cell_type": "markdown",
   "id": "circular-movement",
   "metadata": {},
   "source": [
    "#### The Dataset\n",
    "מערך נתונים זה מכיל 15,977 תגובות סקר עם 24 מאפיינים המתארים כיצד אנו חיים את חיינו. מערך נתונים זה מכיל נתונים אודות 5 קטגוריות רווחה ואורח חיים ובחרנו להתמקד ב 3 הבאים: \n",
    "1. גוף בריא - כושר והרגלים בריאים\n",
    "2. נפש בריאה - חובקת רגשות חיוביים\n",
    "3. הישגים - מדידת היכולת להגיע להישגים שלך\n",
    "\n",
    "[link to the data source](https://www.kaggle.com/ydalat/lifestyle-and-wellbeing-data)"
   ]
  },
  {
   "cell_type": "code",
   "execution_count": 32,
   "id": "acquired-ladder",
   "metadata": {},
   "outputs": [
    {
     "data": {
      "text/html": [
       "<div>\n",
       "<style scoped>\n",
       "    .dataframe tbody tr th:only-of-type {\n",
       "        vertical-align: middle;\n",
       "    }\n",
       "\n",
       "    .dataframe tbody tr th {\n",
       "        vertical-align: top;\n",
       "    }\n",
       "\n",
       "    .dataframe thead th {\n",
       "        text-align: right;\n",
       "    }\n",
       "</style>\n",
       "<table border=\"1\" class=\"dataframe\">\n",
       "  <thead>\n",
       "    <tr style=\"text-align: right;\">\n",
       "      <th></th>\n",
       "      <th>Timestamp</th>\n",
       "      <th>FRUITS_VEGGIES</th>\n",
       "      <th>DAILY_STRESS</th>\n",
       "      <th>PLACES_VISITED</th>\n",
       "      <th>CORE_CIRCLE</th>\n",
       "      <th>SUPPORTING_OTHERS</th>\n",
       "      <th>SOCIAL_NETWORK</th>\n",
       "      <th>ACHIEVEMENT</th>\n",
       "      <th>DONATION</th>\n",
       "      <th>BMI_RANGE</th>\n",
       "      <th>...</th>\n",
       "      <th>SLEEP_HOURS</th>\n",
       "      <th>LOST_VACATION</th>\n",
       "      <th>DAILY_SHOUTING</th>\n",
       "      <th>SUFFICIENT_INCOME</th>\n",
       "      <th>PERSONAL_AWARDS</th>\n",
       "      <th>TIME_FOR_PASSION</th>\n",
       "      <th>WEEKLY_MEDITATION</th>\n",
       "      <th>AGE</th>\n",
       "      <th>GENDER</th>\n",
       "      <th>WORK_LIFE_BALANCE_SCORE</th>\n",
       "    </tr>\n",
       "  </thead>\n",
       "  <tbody>\n",
       "    <tr>\n",
       "      <th>0</th>\n",
       "      <td>7/7/15</td>\n",
       "      <td>3</td>\n",
       "      <td>2</td>\n",
       "      <td>2</td>\n",
       "      <td>5</td>\n",
       "      <td>0</td>\n",
       "      <td>5</td>\n",
       "      <td>2</td>\n",
       "      <td>0</td>\n",
       "      <td>1</td>\n",
       "      <td>...</td>\n",
       "      <td>7</td>\n",
       "      <td>5</td>\n",
       "      <td>5</td>\n",
       "      <td>1</td>\n",
       "      <td>4</td>\n",
       "      <td>0</td>\n",
       "      <td>5</td>\n",
       "      <td>36 to 50</td>\n",
       "      <td>Female</td>\n",
       "      <td>609.5</td>\n",
       "    </tr>\n",
       "    <tr>\n",
       "      <th>1</th>\n",
       "      <td>7/7/15</td>\n",
       "      <td>2</td>\n",
       "      <td>3</td>\n",
       "      <td>4</td>\n",
       "      <td>3</td>\n",
       "      <td>8</td>\n",
       "      <td>10</td>\n",
       "      <td>5</td>\n",
       "      <td>2</td>\n",
       "      <td>2</td>\n",
       "      <td>...</td>\n",
       "      <td>8</td>\n",
       "      <td>2</td>\n",
       "      <td>2</td>\n",
       "      <td>2</td>\n",
       "      <td>3</td>\n",
       "      <td>2</td>\n",
       "      <td>6</td>\n",
       "      <td>36 to 50</td>\n",
       "      <td>Female</td>\n",
       "      <td>655.6</td>\n",
       "    </tr>\n",
       "    <tr>\n",
       "      <th>2</th>\n",
       "      <td>7/7/15</td>\n",
       "      <td>2</td>\n",
       "      <td>3</td>\n",
       "      <td>3</td>\n",
       "      <td>4</td>\n",
       "      <td>4</td>\n",
       "      <td>10</td>\n",
       "      <td>3</td>\n",
       "      <td>2</td>\n",
       "      <td>2</td>\n",
       "      <td>...</td>\n",
       "      <td>8</td>\n",
       "      <td>10</td>\n",
       "      <td>2</td>\n",
       "      <td>2</td>\n",
       "      <td>4</td>\n",
       "      <td>8</td>\n",
       "      <td>3</td>\n",
       "      <td>36 to 50</td>\n",
       "      <td>Female</td>\n",
       "      <td>631.6</td>\n",
       "    </tr>\n",
       "    <tr>\n",
       "      <th>3</th>\n",
       "      <td>7/7/15</td>\n",
       "      <td>3</td>\n",
       "      <td>3</td>\n",
       "      <td>10</td>\n",
       "      <td>3</td>\n",
       "      <td>10</td>\n",
       "      <td>7</td>\n",
       "      <td>2</td>\n",
       "      <td>5</td>\n",
       "      <td>2</td>\n",
       "      <td>...</td>\n",
       "      <td>5</td>\n",
       "      <td>7</td>\n",
       "      <td>5</td>\n",
       "      <td>1</td>\n",
       "      <td>5</td>\n",
       "      <td>2</td>\n",
       "      <td>0</td>\n",
       "      <td>51 or more</td>\n",
       "      <td>Female</td>\n",
       "      <td>622.7</td>\n",
       "    </tr>\n",
       "    <tr>\n",
       "      <th>4</th>\n",
       "      <td>7/7/15</td>\n",
       "      <td>5</td>\n",
       "      <td>1</td>\n",
       "      <td>3</td>\n",
       "      <td>3</td>\n",
       "      <td>10</td>\n",
       "      <td>4</td>\n",
       "      <td>2</td>\n",
       "      <td>4</td>\n",
       "      <td>2</td>\n",
       "      <td>...</td>\n",
       "      <td>7</td>\n",
       "      <td>0</td>\n",
       "      <td>0</td>\n",
       "      <td>2</td>\n",
       "      <td>8</td>\n",
       "      <td>1</td>\n",
       "      <td>5</td>\n",
       "      <td>51 or more</td>\n",
       "      <td>Female</td>\n",
       "      <td>663.9</td>\n",
       "    </tr>\n",
       "  </tbody>\n",
       "</table>\n",
       "<p>5 rows × 24 columns</p>\n",
       "</div>"
      ],
      "text/plain": [
       "  Timestamp  FRUITS_VEGGIES DAILY_STRESS  PLACES_VISITED  CORE_CIRCLE  \\\n",
       "0    7/7/15               3            2               2            5   \n",
       "1    7/7/15               2            3               4            3   \n",
       "2    7/7/15               2            3               3            4   \n",
       "3    7/7/15               3            3              10            3   \n",
       "4    7/7/15               5            1               3            3   \n",
       "\n",
       "   SUPPORTING_OTHERS  SOCIAL_NETWORK  ACHIEVEMENT  DONATION  BMI_RANGE  ...  \\\n",
       "0                  0               5            2         0          1  ...   \n",
       "1                  8              10            5         2          2  ...   \n",
       "2                  4              10            3         2          2  ...   \n",
       "3                 10               7            2         5          2  ...   \n",
       "4                 10               4            2         4          2  ...   \n",
       "\n",
       "   SLEEP_HOURS  LOST_VACATION  DAILY_SHOUTING  SUFFICIENT_INCOME  \\\n",
       "0            7              5               5                  1   \n",
       "1            8              2               2                  2   \n",
       "2            8             10               2                  2   \n",
       "3            5              7               5                  1   \n",
       "4            7              0               0                  2   \n",
       "\n",
       "   PERSONAL_AWARDS  TIME_FOR_PASSION  WEEKLY_MEDITATION         AGE  GENDER  \\\n",
       "0                4                 0                  5    36 to 50  Female   \n",
       "1                3                 2                  6    36 to 50  Female   \n",
       "2                4                 8                  3    36 to 50  Female   \n",
       "3                5                 2                  0  51 or more  Female   \n",
       "4                8                 1                  5  51 or more  Female   \n",
       "\n",
       "   WORK_LIFE_BALANCE_SCORE  \n",
       "0                    609.5  \n",
       "1                    655.6  \n",
       "2                    631.6  \n",
       "3                    622.7  \n",
       "4                    663.9  \n",
       "\n",
       "[5 rows x 24 columns]"
      ]
     },
     "execution_count": 32,
     "metadata": {},
     "output_type": "execute_result"
    }
   ],
   "source": [
    "url = 'https://raw.githubusercontent.com/adicohen1/Final-Project/main/Data/Wellbeing_and_lifestyle_data_Kaggle.csv'\n",
    "df = pd.read_csv(url)\n",
    "df.head()"
   ]
  },
  {
   "cell_type": "markdown",
   "id": "equipped-substitute",
   "metadata": {},
   "source": [
    "### Fixing data types"
   ]
  },
  {
   "cell_type": "code",
   "execution_count": 33,
   "id": "alone-amsterdam",
   "metadata": {},
   "outputs": [
    {
     "name": "stdout",
     "output_type": "stream",
     "text": [
      "<class 'pandas.core.frame.DataFrame'>\n",
      "RangeIndex: 15972 entries, 0 to 15971\n",
      "Data columns (total 24 columns):\n",
      " #   Column                   Non-Null Count  Dtype  \n",
      "---  ------                   --------------  -----  \n",
      " 0   Timestamp                15972 non-null  object \n",
      " 1   FRUITS_VEGGIES           15972 non-null  int64  \n",
      " 2   DAILY_STRESS             15972 non-null  object \n",
      " 3   PLACES_VISITED           15972 non-null  int64  \n",
      " 4   CORE_CIRCLE              15972 non-null  int64  \n",
      " 5   SUPPORTING_OTHERS        15972 non-null  int64  \n",
      " 6   SOCIAL_NETWORK           15972 non-null  int64  \n",
      " 7   ACHIEVEMENT              15972 non-null  int64  \n",
      " 8   DONATION                 15972 non-null  int64  \n",
      " 9   BMI_RANGE                15972 non-null  int64  \n",
      " 10  TODO_COMPLETED           15972 non-null  int64  \n",
      " 11  FLOW                     15972 non-null  int64  \n",
      " 12  DAILY_STEPS              15972 non-null  int64  \n",
      " 13  LIVE_VISION              15972 non-null  int64  \n",
      " 14  SLEEP_HOURS              15972 non-null  int64  \n",
      " 15  LOST_VACATION            15972 non-null  int64  \n",
      " 16  DAILY_SHOUTING           15972 non-null  int64  \n",
      " 17  SUFFICIENT_INCOME        15972 non-null  int64  \n",
      " 18  PERSONAL_AWARDS          15972 non-null  int64  \n",
      " 19  TIME_FOR_PASSION         15972 non-null  int64  \n",
      " 20  WEEKLY_MEDITATION        15972 non-null  int64  \n",
      " 21  AGE                      15972 non-null  object \n",
      " 22  GENDER                   15972 non-null  object \n",
      " 23  WORK_LIFE_BALANCE_SCORE  15972 non-null  float64\n",
      "dtypes: float64(1), int64(19), object(4)\n",
      "memory usage: 2.9+ MB\n"
     ]
    }
   ],
   "source": [
    "df.info()"
   ]
  },
  {
   "cell_type": "markdown",
   "id": "useful-simpson",
   "metadata": {},
   "source": [
    " העמודה של התאריך היא מסוג אובייקט נחליף אותה לצורה של תאריך.  "
   ]
  },
  {
   "cell_type": "code",
   "execution_count": 34,
   "id": "desirable-hayes",
   "metadata": {},
   "outputs": [],
   "source": [
    "df.Timestamp = pd.to_datetime(df.Timestamp)"
   ]
  },
  {
   "cell_type": "markdown",
   "id": "reasonable-demographic",
   "metadata": {},
   "source": [
    "עמודת הלחץ היומי מייצגת את רמת הלחץ בין 0-5, היינו מצפים שעמודה זו תיהיה מספרית אך כפי שניתן לראות למעלה היא מסוג אובייקט , כלומר יש ערכים לא תואמים בעמודה זו, ולכן יש לתקן אותה.\n",
    "נרצה לבדוק איזה ערכים העמודה מכילה ולתקן אותה בהתאם."
   ]
  },
  {
   "cell_type": "code",
   "execution_count": 35,
   "id": "pregnant-symphony",
   "metadata": {},
   "outputs": [
    {
     "data": {
      "text/plain": [
       "array(['2', '3', '1', '4', '5', '0', '1/1/00'], dtype=object)"
      ]
     },
     "execution_count": 35,
     "metadata": {},
     "output_type": "execute_result"
    }
   ],
   "source": [
    "df['DAILY_STRESS'].unique()"
   ]
  },
  {
   "cell_type": "markdown",
   "id": "christian-chapter",
   "metadata": {},
   "source": [
    "כפי שאנו רואים יש ערך שאינו מספרי - '1/1/00'. נבדוק כמה שורות מהדאטה מכילות את הערך הזה "
   ]
  },
  {
   "cell_type": "code",
   "execution_count": 36,
   "id": "ahead-nation",
   "metadata": {},
   "outputs": [
    {
     "data": {
      "text/html": [
       "<div>\n",
       "<style scoped>\n",
       "    .dataframe tbody tr th:only-of-type {\n",
       "        vertical-align: middle;\n",
       "    }\n",
       "\n",
       "    .dataframe tbody tr th {\n",
       "        vertical-align: top;\n",
       "    }\n",
       "\n",
       "    .dataframe thead th {\n",
       "        text-align: right;\n",
       "    }\n",
       "</style>\n",
       "<table border=\"1\" class=\"dataframe\">\n",
       "  <thead>\n",
       "    <tr style=\"text-align: right;\">\n",
       "      <th></th>\n",
       "      <th>Timestamp</th>\n",
       "      <th>FRUITS_VEGGIES</th>\n",
       "      <th>DAILY_STRESS</th>\n",
       "      <th>PLACES_VISITED</th>\n",
       "      <th>CORE_CIRCLE</th>\n",
       "      <th>SUPPORTING_OTHERS</th>\n",
       "      <th>SOCIAL_NETWORK</th>\n",
       "      <th>ACHIEVEMENT</th>\n",
       "      <th>DONATION</th>\n",
       "      <th>BMI_RANGE</th>\n",
       "      <th>...</th>\n",
       "      <th>SLEEP_HOURS</th>\n",
       "      <th>LOST_VACATION</th>\n",
       "      <th>DAILY_SHOUTING</th>\n",
       "      <th>SUFFICIENT_INCOME</th>\n",
       "      <th>PERSONAL_AWARDS</th>\n",
       "      <th>TIME_FOR_PASSION</th>\n",
       "      <th>WEEKLY_MEDITATION</th>\n",
       "      <th>AGE</th>\n",
       "      <th>GENDER</th>\n",
       "      <th>WORK_LIFE_BALANCE_SCORE</th>\n",
       "    </tr>\n",
       "  </thead>\n",
       "  <tbody>\n",
       "    <tr>\n",
       "      <th>10005</th>\n",
       "      <td>2018-12-18 10:37:00</td>\n",
       "      <td>3</td>\n",
       "      <td>1/1/00</td>\n",
       "      <td>1</td>\n",
       "      <td>2</td>\n",
       "      <td>10</td>\n",
       "      <td>10</td>\n",
       "      <td>5</td>\n",
       "      <td>5</td>\n",
       "      <td>2</td>\n",
       "      <td>...</td>\n",
       "      <td>6</td>\n",
       "      <td>10</td>\n",
       "      <td>1</td>\n",
       "      <td>2</td>\n",
       "      <td>10</td>\n",
       "      <td>8</td>\n",
       "      <td>2</td>\n",
       "      <td>21 to 35</td>\n",
       "      <td>Male</td>\n",
       "      <td>682.6</td>\n",
       "    </tr>\n",
       "  </tbody>\n",
       "</table>\n",
       "<p>1 rows × 24 columns</p>\n",
       "</div>"
      ],
      "text/plain": [
       "                Timestamp  FRUITS_VEGGIES DAILY_STRESS  PLACES_VISITED  \\\n",
       "10005 2018-12-18 10:37:00               3       1/1/00               1   \n",
       "\n",
       "       CORE_CIRCLE  SUPPORTING_OTHERS  SOCIAL_NETWORK  ACHIEVEMENT  DONATION  \\\n",
       "10005            2                 10              10            5         5   \n",
       "\n",
       "       BMI_RANGE  ...  SLEEP_HOURS  LOST_VACATION  DAILY_SHOUTING  \\\n",
       "10005          2  ...            6             10               1   \n",
       "\n",
       "       SUFFICIENT_INCOME  PERSONAL_AWARDS  TIME_FOR_PASSION  \\\n",
       "10005                  2               10                 8   \n",
       "\n",
       "       WEEKLY_MEDITATION       AGE  GENDER  WORK_LIFE_BALANCE_SCORE  \n",
       "10005                  2  21 to 35    Male                    682.6  \n",
       "\n",
       "[1 rows x 24 columns]"
      ]
     },
     "execution_count": 36,
     "metadata": {},
     "output_type": "execute_result"
    }
   ],
   "source": [
    "df[df['DAILY_STRESS'] == '1/1/00']"
   ]
  },
  {
   "cell_type": "markdown",
   "id": "synthetic-magazine",
   "metadata": {},
   "source": [
    "אנו יכולים לראות שיש רק שורה אחת כזו . הדטאה מכיל כמעט 16,000 שורות והסרת שורה אחת לא תפגע בנתונים.\n",
    "לכן נסיר אותה מהדאטה שלנו"
   ]
  },
  {
   "cell_type": "code",
   "execution_count": 37,
   "id": "portable-atlanta",
   "metadata": {},
   "outputs": [],
   "source": [
    "index_to_drop = df[df['DAILY_STRESS'] == '1/1/00'].index\n",
    "df.drop(index_to_drop, inplace=True)"
   ]
  },
  {
   "cell_type": "markdown",
   "id": "employed-controversy",
   "metadata": {},
   "source": [
    "לסיום , אנו צריכים להמיר את הסוג של העמודה להיות מספרי"
   ]
  },
  {
   "cell_type": "code",
   "execution_count": 38,
   "id": "gross-kansas",
   "metadata": {},
   "outputs": [],
   "source": [
    "df['DAILY_STRESS'] = pd.to_numeric(df['DAILY_STRESS'])"
   ]
  },
  {
   "cell_type": "markdown",
   "id": "contemporary-strain",
   "metadata": {},
   "source": [
    "********************************"
   ]
  },
  {
   "cell_type": "markdown",
   "id": "sustained-percentage",
   "metadata": {},
   "source": [
    "#### Replacing string columns to dummies:"
   ]
  },
  {
   "cell_type": "code",
   "execution_count": 39,
   "id": "going-toddler",
   "metadata": {},
   "outputs": [],
   "source": [
    "df_preprocess = df.copy()"
   ]
  },
  {
   "cell_type": "markdown",
   "id": "consolidated-bridges",
   "metadata": {},
   "source": [
    "הטור של הגיל הוא גם כן אובייקט, הוא מכיל טווח גילאים ולא את הגיל עצמו. כדי לראות את הקורלציה בין הגיל לתכונות האחרות אנו צריכים להפוך אותו לבינארי\n"
   ]
  },
  {
   "cell_type": "code",
   "execution_count": 40,
   "id": "artistic-navigator",
   "metadata": {},
   "outputs": [
    {
     "data": {
      "text/plain": [
       "array(['36 to 50', '51 or more', '21 to 35', 'Less than 20'], dtype=object)"
      ]
     },
     "execution_count": 40,
     "metadata": {},
     "output_type": "execute_result"
    }
   ],
   "source": [
    "df['AGE'].unique()"
   ]
  },
  {
   "cell_type": "code",
   "execution_count": 41,
   "id": "civic-miniature",
   "metadata": {},
   "outputs": [],
   "source": [
    "df = pd.get_dummies(data=df, columns=['AGE'])"
   ]
  },
  {
   "cell_type": "markdown",
   "id": "optimum-sampling",
   "metadata": {},
   "source": [
    "העמודה של המין היא גם אובייקט ,היא מכילה סטרינג של נקבה או זכר . על מנת לראות את הקורלציה של המין ושאר העמודות האחרות או לבצע פעולות מתמטייות על העמודה (כמו הרצת מודל) נמיר אותה להיות בינארית."
   ]
  },
  {
   "cell_type": "code",
   "execution_count": 42,
   "id": "vietnamese-witness",
   "metadata": {},
   "outputs": [
    {
     "data": {
      "text/plain": [
       "array(['Female', 'Male'], dtype=object)"
      ]
     },
     "execution_count": 42,
     "metadata": {},
     "output_type": "execute_result"
    }
   ],
   "source": [
    "df['GENDER'].unique()"
   ]
  },
  {
   "cell_type": "code",
   "execution_count": 43,
   "id": "indirect-involvement",
   "metadata": {},
   "outputs": [
    {
     "data": {
      "text/html": [
       "<div>\n",
       "<style scoped>\n",
       "    .dataframe tbody tr th:only-of-type {\n",
       "        vertical-align: middle;\n",
       "    }\n",
       "\n",
       "    .dataframe tbody tr th {\n",
       "        vertical-align: top;\n",
       "    }\n",
       "\n",
       "    .dataframe thead th {\n",
       "        text-align: right;\n",
       "    }\n",
       "</style>\n",
       "<table border=\"1\" class=\"dataframe\">\n",
       "  <thead>\n",
       "    <tr style=\"text-align: right;\">\n",
       "      <th></th>\n",
       "      <th>Timestamp</th>\n",
       "      <th>FRUITS_VEGGIES</th>\n",
       "      <th>DAILY_STRESS</th>\n",
       "      <th>PLACES_VISITED</th>\n",
       "      <th>CORE_CIRCLE</th>\n",
       "      <th>SUPPORTING_OTHERS</th>\n",
       "      <th>SOCIAL_NETWORK</th>\n",
       "      <th>ACHIEVEMENT</th>\n",
       "      <th>DONATION</th>\n",
       "      <th>BMI_RANGE</th>\n",
       "      <th>...</th>\n",
       "      <th>SUFFICIENT_INCOME</th>\n",
       "      <th>PERSONAL_AWARDS</th>\n",
       "      <th>TIME_FOR_PASSION</th>\n",
       "      <th>WEEKLY_MEDITATION</th>\n",
       "      <th>GENDER</th>\n",
       "      <th>WORK_LIFE_BALANCE_SCORE</th>\n",
       "      <th>AGE_21 to 35</th>\n",
       "      <th>AGE_36 to 50</th>\n",
       "      <th>AGE_51 or more</th>\n",
       "      <th>AGE_Less than 20</th>\n",
       "    </tr>\n",
       "  </thead>\n",
       "  <tbody>\n",
       "    <tr>\n",
       "      <th>0</th>\n",
       "      <td>2015-07-07</td>\n",
       "      <td>3</td>\n",
       "      <td>2</td>\n",
       "      <td>2</td>\n",
       "      <td>5</td>\n",
       "      <td>0</td>\n",
       "      <td>5</td>\n",
       "      <td>2</td>\n",
       "      <td>0</td>\n",
       "      <td>1</td>\n",
       "      <td>...</td>\n",
       "      <td>1</td>\n",
       "      <td>4</td>\n",
       "      <td>0</td>\n",
       "      <td>5</td>\n",
       "      <td>Female</td>\n",
       "      <td>609.5</td>\n",
       "      <td>0</td>\n",
       "      <td>1</td>\n",
       "      <td>0</td>\n",
       "      <td>0</td>\n",
       "    </tr>\n",
       "    <tr>\n",
       "      <th>1</th>\n",
       "      <td>2015-07-07</td>\n",
       "      <td>2</td>\n",
       "      <td>3</td>\n",
       "      <td>4</td>\n",
       "      <td>3</td>\n",
       "      <td>8</td>\n",
       "      <td>10</td>\n",
       "      <td>5</td>\n",
       "      <td>2</td>\n",
       "      <td>2</td>\n",
       "      <td>...</td>\n",
       "      <td>2</td>\n",
       "      <td>3</td>\n",
       "      <td>2</td>\n",
       "      <td>6</td>\n",
       "      <td>Female</td>\n",
       "      <td>655.6</td>\n",
       "      <td>0</td>\n",
       "      <td>1</td>\n",
       "      <td>0</td>\n",
       "      <td>0</td>\n",
       "    </tr>\n",
       "    <tr>\n",
       "      <th>2</th>\n",
       "      <td>2015-07-07</td>\n",
       "      <td>2</td>\n",
       "      <td>3</td>\n",
       "      <td>3</td>\n",
       "      <td>4</td>\n",
       "      <td>4</td>\n",
       "      <td>10</td>\n",
       "      <td>3</td>\n",
       "      <td>2</td>\n",
       "      <td>2</td>\n",
       "      <td>...</td>\n",
       "      <td>2</td>\n",
       "      <td>4</td>\n",
       "      <td>8</td>\n",
       "      <td>3</td>\n",
       "      <td>Female</td>\n",
       "      <td>631.6</td>\n",
       "      <td>0</td>\n",
       "      <td>1</td>\n",
       "      <td>0</td>\n",
       "      <td>0</td>\n",
       "    </tr>\n",
       "    <tr>\n",
       "      <th>3</th>\n",
       "      <td>2015-07-07</td>\n",
       "      <td>3</td>\n",
       "      <td>3</td>\n",
       "      <td>10</td>\n",
       "      <td>3</td>\n",
       "      <td>10</td>\n",
       "      <td>7</td>\n",
       "      <td>2</td>\n",
       "      <td>5</td>\n",
       "      <td>2</td>\n",
       "      <td>...</td>\n",
       "      <td>1</td>\n",
       "      <td>5</td>\n",
       "      <td>2</td>\n",
       "      <td>0</td>\n",
       "      <td>Female</td>\n",
       "      <td>622.7</td>\n",
       "      <td>0</td>\n",
       "      <td>0</td>\n",
       "      <td>1</td>\n",
       "      <td>0</td>\n",
       "    </tr>\n",
       "    <tr>\n",
       "      <th>4</th>\n",
       "      <td>2015-07-07</td>\n",
       "      <td>5</td>\n",
       "      <td>1</td>\n",
       "      <td>3</td>\n",
       "      <td>3</td>\n",
       "      <td>10</td>\n",
       "      <td>4</td>\n",
       "      <td>2</td>\n",
       "      <td>4</td>\n",
       "      <td>2</td>\n",
       "      <td>...</td>\n",
       "      <td>2</td>\n",
       "      <td>8</td>\n",
       "      <td>1</td>\n",
       "      <td>5</td>\n",
       "      <td>Female</td>\n",
       "      <td>663.9</td>\n",
       "      <td>0</td>\n",
       "      <td>0</td>\n",
       "      <td>1</td>\n",
       "      <td>0</td>\n",
       "    </tr>\n",
       "  </tbody>\n",
       "</table>\n",
       "<p>5 rows × 27 columns</p>\n",
       "</div>"
      ],
      "text/plain": [
       "   Timestamp  FRUITS_VEGGIES  DAILY_STRESS  PLACES_VISITED  CORE_CIRCLE  \\\n",
       "0 2015-07-07               3             2               2            5   \n",
       "1 2015-07-07               2             3               4            3   \n",
       "2 2015-07-07               2             3               3            4   \n",
       "3 2015-07-07               3             3              10            3   \n",
       "4 2015-07-07               5             1               3            3   \n",
       "\n",
       "   SUPPORTING_OTHERS  SOCIAL_NETWORK  ACHIEVEMENT  DONATION  BMI_RANGE  ...  \\\n",
       "0                  0               5            2         0          1  ...   \n",
       "1                  8              10            5         2          2  ...   \n",
       "2                  4              10            3         2          2  ...   \n",
       "3                 10               7            2         5          2  ...   \n",
       "4                 10               4            2         4          2  ...   \n",
       "\n",
       "   SUFFICIENT_INCOME  PERSONAL_AWARDS  TIME_FOR_PASSION  WEEKLY_MEDITATION  \\\n",
       "0                  1                4                 0                  5   \n",
       "1                  2                3                 2                  6   \n",
       "2                  2                4                 8                  3   \n",
       "3                  1                5                 2                  0   \n",
       "4                  2                8                 1                  5   \n",
       "\n",
       "   GENDER  WORK_LIFE_BALANCE_SCORE  AGE_21 to 35  AGE_36 to 50  \\\n",
       "0  Female                    609.5             0             1   \n",
       "1  Female                    655.6             0             1   \n",
       "2  Female                    631.6             0             1   \n",
       "3  Female                    622.7             0             0   \n",
       "4  Female                    663.9             0             0   \n",
       "\n",
       "   AGE_51 or more  AGE_Less than 20  \n",
       "0               0                 0  \n",
       "1               0                 0  \n",
       "2               0                 0  \n",
       "3               1                 0  \n",
       "4               1                 0  \n",
       "\n",
       "[5 rows x 27 columns]"
      ]
     },
     "execution_count": 43,
     "metadata": {},
     "output_type": "execute_result"
    }
   ],
   "source": [
    "df.head()"
   ]
  },
  {
   "cell_type": "markdown",
   "id": "desperate-workshop",
   "metadata": {},
   "source": [
    "************************************************************************"
   ]
  },
  {
   "cell_type": "markdown",
   "id": "mexican-macro",
   "metadata": {},
   "source": [
    "# מסקנות כלליות:"
   ]
  },
  {
   "cell_type": "markdown",
   "id": "abroad-investigator",
   "metadata": {},
   "source": [
    "אחת ההשערות שלנו עבוד הדאטה היא שיש חודשים שבהם הלחץ היומי גובר לעומת חודשים אחרים\n",
    "נרצה לייצר גרף שבו ניתן לראות את הלחץ היומי הממוצע לפי חודשים:"
   ]
  },
  {
   "cell_type": "code",
   "execution_count": 44,
   "id": "postal-worse",
   "metadata": {},
   "outputs": [],
   "source": [
    "df['month'] = df.Timestamp.dt.month"
   ]
  },
  {
   "cell_type": "code",
   "execution_count": 45,
   "id": "micro-folder",
   "metadata": {},
   "outputs": [
    {
     "data": {
      "text/plain": [
       "<AxesSubplot:xlabel='month'>"
      ]
     },
     "execution_count": 45,
     "metadata": {},
     "output_type": "execute_result"
    },
    {
     "data": {
      "image/png": "[encoded data removed]",
      "text/plain": [
       "<Figure size 432x288 with 1 Axes>"
      ]
     },
     "metadata": {
      "needs_background": "light"
     },
     "output_type": "display_data"
    }
   ],
   "source": [
    "daily_stress_by_month = df[['month', 'DAILY_STRESS']]\n",
    "daily_stress_by_month.groupby('month').DAILY_STRESS.mean().plot()"
   ]
  },
  {
   "cell_type": "markdown",
   "id": "foreign-zealand",
   "metadata": {},
   "source": [
    "### מסקנה:\n",
    "כפי שניתן לראות מהגרף , בחודשי הקיץ רמת הלחץ יורדת ולקראת חודשי החורף ישנה עליה\n",
    "מסקנה זאת נובעת לדעתינו כי בחודשי הקיץ בדרך כלל יש פחות לחץ, ילדים בחופש , אנשים נופשים יותר. ולקראת חודשי החורף ישנה עליה ברמת הלחץ כי ילדים פחות בחופשות ומחשיך יותר מוקדם"
   ]
  },
  {
   "cell_type": "code",
   "execution_count": 46,
   "id": "defined-easter",
   "metadata": {},
   "outputs": [],
   "source": [
    "df['week_day'] = df.Timestamp.dt.day_of_week"
   ]
  },
  {
   "cell_type": "code",
   "execution_count": 47,
   "id": "guilty-cabinet",
   "metadata": {},
   "outputs": [
    {
     "data": {
      "text/plain": [
       "<AxesSubplot:xlabel='week_day'>"
      ]
     },
     "execution_count": 47,
     "metadata": {},
     "output_type": "execute_result"
    },
    {
     "data": {
      "image/png": "[encoded data removed]",
      "text/plain": [
       "<Figure size 432x288 with 1 Axes>"
      ]
     },
     "metadata": {
      "needs_background": "light"
     },
     "output_type": "display_data"
    }
   ],
   "source": [
    "daily_stress_by_weekday = df[['week_day', 'DAILY_STRESS']]\n",
    "daily_stress_by_weekday.groupby('week_day').DAILY_STRESS.mean().plot()"
   ]
  },
  {
   "cell_type": "markdown",
   "id": "rising-amateur",
   "metadata": {},
   "source": [
    "### מסקנה:\n",
    "התוצאות קצת סותרות את מה שציפינו, היינו מצפים שרמות הסטרס של אנשים ירדו ככל שמתקרבים לסופש וקיבלנו תוצאות שונות ממה שציפינו. ניתן לראות מהאיור שרמות הסטרס דווקא עולות בסופש. אנחנו חושבים שזה יכול לנבוע אולי מטעות בנתונים עצמם."
   ]
  },
  {
   "cell_type": "markdown",
   "id": "animal-stockholm",
   "metadata": {},
   "source": [
    "**************************************************"
   ]
  },
  {
   "cell_type": "markdown",
   "id": "japanese-sending",
   "metadata": {},
   "source": [
    "נבדוק מי יותר לחוץ גברים או נשים:"
   ]
  },
  {
   "cell_type": "code",
   "execution_count": 48,
   "id": "opening-pottery",
   "metadata": {},
   "outputs": [
    {
     "data": {
      "text/html": [
       "<div>\n",
       "<style scoped>\n",
       "    .dataframe tbody tr th:only-of-type {\n",
       "        vertical-align: middle;\n",
       "    }\n",
       "\n",
       "    .dataframe tbody tr th {\n",
       "        vertical-align: top;\n",
       "    }\n",
       "\n",
       "    .dataframe thead th {\n",
       "        text-align: right;\n",
       "    }\n",
       "</style>\n",
       "<table border=\"1\" class=\"dataframe\">\n",
       "  <thead>\n",
       "    <tr style=\"text-align: right;\">\n",
       "      <th></th>\n",
       "      <th>DAILY_STRESS</th>\n",
       "    </tr>\n",
       "    <tr>\n",
       "      <th>GENDER</th>\n",
       "      <th></th>\n",
       "    </tr>\n",
       "  </thead>\n",
       "  <tbody>\n",
       "    <tr>\n",
       "      <th>Female</th>\n",
       "      <td>2.923717</td>\n",
       "    </tr>\n",
       "    <tr>\n",
       "      <th>Male</th>\n",
       "      <td>2.578767</td>\n",
       "    </tr>\n",
       "  </tbody>\n",
       "</table>\n",
       "</div>"
      ],
      "text/plain": [
       "        DAILY_STRESS\n",
       "GENDER              \n",
       "Female      2.923717\n",
       "Male        2.578767"
      ]
     },
     "execution_count": 48,
     "metadata": {},
     "output_type": "execute_result"
    }
   ],
   "source": [
    "df.pivot_table(['DAILY_STRESS'],'GENDER') "
   ]
  },
  {
   "cell_type": "markdown",
   "id": "precise-argentina",
   "metadata": {},
   "source": [
    "נבדוק אם מתפלג נורמלית:"
   ]
  },
  {
   "cell_type": "code",
   "execution_count": 49,
   "id": "korean-messaging",
   "metadata": {},
   "outputs": [
    {
     "data": {
      "text/plain": [
       "Female    9858\n",
       "Male      6113\n",
       "Name: GENDER, dtype: int64"
      ]
     },
     "execution_count": 49,
     "metadata": {},
     "output_type": "execute_result"
    }
   ],
   "source": [
    "df['GENDER'].value_counts()"
   ]
  },
  {
   "cell_type": "code",
   "execution_count": 50,
   "id": "ready-exploration",
   "metadata": {},
   "outputs": [
    {
     "data": {
      "text/plain": [
       "<AxesSubplot:ylabel='GENDER'>"
      ]
     },
     "execution_count": 50,
     "metadata": {},
     "output_type": "execute_result"
    },
    {
     "data": {
      "image/png": "[encoded data removed]",
      "text/plain": [
       "<Figure size 432x288 with 1 Axes>"
      ]
     },
     "metadata": {},
     "output_type": "display_data"
    }
   ],
   "source": [
    "df['GENDER'].value_counts().plot.pie(autopct='%1.1f%%')"
   ]
  },
  {
   "cell_type": "markdown",
   "id": "royal-place",
   "metadata": {},
   "source": [
    "ניתן לראות מהטבלה שנשים באופן כללי יותר לחוצות מגברים.\n",
    "אבל עשינו ניתוח נוסף כדי לראות אם כמות הגברים והנשים שענו על הסקר שווה.\n",
    "ניתן לראות שענו על הסקר יותר נשים מגברים ולכן קשה להסיק מסקנה - לא מתפלג נורמלית."
   ]
  },
  {
   "cell_type": "code",
   "execution_count": 51,
   "id": "suspected-greenhouse",
   "metadata": {},
   "outputs": [
    {
     "data": {
      "text/html": [
       "<div>\n",
       "<style scoped>\n",
       "    .dataframe tbody tr th:only-of-type {\n",
       "        vertical-align: middle;\n",
       "    }\n",
       "\n",
       "    .dataframe tbody tr th {\n",
       "        vertical-align: top;\n",
       "    }\n",
       "\n",
       "    .dataframe thead th {\n",
       "        text-align: right;\n",
       "    }\n",
       "</style>\n",
       "<table border=\"1\" class=\"dataframe\">\n",
       "  <thead>\n",
       "    <tr style=\"text-align: right;\">\n",
       "      <th></th>\n",
       "      <th>DAILY_STRESS</th>\n",
       "    </tr>\n",
       "    <tr>\n",
       "      <th>AGE</th>\n",
       "      <th></th>\n",
       "    </tr>\n",
       "  </thead>\n",
       "  <tbody>\n",
       "    <tr>\n",
       "      <th>21 to 35</th>\n",
       "      <td>2.814803</td>\n",
       "    </tr>\n",
       "    <tr>\n",
       "      <th>36 to 50</th>\n",
       "      <td>2.894307</td>\n",
       "    </tr>\n",
       "    <tr>\n",
       "      <th>51 or more</th>\n",
       "      <td>2.628319</td>\n",
       "    </tr>\n",
       "    <tr>\n",
       "      <th>Less than 20</th>\n",
       "      <td>2.755910</td>\n",
       "    </tr>\n",
       "  </tbody>\n",
       "</table>\n",
       "</div>"
      ],
      "text/plain": [
       "              DAILY_STRESS\n",
       "AGE                       \n",
       "21 to 35          2.814803\n",
       "36 to 50          2.894307\n",
       "51 or more        2.628319\n",
       "Less than 20      2.755910"
      ]
     },
     "execution_count": 51,
     "metadata": {},
     "output_type": "execute_result"
    }
   ],
   "source": [
    "df_preprocess.pivot_table(['DAILY_STRESS'],'AGE')"
   ]
  },
  {
   "cell_type": "code",
   "execution_count": 52,
   "id": "typical-plasma",
   "metadata": {},
   "outputs": [
    {
     "data": {
      "text/plain": [
       "<AxesSubplot:ylabel='AGE'>"
      ]
     },
     "execution_count": 52,
     "metadata": {},
     "output_type": "execute_result"
    },
    {
     "data": {
      "image/png": "[encoded data removed]",
      "text/plain": [
       "<Figure size 432x288 with 1 Axes>"
      ]
     },
     "metadata": {},
     "output_type": "display_data"
    }
   ],
   "source": [
    "df_preprocess['AGE'].value_counts().plot.cou(autopct='%1.1f%%')"
   ]
  },
  {
   "cell_type": "markdown",
   "id": "large-brown",
   "metadata": {},
   "source": [
    "## מסקנה:\n",
    "ניתן לראות שמגיל 20-51 רמת הלחץ עולה , ניתן להסיק זאת כי בגילאים האלה אנו יותר עסוקים בלבנות את העתיד שלנו מבחינה כלכלית, משפחתית, ויש יותר עומס מאשר בגיל 51 ומעלה. בגיל 51+ יש קצת פחות לחץ ועומס כי אנשים כבר יותר מסודרים מבחינה כלכלית ומשפחתית ונמצאים לקראת הפנסיה.\n",
    "גם כאן ניסינו לראות האם הדאטה מתפלג נורמלית כדי להבין אם המסקנה היא חד משמעית ושוב ראינו שההתפגות לא נורמלית ושיותר אנשים מגילאי 20 עד 50 ענו על הסקר"
   ]
  },
  {
   "cell_type": "markdown",
   "id": "stunning-volume",
   "metadata": {},
   "source": [
    "**************************"
   ]
  },
  {
   "cell_type": "markdown",
   "id": "plain-former",
   "metadata": {},
   "source": [
    "### גוף בריא:"
   ]
  },
  {
   "cell_type": "markdown",
   "id": "burning-telescope",
   "metadata": {},
   "source": [
    "נרצה לבדוק מה הופך אדם לבריא בגופו.\n",
    "אנו מאמינים שמסת הגוף היא מדד מספיק טוב כדי לבדוק האם הגוף בריא. \n",
    "בסקר אנשים שענו על מסת הגוף שלהם חולקו לשתי קטגוריות- מסת גוף שגדולה מ25 ומסת גוף שקטנה מ25.\n",
    "נרצה לבדוק איזה מאפיינים משפיעים על מסת גוף בריאה (מתחת ל25)"
   ]
  },
  {
   "cell_type": "code",
   "execution_count": 53,
   "id": "lonely-words",
   "metadata": {},
   "outputs": [
    {
     "data": {
      "text/plain": [
       "LIVE_VISION                0.000088\n",
       "TIME_FOR_PASSION           0.006237\n",
       "week_day                   0.010327\n",
       "month                      0.010815\n",
       "SUFFICIENT_INCOME          0.011863\n",
       "PERSONAL_AWARDS            0.019007\n",
       "ACHIEVEMENT                0.019699\n",
       "SOCIAL_NETWORK             0.019843\n",
       "CORE_CIRCLE                0.025965\n",
       "FLOW                       0.026761\n",
       "LOST_VACATION              0.036683\n",
       "SUPPORTING_OTHERS          0.038558\n",
       "DAILY_SHOUTING             0.060470\n",
       "TODO_COMPLETED             0.061508\n",
       "DONATION                   0.064543\n",
       "WEEKLY_MEDITATION          0.078189\n",
       "DAILY_STRESS               0.083110\n",
       "FRUITS_VEGGIES             0.092976\n",
       "AGE_36 to 50               0.097905\n",
       "SLEEP_HOURS                0.098156\n",
       "AGE_21 to 35               0.104932\n",
       "PLACES_VISITED             0.108054\n",
       "AGE_51 or more             0.120770\n",
       "DAILY_STEPS                0.131465\n",
       "AGE_Less than 20           0.134983\n",
       "WORK_LIFE_BALANCE_SCORE    0.252026\n",
       "BMI_RANGE                  1.000000\n",
       "Name: BMI_RANGE, dtype: float64"
      ]
     },
     "execution_count": 53,
     "metadata": {},
     "output_type": "execute_result"
    }
   ],
   "source": [
    "df.corr().abs()['BMI_RANGE'].sort_values()"
   ]
  },
  {
   "cell_type": "markdown",
   "id": "eastern-china",
   "metadata": {},
   "source": [
    "#### מסקנות:\n",
    "רצינו לראות מי הם הפיצ'רים שהכי מקורלצים למסת גוף.\n",
    "1. איזון בין עבודה לחיים- אנחנו יכולים להבין שככל שיש איזון יותר נכון בין עבודה לחיים לאנשים יש יותר זמן להשקיע בגופם גם מבחינת תזונה נכונה וגם מבחינה פעילות גופנים ושעות שינה וטיפוח הגוף.\n",
    "2. גיל פחות מ20- ניתן להבין זאת כי לילדים לרוב יש גוף בריא הם לא צוברים הרבה שומן ויש להם סדר יום ולרוב קל להם יותר להשקיע בגופם.\n",
    "3. כמות הצעדים היומית - ככל שאדם עושה יותר צעדים כך גופו בריא יותר."
   ]
  },
  {
   "cell_type": "markdown",
   "id": "flexible-rendering",
   "metadata": {},
   "source": [
    "אנחנו מאמינים שמסת הגוף תהיה מושפעת בעיקר ממאפיינים כמו תזונה נכונה ופעילות גופנית בנוסף יש פיצ'ר של כמות שעות השינה ואנו מאמינים שהוא גם משפיע על גוף בריא. "
   ]
  },
  {
   "cell_type": "code",
   "execution_count": 54,
   "id": "numerous-balloon",
   "metadata": {},
   "outputs": [
    {
     "data": {
      "text/plain": [
       "<AxesSubplot:xlabel='WEEKLY_MEDITATION'>"
      ]
     },
     "execution_count": 54,
     "metadata": {},
     "output_type": "execute_result"
    },
    {
     "data": {
      "image/png": "[encoded data removed]",
      "text/plain": [
       "<Figure size 432x288 with 1 Axes>"
      ]
     },
     "metadata": {
      "needs_background": "light"
     },
     "output_type": "display_data"
    }
   ],
   "source": [
    "df.pivot_table(['SLEEP_HOURS'],'WEEKLY_MEDITATION').plot()"
   ]
  },
  {
   "cell_type": "markdown",
   "id": "cooperative-answer",
   "metadata": {},
   "source": [
    "הבחנה: ביצוע מדיטציה באופון קבוע עוזר לשינה ארוכה יותר.\n",
    " מדיטציה מסייעת לשחרר את השרירים-כשאנו נמצאים במתח או לחץ השרירים שלנו מכווצים ומתוחים מאוד,שינה מתרחשת רק כשאר הגוף רפוי ולכן אנחנו מסיקים שמדיטציה תורמת לאיכות השינה"
   ]
  },
  {
   "cell_type": "code",
   "execution_count": 55,
   "id": "failing-baghdad",
   "metadata": {},
   "outputs": [
    {
     "data": {
      "text/html": [
       "<div>\n",
       "<style scoped>\n",
       "    .dataframe tbody tr th:only-of-type {\n",
       "        vertical-align: middle;\n",
       "    }\n",
       "\n",
       "    .dataframe tbody tr th {\n",
       "        vertical-align: top;\n",
       "    }\n",
       "\n",
       "    .dataframe thead th {\n",
       "        text-align: right;\n",
       "    }\n",
       "</style>\n",
       "<table border=\"1\" class=\"dataframe\">\n",
       "  <thead>\n",
       "    <tr style=\"text-align: right;\">\n",
       "      <th></th>\n",
       "      <th>DAILY_STEPS</th>\n",
       "      <th>FRUITS_VEGGIES</th>\n",
       "      <th>SLEEP_HOURS</th>\n",
       "    </tr>\n",
       "    <tr>\n",
       "      <th>BMI_RANGE</th>\n",
       "      <th></th>\n",
       "      <th></th>\n",
       "      <th></th>\n",
       "    </tr>\n",
       "  </thead>\n",
       "  <tbody>\n",
       "    <tr>\n",
       "      <th>1</th>\n",
       "      <td>6.020822</td>\n",
       "      <td>3.034633</td>\n",
       "      <td>7.141188</td>\n",
       "    </tr>\n",
       "    <tr>\n",
       "      <th>2</th>\n",
       "      <td>5.248246</td>\n",
       "      <td>2.761970</td>\n",
       "      <td>6.901952</td>\n",
       "    </tr>\n",
       "  </tbody>\n",
       "</table>\n",
       "</div>"
      ],
      "text/plain": [
       "           DAILY_STEPS  FRUITS_VEGGIES  SLEEP_HOURS\n",
       "BMI_RANGE                                          \n",
       "1             6.020822        3.034633     7.141188\n",
       "2             5.248246        2.761970     6.901952"
      ]
     },
     "execution_count": 55,
     "metadata": {},
     "output_type": "execute_result"
    }
   ],
   "source": [
    "df.pivot_table(['FRUITS_VEGGIES', 'DAILY_STEPS', 'SLEEP_HOURS'],'BMI_RANGE')"
   ]
  },
  {
   "cell_type": "code",
   "execution_count": 56,
   "id": "sharing-westminster",
   "metadata": {},
   "outputs": [
    {
     "name": "stderr",
     "output_type": "stream",
     "text": [
      "C:\\Users\\USER\\anaconda3\\lib\\site-packages\\pandas\\plotting\\_matplotlib\\tools.py:400: MatplotlibDeprecationWarning: \n",
      "The is_first_col function was deprecated in Matplotlib 3.4 and will be removed two minor releases later. Use ax.get_subplotspec().is_first_col() instead.\n",
      "  if ax.is_first_col():\n",
      "C:\\Users\\USER\\anaconda3\\lib\\site-packages\\pandas\\plotting\\_matplotlib\\tools.py:400: MatplotlibDeprecationWarning: \n",
      "The is_first_col function was deprecated in Matplotlib 3.4 and will be removed two minor releases later. Use ax.get_subplotspec().is_first_col() instead.\n",
      "  if ax.is_first_col():\n",
      "C:\\Users\\USER\\anaconda3\\lib\\site-packages\\pandas\\plotting\\_matplotlib\\tools.py:400: MatplotlibDeprecationWarning: \n",
      "The is_first_col function was deprecated in Matplotlib 3.4 and will be removed two minor releases later. Use ax.get_subplotspec().is_first_col() instead.\n",
      "  if ax.is_first_col():\n"
     ]
    },
    {
     "data": {
      "text/plain": [
       "<AxesSubplot:xlabel='SLEEP_HOURS'>"
      ]
     },
     "execution_count": 56,
     "metadata": {},
     "output_type": "execute_result"
    },
    {
     "data": {
      "image/png": "[encoded data removed]",
      "text/plain": [
       "<Figure size 1080x360 with 3 Axes>"
      ]
     },
     "metadata": {
      "needs_background": "light"
     },
     "output_type": "display_data"
    }
   ],
   "source": [
    "f,ax = plt.subplots(1,3, figsize=(15,5))\n",
    "df_preprocess.pivot_table(['BMI_RANGE'],'FRUITS_VEGGIES').plot(ax=ax[0])\n",
    "df_preprocess.pivot_table(['BMI_RANGE'],'DAILY_STEPS').plot(ax=ax[1])\n",
    "df_preprocess.pivot_table(['BMI_RANGE'],'SLEEP_HOURS').plot(ax=ax[2])"
   ]
  },
  {
   "cell_type": "code",
   "execution_count": 57,
   "id": "designed-tonight",
   "metadata": {},
   "outputs": [
    {
     "data": {
      "text/plain": [
       "<AxesSubplot:xlabel='SLEEP_HOURS', ylabel='count'>"
      ]
     },
     "execution_count": 57,
     "metadata": {},
     "output_type": "execute_result"
    },
    {
     "data": {
      "image/png": "[encoded data removed]",
      "text/plain": [
       "<Figure size 432x288 with 1 Axes>"
      ]
     },
     "metadata": {
      "needs_background": "light"
     },
     "output_type": "display_data"
    }
   ],
   "source": [
    "sns.countplot(x=\"SLEEP_HOURS\", data=df_preprocess)"
   ]
  },
  {
   "cell_type": "markdown",
   "id": "indie-valve",
   "metadata": {},
   "source": [
    "ככל שאוכלים יותר ירקות ופירות (תזונה נכונה) הגוף יותר בריא , מסת גוף יותר תקינה מתחת ל25\n",
    "כנל לגבי כמות צעדים ככל שיש יותר צעדים ביום מסת הגוף תקינה יותר\n",
    "כנל לגבי שעות שינה. אמנם יש עליה בגרף בין 1 ל-2 שעות שינה אבל זה קורה לדעתינו בגלל שכמות האנשים שהגיבו לסקר ששעות השינה שלהם עומדת על 1-2 היא קטנה ביחס לשעות השינה של שאר האנשים. "
   ]
  },
  {
   "cell_type": "markdown",
   "id": "minute-detection",
   "metadata": {},
   "source": [
    "********************************"
   ]
  },
  {
   "cell_type": "markdown",
   "id": "better-sample",
   "metadata": {},
   "source": [
    "### נפש בריאה:"
   ]
  },
  {
   "cell_type": "code",
   "execution_count": 58,
   "id": "desperate-turtle",
   "metadata": {},
   "outputs": [
    {
     "data": {
      "text/plain": [
       "month                      0.003221\n",
       "AGE_Less than 20           0.009377\n",
       "AGE_21 to 35               0.013299\n",
       "week_day                   0.013315\n",
       "SOCIAL_NETWORK             0.020930\n",
       "SUPPORTING_OTHERS          0.029852\n",
       "DONATION                   0.037721\n",
       "PERSONAL_AWARDS            0.042535\n",
       "AGE_36 to 50               0.048122\n",
       "AGE_51 or more             0.062001\n",
       "DAILY_STEPS                0.065511\n",
       "BMI_RANGE                  0.083110\n",
       "FRUITS_VEGGIES             0.094535\n",
       "ACHIEVEMENT                0.110943\n",
       "CORE_CIRCLE                0.120238\n",
       "FLOW                       0.129903\n",
       "LIVE_VISION                0.134155\n",
       "PLACES_VISITED             0.134857\n",
       "SUFFICIENT_INCOME          0.144573\n",
       "SLEEP_HOURS                0.157037\n",
       "TIME_FOR_PASSION           0.158141\n",
       "TODO_COMPLETED             0.163727\n",
       "LOST_VACATION              0.196953\n",
       "WEEKLY_MEDITATION          0.218660\n",
       "DAILY_SHOUTING             0.302669\n",
       "WORK_LIFE_BALANCE_SCORE    0.365399\n",
       "DAILY_STRESS               1.000000\n",
       "Name: DAILY_STRESS, dtype: float64"
      ]
     },
     "execution_count": 58,
     "metadata": {},
     "output_type": "execute_result"
    }
   ],
   "source": [
    "df.corr().abs()['DAILY_STRESS'].sort_values()"
   ]
  },
  {
   "cell_type": "markdown",
   "id": "appreciated-concentration",
   "metadata": {},
   "source": [
    "#### מסקנות:\n",
    "רצינו לראות מי הם הפיצ'רים שהכי מקורלצים לרמת הלחץ היומית:.\n",
    "1. איזון בין עבודה לחיים- אנחנו יכולים להבין שככל שיש איזון יותר נכון בין עבודה לחיים אנשים יותר רגועים.\n",
    "2. כמות הפעמים שלאדם יוצא לצעוק ביום- ניתן להבין שככל שאדם צועק יותר כך הוא יותר לחוץ.\n",
    "3. מדיטציה שבועית- ככל שאדם עושה יותר מדיטציות כך יש יותר סבירות שהוא יהיה רגוע ומפוקס."
   ]
  },
  {
   "cell_type": "markdown",
   "id": "fatal-plate",
   "metadata": {},
   "source": [
    "אנחנו מאמינים שהמאפיינים שהכי יכולים להשפיע על רמות הלחץ היומיות אצל אנשים הם כמות הפעמים שהם צועקים או מתעצבנים ביום, מדיטציה יכול להשפיע על רמת הסטרס וגם ככל שאדם לוקח יותר ימי חופשה סביר להניח שהוא אדם יותר רגוע."
   ]
  },
  {
   "cell_type": "code",
   "execution_count": 59,
   "id": "capable-warrant",
   "metadata": {},
   "outputs": [
    {
     "data": {
      "text/html": [
       "<div>\n",
       "<style scoped>\n",
       "    .dataframe tbody tr th:only-of-type {\n",
       "        vertical-align: middle;\n",
       "    }\n",
       "\n",
       "    .dataframe tbody tr th {\n",
       "        vertical-align: top;\n",
       "    }\n",
       "\n",
       "    .dataframe thead th {\n",
       "        text-align: right;\n",
       "    }\n",
       "</style>\n",
       "<table border=\"1\" class=\"dataframe\">\n",
       "  <thead>\n",
       "    <tr style=\"text-align: right;\">\n",
       "      <th></th>\n",
       "      <th>DAILY_SHOUTING</th>\n",
       "      <th>LOST_VACATION</th>\n",
       "      <th>WEEKLY_MEDITATION</th>\n",
       "    </tr>\n",
       "    <tr>\n",
       "      <th>DAILY_STRESS</th>\n",
       "      <th></th>\n",
       "      <th></th>\n",
       "      <th></th>\n",
       "    </tr>\n",
       "  </thead>\n",
       "  <tbody>\n",
       "    <tr>\n",
       "      <th>0</th>\n",
       "      <td>1.465976</td>\n",
       "      <td>1.761834</td>\n",
       "      <td>7.849112</td>\n",
       "    </tr>\n",
       "    <tr>\n",
       "      <th>1</th>\n",
       "      <td>1.843826</td>\n",
       "      <td>1.946731</td>\n",
       "      <td>7.097256</td>\n",
       "    </tr>\n",
       "    <tr>\n",
       "      <th>2</th>\n",
       "      <td>2.473144</td>\n",
       "      <td>2.485471</td>\n",
       "      <td>6.515409</td>\n",
       "    </tr>\n",
       "    <tr>\n",
       "      <th>3</th>\n",
       "      <td>3.041610</td>\n",
       "      <td>2.865166</td>\n",
       "      <td>6.182128</td>\n",
       "    </tr>\n",
       "    <tr>\n",
       "      <th>4</th>\n",
       "      <td>3.518919</td>\n",
       "      <td>3.542230</td>\n",
       "      <td>5.544257</td>\n",
       "    </tr>\n",
       "    <tr>\n",
       "      <th>5</th>\n",
       "      <td>4.401559</td>\n",
       "      <td>4.250487</td>\n",
       "      <td>5.295322</td>\n",
       "    </tr>\n",
       "  </tbody>\n",
       "</table>\n",
       "</div>"
      ],
      "text/plain": [
       "              DAILY_SHOUTING  LOST_VACATION  WEEKLY_MEDITATION\n",
       "DAILY_STRESS                                                  \n",
       "0                   1.465976       1.761834           7.849112\n",
       "1                   1.843826       1.946731           7.097256\n",
       "2                   2.473144       2.485471           6.515409\n",
       "3                   3.041610       2.865166           6.182128\n",
       "4                   3.518919       3.542230           5.544257\n",
       "5                   4.401559       4.250487           5.295322"
      ]
     },
     "execution_count": 59,
     "metadata": {},
     "output_type": "execute_result"
    }
   ],
   "source": [
    "df_preprocess.pivot_table(['DAILY_SHOUTING', 'WEEKLY_MEDITATION', 'LOST_VACATION'],'DAILY_STRESS')"
   ]
  },
  {
   "cell_type": "code",
   "execution_count": 60,
   "id": "sorted-protection",
   "metadata": {},
   "outputs": [
    {
     "name": "stderr",
     "output_type": "stream",
     "text": [
      "C:\\Users\\USER\\anaconda3\\lib\\site-packages\\pandas\\plotting\\_matplotlib\\tools.py:400: MatplotlibDeprecationWarning: \n",
      "The is_first_col function was deprecated in Matplotlib 3.4 and will be removed two minor releases later. Use ax.get_subplotspec().is_first_col() instead.\n",
      "  if ax.is_first_col():\n",
      "C:\\Users\\USER\\anaconda3\\lib\\site-packages\\pandas\\plotting\\_matplotlib\\tools.py:400: MatplotlibDeprecationWarning: \n",
      "The is_first_col function was deprecated in Matplotlib 3.4 and will be removed two minor releases later. Use ax.get_subplotspec().is_first_col() instead.\n",
      "  if ax.is_first_col():\n",
      "C:\\Users\\USER\\anaconda3\\lib\\site-packages\\pandas\\plotting\\_matplotlib\\tools.py:400: MatplotlibDeprecationWarning: \n",
      "The is_first_col function was deprecated in Matplotlib 3.4 and will be removed two minor releases later. Use ax.get_subplotspec().is_first_col() instead.\n",
      "  if ax.is_first_col():\n"
     ]
    },
    {
     "data": {
      "text/plain": [
       "<AxesSubplot:xlabel='WEEKLY_MEDITATION'>"
      ]
     },
     "execution_count": 60,
     "metadata": {},
     "output_type": "execute_result"
    },
    {
     "data": {
      "image/png": "[encoded data removed]",
      "text/plain": [
       "<Figure size 1080x360 with 3 Axes>"
      ]
     },
     "metadata": {
      "needs_background": "light"
     },
     "output_type": "display_data"
    }
   ],
   "source": [
    "f,ax = plt.subplots(1,3, figsize=(15,5))\n",
    "df_preprocess.pivot_table(['DAILY_STRESS'],'DAILY_SHOUTING').plot(ax=ax[0])\n",
    "df_preprocess.pivot_table(['DAILY_STRESS'],'LOST_VACATION').plot(ax=ax[1])\n",
    "df_preprocess.pivot_table(['DAILY_STRESS'],'WEEKLY_MEDITATION').plot(ax=ax[2])"
   ]
  },
  {
   "cell_type": "code",
   "execution_count": 62,
   "id": "wanted-convenience",
   "metadata": {},
   "outputs": [
    {
     "data": {
      "text/plain": [
       "<AxesSubplot:xlabel='LOST_VACATION', ylabel='count'>"
      ]
     },
     "execution_count": 62,
     "metadata": {},
     "output_type": "execute_result"
    },
    {
     "data": {
      "image/png": "[encoded data removed]",
      "text/plain": [
       "<Figure size 432x288 with 1 Axes>"
      ]
     },
     "metadata": {
      "needs_background": "light"
     },
     "output_type": "display_data"
    }
   ],
   "source": [
    "sns.countplot(x=\"LOST_VACATION\", data=df_preprocess)"
   ]
  },
  {
   "cell_type": "markdown",
   "id": "acceptable-stanford",
   "metadata": {},
   "source": [
    "ניתן לראות שיש 3 מרכיבים שמשפיעים על הלחץ.\n",
    "1. ככל שאנו צועקים יותר רמת הלחץ עולה\n",
    "2.  ככל שאנו מפסידים יותר ימי חופשה רמת הלחץ עולה ,ניתן לראות בגרף שיש ירידה בין 6-9 , זאת מכיוון שיש פחות נתונים בדאטה\n",
    "3. ככל שעושים יותר מדיטציה רמת הלחץ יורדת"
   ]
  },
  {
   "cell_type": "markdown",
   "id": "metropolitan-democrat",
   "metadata": {},
   "source": [
    "## Building a model from the data"
   ]
  },
  {
   "cell_type": "markdown",
   "id": "dangerous-bible",
   "metadata": {},
   "source": [
    "אנו רוצים לנבא את ההשיגים בהתאם לפיצ'רים הבאים שלדעתינו הם הכי שמפיעים על המודל"
   ]
  },
  {
   "cell_type": "code",
   "execution_count": 63,
   "id": "expanded-split",
   "metadata": {},
   "outputs": [
    {
     "data": {
      "text/html": [
       "<div>\n",
       "<style scoped>\n",
       "    .dataframe tbody tr th:only-of-type {\n",
       "        vertical-align: middle;\n",
       "    }\n",
       "\n",
       "    .dataframe tbody tr th {\n",
       "        vertical-align: top;\n",
       "    }\n",
       "\n",
       "    .dataframe thead th {\n",
       "        text-align: right;\n",
       "    }\n",
       "</style>\n",
       "<table border=\"1\" class=\"dataframe\">\n",
       "  <thead>\n",
       "    <tr style=\"text-align: right;\">\n",
       "      <th></th>\n",
       "      <th>TODO_COMPLETED</th>\n",
       "      <th>FLOW</th>\n",
       "      <th>LIVE_VISION</th>\n",
       "      <th>PERSONAL_AWARDS</th>\n",
       "      <th>TIME_FOR_PASSION</th>\n",
       "    </tr>\n",
       "  </thead>\n",
       "  <tbody>\n",
       "    <tr>\n",
       "      <th>0</th>\n",
       "      <td>6</td>\n",
       "      <td>4</td>\n",
       "      <td>0</td>\n",
       "      <td>4</td>\n",
       "      <td>0</td>\n",
       "    </tr>\n",
       "    <tr>\n",
       "      <th>1</th>\n",
       "      <td>5</td>\n",
       "      <td>2</td>\n",
       "      <td>5</td>\n",
       "      <td>3</td>\n",
       "      <td>2</td>\n",
       "    </tr>\n",
       "  </tbody>\n",
       "</table>\n",
       "</div>"
      ],
      "text/plain": [
       "   TODO_COMPLETED  FLOW  LIVE_VISION  PERSONAL_AWARDS  TIME_FOR_PASSION\n",
       "0               6     4            0                4                 0\n",
       "1               5     2            5                3                 2"
      ]
     },
     "execution_count": 63,
     "metadata": {},
     "output_type": "execute_result"
    }
   ],
   "source": [
    "X = df[['TODO_COMPLETED', 'FLOW', 'LIVE_VISION', 'PERSONAL_AWARDS', 'TIME_FOR_PASSION']]\n",
    "y = df['ACHIEVEMENT']\n",
    "X.head(2)"
   ]
  },
  {
   "cell_type": "code",
   "execution_count": 64,
   "id": "alternative-parallel",
   "metadata": {},
   "outputs": [
    {
     "data": {
      "text/plain": [
       "10731     0\n",
       "476       1\n",
       "4291      4\n",
       "1402      6\n",
       "6497     10\n",
       "Name: ACHIEVEMENT, dtype: int64"
      ]
     },
     "execution_count": 64,
     "metadata": {},
     "output_type": "execute_result"
    }
   ],
   "source": [
    "X_train,X_test,y_train,y_test = train_test_split(X,y,test_size=0.3,random_state=42) \n",
    "y_test.head()"
   ]
  },
  {
   "cell_type": "code",
   "execution_count": 65,
   "id": "optimum-milton",
   "metadata": {},
   "outputs": [
    {
     "data": {
      "text/plain": [
       "RandomForestClassifier(max_depth=15, random_state=42)"
      ]
     },
     "execution_count": 65,
     "metadata": {},
     "output_type": "execute_result"
    }
   ],
   "source": [
    "model = RandomForestClassifier(max_depth=15, random_state=42)\n",
    "model.fit(X_train,y_train)"
   ]
  },
  {
   "cell_type": "code",
   "execution_count": 66,
   "id": "facial-speaking",
   "metadata": {},
   "outputs": [
    {
     "data": {
      "text/html": [
       "<div>\n",
       "<style scoped>\n",
       "    .dataframe tbody tr th:only-of-type {\n",
       "        vertical-align: middle;\n",
       "    }\n",
       "\n",
       "    .dataframe tbody tr th {\n",
       "        vertical-align: top;\n",
       "    }\n",
       "\n",
       "    .dataframe thead th {\n",
       "        text-align: right;\n",
       "    }\n",
       "</style>\n",
       "<table border=\"1\" class=\"dataframe\">\n",
       "  <thead>\n",
       "    <tr style=\"text-align: right;\">\n",
       "      <th></th>\n",
       "      <th>ACHIEVEMENT</th>\n",
       "      <th>predictions</th>\n",
       "    </tr>\n",
       "  </thead>\n",
       "  <tbody>\n",
       "    <tr>\n",
       "      <th>0</th>\n",
       "      <td>0</td>\n",
       "      <td>2</td>\n",
       "    </tr>\n",
       "    <tr>\n",
       "      <th>1</th>\n",
       "      <td>1</td>\n",
       "      <td>2</td>\n",
       "    </tr>\n",
       "    <tr>\n",
       "      <th>2</th>\n",
       "      <td>4</td>\n",
       "      <td>2</td>\n",
       "    </tr>\n",
       "    <tr>\n",
       "      <th>3</th>\n",
       "      <td>6</td>\n",
       "      <td>3</td>\n",
       "    </tr>\n",
       "    <tr>\n",
       "      <th>4</th>\n",
       "      <td>10</td>\n",
       "      <td>10</td>\n",
       "    </tr>\n",
       "    <tr>\n",
       "      <th>...</th>\n",
       "      <td>...</td>\n",
       "      <td>...</td>\n",
       "    </tr>\n",
       "    <tr>\n",
       "      <th>4787</th>\n",
       "      <td>4</td>\n",
       "      <td>1</td>\n",
       "    </tr>\n",
       "    <tr>\n",
       "      <th>4788</th>\n",
       "      <td>5</td>\n",
       "      <td>5</td>\n",
       "    </tr>\n",
       "    <tr>\n",
       "      <th>4789</th>\n",
       "      <td>3</td>\n",
       "      <td>3</td>\n",
       "    </tr>\n",
       "    <tr>\n",
       "      <th>4790</th>\n",
       "      <td>3</td>\n",
       "      <td>3</td>\n",
       "    </tr>\n",
       "    <tr>\n",
       "      <th>4791</th>\n",
       "      <td>1</td>\n",
       "      <td>0</td>\n",
       "    </tr>\n",
       "  </tbody>\n",
       "</table>\n",
       "<p>4792 rows × 2 columns</p>\n",
       "</div>"
      ],
      "text/plain": [
       "      ACHIEVEMENT  predictions\n",
       "0               0            2\n",
       "1               1            2\n",
       "2               4            2\n",
       "3               6            3\n",
       "4              10           10\n",
       "...           ...          ...\n",
       "4787            4            1\n",
       "4788            5            5\n",
       "4789            3            3\n",
       "4790            3            3\n",
       "4791            1            0\n",
       "\n",
       "[4792 rows x 2 columns]"
      ]
     },
     "execution_count": 66,
     "metadata": {},
     "output_type": "execute_result"
    }
   ],
   "source": [
    "pred = model.predict(X_test)\n",
    "preds_df = pd.DataFrame(columns = ['ACHIEVEMENT', 'predictions'])\n",
    "preds_df['ACHIEVEMENT'] = y_test\n",
    "preds_df = preds_df.reset_index(drop=True)\n",
    "preds_df['predictions'] = pd.Series(pred)\n",
    "preds_df"
   ]
  },
  {
   "cell_type": "code",
   "execution_count": 67,
   "id": "coupled-leather",
   "metadata": {},
   "outputs": [],
   "source": [
    "acc = accuracy_score(preds_df['ACHIEVEMENT'], preds_df['predictions'])"
   ]
  },
  {
   "cell_type": "code",
   "execution_count": 68,
   "id": "local-extraction",
   "metadata": {},
   "outputs": [
    {
     "data": {
      "text/plain": [
       "0.22078464106844742"
      ]
     },
     "execution_count": 68,
     "metadata": {},
     "output_type": "execute_result"
    }
   ],
   "source": [
    "acc"
   ]
  },
  {
   "cell_type": "markdown",
   "id": "dressed-brain",
   "metadata": {},
   "source": [
    "התוצאה שקיבלנו אמנם לא נראית מאוד גבוהה. האם היא טובה יותר ממישהו שמנחש את התוצאות בצורה רנדומלית?\n",
    "בואו נבדוק:\n",
    "אם מישהו היה צריך לנחש קלאס באופן רנדומלי הוא היה מנחש אחד מתוך ה11 תוצאות האפשריות.\n",
    "כלומר 1 ל-11 שזה בעצם 0.09\n",
    "כלומר אם מישהו היה צריך לנחש באופן אקראי את כמות ההישגים של אדם מסויים הסיכוי שהוא היה מצליח הוא 0.09 שזה 9%.\n",
    "התוצאה שלנו גבוהה ב0.13 , כ-13% יותר ממישהו שמנחש באופן אקראי, ולכן אנחנו יכולים להגיד שהפיצ'רים שחשבנו שמשפיעים אכן משפיעים על ההשיגים של אדם מסויים."
   ]
  },
  {
   "cell_type": "markdown",
   "id": "filled-shark",
   "metadata": {},
   "source": [
    "בחרנו במודל יער מכיוון שזהו מודל חזק יותר ממודל של עץ פשוט. הוא משתמש בהרבה עצים כדי לקבוע את התוצאה הסופית."
   ]
  },
  {
   "cell_type": "markdown",
   "id": "amazing-ordering",
   "metadata": {},
   "source": [
    "### Summery:\n",
    "הדאטה שבחרנו עוסק באיכות וסגנון חיים והוא מתבסס על סקר שנערך במשך הרבה שנים ומכיל הרבה משתתפים. \n",
    "ישנן 5 קטגוריות שאליהם הדאטה מתייחס בהקשר של איכות וסגנון חיים ואנחנו בחרנו להתמקד ב3 מתוכם:\n",
    "יש משפט שאומר נפש בריאה בגוף בריא - אנחנו בדקנו מה הם המאפיינים המשפיעים עבור גוף בריא על סמך מסת הגוף והמסקנה שלנו היא שחשוב להתאמן, לאכול בריא (הרבה פירות וירקות) ולישון טוב.\n",
    "בנוסף בדקנו מה הם המאפיינים המשפיעים עבור נפש בריאה - המאפיינים שמשפיעים על רמת הלחץ היומי הם ההתנהלות היומית מבחינת הצעקות, ניצול ימי החופשה שיש לאדם וביצוע מדיטציה שכידוע מאוד משפיעה על רמת הלחץ.\n",
    "דבר נוסף שראינו הוא שדווקא בקיץ יש ירידה ברמוות הלחץ של אנשים כי כנראה שיוצאים לחופשה וגם יש פחות פקקים בכביש והלחץ באופן כללי יורד."
   ]
  },
  {
   "cell_type": "markdown",
   "id": "focused-minutes",
   "metadata": {},
   "source": [
    "<div>\n",
    "<img src=\"https://i0.wp.com/chartcons.com/wp-content/uploads/thanks-for-listening.jpg?w=696&ssl=1\" width=\"400\"/>\n",
    "</div>"
   ]
  }
 ],
 "metadata": {
  "kernelspec": {
   "display_name": "Python 3",
   "language": "python",
   "name": "python3"
  },
  "language_info": {
   "codemirror_mode": {
    "name": "ipython",
    "version": 3
   },
   "file_extension": ".py",
   "mimetype": "text/x-python",
   "name": "python",
   "nbconvert_exporter": "python",
   "pygments_lexer": "ipython3",
   "version": "3.8.8"
  }
 },
 "nbformat": 4,
 "nbformat_minor": 5
}
