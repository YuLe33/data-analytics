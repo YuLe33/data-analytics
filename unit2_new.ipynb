{
 "cells": [
  {
   "cell_type": "markdown",
   "metadata": {},
   "source": [
    "# Unit 2\n",
    "---\n",
    "\n",
    "\n",
    "\n",
    "\n",
    "1. [Introducing Pandas](#section1)\n",
    "2. [Reading files](#section2)\n",
    "3. [Selecting data](#section3)\n",
    "4. [Conditional selection](#section4)\n",
    "\n",
    "\n",
    "\n",
    "\n",
    "\n",
    "\n"
   ]
  },
  {
   "cell_type": "markdown",
   "metadata": {},
   "source": [
    "<a id='section1'></a>"
   ]
  },
  {
   "cell_type": "markdown",
   "metadata": {},
   "source": [
    "## 1. Introducing Pandas\n",
    "---\n",
    "\n",
    "<div>\n",
    "<img src=\"images/pandas.JPG\" width=\"400\"/>\n",
    "</div>\n",
    "\n",
    "\n",
    "\n",
    "[Panda's documentation](https://pandas.pydata.org/pandas-docs/stable/)\n",
    "\n"
   ]
  },
  {
   "cell_type": "markdown",
   "metadata": {},
   "source": [
    "To begin we need to import pandas\n",
    "When you see pd, know it is referring to pandas"
   ]
  },
  {
   "cell_type": "code",
   "execution_count": 12,
   "metadata": {},
   "outputs": [],
   "source": [
    "import numpy as np\n",
    "import pandas as pd"
   ]
  },
  {
   "cell_type": "markdown",
   "metadata": {},
   "source": [
    "Pandas is a popular Python library used for working in tabular data (similar to the data stored in a spreadsheet).\n",
    "\n",
    "There are two main data structure used by pandas\n",
    "- Series: like a vector or a list\n",
    "- Dataframe: equivalent to a table. \n",
    "\n",
    "Each column in a pandas Dataframe is a pandas Series data structure. We will mainly be looking at the Dataframe.\n",
    "\n",
    "We can easily create a Pandas Dataframe by reading a .csv file\n"
   ]
  },
  {
   "cell_type": "markdown",
   "metadata": {},
   "source": [
    "<a id='section2'></a>\n"
   ]
  },
  {
   "cell_type": "markdown",
   "metadata": {},
   "source": [
    "## 2. Reading files\n",
    "---\n",
    "\n",
    "<div>\n",
    "<img src=\"images/reading.PNG\" width=\"400\"/>\n",
    "</div>\n",
    "\n",
    "\n",
    "We will read the whole file at once using Pandas.\n",
    "Sometimes you might want to read the file line by line, and process each line. Thats possible of course. See for example [here.](https://www.geeksforgeeks.org/read-a-file-line-by-line-in-python/)\n",
    "\n",
    "We will read data on [COVID-19 vaccinations](https://github.com/owid/covid-19-data/tree/master/public/data/vaccinations)\n",
    "\n",
    "In order to do that, I retrieved the raw data's url\n",
    "\n",
    "<div>\n",
    "<img src=\"images/raw.png\" width=\"800\"/>\n",
    "</div>\n"
   ]
  },
  {
   "cell_type": "code",
   "execution_count": 97,
   "metadata": {},
   "outputs": [],
   "source": [
    "url = 'https://raw.githubusercontent.com/owid/covid-19-data/master/public/data/vaccinations/vaccinations.csv'\n",
    "vacc_df = pd.read_csv(url)"
   ]
  },
  {
   "cell_type": "markdown",
   "metadata": {},
   "source": [
    "read_csv has about 30 different options. See the \n",
    "[documentation](https://pandas.pydata.org/pandasdocs/stable/reference/api/pandas.read_csv.html#pandas.read_csv)\n",
    "\n",
    "For example, sep='\\t' is used for tab delimited files and 'usecol' reads only specific columns. "
   ]
  },
  {
   "cell_type": "code",
   "execution_count": 16,
   "metadata": {},
   "outputs": [
    {
     "data": {
      "text/plain": [
       "pandas.core.frame.DataFrame"
      ]
     },
     "execution_count": 16,
     "metadata": {},
     "output_type": "execute_result"
    }
   ],
   "source": [
    "type(vacc_df)"
   ]
  },
  {
   "cell_type": "markdown",
   "metadata": {},
   "source": [
    "view the shape of the dataframe:"
   ]
  },
  {
   "cell_type": "code",
   "execution_count": 17,
   "metadata": {},
   "outputs": [
    {
     "data": {
      "text/plain": [
       "(5242, 12)"
      ]
     },
     "execution_count": 17,
     "metadata": {},
     "output_type": "execute_result"
    }
   ],
   "source": [
    "vacc_df.shape"
   ]
  },
  {
   "cell_type": "markdown",
   "metadata": {},
   "source": [
    "view basic information:"
   ]
  },
  {
   "cell_type": "code",
   "execution_count": null,
   "metadata": {},
   "outputs": [],
   "source": [
    "vacc_df.info()"
   ]
  },
  {
   "cell_type": "code",
   "execution_count": null,
   "metadata": {},
   "outputs": [],
   "source": [
    "vacc_df.columns"
   ]
  },
  {
   "cell_type": "markdown",
   "metadata": {},
   "source": [
    "View the first few rows:"
   ]
  },
  {
   "cell_type": "code",
   "execution_count": null,
   "metadata": {},
   "outputs": [],
   "source": [
    "vacc_df.head()"
   ]
  },
  {
   "cell_type": "markdown",
   "metadata": {},
   "source": [
    "What do you think that the 'tail' command does? Try it out!\n",
    "\n",
    "What happens if we just type vacc_df, without a head or a tail?"
   ]
  },
  {
   "cell_type": "code",
   "execution_count": null,
   "metadata": {},
   "outputs": [],
   "source": []
  },
  {
   "cell_type": "code",
   "execution_count": null,
   "metadata": {},
   "outputs": [],
   "source": [
    "vacc_df.describe()"
   ]
  },
  {
   "cell_type": "markdown",
   "metadata": {},
   "source": [
    "A summary of the functions so far:\n",
    "\n",
    "* `pd.read_csv` - Read data from a CSV file into a Pandas `DataFrame` object\n",
    "* `.info()` - View basic infomation about rows, columns & data types\n",
    "* `.describe()` - View statistical information about numeric columns\n",
    "* `.columns` - Get the list of column names\n",
    "* `.shape` - Get the number of rows & columns as a tuple\n",
    "* `.head`, `.tail`\n"
   ]
  },
  {
   "cell_type": "markdown",
   "metadata": {},
   "source": [
    "<a id='section3'></a>"
   ]
  },
  {
   "cell_type": "markdown",
   "metadata": {},
   "source": [
    "---\n",
    "## 3. Selecting data\n",
    "\n",
    "![](https://i.imgur.com/zfxLzEv.png)"
   ]
  },
  {
   "cell_type": "code",
   "execution_count": null,
   "metadata": {},
   "outputs": [],
   "source": [
    "# Pandas format is NOT similar to this\n",
    "covid_data_list = [\n",
    "    {'date': '2020-08-30', 'new_cases': 1444, 'new_deaths': 1, 'new_tests': 53541},\n",
    "    {'date': '2020-08-31', 'new_cases': 1365, 'new_deaths': 4, 'new_tests': 42583},\n",
    "    {'date': '2020-09-01', 'new_cases': 996, 'new_deaths': 6, 'new_tests': 54395},\n",
    "    {'date': '2020-09-02', 'new_cases': 975, 'new_deaths': 8 },\n",
    "    {'date': '2020-09-03', 'new_cases': 1326, 'new_deaths': 6},\n",
    "]\n",
    "covid_data_list"
   ]
  },
  {
   "cell_type": "code",
   "execution_count": null,
   "metadata": {},
   "outputs": [],
   "source": [
    "# Pandas format is simliar to this\n",
    "covid_data_dict = {\n",
    "    'date':       ['2020-08-30', '2020-08-31', '2020-09-01', '2020-09-02', '2020-09-03'],\n",
    "    'new_cases':  [1444, 1365, 996, 975, 1326],\n",
    "    'new_deaths': [1, 4, 6, 8, 6],\n",
    "    'new_tests': [53541, 42583, 54395, None, None]\n",
    "}"
   ]
  },
  {
   "cell_type": "markdown",
   "metadata": {},
   "source": [
    "#### The index of a dataframe doesn't have to be numeric"
   ]
  },
  {
   "cell_type": "code",
   "execution_count": null,
   "metadata": {},
   "outputs": [],
   "source": [
    "df = pd.DataFrame({'age':[30, 2, 12, 4, 32, 33, 69],\n",
    "                   'color':['blue', 'green', 'red', 'white', 'gray', 'black', 'red'],\n",
    "                   'food':['Steak', 'Lamb', 'Mango', 'Apple', 'Cheese', 'Melon', 'Beans'],\n",
    "                   'height':[165, 70, 120, 80, 180, 172, 150],\n",
    "                   'score':[4.6, 8.3, 9.0, 3.3, 1.8, 9.5, 2.2],\n",
    "                   'state':['NY', 'TX', 'FL', 'AL', 'AK', 'TX', 'TX']\n",
    "                   },\n",
    "                  index=['Jane', 'Nick', 'Aaron', 'Penelope', 'Dean', 'Christina', 'Cornelia'])\n",
    "df"
   ]
  },
  {
   "cell_type": "markdown",
   "metadata": {},
   "source": [
    "In our case it just happens to be numeric:"
   ]
  },
  {
   "cell_type": "code",
   "execution_count": null,
   "metadata": {},
   "outputs": [],
   "source": [
    "vacc_df.head()"
   ]
  },
  {
   "cell_type": "code",
   "execution_count": null,
   "metadata": {},
   "outputs": [],
   "source": [
    "vacc_df.location\n",
    "#is the same as this:\n",
    "vacc_df['location']\n"
   ]
  },
  {
   "cell_type": "markdown",
   "metadata": {},
   "source": [
    "note: using the `.` notation is possible only for columns whose names do not contain spaces or special characters"
   ]
  },
  {
   "cell_type": "markdown",
   "metadata": {},
   "source": [
    "what data type is vacc_df.location? (list? series? dataframe?)"
   ]
  },
  {
   "cell_type": "code",
   "execution_count": null,
   "metadata": {},
   "outputs": [],
   "source": [
    "type(vacc_df.location)"
   ]
  },
  {
   "cell_type": "code",
   "execution_count": null,
   "metadata": {},
   "outputs": [],
   "source": [
    "#retrieve a specific cell\n",
    "vacc_df.location[333]"
   ]
  },
  {
   "cell_type": "code",
   "execution_count": null,
   "metadata": {},
   "outputs": [],
   "source": [
    "#retrieve two columns\n",
    "vacc_df[['location','date']]"
   ]
  },
  {
   "cell_type": "markdown",
   "metadata": {},
   "source": [
    "#### Seletcting subsets of rows and columns\n",
    "\n",
    "One way to do that is iloc. \n",
    "\n",
    "`.iloc` - selects subsets of rows and columns by integer location only"
   ]
  },
  {
   "cell_type": "code",
   "execution_count": null,
   "metadata": {},
   "outputs": [],
   "source": [
    "#Rows:\n",
    "vacc_df.iloc[0]  #first row\n",
    "vacc_df.iloc[-1] #last row\n"
   ]
  },
  {
   "cell_type": "markdown",
   "metadata": {},
   "source": [
    "The : operator \n",
    "\n",
    " - when used alone it means \"everything\"\n",
    "\n",
    "- also used to indicate a ***slice*** of values\n"
   ]
  },
  {
   "cell_type": "code",
   "execution_count": null,
   "metadata": {},
   "outputs": [],
   "source": [
    "vacc_df.iloc[1:2] # second and third row\n",
    "vacc_df.iloc[[-1,2,22]] #a few specific rows\n",
    "\n",
    "# Columns:\n",
    "vacc_df.iloc[:,0] # first column of data frame  \n",
    "vacc_df.iloc[:,1] # second column of data frame  \n",
    "vacc_df.iloc[:,-1] # last column of data frame\n",
    "\n",
    "#Rows and columns\n",
    "vacc_df.iloc[0:5] # first five rows of dataframe\n",
    "vacc_df.iloc[:, 0:2] # first two columns of data frame with all rows\n",
    "vacc_df.iloc[[0,3,6,24], [0,5,6]] # 1st, 4th, 7th, 25th row + 1st 6th 7th columns."
   ]
  },
  {
   "cell_type": "markdown",
   "metadata": {},
   "source": [
    "What if I want to select the 'daily_vaccinations' column, but I don't remember which column it is?"
   ]
  },
  {
   "cell_type": "markdown",
   "metadata": {},
   "source": [
    "Use `.loc`\n",
    "\n",
    "`.loc` - selects subsets of rows and columns by label only. Allowed inputs are:\n",
    "\n",
    "- A single label, e.g. 5 or 'a', (note that 5 is interpreted as a label of the index, and never as an integer position along the index).\n",
    "\n",
    "- A list or array of labels, e.g. ['a', 'b', 'c'].\n",
    "\n",
    "- A slice object with labels, e.g. 'a':'f'."
   ]
  },
  {
   "cell_type": "code",
   "execution_count": null,
   "metadata": {},
   "outputs": [],
   "source": [
    "vacc_df.loc[:,'daily_vaccinations']"
   ]
  },
  {
   "cell_type": "markdown",
   "metadata": {},
   "source": [
    "I'm missing the location. Let's add it. "
   ]
  },
  {
   "cell_type": "code",
   "execution_count": null,
   "metadata": {},
   "outputs": [],
   "source": [
    "vacc_df.loc[:,['location','daily_vaccinations']]\n",
    "\n",
    "#vacc_df.loc[0:4:,['location', 'total_vaccinations']]  this is to select specific rows"
   ]
  },
  {
   "cell_type": "markdown",
   "metadata": {},
   "source": [
    "Semantics are similar to iloc. But note:\n",
    "\n",
    "- `iloc` excludes the last element.  `df.iloc[0:1000]` will return entries 0...999\n",
    "- `loc`, includes the last element.  `df.loc[0:1000]` will return entries 0...1000\n",
    "\n",
    "you try it! What is the difference between:\n",
    "\n",
    "> vacc_df.iloc[0:5]\n",
    "\n",
    "> vacc_df.loc[0:5]"
   ]
  },
  {
   "cell_type": "code",
   "execution_count": null,
   "metadata": {},
   "outputs": [],
   "source": []
  },
  {
   "cell_type": "code",
   "execution_count": null,
   "metadata": {},
   "outputs": [],
   "source": []
  },
  {
   "cell_type": "markdown",
   "metadata": {},
   "source": [
    "---\n",
    "---\n",
    "\n",
    "Now you: \n",
    "\n",
    "what do you do to select:\n",
    "\n",
    "a. first five rows?\n",
    "\n",
    "b. first two columns, all rows?\n",
    "\n",
    "c. 1st and 3rd row and 2nd and 4th column?\n",
    "\n",
    "---\n",
    "---"
   ]
  },
  {
   "cell_type": "code",
   "execution_count": null,
   "metadata": {},
   "outputs": [],
   "source": []
  },
  {
   "cell_type": "code",
   "execution_count": null,
   "metadata": {},
   "outputs": [],
   "source": []
  },
  {
   "cell_type": "code",
   "execution_count": null,
   "metadata": {},
   "outputs": [],
   "source": [
    " "
   ]
  },
  {
   "cell_type": "markdown",
   "metadata": {},
   "source": [
    "---\n",
    "A summary of the functions in this unit:\n",
    "\n",
    "* `.iloc` - selects rows and columns by integer location\n",
    "* `.loc` - selects rows and columns by label location\n",
    "\n"
   ]
  },
  {
   "cell_type": "markdown",
   "metadata": {},
   "source": [
    "Note: indexing operators as the ones working on dictionaries, will also work in pandas. But for more advanced operations, better get used to loc and iloc.\n",
    "\n",
    "---"
   ]
  },
  {
   "cell_type": "markdown",
   "metadata": {},
   "source": [
    "<a id='section4'></a>"
   ]
  },
  {
   "cell_type": "markdown",
   "metadata": {},
   "source": [
    "## 4. Conditional selection\n",
    "\n",
    "\n"
   ]
  },
  {
   "cell_type": "code",
   "execution_count": null,
   "metadata": {},
   "outputs": [],
   "source": [
    "vacc_df.loc[:,'location'] == 'Israel'"
   ]
  },
  {
   "cell_type": "markdown",
   "metadata": {},
   "source": [
    "This creates a series of true/false \n",
    "\n",
    "We can insert this into data to select only that task:"
   ]
  },
  {
   "cell_type": "code",
   "execution_count": null,
   "metadata": {},
   "outputs": [],
   "source": [
    "vacc_df[vacc_df.loc[:,'location'] == 'Israel']"
   ]
  },
  {
   "cell_type": "markdown",
   "metadata": {},
   "source": [
    "Another way:"
   ]
  },
  {
   "cell_type": "code",
   "execution_count": null,
   "metadata": {},
   "outputs": [],
   "source": [
    "vacc_df.loc[vacc_df.location == 'Israel']"
   ]
  },
  {
   "cell_type": "markdown",
   "metadata": {},
   "source": [
    "Select two countries:"
   ]
  },
  {
   "cell_type": "code",
   "execution_count": null,
   "metadata": {},
   "outputs": [],
   "source": [
    "two_countries = vacc_df.loc[(vacc_df.location == 'Israel') | (vacc_df.location == 'Denmark')]\n",
    "two_countries"
   ]
  },
  {
   "cell_type": "markdown",
   "metadata": {},
   "source": [
    "only the indexs of the tasks:"
   ]
  },
  {
   "cell_type": "code",
   "execution_count": null,
   "metadata": {},
   "outputs": [],
   "source": [
    "two_countries.index.values"
   ]
  },
  {
   "cell_type": "markdown",
   "metadata": {},
   "source": [
    "the index in the first place:"
   ]
  },
  {
   "cell_type": "code",
   "execution_count": 93,
   "metadata": {},
   "outputs": [
    {
     "data": {
      "text/plain": [
       "1331"
      ]
     },
     "execution_count": 93,
     "metadata": {},
     "output_type": "execute_result"
    }
   ],
   "source": [
    "two_countries.index.values[0]"
   ]
  },
  {
   "cell_type": "markdown",
   "metadata": {},
   "source": [
    "how many rows for the two countries?"
   ]
  },
  {
   "cell_type": "code",
   "execution_count": null,
   "metadata": {},
   "outputs": [],
   "source": [
    "two_countries.count()"
   ]
  },
  {
   "cell_type": "markdown",
   "metadata": {},
   "source": [
    "At the end of the file we have some world data.\n",
    "\n",
    "Use str.contains if you're not sure how this location is called"
   ]
  },
  {
   "cell_type": "code",
   "execution_count": null,
   "metadata": {},
   "outputs": [],
   "source": [
    "            \n",
    "vacc_df[vacc_df['location'].str.contains('World')]             \n",
    "             "
   ]
  },
  {
   "cell_type": "markdown",
   "metadata": {},
   "source": [
    "Remove the world data:"
   ]
  },
  {
   "cell_type": "code",
   "execution_count": null,
   "metadata": {},
   "outputs": [],
   "source": [
    "vacc_df_noWorld = vacc_df.loc[vacc_df.location != 'World']\n",
    "vacc_df_noWorld.tail()"
   ]
  },
  {
   "cell_type": "markdown",
   "metadata": {},
   "source": [
    "Find the country with the maximum vaccinations:"
   ]
  },
  {
   "cell_type": "code",
   "execution_count": null,
   "metadata": {},
   "outputs": [],
   "source": [
    "max_vacc = vacc_df_noWorld.total_vaccinations.max()\n",
    "max_vacc"
   ]
  },
  {
   "cell_type": "code",
   "execution_count": null,
   "metadata": {},
   "outputs": [],
   "source": [
    "vacc_df_noWorld.loc[vacc_df_noWorld.total_vaccinations == max_vacc]"
   ]
  },
  {
   "cell_type": "markdown",
   "metadata": {},
   "source": [
    "What do you think this function does?"
   ]
  },
  {
   "cell_type": "code",
   "execution_count": null,
   "metadata": {},
   "outputs": [],
   "source": [
    "vacc_df_noWorld.total_vaccinations.mean()"
   ]
  },
  {
   "cell_type": "markdown",
   "metadata": {},
   "source": [
    "----\n",
    "#### Your turn:"
   ]
  },
  {
   "cell_type": "markdown",
   "metadata": {},
   "source": [
    "Select the number of vaccinations in Israel on date 2021-02-06 (hint: use &)"
   ]
  },
  {
   "cell_type": "code",
   "execution_count": null,
   "metadata": {},
   "outputs": [],
   "source": []
  },
  {
   "cell_type": "markdown",
   "metadata": {},
   "source": [
    "Find all the countries with more than 3000000 vaccinations"
   ]
  },
  {
   "cell_type": "code",
   "execution_count": null,
   "metadata": {},
   "outputs": [],
   "source": []
  },
  {
   "cell_type": "markdown",
   "metadata": {},
   "source": [
    "---\n",
    "Summary of the functions in this unit:\n",
    "\n",
    "* `.index.values` - the row indexes of this part of the dataframes\n",
    "* `.str.contains` - selects rows and columns that contain a string\n",
    "* `.max` - maximum value\n",
    "* `.mean` - average value\n",
    "* `.count` - the number of rows that contain a value"
   ]
  }
 ],
 "metadata": {
  "kernelspec": {
   "display_name": "Python 3",
   "language": "python",
   "name": "python3"
  },
  "language_info": {
   "codemirror_mode": {
    "name": "ipython",
    "version": 3
   },
   "file_extension": ".py",
   "mimetype": "text/x-python",
   "name": "python",
   "nbconvert_exporter": "python",
   "pygments_lexer": "ipython3",
   "version": "3.8.5"
  }
 },
 "nbformat": 4,
 "nbformat_minor": 4
}
